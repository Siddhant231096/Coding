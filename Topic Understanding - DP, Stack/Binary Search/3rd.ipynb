{
 "cells": [
  {
   "cell_type": "markdown",
   "metadata": {},
   "source": [
    "# Find position of an element in an infinite sorted array"
   ]
  },
  {
   "cell_type": "code",
   "execution_count": 1,
   "metadata": {},
   "outputs": [
    {
     "name": "stdout",
     "output_type": "stream",
     "text": [
      "1 2 3 4 5 6 7 8 9 10 11 12 13 14 15\n",
      "7\n",
      "6\n"
     ]
    }
   ],
   "source": [
    "arr=list(map(int,input().split()))\n",
    "element=int(input())\n",
    "start=0\n",
    "end=1\n",
    "while(arr[end]<element):\n",
    "    if(arr[end]<element):\n",
    "        start=end\n",
    "        end=end*2\n",
    "mid=0\n",
    "while(start<=end):\n",
    "    mid=start+(end-start)//2\n",
    "    if(arr[mid]==element):\n",
    "        print(mid)\n",
    "        break\n",
    "    elif(arr[mid]>element):\n",
    "        end=mid-1\n",
    "    else:\n",
    "        start=mid+1\n",
    "        \n",
    "    "
   ]
  },
  {
   "cell_type": "markdown",
   "metadata": {},
   "source": [
    "# Find the index of 1st 1 in a infinite Binary sorted array"
   ]
  },
  {
   "cell_type": "code",
   "execution_count": 3,
   "metadata": {},
   "outputs": [
    {
     "name": "stdout",
     "output_type": "stream",
     "text": [
      "0 0 0 0 1 1 1 1 1 1 1 1 1 \n",
      "1\n",
      "4\n"
     ]
    }
   ],
   "source": [
    "arr=list(map(int,input().split()))\n",
    "element=int(input())\n",
    "start=0\n",
    "end=1\n",
    "while(arr[end]<element):\n",
    "    if(arr[end]<element):\n",
    "        start=end\n",
    "        end=end*2\n",
    "        \n",
    "mid=0\n",
    "result=0\n",
    "while(start<=end):\n",
    "    mid=start+(end-start)//2\n",
    "    if(arr[mid]==element):\n",
    "        result=mid\n",
    "        end=mid-1\n",
    "        \n",
    "    elif(arr[mid]>element):\n",
    "        end=mid-1\n",
    "    else:\n",
    "        start=mid+1\n",
    "print(result)"
   ]
  },
  {
   "cell_type": "markdown",
   "metadata": {},
   "source": [
    "# Minimum Difference element in a sorted array"
   ]
  },
  {
   "cell_type": "code",
   "execution_count": 6,
   "metadata": {},
   "outputs": [
    {
     "name": "stdout",
     "output_type": "stream",
     "text": [
      "1 3 8 10 15\n",
      "12\n",
      "10\n"
     ]
    }
   ],
   "source": [
    "arr=list(map(int,input().split()))\n",
    "element=int(input())\n",
    "n=len(arr)\n",
    "start=0\n",
    "end=n-1\n",
    "mid=0\n",
    "while(start<=end):\n",
    "    mid=start+(end-start)//2\n",
    "    if(arr[mid]==element):\n",
    "        print(arr[mid])\n",
    "        break\n",
    "    elif(arr[mid]>element):\n",
    "        end=mid-1\n",
    "    else:\n",
    "        start=mid+1\n",
    "if(arr[start]-element < element-arr[end]):\n",
    "    print(start)\n",
    "elif(arr[start]-element > element-arr[end]):\n",
    "    print(arr[end])\n",
    "else:\n",
    "    print(arr[start],' ',arr[end])"
   ]
  },
  {
   "cell_type": "markdown",
   "metadata": {},
   "source": [
    "# Binary Search on answer Concept - Peak Element"
   ]
  },
  {
   "cell_type": "code",
   "execution_count": 9,
   "metadata": {},
   "outputs": [
    {
     "name": "stdout",
     "output_type": "stream",
     "text": [
      "10 20 15 2 23 90 67\n",
      "20\n"
     ]
    }
   ],
   "source": [
    "arr=list(map(int,input().split()))\n",
    "n=len(arr)\n",
    "low=0\n",
    "high=n-1\n",
    "mid=0\n",
    "while(low<=high):\n",
    "    mid=low + (high-low)//2\n",
    "    if(mid>0 and mid<n-1):\n",
    "        if(arr[mid]>arr[mid-1] and arr[mid]>arr[mid+1]):\n",
    "            print(arr[mid])\n",
    "            break\n",
    "        elif(arr[mid-1]>arr[mid]):\n",
    "            high=mid-1\n",
    "        else:\n",
    "            low=mid+1\n",
    "            \n",
    "    elif(mid==0):\n",
    "        if(arr[0]>arr[1]):\n",
    "            print(arr[0])\n",
    "            break\n",
    "    elif(mid==n-1):\n",
    "        if(arr[n-1]>arr[n-2]):\n",
    "            print(arr[n-1])\n",
    "            break\n"
   ]
  },
  {
   "cell_type": "markdown",
   "metadata": {},
   "source": [
    "# Bitonic Array - Find Max Element"
   ]
  },
  {
   "cell_type": "code",
   "execution_count": 1,
   "metadata": {},
   "outputs": [
    {
     "name": "stdout",
     "output_type": "stream",
     "text": [
      "1 3 8 12 4 2\n",
      "12\n"
     ]
    }
   ],
   "source": [
    "arr=list(map(int,input().split()))\n",
    "n=len(arr)\n",
    "low=0\n",
    "high=n-1\n",
    "mid=0\n",
    "while(low<=high):\n",
    "    mid=low + (high-low)//2\n",
    "    if(mid>0 and mid<n-1):\n",
    "        if(arr[mid]>arr[mid-1] and arr[mid]>arr[mid+1]):\n",
    "            print(arr[mid])\n",
    "            break\n",
    "        elif(arr[mid-1]>arr[mid]):\n",
    "            high=mid-1\n",
    "        else:\n",
    "            low=mid+1\n",
    "            \n",
    "    elif(mid==0):\n",
    "        if(arr[0]>arr[1]):\n",
    "            print(arr[0])\n",
    "            break\n",
    "    elif(mid==n-1):\n",
    "        if(arr[n-1]>arr[n-2]):\n",
    "            print(arr[n-1])\n",
    "            break\n",
    "            "
   ]
  },
  {
   "cell_type": "markdown",
   "metadata": {},
   "source": [
    "# Searching an element in Bitonic array"
   ]
  },
  {
   "cell_type": "code",
   "execution_count": 6,
   "metadata": {},
   "outputs": [
    {
     "name": "stdout",
     "output_type": "stream",
     "text": [
      "1 3 8 12 4 2\n",
      "2\n",
      "5\n"
     ]
    }
   ],
   "source": [
    "\n",
    "def peak_element(low,high,mid,arr,n):\n",
    "    while(low<=high):\n",
    "        mid=low + (high-low)//2\n",
    "        if(mid>0 and mid<n-1):\n",
    "            if(arr[mid]>arr[mid-1] and arr[mid]>arr[mid+1]):\n",
    "                return(mid)\n",
    "                \n",
    "            elif(arr[mid-1]>arr[mid]):\n",
    "                high=mid-1\n",
    "            else:\n",
    "                low=mid+1\n",
    "\n",
    "        elif(mid==0):\n",
    "            if(arr[0]>arr[1]):\n",
    "                return(0)\n",
    "                \n",
    "        elif(mid==n-1):\n",
    "            if(arr[n-1]>arr[n-2]):\n",
    "                return(n-1)\n",
    "    return -1\n",
    "                \n",
    "            \n",
    "            \n",
    "def ascending(start,end,element,arr):\n",
    "    while(start<=end):\n",
    "        mid=start+(end-start)//2\n",
    "        if(arr[mid]==element):\n",
    "            return (mid)\n",
    "        elif(arr[mid]>element):\n",
    "            end=mid-1\n",
    "        else:\n",
    "            start=mid+1\n",
    "    return -1\n",
    "\n",
    "def descending(start,end,element,arr):\n",
    "    while(start<=end):\n",
    "        mid=start+(end-start)//2\n",
    "        if(arr[mid]==element):\n",
    "            return (mid)\n",
    "        elif(arr[mid]<element):\n",
    "            end=mid-1\n",
    "        else:\n",
    "            start=mid+1\n",
    "    return -1\n",
    "\n",
    "\n",
    "arr=list(map(int,input().split()))\n",
    "element=int(input())\n",
    "n=len(arr)\n",
    "low=0\n",
    "high=n-1\n",
    "mid=0\n",
    "peak=peak_element(low,high,mid,arr,n)\n",
    "if(peak!=-1):\n",
    "    value1=ascending(0,peak-1,element,arr)\n",
    "if(value1==-1):\n",
    "    value2=descending(peak,n-1,element,arr)\n",
    "    if(value2==-1):\n",
    "        print('key element not in array')\n",
    "    else:\n",
    "        print(value2)\n",
    "        \n",
    "else:\n",
    "    print(value1)\n",
    "\n"
   ]
  },
  {
   "cell_type": "markdown",
   "metadata": {},
   "source": [
    "# Searching in row wise+column wise sorted array"
   ]
  },
  {
   "cell_type": "code",
   "execution_count": 6,
   "metadata": {},
   "outputs": [
    {
     "name": "stdout",
     "output_type": "stream",
     "text": [
      "0 1\n",
      "-1\n"
     ]
    }
   ],
   "source": [
    "arr = [\n",
    "  [1,   3,  5,  7],\n",
    "  [10, 11, 16, 20],\n",
    "  [23, 30, 34, 50]\n",
    "]\n",
    "key=3\n",
    "n=len(arr)\n",
    "m=len(arr[0])\n",
    "i=0\n",
    "j=m-1\n",
    "while(i>=0 and i<n and j>=0 and j<m):\n",
    "    if(arr[i][j]==key):\n",
    "        print(i,j)\n",
    "        break\n",
    "    elif(arr[i][j]>key):\n",
    "        j-=1\n",
    "    elif(arr[i][j]<key):\n",
    "        i+=1\n",
    "print(-1)        "
   ]
  },
  {
   "cell_type": "code",
   "execution_count": null,
   "metadata": {},
   "outputs": [],
   "source": []
  }
 ],
 "metadata": {
  "kernelspec": {
   "display_name": "Python 3",
   "language": "python",
   "name": "python3"
  },
  "language_info": {
   "codemirror_mode": {
    "name": "ipython",
    "version": 3
   },
   "file_extension": ".py",
   "mimetype": "text/x-python",
   "name": "python",
   "nbconvert_exporter": "python",
   "pygments_lexer": "ipython3",
   "version": "3.6.4"
  }
 },
 "nbformat": 4,
 "nbformat_minor": 2
}

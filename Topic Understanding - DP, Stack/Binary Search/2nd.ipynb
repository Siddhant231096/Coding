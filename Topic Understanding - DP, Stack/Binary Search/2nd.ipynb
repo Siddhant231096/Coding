{
 "cells": [
  {
   "cell_type": "markdown",
   "metadata": {},
   "source": [
    "# How many times a sorted arrya rotated"
   ]
  },
  {
   "cell_type": "code",
   "execution_count": 11,
   "metadata": {},
   "outputs": [
    {
     "name": "stdout",
     "output_type": "stream",
     "text": [
      "3 4 5 1 2\n",
      "no. of time it rotated -  3\n",
      "3\n"
     ]
    }
   ],
   "source": [
    "arr=list(map(int,input().split()))\n",
    "n=len(arr)\n",
    "if(n<=2):\n",
    "    print(min(arr))\n",
    "if(arr[n-1]<arr[n-2]):\n",
    "    print(arr[n-1])\n",
    "\n",
    "start=0\n",
    "end=n-1\n",
    "mid=0\n",
    "result=0\n",
    "while(start<=end):\n",
    "    mid=start+(end-start)//2\n",
    "    try:\n",
    "        if(mid!=0 and mid!=n-1):\n",
    "            if(arr[mid]<=arr[mid+1] and arr[mid]<=arr[mid-1]):\n",
    "                print('no. of time it rotated - ',mid)\n",
    "                break\n",
    "        if(arr[mid]>=arr[0]):\n",
    "            start=mid+1\n",
    "        elif(arr[mid]<=arr[n-1]):\n",
    "            end=mid-1\n",
    "    except:\n",
    "        \n",
    "        pass\n",
    "        \n",
    "print(arr[0])"
   ]
  },
  {
   "cell_type": "markdown",
   "metadata": {},
   "source": [
    "# Find an element in a  sorted rotated array"
   ]
  },
  {
   "cell_type": "code",
   "execution_count": 15,
   "metadata": {},
   "outputs": [
    {
     "name": "stdout",
     "output_type": "stream",
     "text": [
      "2 2 2 0 2 2\n",
      "0\n",
      "-1\n"
     ]
    }
   ],
   "source": [
    "def BS(arr,start,end,element,n):\n",
    "    mid=0\n",
    "    while(start<=end):\n",
    "        mid=start+(end-start)//2\n",
    "        if(arr[mid]==element):\n",
    "            return(mid)\n",
    "            break\n",
    "        elif(arr[mid]>element):\n",
    "            end=mid-1\n",
    "        else:\n",
    "            start=mid+1\n",
    "    return -1\n",
    "    \n",
    "    \n",
    "    \n",
    "    \n",
    "    \n",
    "arr=list(map(int,input().split()))\n",
    "element=int(input())\n",
    "n=len(arr)\n",
    "if(n==1):\n",
    "    if(arr[0]==element):\n",
    "        print(0)\n",
    "    else:\n",
    "        print(-1)\n",
    "elif(n==2):\n",
    "    if(element in arr):\n",
    "        print(arr.index(element))\n",
    "    else:\n",
    "        print(-1)\n",
    "        \n",
    "start=0\n",
    "end=n-1\n",
    "mid=0\n",
    "index=0\n",
    "while(start<=end):\n",
    "    mid=start+(end-start)//2\n",
    "    if(mid+1<n and mid-1>=0):\n",
    "        if(arr[mid]<=arr[mid+1] and arr[mid]<=arr[mid-1]):\n",
    "            print('no. of time it rotated - ',mid)\n",
    "            index=mid\n",
    "            break\n",
    "    if(arr[mid]>=arr[0]):\n",
    "        start=mid+1\n",
    "    elif(arr[mid]<=arr[n-1]):\n",
    "        end=mid-1\n",
    "        \n",
    "value=BS(arr,0,index-1,element,index-0)\n",
    "if(value==-1):\n",
    "    print(BS(arr,index,n-1,element,n-index))\n",
    "else:\n",
    "    print(value)\n",
    "    \n",
    "    \n"
   ]
  },
  {
   "cell_type": "markdown",
   "metadata": {},
   "source": [
    "# Searching in a nearly sorted array"
   ]
  },
  {
   "cell_type": "code",
   "execution_count": 9,
   "metadata": {},
   "outputs": [
    {
     "name": "stdout",
     "output_type": "stream",
     "text": [
      "5 10 30 20 40\n",
      "30\n",
      "2\n"
     ]
    }
   ],
   "source": [
    "arr=list(map(int,input().split()))\n",
    "element=int(input())\n",
    "n=len(arr)\n",
    "start=0\n",
    "end=n-1\n",
    "mid=0\n",
    "while(start<=end):\n",
    "    mid=start+(end-start)//2\n",
    "    if(arr[mid]==element):\n",
    "        print(mid)\n",
    "        break\n",
    "    if(mid-1>=0 and arr[mid-1]==element):\n",
    "        print(mid-1)\n",
    "        break\n",
    "    if(mid+1<n and arr[mid+1]==element):\n",
    "        print(mid+1)\n",
    "        break\n",
    "        \n",
    "        \n",
    "    elif(arr[mid]>element):\n",
    "        end=mid-2\n",
    "    else:\n",
    "        start=mid+2\n",
    "        \n"
   ]
  },
  {
   "cell_type": "markdown",
   "metadata": {},
   "source": [
    "# Find floor of an element in a sorted array"
   ]
  },
  {
   "cell_type": "code",
   "execution_count": 1,
   "metadata": {},
   "outputs": [
    {
     "name": "stdout",
     "output_type": "stream",
     "text": [
      "1 2 3 4 5 5 5 6\n",
      "5\n",
      "5\n"
     ]
    }
   ],
   "source": [
    "arr=list(map(int,input().split()))\n",
    "element=int(input())\n",
    "n=len(arr)\n",
    "start=0\n",
    "end=n-1\n",
    "mid=0\n",
    "result=0\n",
    "flag=0\n",
    "while(start<=end):\n",
    "    mid=start+(end-start)//2\n",
    "    if(arr[mid]==element):\n",
    "        print(mid)\n",
    "        flag=1\n",
    "        break\n",
    "    if(arr[mid]>element):\n",
    "        end=mid-1\n",
    "    if(arr[mid]<element):\n",
    "        result=mid\n",
    "        start=mid+1\n",
    "if(flag==0):\n",
    "    print(result)"
   ]
  },
  {
   "cell_type": "markdown",
   "metadata": {},
   "source": [
    "# Find ceil of an element in a sorted array"
   ]
  },
  {
   "cell_type": "code",
   "execution_count": 11,
   "metadata": {},
   "outputs": [
    {
     "name": "stdout",
     "output_type": "stream",
     "text": [
      "1 2 3 4 8 10 10 12 19\n",
      "5\n",
      "8\n"
     ]
    }
   ],
   "source": [
    "arr=list(map(int,input().split()))\n",
    "element=int(input())\n",
    "n=len(arr)\n",
    "start=0\n",
    "end=n-1\n",
    "mid=0\n",
    "result=0\n",
    "flag=0\n",
    "while(start<=end):\n",
    "    mid=start+(end-start)//2\n",
    "    if(arr[mid]==element):\n",
    "        print(element)\n",
    "        flag=1\n",
    "        break\n",
    "    if(arr[mid]>element):\n",
    "        result=arr[mid]\n",
    "        end=mid-1\n",
    "    if(arr[mid]<element):\n",
    "        \n",
    "        start=mid+1\n",
    "if(flag==0):\n",
    "    print(result)"
   ]
  },
  {
   "cell_type": "markdown",
   "metadata": {},
   "source": [
    "# Next Alphabetical Element"
   ]
  },
  {
   "cell_type": "code",
   "execution_count": 15,
   "metadata": {},
   "outputs": [
    {
     "name": "stdout",
     "output_type": "stream",
     "text": [
      "a e h i j k\n",
      "f\n",
      "h\n"
     ]
    }
   ],
   "source": [
    "arr=input().split()\n",
    "element=input()\n",
    "n=len(arr)\n",
    "start=0\n",
    "end=n-1\n",
    "mid=0\n",
    "result=''\n",
    "while(start<=end):\n",
    "    mid=start+(end-start)//2\n",
    "    if(arr[mid]==element):\n",
    "        start=mid+1 # or we can do it like directly print arr[mid+1] element which we be the greatest one \n",
    "                    # let se while doing question\n",
    "    if(arr[mid]>element):\n",
    "        result=arr[mid]\n",
    "        end=mid-1\n",
    "    if(arr[mid]<element):\n",
    "        start=mid+1\n",
    "        \n",
    "print(result)"
   ]
  },
  {
   "cell_type": "code",
   "execution_count": null,
   "metadata": {},
   "outputs": [],
   "source": []
  }
 ],
 "metadata": {
  "kernelspec": {
   "display_name": "Python 3",
   "language": "python",
   "name": "python3"
  },
  "language_info": {
   "codemirror_mode": {
    "name": "ipython",
    "version": 3
   },
   "file_extension": ".py",
   "mimetype": "text/x-python",
   "name": "python",
   "nbconvert_exporter": "python",
   "pygments_lexer": "ipython3",
   "version": "3.6.4"
  }
 },
 "nbformat": 4,
 "nbformat_minor": 2
}

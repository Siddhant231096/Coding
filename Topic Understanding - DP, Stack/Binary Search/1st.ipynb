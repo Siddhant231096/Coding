{
 "cells": [
  {
   "cell_type": "markdown",
   "metadata": {},
   "source": [
    "# Binary Search - Ascending Order"
   ]
  },
  {
   "cell_type": "code",
   "execution_count": 1,
   "metadata": {},
   "outputs": [
    {
     "name": "stdout",
     "output_type": "stream",
     "text": [
      "1 2 3 4 5 6 7 8 9\n",
      "9\n",
      "8\n"
     ]
    }
   ],
   "source": [
    "arr=list(map(int,input().split()))\n",
    "element=int(input())\n",
    "n=len(arr)\n",
    "start=0\n",
    "end=n-1\n",
    "mid=0\n",
    "while(start<=end):\n",
    "    mid=start+(end-start)//2\n",
    "    if(arr[mid]==element):\n",
    "        print(mid)\n",
    "        break\n",
    "    elif(arr[mid]>element):\n",
    "        end=mid-1\n",
    "    else:\n",
    "        start=mid+1"
   ]
  },
  {
   "cell_type": "markdown",
   "metadata": {},
   "source": [
    "# Binary Search - Dscending Order"
   ]
  },
  {
   "cell_type": "code",
   "execution_count": 2,
   "metadata": {},
   "outputs": [
    {
     "name": "stdout",
     "output_type": "stream",
     "text": [
      "9 8 7 6 5 4 3 2 1\n",
      "9\n",
      "0\n"
     ]
    }
   ],
   "source": [
    "arr=list(map(int,input().split()))\n",
    "element=int(input())\n",
    "n=len(arr)\n",
    "start=0\n",
    "end=n-1\n",
    "mid=0\n",
    "while(start<=end):\n",
    "    mid=start+(end-start)//2\n",
    "    if(arr[mid]==element):\n",
    "        print(mid)\n",
    "        break\n",
    "    elif(arr[mid]<element):\n",
    "        end=mid-1\n",
    "    else:\n",
    "        start=mid+1"
   ]
  },
  {
   "cell_type": "markdown",
   "metadata": {},
   "source": [
    "# 1st occurence of element"
   ]
  },
  {
   "cell_type": "code",
   "execution_count": 4,
   "metadata": {},
   "outputs": [
    {
     "name": "stdout",
     "output_type": "stream",
     "text": [
      "2 4 10 10 10 18 20\n",
      "10\n",
      "2\n"
     ]
    }
   ],
   "source": [
    "arr=list(map(int,input().split()))\n",
    "element=int(input())\n",
    "n=len(arr)\n",
    "start=0\n",
    "end=n-1\n",
    "mid=0\n",
    "result=0\n",
    "while(start<=end):\n",
    "    mid=start+(end-start)//2\n",
    "    if(arr[mid]==element):\n",
    "        result=mid\n",
    "        end=mid-1\n",
    "        \n",
    "    elif(arr[mid]>element):\n",
    "        end=mid-1\n",
    "    else:\n",
    "        start=mid+1\n",
    "print(result)"
   ]
  },
  {
   "cell_type": "markdown",
   "metadata": {},
   "source": [
    "# last occurence of element"
   ]
  },
  {
   "cell_type": "code",
   "execution_count": 5,
   "metadata": {},
   "outputs": [
    {
     "name": "stdout",
     "output_type": "stream",
     "text": [
      "2 4 10 10 10 18 20\n",
      "10\n",
      "4\n"
     ]
    }
   ],
   "source": [
    "arr=list(map(int,input().split()))\n",
    "element=int(input())\n",
    "n=len(arr)\n",
    "start=0\n",
    "end=n-1\n",
    "mid=0\n",
    "result=0\n",
    "while(start<=end):\n",
    "    mid=start+(end-start)//2\n",
    "    if(arr[mid]==element):\n",
    "        result=mid\n",
    "        start=mid+1\n",
    "        \n",
    "    elif(arr[mid]>element):\n",
    "        end=mid-1\n",
    "    else:\n",
    "        start=mid+1\n",
    "print(result)"
   ]
  },
  {
   "cell_type": "markdown",
   "metadata": {},
   "source": [
    "# Count of an Element in a sorted array"
   ]
  },
  {
   "cell_type": "code",
   "execution_count": 6,
   "metadata": {},
   "outputs": [
    {
     "name": "stdout",
     "output_type": "stream",
     "text": [
      "2 4 10 10 10 18 20\n",
      "10\n",
      "count -  3\n"
     ]
    }
   ],
   "source": [
    "\n",
    "def first(arr,element,n):\n",
    "    start=0\n",
    "    end=n-1\n",
    "    mid=0\n",
    "    result=0\n",
    "    while(start<=end):\n",
    "        mid=start+(end-start)//2\n",
    "        if(arr[mid]==element):\n",
    "            result=mid\n",
    "            end=mid-1\n",
    "\n",
    "        elif(arr[mid]>element):\n",
    "            end=mid-1\n",
    "        else:\n",
    "            start=mid+1\n",
    "    return(result)\n",
    "\n",
    "\n",
    "\n",
    "def last(arr,element,n):\n",
    "    start=0\n",
    "    end=n-1\n",
    "    mid=0\n",
    "    result=0\n",
    "    while(start<=end):\n",
    "        mid=start+(end-start)//2\n",
    "        if(arr[mid]==element):\n",
    "            result=mid\n",
    "            start=mid+1\n",
    "\n",
    "        elif(arr[mid]>element):\n",
    "            end=mid-1\n",
    "        else:\n",
    "            start=mid+1\n",
    "    return(result)\n",
    "\n",
    "\n",
    "\n",
    "arr=list(map(int,input().split()))\n",
    "element=int(input())\n",
    "n=len(arr)\n",
    "first_index=first(arr,element,n)\n",
    "last_index=last(arr,element,n)\n",
    "print('count - ',last_index-first_index+1 )"
   ]
  },
  {
   "cell_type": "code",
   "execution_count": null,
   "metadata": {},
   "outputs": [],
   "source": []
  }
 ],
 "metadata": {
  "kernelspec": {
   "display_name": "Python 3",
   "language": "python",
   "name": "python3"
  },
  "language_info": {
   "codemirror_mode": {
    "name": "ipython",
    "version": 3
   },
   "file_extension": ".py",
   "mimetype": "text/x-python",
   "name": "python",
   "nbconvert_exporter": "python",
   "pygments_lexer": "ipython3",
   "version": "3.6.4"
  }
 },
 "nbformat": 4,
 "nbformat_minor": 2
}

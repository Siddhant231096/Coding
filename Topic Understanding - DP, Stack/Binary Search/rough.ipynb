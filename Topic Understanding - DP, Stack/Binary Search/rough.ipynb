{
 "cells": [
  {
   "cell_type": "code",
   "execution_count": 5,
   "metadata": {},
   "outputs": [
    {
     "name": "stdout",
     "output_type": "stream",
     "text": [
      "1\n"
     ]
    }
   ],
   "source": [
    "x=[1,2,3,2,1]\n",
    "y=[3,2,1,4,7]\n",
    "m=len(y)\n",
    "final=[-1]*m\n",
    "n=len(x)\n",
    "for i in range(m):\n",
    "    start=0\n",
    "    end=n-1\n",
    "    mid=0\n",
    "    while(start<=end):\n",
    "        mid=start+(end-start)//2\n",
    "        if(x[mid]==y[i]):\n",
    "            final[i]=mid\n",
    "            break\n",
    "        elif(x[mid]>y[i]):\n",
    "            end=mid-1\n",
    "        else:\n",
    "            start=mid+1\n",
    "count=0\n",
    "value=[1]*m\n",
    "for i in range(m-1):\n",
    "    if(final[i+1]==(final[i]+1) and final[i]!=-1):\n",
    "        value[i+1]=value[i]+1\n",
    "print(max(value))\n"
   ]
  },
  {
   "cell_type": "code",
   "execution_count": 6,
   "metadata": {},
   "outputs": [
    {
     "data": {
      "text/plain": [
       "[1, 1, 1, 1, 1]"
      ]
     },
     "execution_count": 6,
     "metadata": {},
     "output_type": "execute_result"
    }
   ],
   "source": [
    "value\n"
   ]
  },
  {
   "cell_type": "code",
   "execution_count": 7,
   "metadata": {},
   "outputs": [
    {
     "data": {
      "text/plain": [
       "[2, 1, 0, -1, -1]"
      ]
     },
     "execution_count": 7,
     "metadata": {},
     "output_type": "execute_result"
    }
   ],
   "source": [
    "final"
   ]
  },
  {
   "cell_type": "code",
   "execution_count": 11,
   "metadata": {},
   "outputs": [
    {
     "name": "stdout",
     "output_type": "stream",
     "text": [
      "1\n"
     ]
    }
   ],
   "source": [
    "import math\n",
    "def isvalid(arr,n,k,mx):\n",
    "    student=0\n",
    "    for i in range(n):\n",
    "        if(arr[i]>mx):\n",
    "            student+=math.ceil(arr[i]/mx)\n",
    "        else:\n",
    "            student+=1\n",
    "    if(student>k):\n",
    "        return -2\n",
    "    elif(student<k):\n",
    "        return -1\n",
    "    else:\n",
    "        return 1\n",
    "    \n",
    "#sol=Solution()\n",
    "weights=[1,2,3]\n",
    "k=6\n",
    "n=len(weights)\n",
    "start=1\n",
    "\n",
    "if(n==1):\n",
    "    print(math.ceil(weights[0]/k))\n",
    "\n",
    "end=sum(weights)\n",
    "res=-1\n",
    "mid=0\n",
    "while(start<=end):\n",
    "    mid=start+(end-start)//2\n",
    "    value=isvalid(weights,n,k,mid)\n",
    "    if(value==-2):\n",
    "        start=mid+1\n",
    "    elif(value==-1):\n",
    "        res=mid\n",
    "        end=mid-1\n",
    "    else:\n",
    "        res=mid\n",
    "        end=mid-1\n",
    "print(res)\n",
    "        "
   ]
  },
  {
   "cell_type": "code",
   "execution_count": 27,
   "metadata": {},
   "outputs": [
    {
     "name": "stdout",
     "output_type": "stream",
     "text": [
      "[1, 0, 0, 0, 0, 0, 0, 0, 0, 0, 0, 0, 0, 0, 0, 0, 0]\n",
      "[1, 0, 0, 0, 1, 0, 0, 0, 0, 0, 0, 0, 0, 0, 0, 0, 0]\n"
     ]
    },
    {
     "ename": "IndexError",
     "evalue": "list index out of range",
     "output_type": "error",
     "traceback": [
      "\u001b[1;31m---------------------------------------------------------------------------\u001b[0m",
      "\u001b[1;31mIndexError\u001b[0m                                Traceback (most recent call last)",
      "\u001b[1;32m<ipython-input-27-ec5cec7c5e59>\u001b[0m in \u001b[0;36m<module>\u001b[1;34m()\u001b[0m\n\u001b[0;32m     40\u001b[0m             \u001b[0mdemo\u001b[0m\u001b[1;33m[\u001b[0m\u001b[0mindex\u001b[0m\u001b[1;33m-\u001b[0m\u001b[0mk\u001b[0m\u001b[1;33m+\u001b[0m\u001b[1;36m1\u001b[0m\u001b[1;33m:\u001b[0m\u001b[0mindex\u001b[0m\u001b[1;33m+\u001b[0m\u001b[1;36m1\u001b[0m\u001b[1;33m]\u001b[0m\u001b[1;33m=\u001b[0m\u001b[0ma\u001b[0m\u001b[1;33m\u001b[0m\u001b[0m\n\u001b[0;32m     41\u001b[0m     \u001b[1;32melse\u001b[0m\u001b[1;33m:\u001b[0m\u001b[1;33m\u001b[0m\u001b[0m\n\u001b[1;32m---> 42\u001b[1;33m         \u001b[1;32mif\u001b[0m\u001b[1;33m(\u001b[0m\u001b[0mbloomDay\u001b[0m\u001b[1;33m[\u001b[0m\u001b[0mi\u001b[0m\u001b[1;33m-\u001b[0m\u001b[0mk\u001b[0m\u001b[1;33m]\u001b[0m\u001b[1;33m<=\u001b[0m\u001b[0mbloomDay\u001b[0m\u001b[1;33m[\u001b[0m\u001b[0mi\u001b[0m\u001b[1;33m+\u001b[0m\u001b[0mk\u001b[0m\u001b[1;33m]\u001b[0m\u001b[1;33m)\u001b[0m\u001b[1;33m:\u001b[0m\u001b[1;33m\u001b[0m\u001b[0m\n\u001b[0m\u001b[0;32m     43\u001b[0m             \u001b[1;32mif\u001b[0m\u001b[1;33m(\u001b[0m\u001b[0mlen\u001b[0m\u001b[1;33m(\u001b[0m\u001b[0mset\u001b[0m\u001b[1;33m(\u001b[0m\u001b[0mdemo\u001b[0m\u001b[1;33m[\u001b[0m\u001b[0mindex\u001b[0m\u001b[1;33m:\u001b[0m\u001b[0mindex\u001b[0m\u001b[1;33m+\u001b[0m\u001b[0mk\u001b[0m\u001b[1;33m]\u001b[0m\u001b[1;33m)\u001b[0m\u001b[1;33m)\u001b[0m\u001b[1;33m==\u001b[0m\u001b[1;36m1\u001b[0m\u001b[1;33m)\u001b[0m\u001b[1;33m:\u001b[0m\u001b[1;33m\u001b[0m\u001b[0m\n\u001b[0;32m     44\u001b[0m                 \u001b[0mx\u001b[0m\u001b[1;33m=\u001b[0m\u001b[0mlen\u001b[0m\u001b[1;33m(\u001b[0m\u001b[0mdemo\u001b[0m\u001b[1;33m[\u001b[0m\u001b[0mindex\u001b[0m\u001b[1;33m:\u001b[0m\u001b[0mindex\u001b[0m\u001b[1;33m+\u001b[0m\u001b[0mk\u001b[0m\u001b[1;33m]\u001b[0m\u001b[1;33m)\u001b[0m\u001b[1;33m\u001b[0m\u001b[0m\n",
      "\u001b[1;31mIndexError\u001b[0m: list index out of range"
     ]
    }
   ],
   "source": [
    "import heapq\n",
    "\n",
    "bloomDay = [5,37,55,92,22,52,31,62,99,64,92,53,34,84,93,50,28]\n",
    "m = 8\n",
    "k = 2\n",
    "\n",
    "n=len(bloomDay)\n",
    "value=max(bloomDay)\n",
    "if(n<m*k):\n",
    "    print(-1)\n",
    "elif(n==m*k):\n",
    "    print(value)\n",
    "\n",
    "demo=[0]*n\n",
    "minheap=[]\n",
    "for i in range(n):\n",
    "    heapq.heappush(minheap,[bloomDay[i],i])\n",
    "\n",
    "total=0\n",
    "\n",
    "while(total!=m):\n",
    "\n",
    "    data,index=heapq.heappop(minheap)\n",
    "\n",
    "    demo[index]=1\n",
    "    print(demo)\n",
    "    if(index==0):\n",
    "        if(len(set(demo[index:index+k]))==1):\n",
    "            x=len(demo[index:index+k])\n",
    "            a=[0]*x\n",
    "            total+=1\n",
    "\n",
    "            demo[index:index+k]=a\n",
    "\n",
    "    elif(index==n-1):\n",
    "        if(len(set(demo[index-k+1:index+1]))==1):\n",
    "            x=len(demo[index-k+1:index+1])\n",
    "            a=[0]*x\n",
    "            total+=1\n",
    "            demo[index-k+1:index+1]=a\n",
    "    else:\n",
    "        if(bloomDay[i-k]<=bloomDay[i+k]):\n",
    "            if(len(set(demo[index:index+k]))==1):\n",
    "                x=len(demo[index:index+k])\n",
    "                a=[0]*x\n",
    "                total+=1\n",
    "\n",
    "                demo[index:index+k]=a\n",
    "\n",
    "        if(bloomDay[i-k]>bloomDay[i+k]):\n",
    "            if(len(set(demo[index-k+1:index+1]))==1):\n",
    "                x=len(demo[index-k+1:index+1])\n",
    "                a=[0]*x\n",
    "                total+=1\n",
    "                demo[index-k+1:index+1]=a\n",
    "\n",
    "\n",
    "\n",
    "print(data)\n"
   ]
  },
  {
   "cell_type": "code",
   "execution_count": 13,
   "metadata": {},
   "outputs": [
    {
     "data": {
      "text/plain": [
       "[0, 0, 0, 1, 0, 1, 0]"
      ]
     },
     "execution_count": 13,
     "metadata": {},
     "output_type": "execute_result"
    }
   ],
   "source": [
    "demo"
   ]
  },
  {
   "cell_type": "code",
   "execution_count": 32,
   "metadata": {},
   "outputs": [
    {
     "data": {
      "text/plain": [
       "2147483648"
      ]
     },
     "execution_count": 32,
     "metadata": {},
     "output_type": "execute_result"
    }
   ],
   "source": [
    "import math\n",
    "\n",
    "math.floor(-2147483648/-1)"
   ]
  },
  {
   "cell_type": "code",
   "execution_count": 33,
   "metadata": {},
   "outputs": [
    {
     "data": {
      "text/plain": [
       "2147483648.0"
      ]
     },
     "execution_count": 33,
     "metadata": {},
     "output_type": "execute_result"
    }
   ],
   "source": [
    "-2147483648/-1\n",
    "\n"
   ]
  },
  {
   "cell_type": "code",
   "execution_count": 42,
   "metadata": {},
   "outputs": [
    {
     "name": "stdout",
     "output_type": "stream",
     "text": [
      "[1, 2, 3, 4]\n"
     ]
    }
   ],
   "source": [
    "import heapq\n",
    "a=[1,3]\n",
    "b=[2,4]\n",
    "new=[]\n",
    "print(list(heapq.merge(a,b)))"
   ]
  },
  {
   "cell_type": "code",
   "execution_count": 41,
   "metadata": {},
   "outputs": [
    {
     "data": {
      "text/plain": [
       "[]"
      ]
     },
     "execution_count": 41,
     "metadata": {},
     "output_type": "execute_result"
    }
   ],
   "source": [
    "new"
   ]
  },
  {
   "cell_type": "code",
   "execution_count": 66,
   "metadata": {},
   "outputs": [
    {
     "name": "stdout",
     "output_type": "stream",
     "text": [
      "##  2\n",
      "==  0\n",
      "[-1]\n"
     ]
    }
   ],
   "source": [
    "a=[ [1,2] ]\n",
    "n=len(a)\n",
    "dict1={}\n",
    "for i in range(n):\n",
    "    dict1[tuple(a[i])]=i\n",
    "    \n",
    "a.sort()\n",
    "final=[-1]*n\n",
    "for i in range(n):\n",
    "    value=a[i][1]\n",
    "    #print('## ',value)\n",
    "    start=1\n",
    "    end=n-1\n",
    "    mid=0\n",
    "    index=dict1[tuple(a[i])]\n",
    "    #print('== ',index)\n",
    "    while(start<=end):\n",
    "        mid=start+(end-start)//2\n",
    "        #print('-- ',mid)\n",
    "        if(a[mid][0]==value):\n",
    "            final[index]=dict1[tuple(a[mid])]\n",
    "            break\n",
    "        elif(a[mid][0]>value):\n",
    "            final[index]=dict1[tuple(a[mid])]\n",
    "            end=mid-1\n",
    "        else:\n",
    "            start=mid+1\n",
    "print(final)\n"
   ]
  },
  {
   "cell_type": "code",
   "execution_count": 60,
   "metadata": {},
   "outputs": [
    {
     "data": {
      "text/plain": [
       "{(1, 2): 2, (2, 3): 1, (3, 4): 0}"
      ]
     },
     "execution_count": 60,
     "metadata": {},
     "output_type": "execute_result"
    }
   ],
   "source": [
    "dict1"
   ]
  },
  {
   "cell_type": "code",
   "execution_count": 1,
   "metadata": {},
   "outputs": [
    {
     "name": "stdout",
     "output_type": "stream",
     "text": [
      "154789\n"
     ]
    }
   ],
   "source": [
    "a=[60864,25176,27249,21296,20204]\n",
    "total=0\n",
    "for i in a:\n",
    "    total+=i\n",
    "print(total)"
   ]
  },
  {
   "cell_type": "code",
   "execution_count": 2,
   "metadata": {},
   "outputs": [
    {
     "data": {
      "text/plain": [
       "11360.6"
      ]
     },
     "execution_count": 2,
     "metadata": {},
     "output_type": "execute_result"
    }
   ],
   "source": [
    "56803/5"
   ]
  },
  {
   "cell_type": "code",
   "execution_count": 5,
   "metadata": {},
   "outputs": [
    {
     "data": {
      "text/plain": [
       "56805"
      ]
     },
     "execution_count": 5,
     "metadata": {},
     "output_type": "execute_result"
    }
   ],
   "source": [
    "11361*5"
   ]
  },
  {
   "cell_type": "code",
   "execution_count": 6,
   "metadata": {},
   "outputs": [
    {
     "data": {
      "text/plain": [
       "101020"
      ]
     },
     "execution_count": 6,
     "metadata": {},
     "output_type": "execute_result"
    }
   ],
   "source": [
    "20204*5"
   ]
  },
  {
   "cell_type": "code",
   "execution_count": 7,
   "metadata": {},
   "outputs": [
    {
     "data": {
      "text/plain": [
       "[]"
      ]
     },
     "execution_count": 7,
     "metadata": {},
     "output_type": "execute_result"
    }
   ],
   "source": [
    "a=[1,2,3]\n",
    "a[0:0]"
   ]
  },
  {
   "cell_type": "code",
   "execution_count": 13,
   "metadata": {},
   "outputs": [
    {
     "name": "stdout",
     "output_type": "stream",
     "text": [
      "--\n",
      "@@  8462\n",
      "$$  6\n",
      "^^  3\n",
      "8463\n",
      "@@  7893\n",
      "$$  7\n",
      "^^  1\n",
      "7894\n",
      "@@  5669\n",
      "$$  1\n",
      "^^  6\n",
      "5669\n",
      "@@  1165\n",
      "$$  1\n",
      "^^  5\n",
      "1165\n",
      "@@  -5349\n",
      "$$  4\n",
      "^^  1\n",
      "-5348\n",
      "@@  -16708\n",
      "$$  0\n",
      "^^  4\n",
      "-16708\n",
      "@@  -35798\n",
      "$$  2\n",
      "^^  1\n",
      "-35797\n",
      "@@  -80247\n",
      "$$  1\n",
      "^^  1\n",
      "-80247\n",
      "@@  -221048\n",
      "$$  0\n",
      "^^  1\n",
      "-221048\n"
     ]
    }
   ],
   "source": [
    "arr=[40091,2502,74024,53101,60555,33732,23467,40560,32693,13013]\n",
    "target=78666\n",
    "# arr=[4,9,3]\n",
    "# target=10\n",
    "sum1=sum(arr)\n",
    "n=len(arr)\n",
    "if(n==1):\n",
    "    if(arr[0]>target):\n",
    "        print(target)\n",
    "    else:\n",
    "        print(arr[0])\n",
    "if(sum1<=target ):\n",
    "    print(max(arr))\n",
    "    \n",
    "print('--')   \n",
    "\n",
    "arr.sort()\n",
    "for i in range(n):\n",
    "    sumprefix=sum(arr[:i])\n",
    "    sumsuffix=arr[i]*(n-i)\n",
    "    ans=sumprefix+sumsuffix\n",
    "    if(ans>target):\n",
    "        rem=target-sumprefix\n",
    "        div=rem//(n-i)\n",
    "        value1=abs(div*(n-i) - rem)\n",
    "        value2=abs((div+1)*(n-i) - rem)\n",
    "        print('@@ ',div)\n",
    "        print('$$ ',value1)\n",
    "        print('^^ ',value2)\n",
    "        if(value1<=value2):\n",
    "            print(div)\n",
    "        else:\n",
    "            print(div+1)\n",
    "    elif(ans==target):\n",
    "        print(arr[i])\n",
    "\n"
   ]
  },
  {
   "cell_type": "code",
   "execution_count": 26,
   "metadata": {},
   "outputs": [
    {
     "name": "stdout",
     "output_type": "stream",
     "text": [
      "3 4 3 2 1\n",
      "4\n"
     ]
    }
   ],
   "source": [
    "arr=list(map(int,input().split()))\n",
    "n=len(arr)\n",
    "low=0\n",
    "high=n-1\n",
    "mid=0\n",
    "while(low<=high):\n",
    "    mid=low + (high-low)//2\n",
    "    if(mid>0 and mid<n-1):\n",
    "        if(arr[mid]>arr[mid-1] and arr[mid]>arr[mid+1]):\n",
    "            print(arr[mid])\n",
    "            break\n",
    "        elif(arr[mid-1]>arr[mid]):\n",
    "            high=mid-1\n",
    "        else:\n",
    "            low=mid+1\n",
    "            \n",
    "    if(mid==0):\n",
    "        if(arr[0]>arr[1]):\n",
    "            print(arr[0])\n",
    "            break\n",
    "        else:\n",
    "            low=mid+1\n",
    "\n",
    "            \n",
    "    if(mid==n-1):\n",
    "        if(arr[n-1]>arr[n-2]):\n",
    "            print(arr[n-1])\n",
    "            break\n",
    "        else:\n",
    "            high=mid-1"
   ]
  },
  {
   "cell_type": "code",
   "execution_count": 28,
   "metadata": {},
   "outputs": [
    {
     "name": "stdout",
     "output_type": "stream",
     "text": [
      "4\n"
     ]
    }
   ],
   "source": [
    "arr=[10,9,2,5,3,7,101,18]\n",
    "n=len(arr)\n",
    "final=[1]*n\n",
    "for i in range(n):\n",
    "    for j in range(i):\n",
    "        if(arr[i]>=arr[j]):\n",
    "            final[i]=final[j]+1\n",
    "print(max(final))"
   ]
  },
  {
   "cell_type": "code",
   "execution_count": 45,
   "metadata": {},
   "outputs": [
    {
     "name": "stdout",
     "output_type": "stream",
     "text": [
      "3\n"
     ]
    }
   ],
   "source": [
    "a=[1,2,3,5,6,7]\n",
    "key=4\n",
    "start=0\n",
    "end=5\n",
    "mid=0\n",
    "res=-1\n",
    "while(start<=end):\n",
    "    mid=start+(end-start)//2\n",
    "    if(a[mid]==key):\n",
    "        print(mid)\n",
    "        break\n",
    "    elif(a[mid]>key):\n",
    "        res=mid\n",
    "        end=mid-1\n",
    "    else:\n",
    "        res=mid\n",
    "        start=mid+1\n",
    "print(res)"
   ]
  },
  {
   "cell_type": "code",
   "execution_count": 81,
   "metadata": {},
   "outputs": [
    {
     "name": "stdout",
     "output_type": "stream",
     "text": [
      "0\n",
      "[1]\n"
     ]
    }
   ],
   "source": [
    "arr=[1,3,4]\n",
    "k = 1\n",
    "x = 2\n",
    "n=len(arr)\n",
    "start=0\n",
    "end=n-1\n",
    "index=-1\n",
    "mid=0\n",
    "\n",
    "\n",
    "while(start<=end):\n",
    "    mid=start+(end-start)//2\n",
    "    if(arr[mid]==x):\n",
    "        index=mid\n",
    "        break\n",
    "    elif(arr[mid]>x):\n",
    "        index=mid\n",
    "        end=mid-1\n",
    "    elif(arr[mid]<x):\n",
    "        index=mid\n",
    "        start=mid+1\n",
    "final=[]\n",
    "\n",
    "if(index!=0 and index!=n-1):\n",
    "    low=index-1\n",
    "    high=index\n",
    "    print(low)\n",
    "    print(high)\n",
    "    final=[]\n",
    "    while(k>0):\n",
    "        if(low<0 and high<=n-1):\n",
    "            final.append(arr[high])\n",
    "            high+=1\n",
    "            k=k-1\n",
    "        elif(low>=0 and high>n-1):\n",
    "            final.append(arr[low])\n",
    "            low=low-1\n",
    "            k=k-1\n",
    "        else:\n",
    "            \n",
    "            if(abs(x-arr[low])<=abs(x-arr[high])):            \n",
    "                print('HE')\n",
    "                final.append(arr[low])\n",
    "                low=low-1\n",
    "                k=k-1\n",
    "            else:\n",
    "                print('Shw')\n",
    "                final.append(arr[high])\n",
    "                high=high+1\n",
    "                k=k-1\n",
    "\n",
    "        \n",
    "elif(index==0):\n",
    "    final=arr[:k]\n",
    "elif(index==n-1):\n",
    "    final=arr[n-k:n]\n",
    "\n",
    "print(final)\n"
   ]
  },
  {
   "cell_type": "code",
   "execution_count": 75,
   "metadata": {},
   "outputs": [
    {
     "data": {
      "text/plain": [
       "[7, 7, 9, 9]"
      ]
     },
     "execution_count": 75,
     "metadata": {},
     "output_type": "execute_result"
    }
   ],
   "source": [
    "final"
   ]
  },
  {
   "cell_type": "code",
   "execution_count": 93,
   "metadata": {},
   "outputs": [
    {
     "name": "stdout",
     "output_type": "stream",
     "text": [
      "2\n"
     ]
    }
   ],
   "source": [
    "def isvalid(arr,mid,s,n):\n",
    "    for i in range(n-mid+1):\n",
    "        sum1=sum(arr[i:i+mid])\n",
    "        if(sum1>=s):\n",
    "            return True\n",
    "    return False\n",
    "\n",
    "arr=[2,3,1,2,4,3]\n",
    "s=7\n",
    "n=len(arr)\n",
    "start=1\n",
    "end=n\n",
    "res=0\n",
    "mid=0\n",
    "while(start<=end):\n",
    "    mid=start+(end-start)//2\n",
    "    if(isvalid(arr,mid,s,n)):\n",
    "        res=mid\n",
    "        end=mid-1\n",
    "    else:\n",
    "        start=mid+1\n",
    "print(res)\n"
   ]
  },
  {
   "cell_type": "code",
   "execution_count": 111,
   "metadata": {},
   "outputs": [
    {
     "name": "stdout",
     "output_type": "stream",
     "text": [
      "['11', '', '', '']\n",
      "11000\n"
     ]
    }
   ],
   "source": [
    "a='11000'\n",
    "li=a.split('0')\n",
    "print(li)\n",
    "print(a)"
   ]
  },
  {
   "cell_type": "code",
   "execution_count": 109,
   "metadata": {},
   "outputs": [
    {
     "name": "stdout",
     "output_type": "stream",
     "text": [
      "['1', '1', '1', '1', '1']\n"
     ]
    }
   ],
   "source": [
    "arr=[3,5,1,2,4]\n",
    "m=1\n",
    "n=len(arr)\n",
    "string=['0']*n\n",
    "count=0\n",
    "for i in arr:\n",
    "    string[i-1]='1'\n",
    "    li=string.split('0')\n",
    "    n=len(li)\n",
    "    start=0\n",
    "    end=n-1\n",
    "    mid=0\n",
    "    res=0\n",
    "    count+=1\n",
    "    while(start<=end):\n",
    "        mid=start+(end-start)//2\n",
    "        if(len(li[mid])==m):\n",
    "            res=count\n",
    "            break\n",
    "        elif()\n",
    "            \n",
    "    \n",
    "print(string)"
   ]
  },
  {
   "cell_type": "code",
   "execution_count": 110,
   "metadata": {},
   "outputs": [
    {
     "data": {
      "text/plain": [
       "{'1'}"
      ]
     },
     "execution_count": 110,
     "metadata": {},
     "output_type": "execute_result"
    }
   ],
   "source": [
    "a=['1','1','1']\n",
    "set(a)"
   ]
  },
  {
   "cell_type": "code",
   "execution_count": 2,
   "metadata": {},
   "outputs": [
    {
     "name": "stdout",
     "output_type": "stream",
     "text": [
      "2 2 2 0 2 2\n",
      "0\n",
      "[-1, -1]\n"
     ]
    }
   ],
   "source": [
    "def first(arr,n,element):\n",
    "    start=0\n",
    "    end=n-1\n",
    "    mid=0\n",
    "    result=-1\n",
    "    flag=0\n",
    "    while(start<=end):\n",
    "        mid=start+(end-start)//2\n",
    "        if(arr[mid]==element):\n",
    "            result=mid\n",
    "            end=mid-1\n",
    "        if(arr[mid]>element):\n",
    "            end=mid-1\n",
    "        if(arr[mid]<element):\n",
    "            start=mid+1\n",
    "\n",
    "    return(result)\n",
    "\n",
    "\n",
    "def last(arr,n,element):\n",
    "    start=0\n",
    "    end=n-1\n",
    "    mid=0\n",
    "    result=-1\n",
    "    flag=0\n",
    "    while(start<=end):\n",
    "        mid=start+(end-start)//2\n",
    "        if(arr[mid]==element):\n",
    "            result=mid\n",
    "            start=mid+1\n",
    "        if(arr[mid]>element):\n",
    "            end=mid-1\n",
    "        if(arr[mid]<element):\n",
    "            start=mid+1\n",
    "    return(result)      \n",
    "\n",
    "    \n",
    "arr=list(map(int,input().split()))\n",
    "element=int(input())\n",
    "n=len(arr)\n",
    "value1=first(arr,n,element)\n",
    "value2=last(arr,n,element)\n",
    "if(value1==-1 and value2==-1):\n",
    "    print([-1,-1])\n",
    "else:\n",
    "    print([value1,value2])"
   ]
  },
  {
   "cell_type": "code",
   "execution_count": 8,
   "metadata": {},
   "outputs": [
    {
     "name": "stdout",
     "output_type": "stream",
     "text": [
      "2 2 2 0 2 2\n",
      "0\n",
      "2\n",
      "4\n",
      "5\n",
      "0\n",
      "-1\n"
     ]
    }
   ],
   "source": [
    "def BS(arr,start,end,element,n):\n",
    "    mid=0\n",
    "    while(start<=end):\n",
    "        mid=start+(end-start)//2\n",
    "        if(arr[mid]==element):\n",
    "            return(mid)\n",
    "            break\n",
    "        elif(arr[mid]>element):\n",
    "            end=mid-1\n",
    "        else:\n",
    "            start=mid+1\n",
    "    return -1\n",
    "    \n",
    "    \n",
    "    \n",
    "    \n",
    "    \n",
    "arr=list(map(int,input().split()))\n",
    "element=int(input())\n",
    "n=len(arr)\n",
    "if(n==1):\n",
    "    if(arr[0]==element):\n",
    "        print(0)\n",
    "    else:\n",
    "        print(-1)\n",
    "elif(n==2):\n",
    "    if(element in arr):\n",
    "        print(arr.index(element))\n",
    "    else:\n",
    "        print(-1)\n",
    "        \n",
    "start=0\n",
    "end=n-1\n",
    "mid=0\n",
    "index=0\n",
    "while(start<=end):\n",
    "    mid=start+(end-start)//2\n",
    "    if(mid+1<n and mid-1>=0):\n",
    "        if(arr[mid]<=arr[mid+1] and arr[mid]<=arr[mid-1]):\n",
    "            print('no. of time it rotated - ',mid)\n",
    "            index=mid\n",
    "            break\n",
    "    if(arr[mid]>=arr[0]):\n",
    "        start=mid+1\n",
    "    elif(arr[mid]<arr[n-1]):\n",
    "        end=mid-1\n",
    "    print(mid)\n",
    "\n",
    "print(index)\n",
    "value=BS(arr,0,index-1,element,index-0)\n",
    "if(value==-1):\n",
    "    print(BS(arr,index,n-1,element,n-index))\n",
    "else:\n",
    "    print(value)\n",
    "    "
   ]
  },
  {
   "cell_type": "code",
   "execution_count": 26,
   "metadata": {},
   "outputs": [
    {
     "name": "stdout",
     "output_type": "stream",
     "text": [
      "---------------\n",
      "mid -  7\n",
      "--a  2\n",
      "##s  0\n",
      "cc  1\n",
      "--a  3\n",
      "##s  2\n",
      "cc  1\n",
      "--a  1\n",
      "##s  5\n",
      "cc  1\n",
      "--a  2\n",
      "##s  6\n",
      "cc  1\n",
      "--a  4\n",
      "##s  2\n",
      "cc  2\n",
      "--a  3\n",
      "##s  6\n",
      "cc  2\n",
      "$$  3\n",
      "---------------\n",
      "mid -  3\n",
      "--a  2\n",
      "##s  0\n",
      "cc  1\n",
      "--a  3\n",
      "##s  2\n",
      "cc  1\n",
      "--a  1\n",
      "##s  3\n",
      "cc  2\n",
      "--a  2\n",
      "##s  1\n",
      "cc  3\n",
      "---------------\n",
      "mid -  5\n",
      "--a  2\n",
      "##s  0\n",
      "cc  1\n",
      "--a  3\n",
      "##s  2\n",
      "cc  1\n",
      "--a  1\n",
      "##s  5\n",
      "cc  1\n",
      "--a  2\n",
      "##s  1\n",
      "cc  2\n",
      "--a  4\n",
      "##s  3\n",
      "cc  2\n",
      "--a  3\n",
      "##s  4\n",
      "cc  3\n",
      "$$  4\n",
      "---------------\n",
      "mid -  4\n",
      "--a  2\n",
      "##s  0\n",
      "cc  1\n",
      "--a  3\n",
      "##s  2\n",
      "cc  1\n",
      "--a  1\n",
      "##s  3\n",
      "cc  2\n",
      "--a  2\n",
      "##s  4\n",
      "cc  2\n",
      "--a  4\n",
      "##s  2\n",
      "cc  3\n",
      "--a  3\n",
      "##s  4\n",
      "cc  4\n",
      "$$  5\n",
      "4\n"
     ]
    }
   ],
   "source": [
    "def isvalid(arr,mid,m,n):\n",
    "    print('---------------')\n",
    "    print('mid - ',mid)\n",
    "    sum1=0\n",
    "    count=1\n",
    "    for i in range(n):\n",
    "        if(arr[i]>mid):\n",
    "            return -2\n",
    "        print('--a ',arr[i])\n",
    "        print('##s ',sum1)\n",
    "        print('cc ',count)\n",
    "        sum1+=arr[i]\n",
    "        if(sum1>mid):\n",
    "            sum1=arr[i]\n",
    "            count+=1\n",
    "    print('$$ ',count)\n",
    "    if(count>m):\n",
    "        return -2\n",
    "    elif(count<m):\n",
    "        return -1\n",
    "    else:\n",
    "        return 1\n",
    "             \n",
    "arr=[2,3,1,2,4,3]\n",
    "m=5\n",
    "sum1=sum(arr)\n",
    "n=len(arr)\n",
    "# if(n==0):\n",
    "#     return 0\n",
    "# if(n==1):\n",
    "#     return arr[0]\n",
    "\n",
    "if(n==m):\n",
    "    print(max(arr))\n",
    "start=0\n",
    "end=sum1\n",
    "res=0\n",
    "while(start<=end):\n",
    "    mid=start+(end-start)//2\n",
    "    #print(mid)\n",
    "    value=isvalid(arr,mid,m,n)\n",
    "    if(value==-2):\n",
    "        start=mid+1\n",
    "    elif(value==-1):\n",
    "        res=mid\n",
    "        end=mid-1\n",
    "    elif(value==1):\n",
    "        #print('hello')\n",
    "        res=mid\n",
    "        end=mid-1\n",
    "        \n",
    "print(res)"
   ]
  },
  {
   "cell_type": "code",
   "execution_count": 35,
   "metadata": {},
   "outputs": [
    {
     "name": "stdout",
     "output_type": "stream",
     "text": [
      "[1, 0]\n"
     ]
    }
   ],
   "source": [
    "import heapq\n",
    "arr=[-1,-1]\n",
    "n=len(arr)\n",
    "ans=[]\n",
    "for i in range(n-1):\n",
    "    minheap=arr[i+1:]\n",
    "    heapq.heapify(minheap)\n",
    "    #print(minheap)\n",
    "    count=0\n",
    "    while(True):\n",
    "        #print(minheap)\n",
    "        try:\n",
    "            element=heapq.heappop(minheap)\n",
    "            \n",
    "            if(element<=arr[i]):\n",
    "                count+=1\n",
    "            else: \n",
    "                ans.append(count)\n",
    "                break\n",
    "        except:\n",
    "            ans.append(count)\n",
    "            break\n",
    "ans.append(0)\n",
    "print(ans)"
   ]
  },
  {
   "cell_type": "code",
   "execution_count": 1,
   "metadata": {},
   "outputs": [
    {
     "data": {
      "text/plain": [
       "[1, 2, 6, 24, 120, 720, 5040, 40320, 362880, 3628800]"
      ]
     },
     "execution_count": 1,
     "metadata": {},
     "output_type": "execute_result"
    }
   ],
   "source": [
    "ans=[1,2,6]\n",
    "for i in range(4,11):\n",
    "    ans.append(i*ans[-1])\n",
    "ans    \n",
    "    "
   ]
  },
  {
   "cell_type": "code",
   "execution_count": 4,
   "metadata": {},
   "outputs": [
    {
     "data": {
      "text/plain": [
       "531441"
      ]
     },
     "execution_count": 4,
     "metadata": {},
     "output_type": "execute_result"
    }
   ],
   "source": [
    "3*3*3*3*3*3*3*3*3*3*3*3"
   ]
  },
  {
   "cell_type": "code",
   "execution_count": 6,
   "metadata": {},
   "outputs": [
    {
     "data": {
      "text/plain": [
       "0.42831734103139474"
      ]
     },
     "execution_count": 6,
     "metadata": {},
     "output_type": "execute_result"
    }
   ],
   "source": [
    "import math\n",
    "math.log(3,13)"
   ]
  },
  {
   "cell_type": "code",
   "execution_count": 8,
   "metadata": {},
   "outputs": [
    {
     "name": "stdout",
     "output_type": "stream",
     "text": [
      "2197\n"
     ]
    }
   ],
   "source": [
    "total=1\n",
    "for i in range(3):\n",
    "    total=total*13\n",
    "print(total)"
   ]
  },
  {
   "cell_type": "code",
   "execution_count": 9,
   "metadata": {},
   "outputs": [
    {
     "data": {
      "text/plain": [
       "1"
      ]
     },
     "execution_count": 9,
     "metadata": {},
     "output_type": "execute_result"
    }
   ],
   "source": [
    "13&3"
   ]
  },
  {
   "cell_type": "code",
   "execution_count": 10,
   "metadata": {},
   "outputs": [
    {
     "data": {
      "text/plain": [
       "3"
      ]
     },
     "execution_count": 10,
     "metadata": {},
     "output_type": "execute_result"
    }
   ],
   "source": [
    "import math\n",
    "math.floor(math.log(13)/math.log(3))+1"
   ]
  },
  {
   "cell_type": "code",
   "execution_count": 14,
   "metadata": {},
   "outputs": [
    {
     "ename": "NameError",
     "evalue": "name 'bit' is not defined",
     "output_type": "error",
     "traceback": [
      "\u001b[1;31m---------------------------------------------------------------------------\u001b[0m",
      "\u001b[1;31mNameError\u001b[0m                                 Traceback (most recent call last)",
      "\u001b[1;32m<ipython-input-14-5c5a659d73dd>\u001b[0m in \u001b[0;36m<module>\u001b[1;34m()\u001b[0m\n\u001b[1;32m----> 1\u001b[1;33m \u001b[0mbit\u001b[0m\u001b[1;33m(\u001b[0m\u001b[1;36m8\u001b[0m\u001b[1;33m,\u001b[0m\u001b[1;36m2\u001b[0m\u001b[1;33m)\u001b[0m\u001b[1;33m\u001b[0m\u001b[0m\n\u001b[0m",
      "\u001b[1;31mNameError\u001b[0m: name 'bit' is not defined"
     ]
    }
   ],
   "source": [
    "byte()"
   ]
  },
  {
   "cell_type": "code",
   "execution_count": 8,
   "metadata": {},
   "outputs": [
    {
     "name": "stdout",
     "output_type": "stream",
     "text": [
      "h\n",
      "-----------------------------------------\n",
      "1\n",
      "4\n"
     ]
    }
   ],
   "source": [
    "\n",
    "arr=[3,5,3,2,0]\n",
    "target=0\n",
    "n=len(arr)\n",
    "start=0\n",
    "end=n-1\n",
    "mid=0\n",
    "index=0\n",
    "while(start<=end):\n",
    "    mid=start+(end-start)//2\n",
    "    if(mid>0 and mid<n):\n",
    "        if(arr[mid]>arr[mid-1] and arr[mid]>arr[mid+1]):\n",
    "            index=mid\n",
    "            break\n",
    "        elif(arr[mid-1]>arr[mid]):\n",
    "            end=mid-1\n",
    "        else:\n",
    "            start=mid+1\n",
    "\n",
    "    elif(mid==0):\n",
    "        if(arr[0]>arr[1]):\n",
    "            index=0\n",
    "            break\n",
    "        else:\n",
    "            start=mid+1\n",
    "    elif(mid==n-1):\n",
    "        if(arr[n-1]>arr[n-2]):\n",
    "            index=n-1\n",
    "            break\n",
    "        else:\n",
    "            end=mid-1\n",
    "\n",
    "print('h')\n",
    "start=0\n",
    "end=index\n",
    "flag=0\n",
    "while(start<=end):\n",
    "    mid=start+(end-start)//2\n",
    "    if(arr[mid]==target):\n",
    "        print(mid)\n",
    "        flag=1\n",
    "        break\n",
    "    elif(arr[mid]>target):\n",
    "        end=mid-1\n",
    "    else:\n",
    "        start=mid+1\n",
    "\n",
    "print('-----------------------------------------')\n",
    "print(index)\n",
    "if(flag==0):\n",
    "    start=index+1\n",
    "    end=n-1\n",
    "    while(start<=end):\n",
    "        mid=start+(end-start)//2\n",
    "        if(arr[mid]==target):\n",
    "            print(mid)\n",
    "            break\n",
    "        elif(arr[mid]<target):\n",
    "            end=mid-1\n",
    "        else:\n",
    "            start=mid+1"
   ]
  },
  {
   "cell_type": "code",
   "execution_count": 21,
   "metadata": {},
   "outputs": [],
   "source": [
    "arr=[[46,89],[50,53],[52,68],[72,45],[77,81]]\n",
    "arr.sort()"
   ]
  },
  {
   "cell_type": "code",
   "execution_count": 22,
   "metadata": {},
   "outputs": [
    {
     "data": {
      "text/plain": [
       "[[46, 89], [50, 53], [52, 68], [72, 45], [77, 81]]"
      ]
     },
     "execution_count": 22,
     "metadata": {},
     "output_type": "execute_result"
    }
   ],
   "source": [
    "arr"
   ]
  },
  {
   "cell_type": "code",
   "execution_count": null,
   "metadata": {},
   "outputs": [],
   "source": []
  },
  {
   "cell_type": "code",
   "execution_count": 27,
   "metadata": {},
   "outputs": [
    {
     "name": "stdout",
     "output_type": "stream",
     "text": [
      "[1, 1, 1, 1, 1]\n",
      "[1, 1, 1, 1, 1]\n",
      "[1, 1, 1, 1, 1]\n",
      "[1, 1, 1, 1, 1]\n",
      "[1, 1, 1, 1, 1]\n",
      "[1, 1, 2, 1, 1]\n",
      "[1, 1, 2, 1, 1]\n",
      "[1, 1, 2, 1, 2]\n",
      "[1, 1, 2, 1, 2]\n",
      "[1, 1, 2, 1, 3]\n",
      "3\n"
     ]
    }
   ],
   "source": [
    "n=len(arr)\n",
    "final=[1]*n\n",
    "for i in range(n):\n",
    "    for j in range(i+1,n):\n",
    "        #print(final)\n",
    "        if(arr[j][1]>arr[i][1] and arr[j][0]>arr[i][0]):\n",
    "            final[j]=max(final[j],final[i]+1)\n",
    "print(max(final))"
   ]
  },
  {
   "cell_type": "code",
   "execution_count": 26,
   "metadata": {},
   "outputs": [
    {
     "data": {
      "text/plain": [
       "[1, 1, 2, 1, 2]"
      ]
     },
     "execution_count": 26,
     "metadata": {},
     "output_type": "execute_result"
    }
   ],
   "source": [
    "final"
   ]
  },
  {
   "cell_type": "code",
   "execution_count": 34,
   "metadata": {},
   "outputs": [
    {
     "name": "stdout",
     "output_type": "stream",
     "text": [
      "[[1, 1], [2, 3], [4, 6], [4, 5], [6, 7]]\n",
      "1   0\n",
      "3   1\n",
      "6   2\n",
      "5   2\n",
      "7   3\n",
      "[1, 3, 5, 7, inf]\n",
      "4\n"
     ]
    }
   ],
   "source": [
    "import bisect\n",
    "envelopes=[[4,5],[4,6],[6,7],[2,3],[1,1]]\n",
    "envelopes.sort(key= lambda x: (x[0], -x[1]))\n",
    " \n",
    "print(envelopes)\n",
    "dp = [float('inf')] * len(envelopes)\n",
    "\n",
    "for w,h in envelopes:\n",
    "    i = bisect.bisect_left(dp, h)\n",
    "    print(h,' ',i)\n",
    "    dp[i] = h\n",
    "print(dp)\n",
    "i = 0\n",
    "ans = 0\n",
    "while i < len(dp) and dp[i] != float('inf'):\n",
    "    i += 1\n",
    "    ans += 1\n",
    "\n",
    "print(ans)"
   ]
  },
  {
   "cell_type": "code",
   "execution_count": 6,
   "metadata": {},
   "outputs": [
    {
     "name": "stdout",
     "output_type": "stream",
     "text": [
      "[1, 0, 1, 0, 1]\n"
     ]
    }
   ],
   "source": [
    "arr=[1,0,1,0,1]\n",
    "n=len(arr)\n",
    "zero=arr.count(0)\n",
    "one=arr.count(1)\n",
    "value=n-2*min(zero,one)\n",
    "if(value>1):\n",
    "    print([-1,-1])\n",
    "\n",
    "else:\n",
    "    final=[-1]*n\n",
    "    count=0\n",
    "    for i in range(n):\n",
    "        if(arr[i]==1):\n",
    "            count+=1\n",
    "        elif(arr[i]==0):\n",
    "            count-=1\n",
    "\n",
    "        final[i]=count\n",
    "print(final)"
   ]
  },
  {
   "cell_type": "code",
   "execution_count": 4,
   "metadata": {},
   "outputs": [
    {
     "data": {
      "text/plain": [
       "0"
      ]
     },
     "execution_count": 4,
     "metadata": {},
     "output_type": "execute_result"
    }
   ],
   "source": [
    "a=[0,0,0]\n",
    "a.index(0)"
   ]
  },
  {
   "cell_type": "code",
   "execution_count": null,
   "metadata": {},
   "outputs": [],
   "source": []
  }
 ],
 "metadata": {
  "kernelspec": {
   "display_name": "Python 3",
   "language": "python",
   "name": "python3"
  },
  "language_info": {
   "codemirror_mode": {
    "name": "ipython",
    "version": 3
   },
   "file_extension": ".py",
   "mimetype": "text/x-python",
   "name": "python",
   "nbconvert_exporter": "python",
   "pygments_lexer": "ipython3",
   "version": "3.6.4"
  }
 },
 "nbformat": 4,
 "nbformat_minor": 2
}

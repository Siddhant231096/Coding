{
 "cells": [
  {
   "cell_type": "code",
   "execution_count": 3,
   "metadata": {},
   "outputs": [
    {
     "name": "stdout",
     "output_type": "stream",
     "text": [
      "[[-2, 2]]\n"
     ]
    }
   ],
   "source": [
    "import math\n",
    "points = [[1,3],[-2,2]]\n",
    "K = 1\n",
    "print(sorted(points, key=lambda x: math.sqrt(x[0]**2 + x[1]**2))[:K])\n"
   ]
  },
  {
   "cell_type": "code",
   "execution_count": 5,
   "metadata": {},
   "outputs": [
    {
     "ename": "TypeError",
     "evalue": "'list' object is not callable",
     "output_type": "error",
     "traceback": [
      "\u001b[1;31m---------------------------------------------------------------------------\u001b[0m",
      "\u001b[1;31mTypeError\u001b[0m                                 Traceback (most recent call last)",
      "\u001b[1;32m<ipython-input-5-77fbd8eb77ec>\u001b[0m in \u001b[0;36m<module>\u001b[1;34m()\u001b[0m\n\u001b[0;32m      1\u001b[0m \u001b[0ma\u001b[0m\u001b[1;33m=\u001b[0m\u001b[1;33m[\u001b[0m\u001b[1;36m1\u001b[0m\u001b[1;33m,\u001b[0m\u001b[1;36m2\u001b[0m\u001b[1;33m,\u001b[0m\u001b[1;36m3\u001b[0m\u001b[1;33m]\u001b[0m\u001b[1;33m\u001b[0m\u001b[0m\n\u001b[0;32m      2\u001b[0m \u001b[0mb\u001b[0m\u001b[1;33m=\u001b[0m\u001b[1;33m[\u001b[0m\u001b[1;36m7\u001b[0m\u001b[1;33m,\u001b[0m\u001b[1;36m6\u001b[0m\u001b[1;33m,\u001b[0m\u001b[1;36m5\u001b[0m\u001b[1;33m]\u001b[0m\u001b[1;33m\u001b[0m\u001b[0m\n\u001b[1;32m----> 3\u001b[1;33m \u001b[0mprint\u001b[0m\u001b[1;33m(\u001b[0m\u001b[0msorted\u001b[0m\u001b[1;33m(\u001b[0m\u001b[0ma\u001b[0m\u001b[1;33m,\u001b[0m\u001b[0mkey\u001b[0m\u001b[1;33m=\u001b[0m\u001b[0mb\u001b[0m\u001b[1;33m)\u001b[0m\u001b[1;33m)\u001b[0m\u001b[1;33m\u001b[0m\u001b[0m\n\u001b[0m",
      "\u001b[1;31mTypeError\u001b[0m: 'list' object is not callable"
     ]
    }
   ],
   "source": [
    "a=[1,2,3]\n",
    "b=[7,6,5]\n",
    "print(sorted(a,key=b))"
   ]
  },
  {
   "cell_type": "code",
   "execution_count": 6,
   "metadata": {},
   "outputs": [],
   "source": [
    "import heapq\n"
   ]
  },
  {
   "cell_type": "code",
   "execution_count": 20,
   "metadata": {},
   "outputs": [],
   "source": [
    "m=heapq.heapify(points)"
   ]
  },
  {
   "cell_type": "code",
   "execution_count": 21,
   "metadata": {},
   "outputs": [
    {
     "data": {
      "text/plain": [
       "[[-2, 2], [1, 3]]"
      ]
     },
     "execution_count": 21,
     "metadata": {},
     "output_type": "execute_result"
    }
   ],
   "source": [
    "points"
   ]
  },
  {
   "cell_type": "code",
   "execution_count": 12,
   "metadata": {},
   "outputs": [
    {
     "data": {
      "text/plain": [
       "<generator object merge at 0x000001FE977B0360>"
      ]
     },
     "execution_count": 12,
     "metadata": {},
     "output_type": "execute_result"
    }
   ],
   "source": [
    "imprm"
   ]
  },
  {
   "cell_type": "code",
   "execution_count": 52,
   "metadata": {},
   "outputs": [
    {
     "name": "stdout",
     "output_type": "stream",
     "text": [
      "{3.1622776601683795: [0], 2.8284271247461903: [1]}\n",
      "[3.1622776601683795, 2.8284271247461903]\n",
      "[[-2, 2]]\n"
     ]
    }
   ],
   "source": [
    "import math\n",
    "points=[[1,3],[-2,2]]\n",
    "\n",
    "k=1\n",
    "dict1={}\n",
    "for i in range(len(points)):\n",
    "    \n",
    "    value=math.sqrt(points[i][0]**2 + points[i][1]**2)\n",
    "    if(value in dict1.keys()):\n",
    "        dict1[value].append(i)\n",
    "    else:\n",
    "        dict1[value]=[i]\n",
    "        \n",
    "print(dict1)\n",
    "li=list(dict1.keys())\n",
    "print(li)\n",
    "value=[]\n",
    "try:\n",
    "    for i in range(k):\n",
    "        heapq.heapify(li)\n",
    "        #print(li[0])\n",
    "        gg=dict1[heapq.heappop(li)]\n",
    "        #print(\"-- \",gg)\n",
    "        for w in gg:\n",
    "            value.append(points[w])\n",
    "except:\n",
    "    print('hy')\n",
    "print(value[0:k])"
   ]
  },
  {
   "cell_type": "code",
   "execution_count": 59,
   "metadata": {},
   "outputs": [
    {
     "name": "stdout",
     "output_type": "stream",
     "text": [
      "{0: 1, 1: 1, 2: 1, 3: 1, 4: 1}\n",
      "[1, 1, 1, 1, 1]\n"
     ]
    }
   ],
   "source": [
    "dic={}\n",
    "for i in range(5):\n",
    "    #dic.append(i)\n",
    "    dic[i]=1\n",
    "print(dic)\n",
    "print(list(dic.values()))"
   ]
  },
  {
   "cell_type": "code",
   "execution_count": 37,
   "metadata": {},
   "outputs": [
    {
     "ename": "TypeError",
     "evalue": "heapify() takes exactly one argument (2 given)",
     "output_type": "error",
     "traceback": [
      "\u001b[1;31m---------------------------------------------------------------------------\u001b[0m",
      "\u001b[1;31mTypeError\u001b[0m                                 Traceback (most recent call last)",
      "\u001b[1;32m<ipython-input-37-755beac0a80b>\u001b[0m in \u001b[0;36m<module>\u001b[1;34m()\u001b[0m\n\u001b[0;32m      1\u001b[0m \u001b[0ma\u001b[0m\u001b[1;33m=\u001b[0m\u001b[1;33m[\u001b[0m\u001b[1;36m1.222\u001b[0m\u001b[1;33m,\u001b[0m\u001b[1;36m1.333\u001b[0m\u001b[1;33m,\u001b[0m\u001b[1;36m1.444\u001b[0m\u001b[1;33m,\u001b[0m\u001b[1;36m1.111\u001b[0m\u001b[1;33m]\u001b[0m\u001b[1;33m\u001b[0m\u001b[0m\n\u001b[1;32m----> 2\u001b[1;33m \u001b[0mheapq\u001b[0m\u001b[1;33m.\u001b[0m\u001b[0mheapify\u001b[0m\u001b[1;33m(\u001b[0m\u001b[0ma\u001b[0m\u001b[1;33m,\u001b[0m\u001b[1;36m4\u001b[0m\u001b[1;33m)\u001b[0m\u001b[1;33m\u001b[0m\u001b[0m\n\u001b[0m",
      "\u001b[1;31mTypeError\u001b[0m: heapify() takes exactly one argument (2 given)"
     ]
    }
   ],
   "source": [
    "a=[1.222,1.333,1.444,1.111]\n",
    "heapq.heapify(a,4)"
   ]
  },
  {
   "cell_type": "code",
   "execution_count": 36,
   "metadata": {},
   "outputs": [
    {
     "data": {
      "text/plain": [
       "[1.111, 1.222, 1.444, 1.333]"
      ]
     },
     "execution_count": 36,
     "metadata": {},
     "output_type": "execute_result"
    }
   ],
   "source": [
    "a"
   ]
  },
  {
   "cell_type": "code",
   "execution_count": 55,
   "metadata": {},
   "outputs": [
    {
     "name": "stdout",
     "output_type": "stream",
     "text": [
      "[[3, 3], [-2, 4], [5, -1]]\n"
     ]
    }
   ],
   "source": [
    "import math\n",
    "points=[[3,3],[5,-1],[-2,4]]\n",
    "k=1\n",
    "value=[]\n",
    "for i in range(len(points)):\n",
    "    value.append(math.sqrt(points[i][0]**2 + points[i][1]**2))\n",
    "zi=zip(value,points)\n",
    "points=[x for _,x in sorted(zi)]\n",
    "return (points[0:k])"
   ]
  },
  {
   "cell_type": "code",
   "execution_count": 66,
   "metadata": {},
   "outputs": [
    {
     "name": "stdout",
     "output_type": "stream",
     "text": [
      "[1]\n"
     ]
    }
   ],
   "source": [
    "a=[2,7,4,1,8,1]\n",
    "a.sort()\n",
    "while(len(a)>1):\n",
    "    if(a[-1]==a[-2]):\n",
    "        a.pop()\n",
    "        a.pop()\n",
    "    else:\n",
    "        a[-2]=a[-1]-a[-2]\n",
    "        a.pop()\n",
    "        for i in range(len(a)-1,0,-1):\n",
    "            if(a[i]<a[i-1]):\n",
    "                temp=a[i]\n",
    "                a[i]=a[i-1]\n",
    "                a[i-1]=temp\n",
    "                \n",
    "            else:\n",
    "                break\n",
    "\n",
    "print(a)"
   ]
  },
  {
   "cell_type": "code",
   "execution_count": 62,
   "metadata": {},
   "outputs": [
    {
     "data": {
      "text/plain": [
       "[8, 7]"
      ]
     },
     "execution_count": 62,
     "metadata": {},
     "output_type": "execute_result"
    }
   ],
   "source": [
    "b=heapq.nlargest(2,a)\n",
    "b"
   ]
  },
  {
   "cell_type": "code",
   "execution_count": 1,
   "metadata": {},
   "outputs": [],
   "source": [
    "import heapq\n",
    "points=[[3,3],[5,-1],[-2,4]]\n"
   ]
  },
  {
   "cell_type": "code",
   "execution_count": 2,
   "metadata": {},
   "outputs": [],
   "source": [
    "heapq.heapify(points)"
   ]
  },
  {
   "cell_type": "code",
   "execution_count": 3,
   "metadata": {},
   "outputs": [
    {
     "data": {
      "text/plain": [
       "[[-2, 4], [5, -1], [3, 3]]"
      ]
     },
     "execution_count": 3,
     "metadata": {},
     "output_type": "execute_result"
    }
   ],
   "source": [
    "points"
   ]
  },
  {
   "cell_type": "code",
   "execution_count": 4,
   "metadata": {},
   "outputs": [
    {
     "data": {
      "text/plain": [
       "[-2, 4]"
      ]
     },
     "execution_count": 4,
     "metadata": {},
     "output_type": "execute_result"
    }
   ],
   "source": [
    "heapq.heappop(points)"
   ]
  },
  {
   "cell_type": "code",
   "execution_count": 5,
   "metadata": {},
   "outputs": [],
   "source": [
    "heapq.heapify(points)"
   ]
  },
  {
   "cell_type": "code",
   "execution_count": 6,
   "metadata": {},
   "outputs": [
    {
     "data": {
      "text/plain": [
       "[[3, 3], [5, -1]]"
      ]
     },
     "execution_count": 6,
     "metadata": {},
     "output_type": "execute_result"
    }
   ],
   "source": [
    "points"
   ]
  },
  {
   "cell_type": "code",
   "execution_count": 8,
   "metadata": {},
   "outputs": [
    {
     "name": "stdout",
     "output_type": "stream",
     "text": [
      "[-3, 10]\n"
     ]
    }
   ],
   "source": [
    "a=[[-3,10],[-1,1],[1,1]]\n",
    "heapq.heapify(a)\n",
    "print(heapq.heappop(a))"
   ]
  },
  {
   "cell_type": "code",
   "execution_count": 9,
   "metadata": {},
   "outputs": [],
   "source": [
    "heapq.heapify(a)"
   ]
  },
  {
   "cell_type": "code",
   "execution_count": 10,
   "metadata": {},
   "outputs": [
    {
     "data": {
      "text/plain": [
       "[[-1, 1], [1, 1]]"
      ]
     },
     "execution_count": 10,
     "metadata": {},
     "output_type": "execute_result"
    }
   ],
   "source": [
    "a"
   ]
  },
  {
   "cell_type": "code",
   "execution_count": 14,
   "metadata": {},
   "outputs": [
    {
     "name": "stdout",
     "output_type": "stream",
     "text": [
      "[-2, 'e']\n",
      "[-1, 'r']\n",
      "[-1, 't']\n"
     ]
    }
   ],
   "source": [
    "a='tree'\n",
    "dict1={}\n",
    "for i in a:\n",
    "    if(i in dict1.keys()):\n",
    "        dict1[i]+=1\n",
    "    else:\n",
    "        dict1[i]=1\n",
    "va=list(dict1.values())\n",
    "ke=list(dict1.keys())\n",
    "maxheap=[]\n",
    "for i in range(len(va)):\n",
    "    maxheap.append([-1*va[i],ke[i]])\n",
    "    \n",
    "heapq.heapify(maxheap)\n",
    "for i in range(len(va)):\n",
    "    print(heapq.heappop(maxheap))\n",
    "    "
   ]
  },
  {
   "cell_type": "code",
   "execution_count": 15,
   "metadata": {},
   "outputs": [
    {
     "data": {
      "text/plain": [
       "[]"
      ]
     },
     "execution_count": 15,
     "metadata": {},
     "output_type": "execute_result"
    }
   ],
   "source": [
    "heapq.nsmallest(2,maxheap)"
   ]
  },
  {
   "cell_type": "code",
   "execution_count": 19,
   "metadata": {},
   "outputs": [
    {
     "name": "stdout",
     "output_type": "stream",
     "text": [
      "[2, 3]\n",
      "6\n",
      "[2, 3]\n"
     ]
    }
   ],
   "source": [
    "a=[6,5,4,3,2]\n",
    "print(heapq.nsmallest(2,a))\n",
    "print(heapq.heappop(a))\n",
    "print(heapq.nsmallest(2,a))"
   ]
  },
  {
   "cell_type": "code",
   "execution_count": 22,
   "metadata": {},
   "outputs": [
    {
     "name": "stdout",
     "output_type": "stream",
     "text": [
      "[0, 5]\n",
      "-1\n"
     ]
    }
   ],
   "source": [
    "nums=[1,6,1]\n",
    "k=3\n",
    "heapq.heapify(nums)\n",
    "size=len(nums)\n",
    "#minn=max(nums)\n",
    "minheap=[]\n",
    "while(len(nums)>1):\n",
    "    x=heapq.nsmallest(2,nums)\n",
    "    minheap.append(abs(x[0]-x[1]))\n",
    "    heapq.heappop(nums)\n",
    "    heapq.heapify(nums)\n",
    "\n",
    "value=0\n",
    "print(minheap)\n",
    "heapq.heapify(minheap)\n",
    "try:\n",
    "    for i in range(k):\n",
    "        value=heapq.heappop(minheap)\n",
    "        heapq.heapify(minheap)\n",
    "    print(value)\n",
    "except:\n",
    "    print(-1)"
   ]
  },
  {
   "cell_type": "code",
   "execution_count": 21,
   "metadata": {},
   "outputs": [
    {
     "name": "stdout",
     "output_type": "stream",
     "text": [
      "##  1\n",
      "[2, 7, 13, 19]\n",
      "##  2\n",
      "[4, 7, 13, 19, 14, 26, 38]\n",
      "##  4\n",
      "[7, 14, 8, 19, 38, 26, 13, 28, 52, 76]\n",
      "##  7\n",
      "[8, 14, 13, 19, 14, 26, 76, 28, 52, 38, 49, 91, 133]\n",
      "##  8\n",
      "[13, 14, 16, 19, 14, 26, 56, 28, 52, 38, 49, 133, 91, 76, 104, 152]\n",
      "##  13\n",
      "[14, 14, 16, 19, 38, 26, 56, 26, 52, 152, 49, 133, 91, 76, 104, 28, 91, 169, 247]\n",
      "##  14\n",
      "--  14\n",
      "@@  14\n",
      "[16, 19, 26, 26, 38, 91, 56, 28, 28, 152, 49, 133, 169, 76, 104, 247, 91, 52, 98, 182, 266]\n",
      "##  16\n",
      "[19, 26, 26, 28, 32, 91, 56, 28, 52, 38, 49, 133, 169, 76, 104, 247, 91, 266, 98, 182, 152, 112, 208, 304]\n",
      "##  19\n",
      "[26, 26, 38, 28, 32, 56, 76, 28, 52, 38, 49, 91, 169, 304, 104, 247, 91, 266, 98, 182, 152, 112, 208, 133, 133, 247, 361]\n",
      "##  26\n",
      "--  26\n",
      "@@  26\n",
      "[28, 28, 38, 52, 32, 52, 76, 91, 98, 38, 49, 91, 56, 304, 104, 247, 361, 266, 247, 182, 152, 112, 208, 133, 133, 169, 182, 338, 494]\n",
      "##  28\n",
      "--  28\n",
      "@@  28\n",
      "[32, 38, 38, 52, 49, 52, 56, 91, 98, 152, 112, 91, 56, 76, 104, 247, 361, 266, 247, 182, 494, 338, 208, 133, 133, 169, 182, 304, 196, 364, 532]\n",
      "##  32\n",
      "[38, 38, 52, 52, 49, 56, 56, 91, 98, 152, 112, 91, 169, 76, 64, 224, 361, 266, 247, 182, 494, 338, 208, 133, 133, 532, 182, 304, 196, 364, 104, 247, 416, 608]\n",
      "32\n"
     ]
    }
   ],
   "source": [
    "import heapq\n",
    "primes=[2,7,13,19]\n",
    "n=12\n",
    "minheap = [1]\n",
    "while n:\n",
    "    node = heappop(minheap)\n",
    "    print('## ',node)\n",
    "    #handle duplicates\n",
    "    \n",
    "    while minheap and minheap[0] == node:\n",
    "        print('-- ',minheap[0])\n",
    "        print('@@ ',heappop(minheap))\n",
    "    n -= 1\n",
    "    for prime in primes:\n",
    "        heappush(minheap, node * prime)\n",
    "    print(minheap)\n",
    "print(node)"
   ]
  },
  {
   "cell_type": "code",
   "execution_count": 22,
   "metadata": {},
   "outputs": [
    {
     "name": "stdout",
     "output_type": "stream",
     "text": [
      "[1, 1, 2, 1, 1]\n"
     ]
    }
   ],
   "source": [
    "nums=[1,2,3,3,4,5]\n",
    "dict1={}\n",
    "size=len(nums)\n",
    "for i in nums:\n",
    "    if(i in dict1.keys()):\n",
    "        dict1[i]+=1\n",
    "    else:\n",
    "        dict1[i]=1\n",
    "va=list(dict1.values())\n",
    "print(va)"
   ]
  },
  {
   "cell_type": "code",
   "execution_count": null,
   "metadata": {},
   "outputs": [],
   "source": [
    "index=0\n",
    "while(i<len(va)-1)\n",
    "    if(va[i]>va[i+1]):\n",
    "        va[index:i]=va[index:i]-1\n",
    "        \n",
    "    else:\n",
    "        "
   ]
  },
  {
   "cell_type": "code",
   "execution_count": 36,
   "metadata": {},
   "outputs": [
    {
     "name": "stdout",
     "output_type": "stream",
     "text": [
      "[1, 2, 1, 2, 1]\n"
     ]
    }
   ],
   "source": [
    "barcodes=[1,1,1,2,2,2]\n",
    "dict1={}\n",
    "size=len(barcodes)\n",
    "final=[]\n",
    "for i in barcodes:\n",
    "    if(i in dict1.keys()):\n",
    "        dict1[i]-=1\n",
    "    else:\n",
    "        dict1[i]=-1\n",
    "\n",
    "ke=list(dict1.keys())\n",
    "va=list(dict1.values())\n",
    "maxheap=[]\n",
    "for i in range(len(ke)):\n",
    "    maxheap.append([va[i],ke[i]])\n",
    "heapq.heapify(maxheap)\n",
    "value,key=heappop(maxheap)\n",
    "while(len(maxheap)>0):\n",
    "    final.append(key)\n",
    "    prevkey=key\n",
    "    prevalue=value+1\n",
    "    value,key=heappop(maxheap)\n",
    "    if(prevalue!=0):\n",
    "        heappush(maxheap,[prevalue,prevkey])\n",
    " \n",
    "        \n",
    "print(final)"
   ]
  },
  {
   "cell_type": "code",
   "execution_count": 38,
   "metadata": {},
   "outputs": [
    {
     "name": "stdout",
     "output_type": "stream",
     "text": [
      "12\n"
     ]
    }
   ],
   "source": [
    "minheap=[1]\n",
    "primes=[2,3,5]\n",
    "while(n):\n",
    "\n",
    "    node=heapq.heappop(minheap)\n",
    "    while(minheap and minheap[0]==node):\n",
    "        heapq.heappop(minheap)\n",
    "\n",
    "    n=n-1\n",
    "    for i in primes:\n",
    "        heapq.heappush(minheap,node*i)\n",
    "\n",
    "print(node)\n"
   ]
  },
  {
   "cell_type": "code",
   "execution_count": 45,
   "metadata": {},
   "outputs": [
    {
     "name": "stdout",
     "output_type": "stream",
     "text": [
      "[[1, 3], [2, 3]]\n"
     ]
    }
   ],
   "source": [
    "import heapq\n",
    "nums1 = [1,2]\n",
    "nums2 = [3]\n",
    "k = 3\n",
    "size1=len(nums1)\n",
    "size2=len(nums2)\n",
    "minheap=[]\n",
    "final=[]\n",
    "for i in range(size1):\n",
    "    for j in range(size2):\n",
    "        minheap.append([nums1[i]+nums2[j],[nums1[i],nums2[j]]])\n",
    "if(k>=size1*size2):\n",
    "    heapq.heapify(minheap)\n",
    "    while(len(minheap)):\n",
    "        final.append(heapq.heappop(minheap)[1])\n",
    "    print(final)\n",
    "else:\n",
    "    heapq.heapify(minheap)\n",
    "    for i in range(k):\n",
    "        final.append(heapq.heappop(minheap)[1])\n",
    "    print(final)\n",
    "    \n",
    "    \n",
    "# heapq.heapify(nums1)\n",
    "# heapq.heapify(nums2)\n",
    "\n",
    "# final=[]\n",
    "\n",
    "# a=heapq.heappop(nums1)\n",
    "# b=heapq.heappop(nums1)\n",
    "# final.append([a,b])\n",
    "# k=k-1\n",
    "# c=heapq.heappop(nums1)\n",
    "# d=heapq.heappop(nums2)\n",
    "# while(k>0):\n",
    "#     if(a+d<c+b):\n",
    "#         final.append([a,d])\n",
    "#         d=heapq.heappop(nums2)\n",
    "#     else:\n",
    "#         final.append([c,b])\n",
    "#         c=\n",
    "#     k=k-1\n",
    "    \n",
    "    "
   ]
  },
  {
   "cell_type": "code",
   "execution_count": 8,
   "metadata": {},
   "outputs": [
    {
     "name": "stdout",
     "output_type": "stream",
     "text": [
      "-- 11\n",
      "15\n"
     ]
    }
   ],
   "source": [
    "import heapq\n",
    "grid=[[11,15,3,2],[6,4,0,13],[5,8,9,10],[1,14,12,7]]\n",
    "visited=set()\n",
    "n=len(grid)\n",
    "ans=grid[0][0]\n",
    "minheap=[(0,(0,0))]\n",
    "# if(grid[0][0]==(n*n)-1 or grid[n-1][n-1]==(n*n)-1 ):\n",
    "#     print((n*n)-1)\n",
    "\n",
    "# #     return ((n*n)-1)\n",
    "\n",
    "# else:\n",
    "while(minheap):\n",
    "    value,index=heapq.heappop(minheap)\n",
    "    if(index in visited):\n",
    "        continue\n",
    "\n",
    "    visited.add(index)\n",
    "    ans=max(ans,value)\n",
    "    if(index==(n-1,n-1)):\n",
    "        print('--',ans)\n",
    "        #return ans\n",
    "    for item in [(-1,0),(0,-1),(1,0),(0,1)]:\n",
    "        x=index[0]+item[0]\n",
    "        y=index[1]+item[1]\n",
    "        if(0<=x<n and 0<=y<n ):\n",
    "            heapq.heappush(minheap,(grid[x][y],(x,y)))\n",
    "#return ans\n",
    "print(ans)\n"
   ]
  },
  {
   "cell_type": "code",
   "execution_count": 6,
   "metadata": {},
   "outputs": [
    {
     "name": "stdout",
     "output_type": "stream",
     "text": [
      "11\n",
      "15\n"
     ]
    }
   ],
   "source": [
    "r = len(grid)\n",
    "pq = [(0,(0,0))]\n",
    "visited = set()\n",
    "res = grid[0][0]\n",
    "while pq:\n",
    "    currTime,currIndex = heapq.heappop(pq)\n",
    "    if currIndex in visited:\n",
    "        continue\n",
    "    visited.add(currIndex)\n",
    "    res = max(res,currTime)\n",
    "    if currIndex == (r-1,r-1):\n",
    "        print(res)\n",
    "    for item in [(-1,0),(0,-1),(1,0),(0,1)]:\n",
    "        newX = currIndex[0]+item[0]\n",
    "        newY = currIndex[1]+item[1]\n",
    "        if 0<=newX<r and 0<=newY<r:\n",
    "              heapq.heappush(pq,(grid[newX][newY],(newX,newY)))\n",
    "print(res)"
   ]
  },
  {
   "cell_type": "code",
   "execution_count": 10,
   "metadata": {},
   "outputs": [
    {
     "name": "stdout",
     "output_type": "stream",
     "text": [
      "[1, 2, 5, 3]\n"
     ]
    }
   ],
   "source": [
    "import heapq\n",
    "a=[3,2,5,1]\n",
    "heap=[]\n",
    "for i in a:\n",
    "    heapq.heappush(heap,i)\n",
    "print(heap)"
   ]
  },
  {
   "cell_type": "code",
   "execution_count": 8,
   "metadata": {},
   "outputs": [
    {
     "name": "stdout",
     "output_type": "stream",
     "text": [
      "[(1, 0, 0), (1, 0, 3), (1, 2, 5), (3, 0, 2), (2, 0, 5), (2, 2, 3), (3, 2, 4), (4, 1, 5), (3, 2, 1), (3, 2, 2), (2, 2, 0), (3, 1, 0), (3, 0, 4), (4, 0, 1)]\n",
      "1 0 0\n",
      "1 0 3\n",
      "1 2 5\n",
      "2 0 5\n",
      "2 2 0\n",
      "2 2 3\n",
      "3 0 2\n",
      "^^  3\n",
      "!!  2\n",
      "--  1 2\n",
      "1 1 2\n",
      "^^  3\n",
      "!!  3\n",
      "--  1 1\n",
      "2 1 1\n",
      "3 0 4\n",
      "^^  3\n",
      "!!  4\n",
      "--  1 4\n",
      "2 1 4\n",
      "3 1 0\n",
      "3 1 3\n",
      "3 2 1\n",
      "3 2 2\n",
      "3 2 4\n",
      "4 0 1\n",
      "4 1 5\n",
      "4\n"
     ]
    }
   ],
   "source": [
    "import heapq\n",
    "\n",
    "heightMap=[\n",
    "  [1,4,3,1,3,2],\n",
    "  [3,2,1,3,2,4],\n",
    "  [2,3,3,2,3,1]\n",
    "]\n",
    "\n",
    "if not heightMap or not heightMap[0]: \n",
    "    print(0)\n",
    "        \n",
    "N,M = len(heightMap), len(heightMap[0])\n",
    "pq = []\n",
    "visited = set()\n",
    "for i in range(N):\n",
    "    heapq.heappush(pq, (heightMap[i][0], i,0))\n",
    "    heapq.heappush(pq, (heightMap[i][M-1], i,M-1))\n",
    "    visited.add((i,0))\n",
    "    visited.add((i,M-1))\n",
    "for j in range(1,M-1):\n",
    "    heapq.heappush(pq, (heightMap[0][j], 0,j))\n",
    "    heapq.heappush(pq, (heightMap[N-1][j], N-1,j))\n",
    "    visited.add((0,j))\n",
    "    visited.add((N-1,j))\n",
    "\n",
    "print(pq)\n",
    "curr_max = 0\n",
    "ans = 0\n",
    "while pq:\n",
    "    val, r, c = heapq.heappop(pq)\n",
    "    print(val,r,c)\n",
    "    curr_max = max(curr_max, val)\n",
    "    # visit adj nodes \n",
    "    for move in [(-1,0),(1,0),(0,-1),(0,1)]:\n",
    "        i, j = r + move[0], c + move[1]\n",
    "        if i>=0 and i < N and j>=0 and j < M and (i,j) not in visited:\n",
    "            if heightMap[i][j] < curr_max:\n",
    "                \n",
    "                ans += curr_max - heightMap[i][j]\n",
    "                print('^^ ',curr_max)\n",
    "                print('!! ',ans)\n",
    "                print('-- ',i,j)\n",
    "            heapq.heappush(pq, (heightMap[i][j], i,j))\n",
    "            visited.add((i,j))\n",
    "\n",
    "print(ans)"
   ]
  },
  {
   "cell_type": "code",
   "execution_count": 9,
   "metadata": {},
   "outputs": [
    {
     "name": "stdout",
     "output_type": "stream",
     "text": [
      "0   3\n",
      "1   2\n",
      "2   1\n"
     ]
    }
   ],
   "source": [
    "a=[3,2,1]\n",
    "for i,j in enumerate(a):\n",
    "    print(i,' ',j)"
   ]
  },
  {
   "cell_type": "code",
   "execution_count": 10,
   "metadata": {},
   "outputs": [
    {
     "name": "stdout",
     "output_type": "stream",
     "text": [
      "[1, 4, 5, 1, 3, 4, 2, 6]\n"
     ]
    }
   ],
   "source": [
    "lists = [[1,4,5],[1,3,4],[2,6]]\n",
    "minheap=[]\n",
    "for i in range(len(lists)):\n",
    "    minheap=minheap+lists[i]\n",
    "print(minheap)"
   ]
  },
  {
   "cell_type": "code",
   "execution_count": null,
   "metadata": {},
   "outputs": [],
   "source": [
    "n=len(arr)\n",
    "minheap=[]\n",
    "for i in range(n):\n",
    "    heapq.heappush(minheap,[1/arr[i],0,i])\n",
    "\n",
    "while(k>0):\n",
    "    value,p,q=heapq.heappop(minheap)\n",
    "    k-=1\n",
    "    if(k==0):\n",
    "        return [arr[p],arr[q]]\n",
    "    p=p+1\n",
    "    if(p<q):\n",
    "        heapq.heappush(minheap,[arr[p]/arr[q],p,q])"
   ]
  },
  {
   "cell_type": "code",
   "execution_count": 4,
   "metadata": {},
   "outputs": [
    {
     "name": "stdout",
     "output_type": "stream",
     "text": [
      "58\n"
     ]
    }
   ],
   "source": [
    "import heapq\n",
    "arr=[62,100,4]\n",
    "k=2\n",
    "n=len(arr)\n",
    "minheap=[]\n",
    "arr.sort()\n",
    "\n",
    "for i in range(1,n):\n",
    "    heapq.heappush(minheap,[arr[i]-arr[i-1],i-1,i])\n",
    "\n",
    "while(k>0):\n",
    "    value,p,q=heapq.heappop(minheap)\n",
    "    k-=1\n",
    "    if(k==0):\n",
    "        print(value)\n",
    "    q=q+1\n",
    "    if(q<n):\n",
    "        heapq.heappush(minheap,[abs(arr[p]-arr[q]),p,q])"
   ]
  },
  {
   "cell_type": "code",
   "execution_count": 5,
   "metadata": {},
   "outputs": [
    {
     "data": {
      "text/plain": [
       "4"
      ]
     },
     "execution_count": 5,
     "metadata": {},
     "output_type": "execute_result"
    }
   ],
   "source": [
    "from math import log,ceil\n",
    "ceil(log(15,2))"
   ]
  },
  {
   "cell_type": "code",
   "execution_count": 26,
   "metadata": {},
   "outputs": [
    {
     "name": "stdout",
     "output_type": "stream",
     "text": [
      "0\n",
      "8\n",
      "!!  8 4 0 0\n",
      "--  8\n",
      "[]\n"
     ]
    },
    {
     "ename": "IndexError",
     "evalue": "index out of range",
     "output_type": "error",
     "traceback": [
      "\u001b[1;31m---------------------------------------------------------------------------\u001b[0m",
      "\u001b[1;31mIndexError\u001b[0m                                Traceback (most recent call last)",
      "\u001b[1;32m<ipython-input-26-bc1b3cefc2f8>\u001b[0m in \u001b[0;36m<module>\u001b[1;34m()\u001b[0m\n\u001b[0;32m     17\u001b[0m \u001b[0mtotal\u001b[0m\u001b[1;33m=\u001b[0m\u001b[1;36m0\u001b[0m\u001b[1;33m\u001b[0m\u001b[0m\n\u001b[0;32m     18\u001b[0m \u001b[1;32mwhile\u001b[0m\u001b[1;33m(\u001b[0m\u001b[0mk\u001b[0m\u001b[1;33m>\u001b[0m\u001b[1;36m0\u001b[0m\u001b[1;33m)\u001b[0m\u001b[1;33m:\u001b[0m\u001b[1;33m\u001b[0m\u001b[0m\n\u001b[1;32m---> 19\u001b[1;33m     \u001b[0mw\u001b[0m\u001b[1;33m,\u001b[0m\u001b[0mq\u001b[0m\u001b[1;33m,\u001b[0m\u001b[0mi\u001b[0m\u001b[1;33m,\u001b[0m\u001b[0mj\u001b[0m\u001b[1;33m=\u001b[0m\u001b[0mheapq\u001b[0m\u001b[1;33m.\u001b[0m\u001b[0mheappop\u001b[0m\u001b[1;33m(\u001b[0m\u001b[0mminheap\u001b[0m\u001b[1;33m)\u001b[0m\u001b[1;33m\u001b[0m\u001b[0m\n\u001b[0m\u001b[0;32m     20\u001b[0m     \u001b[0mprint\u001b[0m\u001b[1;33m(\u001b[0m\u001b[1;34m'!! '\u001b[0m\u001b[1;33m,\u001b[0m\u001b[0mw\u001b[0m\u001b[1;33m,\u001b[0m\u001b[0mq\u001b[0m\u001b[1;33m,\u001b[0m\u001b[0mi\u001b[0m\u001b[1;33m,\u001b[0m\u001b[0mj\u001b[0m\u001b[1;33m)\u001b[0m\u001b[1;33m\u001b[0m\u001b[0m\n\u001b[0;32m     21\u001b[0m     \u001b[0mtotal\u001b[0m\u001b[1;33m+=\u001b[0m\u001b[0mw\u001b[0m\u001b[1;33m\u001b[0m\u001b[0m\n",
      "\u001b[1;31mIndexError\u001b[0m: index out of range"
     ]
    }
   ],
   "source": [
    "import heapq\n",
    "quality = [4,5]\n",
    "wage = [8,14]\n",
    "k = 2\n",
    "minheap=[]\n",
    "n=len(wage)\n",
    "if(n==k):\n",
    "    total=wage[0]\n",
    "    for i in range(1,k):\n",
    "        value=(quality[i]/quality[i-1])*wage[i-1]\n",
    "        if(value>=wage[i]):\n",
    "            total+=value\n",
    "        else:\n",
    "            print(0)\n",
    "    print(total)\n",
    "minheap.append([wage[0],quality[0],0,0])\n",
    "total=0\n",
    "while(k>0):\n",
    "    w,q,i,j=heapq.heappop(minheap)\n",
    "    print('!! ',w,q,i,j)\n",
    "    total+=w\n",
    "    print('-- ',total)\n",
    "    k=k-1\n",
    "    if(k==0):\n",
    "        print(total)\n",
    "        break\n",
    "    for a in range(j+1,n-(k-1)):\n",
    "        if(wage[a]<=(quality[a]/quality[i])*w):\n",
    "            print('a',a)\n",
    "            heapq.heappush(minheap,[(quality[a]/quality[i])*w,quality[a],a,a])\n",
    "    print(minheap)"
   ]
  },
  {
   "cell_type": "code",
   "execution_count": 27,
   "metadata": {},
   "outputs": [
    {
     "data": {
      "text/plain": [
       "65"
      ]
     },
     "execution_count": 27,
     "metadata": {},
     "output_type": "execute_result"
    }
   ],
   "source": [
    "ord('A')"
   ]
  },
  {
   "cell_type": "code",
   "execution_count": 38,
   "metadata": {},
   "outputs": [
    {
     "data": {
      "text/plain": [
       "90"
      ]
     },
     "execution_count": 38,
     "metadata": {},
     "output_type": "execute_result"
    }
   ],
   "source": [
    "ord('Z')"
   ]
  },
  {
   "cell_type": "code",
   "execution_count": 34,
   "metadata": {},
   "outputs": [
    {
     "data": {
      "text/plain": [
       "'a'"
      ]
     },
     "execution_count": 34,
     "metadata": {},
     "output_type": "execute_result"
    }
   ],
   "source": [
    "chr(ord('A')+32)"
   ]
  },
  {
   "cell_type": "code",
   "execution_count": 36,
   "metadata": {},
   "outputs": [
    {
     "name": "stdout",
     "output_type": "stream",
     "text": [
      "2\n"
     ]
    }
   ],
   "source": [
    "a='.'\n",
    "if(a.isalpha()):\n",
    "    print(1)\n",
    "else:\n",
    "    print(2)"
   ]
  },
  {
   "cell_type": "code",
   "execution_count": 40,
   "metadata": {},
   "outputs": [
    {
     "name": "stdout",
     "output_type": "stream",
     "text": [
      "['.', 0]\n",
      "['.', 1]\n",
      "['a', 2]\n",
      "['b', 3]\n"
     ]
    }
   ],
   "source": [
    "import heapq\n",
    "a=['.','.','a','b']\n",
    "minheap=[]\n",
    "for i in range(len(a)):\n",
    "    heapq.heappush(minheap,[a[i],i])\n",
    "for i in range(len(a)):\n",
    "    print(heapq.heappop(minheap))"
   ]
  },
  {
   "cell_type": "code",
   "execution_count": 62,
   "metadata": {},
   "outputs": [
    {
     "name": "stdout",
     "output_type": "stream",
     "text": [
      "2\n",
      "--  [('@', (0, 0))]\n",
      "1@@@@@@@@@@@@@@@@@\n",
      "2@@@@@@@@@@@@@@@@@\n",
      "3@@@@@@@@@@@@@@@@@\n",
      "index--  1 0\n",
      "grid--  .\n",
      "3- 1 0\n",
      "index--  0 1\n",
      "grid--  .\n",
      "3- 0 1\n",
      "--  [('.', (0, 1)), ('.', (1, 0))]\n",
      "1@@@@@@@@@@@@@@@@@\n",
      "2@@@@@@@@@@@@@@@@@\n",
      "3@@@@@@@@@@@@@@@@@\n",
      "index--  1 1\n",
      "grid--  .\n",
      "3- 1 1\n",
      "index--  0 2\n",
      "grid--  .\n",
      "3- 0 2\n",
      "--  [('.', (0, 2)), ('.', (1, 1)), ('.', (1, 0))]\n",
      "1@@@@@@@@@@@@@@@@@\n",
      "2@@@@@@@@@@@@@@@@@\n",
      "3@@@@@@@@@@@@@@@@@\n",
      "index--  1 2\n",
      "grid--  B\n",
      "index--  0 3\n",
      "grid--  a\n",
      "2- 0 3\n",
      "--  [('.', (1, 0)), ('.', (1, 1)), ('a', (0, 3))]\n",
      "1@@@@@@@@@@@@@@@@@\n",
      "2@@@@@@@@@@@@@@@@@\n",
      "3@@@@@@@@@@@@@@@@@\n",
      "index--  2 0\n",
      "grid--  .\n",
      "3- 2 0\n",
      "index--  1 1\n",
      "grid--  .\n",
      "3- 1 1\n",
      "--  [('.', (1, 1)), ('.', (1, 1)), ('.', (2, 0)), ('a', (0, 3))]\n",
      "1@@@@@@@@@@@@@@@@@\n",
      "2@@@@@@@@@@@@@@@@@\n",
      "3@@@@@@@@@@@@@@@@@\n",
      "index--  2 1\n",
      "grid--  .\n",
      "3- 2 1\n",
      "index--  1 2\n",
      "grid--  B\n",
      "--  [('.', (1, 1)), ('.', (2, 1)), ('.', (2, 0)), ('a', (0, 3))]\n",
      "1@@@@@@@@@@@@@@@@@\n",
      "--  [('.', (2, 0)), ('.', (2, 1)), ('a', (0, 3))]\n",
      "1@@@@@@@@@@@@@@@@@\n",
      "2@@@@@@@@@@@@@@@@@\n",
      "3@@@@@@@@@@@@@@@@@\n",
      "index--  2 1\n",
      "grid--  .\n",
      "3- 2 1\n",
      "--  [('.', (2, 1)), ('a', (0, 3)), ('.', (2, 1))]\n",
      "1@@@@@@@@@@@@@@@@@\n",
      "2@@@@@@@@@@@@@@@@@\n",
      "3@@@@@@@@@@@@@@@@@\n",
      "index--  2 2\n",
      "grid--  .\n",
      "3- 2 2\n",
      "--  [('.', (2, 1)), ('a', (0, 3)), ('.', (2, 2))]\n",
      "1@@@@@@@@@@@@@@@@@\n",
      "--  [('.', (2, 2)), ('a', (0, 3))]\n",
      "1@@@@@@@@@@@@@@@@@\n",
      "2@@@@@@@@@@@@@@@@@\n",
      "3@@@@@@@@@@@@@@@@@\n",
      "index--  1 2\n",
      "grid--  B\n",
      "index--  2 3\n",
      "grid--  .\n",
      "3- 2 3\n",
      "--  [('.', (2, 3)), ('a', (0, 3))]\n",
      "1@@@@@@@@@@@@@@@@@\n",
      "2@@@@@@@@@@@@@@@@@\n",
      "3@@@@@@@@@@@@@@@@@\n",
      "index--  2 4\n",
      "grid--  b\n",
      "2- 2 4\n",
      "--  [('a', (0, 3)), ('b', (2, 4))]\n",
      "1@@@@@@@@@@@@@@@@@\n",
      "key--  ['a']\n",
      "2@@@@@@@@@@@@@@@@@\n",
      "3@@@@@@@@@@@@@@@@@\n",
      "index--  0 4\n",
      "grid--  A\n",
      "1- 0 4\n",
      "A\n",
      "--  [('A', (0, 4)), ('b', (2, 4))]\n",
      "1@@@@@@@@@@@@@@@@@\n",
      "2@@@@@@@@@@@@@@@@@\n",
      "3@@@@@@@@@@@@@@@@@\n",
      "index--  1 4\n",
      "grid--  .\n",
      "3- 1 4\n",
      "--  [('.', (1, 4)), ('b', (2, 4))]\n",
      "1@@@@@@@@@@@@@@@@@\n",
      "2@@@@@@@@@@@@@@@@@\n",
      "3@@@@@@@@@@@@@@@@@\n",
      "index--  2 4\n",
      "grid--  b\n",
      "2- 2 4\n",
      "--  [('b', (2, 4)), ('b', (2, 4))]\n",
      "1@@@@@@@@@@@@@@@@@\n",
      "key--  ['a', 'b']\n",
      "key--  15\n",
      "last --  15\n"
     ]
    }
   ],
   "source": [
    "grid=[\"@..aA\",\"..B#.\",\"....b\"]\n",
    "visited=set()\n",
    "n=len(grid)\n",
    "m=len(grid[0])\n",
    "#ans=grid[0][0]\n",
    "minheap=[(grid[0][0],(0,0))]\n",
    "key=[]\n",
    "step=0\n",
    "count=0\n",
    "for i in range(n):\n",
    "    for j in range(m):\n",
    "        if(grid[i][j].isalpha()):\n",
    "            count+=1\n",
    "\n",
    "count=count//2\n",
    "print(count)\n",
    "cc=0\n",
    "while(minheap):\n",
    "    print('-- ',minheap)\n",
    "    value,index=heapq.heappop(minheap)\n",
    "    print('1@@@@@@@@@@@@@@@@@')\n",
    "    step+=1\n",
    "    if(index in visited):\n",
    "        continue\n",
    "\n",
    "    visited.add(index)\n",
    "    #ans=max(ans,value)\n",
    "    \n",
    "\n",
    "    if(value.isalpha() and (ord(value)>=97 and ord(value)<123)):\n",
    "        key.append(value)\n",
    "        print('key-- ',key)\n",
    "        cc=cc+1\n",
    "        if(cc==count):\n",
    "            #return step\n",
    "            print('key-- ',step)\n",
    "            break\n",
    "    print('2@@@@@@@@@@@@@@@@@')\n",
    "    if(index==(n-1,m-1)):\n",
    "        #print('--',ans)\n",
    "        #return step \n",
    "        print(step)\n",
    "        break\n",
    "    print('3@@@@@@@@@@@@@@@@@')\n",
    "\n",
    "    for item in [(-1,0),(1,0),(0,-1),(0,1)]:\n",
    "        x=index[0]+item[0]\n",
    "        y=index[1]+item[1]\n",
    "        \n",
    "        if(0<=x<n and 0<=y<m and grid[x][y]!='#' and (x,y) not in visited):\n",
    "            print('index-- ',x,y)\n",
    "            print('grid-- ',grid[x][y])\n",
    "            if(grid[x][y].isalpha() and (ord(grid[x][y])>=65 and ord(grid[x][y])<91)):\n",
    "                if(chr(ord(grid[x][y])+32) in key):\n",
    "                    print('1-',x,y)\n",
    "                    print(grid[x][y])\n",
    "                    heapq.heappush(minheap,(grid[x][y],(x,y)))\n",
    "                else:\n",
    "                    pass\n",
    "                \n",
    "            elif(grid[x][y].isalpha()):\n",
    "                print('2-',x,y)\n",
    "                heapq.heappush(minheap,(grid[x][y],(x,y)))\n",
    "            else:\n",
    "                print('3-',x,y)\n",
    "                heapq.heappush(minheap,(grid[x][y],(x,y)))\n",
    "                \n",
    "#return step\n",
    "print('last -- ',step)\n"
   ]
  },
  {
   "cell_type": "code",
   "execution_count": 54,
   "metadata": {},
   "outputs": [
    {
     "name": "stdout",
     "output_type": "stream",
     "text": [
      "{(0, 1), (0, 0), (1, 3), (2, 3), (2, 2), (0, 3), (0, 2)}\n"
     ]
    }
   ],
   "source": [
    "print(visited)"
   ]
  },
  {
   "cell_type": "code",
   "execution_count": null,
   "metadata": {},
   "outputs": [],
   "source": []
  }
 ],
 "metadata": {
  "kernelspec": {
   "display_name": "Python 3",
   "language": "python",
   "name": "python3"
  },
  "language_info": {
   "codemirror_mode": {
    "name": "ipython",
    "version": 3
   },
   "file_extension": ".py",
   "mimetype": "text/x-python",
   "name": "python",
   "nbconvert_exporter": "python",
   "pygments_lexer": "ipython3",
   "version": "3.6.4"
  }
 },
 "nbformat": 4,
 "nbformat_minor": 2
}

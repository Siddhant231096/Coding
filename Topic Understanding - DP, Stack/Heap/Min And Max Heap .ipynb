{
 "cells": [
  {
   "cell_type": "markdown",
   "metadata": {},
   "source": [
    "# Kth Smallest Element - MAX Heap"
   ]
  },
  {
   "cell_type": "code",
   "execution_count": 4,
   "metadata": {},
   "outputs": [
    {
     "name": "stdout",
     "output_type": "stream",
     "text": [
      "7 10 4 3 20 15\n",
      "3\n",
      "7\n"
     ]
    }
   ],
   "source": [
    "arr=list(map(int,input().split()))\n",
    "k=int(input())\n",
    "max_heap=arr[0:k]\n",
    "max_heap.sort()\n",
    "temp=0\n",
    "for i in range(k,len(arr)):\n",
    "    if(arr[i]>=max_heap[-1]):\n",
    "        pass\n",
    "    else:\n",
    "        max_heap[-1]=arr[i]\n",
    "        for j in range(k-1,0,-1):\n",
    "            if(max_heap[j]<=max_heap[j-1]):\n",
    "                temp=max_heap[j]\n",
    "                max_heap[j]=max_heap[j-1]\n",
    "                max_heap[j-1]=temp\n",
    "            else:\n",
    "                break\n",
    "print(max_heap[-1])\n",
    "                \n",
    "                \n",
    "\n"
   ]
  },
  {
   "cell_type": "markdown",
   "metadata": {},
   "source": [
    "# Kth Largest Element - MIN Heap"
   ]
  },
  {
   "cell_type": "code",
   "execution_count": 5,
   "metadata": {},
   "outputs": [
    {
     "name": "stdout",
     "output_type": "stream",
     "text": [
      "7 10 4 3 20 15\n",
      "3\n",
      "10\n",
      "[20, 15, 10]\n"
     ]
    }
   ],
   "source": [
    "arr=list(map(int,input().split()))\n",
    "k=int(input())\n",
    "min_heap=arr[0:k]\n",
    "min_heap.sort(reverse=True)\n",
    "temp=0\n",
    "for i in range(k,len(arr)):\n",
    "    if(arr[i]<=min_heap[-1]):\n",
    "        pass\n",
    "    else:\n",
    "        min_heap[-1]=arr[i]\n",
    "        for j in range(k-1,0,-1):\n",
    "            if(min_heap[j]>=min_heap[j-1]):\n",
    "                temp=min_heap[j]\n",
    "                min_heap[j]=min_heap[j-1]\n",
    "                min_heap[j-1]=temp\n",
    "            else:\n",
    "                break\n",
    "print(min_heap[-1])\n",
    "print(min_heap)\n",
    "                "
   ]
  },
  {
   "cell_type": "markdown",
   "metadata": {},
   "source": [
    "# K Sorted Array"
   ]
  },
  {
   "cell_type": "code",
   "execution_count": 8,
   "metadata": {},
   "outputs": [
    {
     "name": "stdout",
     "output_type": "stream",
     "text": [
      "7 10 4 3 20 15\n",
      "3\n",
      "7\n",
      "K Sorted Array is : 3 4 7 "
     ]
    }
   ],
   "source": [
    "arr=list(map(int,input().split()))\n",
    "k=int(input())\n",
    "max_heap=arr[0:k]\n",
    "max_heap.sort()\n",
    "temp=0\n",
    "for i in range(k,len(arr)):\n",
    "    if(arr[i]>=max_heap[-1]):\n",
    "        pass\n",
    "    else:\n",
    "        max_heap[-1]=arr[i]\n",
    "        for j in range(k-1,0,-1):\n",
    "            if(max_heap[j]<=max_heap[j-1]):\n",
    "                temp=max_heap[j]\n",
    "                max_heap[j]=max_heap[j-1]\n",
    "                max_heap[j-1]=temp\n",
    "            else:\n",
    "                break\n",
    "print(max_heap[-1])\n",
    "print('K Sorted Array is : ',end='')\n",
    "for i in range(k):\n",
    "    print(max_heap[i],end=' ')\n",
    "    \n",
    "                \n",
    "\n"
   ]
  },
  {
   "cell_type": "markdown",
   "metadata": {},
   "source": [
    "# K Closest Numbers"
   ]
  },
  {
   "cell_type": "code",
   "execution_count": 12,
   "metadata": {},
   "outputs": [
    {
     "name": "stdout",
     "output_type": "stream",
     "text": [
      "7 10 4 3 20 15\n",
      "3\n",
      "10\n",
      "[10, 7, 15]\n"
     ]
    }
   ],
   "source": [
    "arr=list(map(int,input().split()))\n",
    "\n",
    "k=int(input())\n",
    "close_to=int(input())\n",
    "max_heap=[]\n",
    "dis=[]\n",
    "for i in range(k):\n",
    "    max_heap.append(arr[i])\n",
    "    dis.append(abs(arr[i]-close_to))\n",
    "zip_pair=zip(dis,max_heap)\n",
    "max_heap=[x for _,x in sorted(zip_pair)]\n",
    "dis.sort()\n",
    "temp=0\n",
    "temp1=0\n",
    "for i in range(k,len(arr)):\n",
    "    if(abs(arr[i]-close_to)>=dis[-1]):\n",
    "        pass\n",
    "    else:\n",
    "        max_heap[-1]=arr[i]\n",
    "        dis[-1]=abs(arr[i]-close_to)\n",
    "        for j in range(k-1,0,-1):\n",
    "            if(dis[j]<=dis[j-1]):\n",
    "                temp=max_heap[j]\n",
    "                max_heap[j]=max_heap[j-1]\n",
    "                max_heap[j-1]=temp\n",
    "                \n",
    "                temp1=dis[j]\n",
    "                dis[j]=dis[j-1]\n",
    "                dis[j-1]=temp1\n",
    "            else:\n",
    "                break\n",
    "print(max_heap)\n",
    "                \n",
    "                \n",
    "\n"
   ]
  },
  {
   "cell_type": "markdown",
   "metadata": {},
   "source": [
    "# Top K Frequent string \n",
    "### To apply max heap using heapq we have to just multiply it with -1 so now number which is biggest will becoome smallest and smallest become biggest and apply heapq.heapify which find min which is now max soo this is how we can apply max heap "
   ]
  },
  {
   "cell_type": "code",
   "execution_count": 5,
   "metadata": {},
   "outputs": [
    {
     "name": "stdout",
     "output_type": "stream",
     "text": [
      "ee\n"
     ]
    }
   ],
   "source": [
    "import heapq\n",
    "a='tree'\n",
    "k=2\n",
    "dict1={}\n",
    "for i in a:\n",
    "    if(i in dict1.keys()):\n",
    "        dict1[i]+=1\n",
    "    else:\n",
    "        dict1[i]=1\n",
    "va=list(dict1.values())\n",
    "ke=list(dict1.keys())\n",
    "maxheap=[]\n",
    "for i in range(len(va)):\n",
    "    maxheap.append([-1*va[i],ke[i]])\n",
    "\n",
    "heapq.heapify(maxheap)\n",
    "new=''\n",
    "for i in range(len(va)):\n",
    "    value=heapq.heappop(maxheap)\n",
    "    new=new+value[1]*(-1*value[0])\n",
    "print(new[:k])"
   ]
  },
  {
   "cell_type": "markdown",
   "metadata": {},
   "source": [
    "# K Closest points to origin "
   ]
  },
  {
   "cell_type": "code",
   "execution_count": 8,
   "metadata": {},
   "outputs": [
    {
     "name": "stdout",
     "output_type": "stream",
     "text": [
      "[[3, 3], [-2, 4]]\n"
     ]
    }
   ],
   "source": [
    "import heapq\n",
    "import math\n",
    "points= [[3,3],[5,-1],[-2,4]]\n",
    "k=2\n",
    "size=len(points)\n",
    "value=[0]*size\n",
    "for i in range(size):\n",
    "    x=math.sqrt(points[i][0]**2 + points[i][1]**2)\n",
    "    value[i]=[x,points[i]]\n",
    "    \n",
    "final=[]\n",
    "for i in range(k):\n",
    "    heapq.heapify(value)\n",
    "    final.append(heapq.heappop(value)[1])\n",
    "print(final)\n",
    "    \n",
    "    "
   ]
  },
  {
   "cell_type": "markdown",
   "metadata": {},
   "source": [
    "# Connect Ropes to Minimize the Cost"
   ]
  },
  {
   "cell_type": "code",
   "execution_count": 11,
   "metadata": {},
   "outputs": [
    {
     "name": "stdout",
     "output_type": "stream",
     "text": [
      "33\n"
     ]
    }
   ],
   "source": [
    "import heapq\n",
    "arr=[1,2,3,4,5]\n",
    "heapq.heapify(arr)\n",
    "total=0\n",
    "while(len(arr)!=1):\n",
    "    a=heapq.heappop(arr)\n",
    "    heapq.heapify(arr)\n",
    "    b=heapq.heappop(arr)\n",
    "    c=a+b\n",
    "    total+=c\n",
    "    heapq.heappush(arr,c)\n",
    "print(total)\n",
    "    "
   ]
  },
  {
   "cell_type": "markdown",
   "metadata": {},
   "source": [
    "# Sum of Elements between k1 smallest and k2 smallest numbers"
   ]
  },
  {
   "cell_type": "code",
   "execution_count": 12,
   "metadata": {},
   "outputs": [
    {
     "name": "stdout",
     "output_type": "stream",
     "text": [
      "23\n"
     ]
    }
   ],
   "source": [
    "def kth_smallest(arr,k):\n",
    "    max_heap=arr[0:k]\n",
    "    max_heap.sort()\n",
    "    temp=0\n",
    "    for i in range(k,len(arr)):\n",
    "        if(arr[i]>=max_heap[-1]):\n",
    "            pass\n",
    "        else:\n",
    "            max_heap[-1]=arr[i]\n",
    "            for j in range(k-1,0,-1):\n",
    "                if(max_heap[j]<=max_heap[j-1]):\n",
    "                    temp=max_heap[j]\n",
    "                    max_heap[j]=max_heap[j-1]\n",
    "                    max_heap[j-1]=temp\n",
    "                else:\n",
    "                    break\n",
    "    return(max_heap[-1])\n",
    "                \n",
    "arr=[1,3,12,5,15,11]\n",
    "k1=3\n",
    "k2=6\n",
    "value1=kth_smallest(arr,k1)\n",
    "value2=kth_smallest(arr,k2)\n",
    "total=0\n",
    "for i in range(len(arr)):\n",
    "    if(arr[i]>value1 and arr[i]<value2):\n",
    "        total+=arr[i]\n",
    "print(total)\n"
   ]
  },
  {
   "cell_type": "code",
   "execution_count": null,
   "metadata": {},
   "outputs": [],
   "source": []
  }
 ],
 "metadata": {
  "kernelspec": {
   "display_name": "Python 3",
   "language": "python",
   "name": "python3"
  },
  "language_info": {
   "codemirror_mode": {
    "name": "ipython",
    "version": 3
   },
   "file_extension": ".py",
   "mimetype": "text/x-python",
   "name": "python",
   "nbconvert_exporter": "python",
   "pygments_lexer": "ipython3",
   "version": "3.6.4"
  }
 },
 "nbformat": 4,
 "nbformat_minor": 4
}

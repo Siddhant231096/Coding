{
 "cells": [
  {
   "cell_type": "markdown",
   "metadata": {},
   "source": [
    "# 1.Rod Cutting Problem - https://www.geeksforgeeks.org/cutting-a-rod-dp-13/"
   ]
  },
  {
   "cell_type": "code",
   "execution_count": 1,
   "metadata": {},
   "outputs": [
    {
     "name": "stdout",
     "output_type": "stream",
     "text": [
      "1   2   3   4   5   6   7   8 \n",
      "1   5   8   9  10  17  17  20\n"
     ]
    },
    {
     "data": {
      "text/plain": [
       "[[0, 0, 0, 0, 0, 0, 0, 0, 0],\n",
       " [0, None, None, None, None, None, None, None, None],\n",
       " [0, None, None, None, None, None, None, None, None],\n",
       " [0, None, None, None, None, None, None, None, None],\n",
       " [0, None, None, None, None, None, None, None, None],\n",
       " [0, None, None, None, None, None, None, None, None],\n",
       " [0, None, None, None, None, None, None, None, None],\n",
       " [0, None, None, None, None, None, None, None, None],\n",
       " [0, None, None, None, None, None, None, None, None]]"
      ]
     },
     "execution_count": 1,
     "metadata": {},
     "output_type": "execute_result"
    }
   ],
   "source": [
    "length=list(map(int,input().split()))\n",
    "price=list(map(int,input().split()))\n",
    "leng=len(length)\n",
    "n=length[leng-1]\n",
    "t=[[None for i in range(leng+1)]for j in range(n+1)]\n",
    "for i in range(n+1):\n",
    "    for j in range(leng+1):\n",
    "        if(i==0 or j==0):\n",
    "            t[i][j]=0\n",
    "t"
   ]
  },
  {
   "cell_type": "code",
   "execution_count": 2,
   "metadata": {},
   "outputs": [
    {
     "name": "stdout",
     "output_type": "stream",
     "text": [
      "22\n"
     ]
    }
   ],
   "source": [
    "for i in range(1,n+1):\n",
    "    for j in range(1,leng+1):\n",
    "        if(length[i-1]<=j):\n",
    "            t[i][j]=max(price[i-1]+t[i][j-length[i-1]],\n",
    "                       t[i-1][j])\n",
    "        else:\n",
    "            t[i][j]=t[i-1][j]\n",
    "print(t[n][leng])"
   ]
  },
  {
   "cell_type": "markdown",
   "metadata": {},
   "source": [
    "# 2.Coin Change Problem -- Number of ways --https://www.geeksforgeeks.org/coin-change-dp-7/"
   ]
  },
  {
   "cell_type": "markdown",
   "metadata": {},
   "source": [
    "### Same as above and same as count total number of subset problem from knapsack only conside current element as it is unbounded so repeatation is allowed"
   ]
  },
  {
   "cell_type": "code",
   "execution_count": 3,
   "metadata": {},
   "outputs": [
    {
     "name": "stdout",
     "output_type": "stream",
     "text": [
      "1 2 3\n",
      "4\n",
      "4\n"
     ]
    }
   ],
   "source": [
    "coin=list(map(int,input().split()))\n",
    "sum1=int(input())\n",
    "n=len(coin)\n",
    "\n",
    "t=[[None for i in range(sum1+1)]for j in range(n+1)]\n",
    "for i in range(n+1):\n",
    "    for j in range(sum1+1):\n",
    "        if(i==0):\n",
    "            t[i][j]=0\n",
    "        if(j==0):\n",
    "            t[i][j]=1\n",
    "t[0][0]=1            \n",
    "for i in range(1,n+1):\n",
    "    for j in range(1,sum1+1):\n",
    "        if(coin[i-1]<=j):\n",
    "            t[i][j]=t[i][j-coin[i-1]]+t[i-1][j]\n",
    "        else:\n",
    "            t[i][j]=t[i-1][j]\n",
    "print(t[n][sum1])"
   ]
  },
  {
   "cell_type": "code",
   "execution_count": null,
   "metadata": {},
   "outputs": [],
   "source": []
  },
  {
   "cell_type": "code",
   "execution_count": null,
   "metadata": {},
   "outputs": [],
   "source": []
  }
 ],
 "metadata": {
  "kernelspec": {
   "display_name": "Python 3",
   "language": "python",
   "name": "python3"
  },
  "language_info": {
   "codemirror_mode": {
    "name": "ipython",
    "version": 3
   },
   "file_extension": ".py",
   "mimetype": "text/x-python",
   "name": "python",
   "nbconvert_exporter": "python",
   "pygments_lexer": "ipython3",
   "version": "3.6.4"
  }
 },
 "nbformat": 4,
 "nbformat_minor": 2
}

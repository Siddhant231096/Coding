{
 "cells": [
  {
   "cell_type": "markdown",
   "metadata": {},
   "source": [
    "# Fabonicci"
   ]
  },
  {
   "cell_type": "code",
   "execution_count": 7,
   "metadata": {},
   "outputs": [
    {
     "name": "stdout",
     "output_type": "stream",
     "text": [
      "5\n",
      "5\n"
     ]
    }
   ],
   "source": [
    "num=int(input())\n",
    "lst=[]\n",
    "for i in range(num+1):\n",
    "    lst.append(0)\n",
    "    \n",
    "lst[0]=0\n",
    "lst[1]=1\n",
    "for i in range(2,num+1):\n",
    "    lst[i]=lst[i-1]+lst[i-2]\n",
    "    #print(lst[i])\n",
    "    \n",
    "print(lst[num])"
   ]
  },
  {
   "cell_type": "markdown",
   "metadata": {},
   "source": [
    "# Longest incresing sunsequence length"
   ]
  },
  {
   "cell_type": "code",
   "execution_count": 5,
   "metadata": {},
   "outputs": [
    {
     "name": "stdout",
     "output_type": "stream",
     "text": [
      "10 22 9 33 21 50 41 60\n",
      "[1, 2, 1, 3, 2, 4, 4, 5]\n",
      "5\n"
     ]
    }
   ],
   "source": [
    "arr=list(map(int,input().split()))\n",
    "lis=[]\n",
    "for i in range(len(arr)):\n",
    "    lis.append(1)\n",
    "    \n",
    "for i in range(1,len(arr)):\n",
    "    for j in range(0,i):\n",
    "        if(arr[i]>arr[j]):\n",
    "            lis[i]=max(lis[i],lis[j]+1)\n",
    "            \n",
    "print(lis)\n",
    "print(max(lis))"
   ]
  },
  {
   "cell_type": "markdown",
   "metadata": {},
   "source": [
    "# Longest common subsequence"
   ]
  },
  {
   "cell_type": "code",
   "execution_count": 13,
   "metadata": {},
   "outputs": [
    {
     "name": "stdout",
     "output_type": "stream",
     "text": [
      "aggtab\n",
      "gxtxayb\n",
      "[[0, 0, 0, 0, 0, 0, 0], [0, 0, 1, 1, 1, 1, 1], [0, 0, 1, 1, 1, 1, 1], [0, 0, 1, 1, 2, 2, 2], [0, 0, 1, 1, 2, 2, 2], [0, 1, 1, 1, 2, 3, 3], [0, 1, 1, 1, 2, 3, 3], [0, 1, 1, 1, 2, 3, 4]]\n",
      "Length of LCS is  4\n"
     ]
    }
   ],
   "source": [
    "str1=input()\n",
    "str2=input()\n",
    "matrix=[]\n",
    "lst1=[]\n",
    "for i in range(len(str2)+1):\n",
    "    lst1=[]\n",
    "    for j in range(len(str1)+1):\n",
    "        lst1.append(0)\n",
    "    matrix.append(lst1)\n",
    "for i in range(1,len(str2)+1):\n",
    "    for j in range(1,len(str1)+1):\n",
    "        if(str1[j-1]==str2[i-1]):\n",
    "            matrix[i][j]=matrix[i-1][j-1]+1\n",
    "        else:\n",
    "            matrix[i][j]=max(matrix[i-1][j],matrix[i][j-1])\n",
    "            \n",
    "\n",
    "print(matrix)\n",
    "print(\"Length of LCS is \",matrix[len(str2)][len(str1)])\n",
    "            "
   ]
  },
  {
   "cell_type": "code",
   "execution_count": 2,
   "metadata": {},
   "outputs": [
    {
     "name": "stdout",
     "output_type": "stream",
     "text": [
      "Length of LCS is  4\n"
     ]
    }
   ],
   "source": [
    "aggtab\n",
    "gxtxayb\n",
    "# VAlues are repeating in this code -------- \n",
    "def lcs(X, Y, m, n): \n",
    "  \n",
    "    if m == 0 or n == 0: \n",
    "        return 0; \n",
    "    elif X[m-1] == Y[n-1]:  \n",
    "        return 1 + lcs(X, Y, m-1, n-1); \n",
    "    else:\n",
    "        return max(lcs(X, Y, m, n-1), lcs(X, Y, m-1, n)); \n",
    "  \n",
    "  \n",
    "# Driver program to test the above function \n",
    "X = \"AGGTAB\"\n",
    "Y = \"GXTXAYB\"\n",
    "print(\"Length of LCS is \", lcs(X , Y, len(X), len(Y))) \n"
   ]
  },
  {
   "cell_type": "markdown",
   "metadata": {},
   "source": [
    "# Edit distance"
   ]
  },
  {
   "cell_type": "code",
   "execution_count": 5,
   "metadata": {},
   "outputs": [
    {
     "data": {
      "text/plain": [
       "' in this code we are matching the two string and going to make them equal \\nthis is possible by applying following conditions that are \\n1. if last character of two string match we do not change anything and move to (m-1 and n-1)\\n2. else\\n        a. Insert : recurrence for m and n-1\\n        b. Delete : recurrence for m-1 and n\\n        c. Modify : recurrence for m-1 and n-1\\n'"
      ]
     },
     "execution_count": 5,
     "metadata": {},
     "output_type": "execute_result"
    }
   ],
   "source": [
    "''' in this code we are matching the two string and going to make them equal \n",
    "this is possible by applying following conditions that are \n",
    "1. if last character of two string match we do not change anything and move to (m-1 and n-1)\n",
    "2. else\n",
    "        a. Insert : recurrence for m and n-1\n",
    "        b. Delete : recurrence for m-1 and n\n",
    "        c. Modify : recurrence for m-1 and n-1\n",
    "'''"
   ]
  },
  {
   "cell_type": "code",
   "execution_count": 15,
   "metadata": {},
   "outputs": [
    {
     "name": "stdout",
     "output_type": "stream",
     "text": [
      "march\n",
      "cart\n",
      "[[0, 1, 2, 3, 4, 5], [1, 1, 2, 3, 3, 4], [2, 2, 1, 2, 3, 4], [3, 3, 2, 1, 2, 3], [4, 4, 3, 2, 2, 3]]\n",
      "Edit required in string is  3\n"
     ]
    }
   ],
   "source": [
    "str2=input()\n",
    "str1=input()\n",
    "\n",
    "matrix=[]\n",
    "lst1=[]\n",
    "for i in range(len(str1)+1):\n",
    "    lst1=[]\n",
    "    for j in range(len(str2)+1):\n",
    "        if(i==0 and j==0):\n",
    "            lst1.append(j)\n",
    "        elif(i==0):\n",
    "            lst1.append(j)\n",
    "        elif(j==0):\n",
    "            lst1.append(i)\n",
    "        else:\n",
    "            lst1.append(0)\n",
    "        \n",
    "    matrix.append(lst1)\n",
    "\n",
    "for i in range(1,len(str1)+1):\n",
    "    for j in range(1,len(str2)+1):\n",
    "        if(str1[i-1]==str2[j-1]):\n",
    "            matrix[i][j]=matrix[i-1][j-1]\n",
    "        else:\n",
    "            matrix[i][j]=min(matrix[i-1][j],matrix[i][j-1],matrix[i-1][j-1])+1\n",
    "            \n",
    "\n",
    "print(matrix)\n",
    "print(\"Edit required in string is \",matrix[len(str1)][len(str2)])\n",
    "            "
   ]
  },
  {
   "cell_type": "markdown",
   "metadata": {},
   "source": [
    "# Binomial cofficents"
   ]
  },
  {
   "cell_type": "code",
   "execution_count": null,
   "metadata": {},
   "outputs": [],
   "source": [
    "'''\n",
    "C(n,k)=factorial(n)/(factorial(k)*factorial(n-k))\n",
    "\n",
    "Other formula to solve it recurrsivly\n",
    "\n",
    "C(n,k)=C(n-1,k-1)+C(n-1,k) --- until it reaches this condition C(n,0)=C(n,n)=1 \n",
    "\n",
    "'''"
   ]
  },
  {
   "cell_type": "code",
   "execution_count": 18,
   "metadata": {},
   "outputs": [
    {
     "name": "stdout",
     "output_type": "stream",
     "text": [
      "4\n",
      "2\n"
     ]
    },
    {
     "data": {
      "text/plain": [
       "6"
      ]
     },
     "execution_count": 18,
     "metadata": {},
     "output_type": "execute_result"
    }
   ],
   "source": [
    "def binomial_function(n,k):\n",
    "    if(k==0 or k==n):\n",
    "        return 1\n",
    "    else:\n",
    "        return binomial_function(n-1,k-1)+binomial_function(n-1,k)\n",
    "\n",
    "n=int(input())\n",
    "k=int(input())\n",
    "binomial_function(n,k)\n",
    "\n",
    "# Values are getting overlap in this as we can visulatise it in tree\n"
   ]
  },
  {
   "cell_type": "code",
   "execution_count": 9,
   "metadata": {},
   "outputs": [
    {
     "name": "stdout",
     "output_type": "stream",
     "text": [
      "5\n",
      "4\n",
      "VALUE is ->  5\n"
     ]
    }
   ],
   "source": [
    "# Now using Dynamic programming Using 2D matrix\n",
    " \n",
    "n=int(input())\n",
    "k=int(input())\n",
    "matrix=[]\n",
    "lst=[]\n",
    "matrix=[[None]*(k+1) for i in range(n+1)]\n",
    "i=0\n",
    "for i in range(n+1):\n",
    "    j=0\n",
    "    while(j<=min(i,k)):\n",
    "        if(j==0 or j==i):\n",
    "            #print(i,j)\n",
    "            matrix[i][j]=1\n",
    "        else:\n",
    "            #print(\"---- \",i,j)\n",
    "            matrix[i][j]=matrix[i-1][j-1]+matrix[i-1][j]\n",
    "        j=j+1\n",
    "            \n",
    "print(\"VALUE is -> \",matrix[n][k])           \n",
    "    "
   ]
  },
  {
   "cell_type": "code",
   "execution_count": 10,
   "metadata": {},
   "outputs": [],
   "source": [
    "''' In above values are repeating so we use another method in which we will use previous values\n",
    "We use now one dimenshion array not 2D matrix'''\n"
   ]
  },
  {
   "cell_type": "code",
   "execution_count": 15,
   "metadata": {},
   "outputs": [
    {
     "name": "stdout",
     "output_type": "stream",
     "text": [
      "4\n",
      "2\n",
      "6\n"
     ]
    }
   ],
   "source": [
    "n=int(input())\n",
    "k=int(input())\n",
    "lst=[]\n",
    "for i in range(k+1):\n",
    "    lst.append(0)\n",
    "lst[0]=1\n",
    "for i in range(n+1):\n",
    "    j=min(i,k)\n",
    "    while(j>0):\n",
    "        lst[j]=lst[j]+lst[j-1]\n",
    "        j=j-1\n",
    "        \n",
    "print(\"VAlue is -> \",lst[k])\n",
    "        \n"
   ]
  },
  {
   "cell_type": "markdown",
   "metadata": {},
   "source": [
    "# 0-1 Kanpsack Problem"
   ]
  },
  {
   "cell_type": "code",
   "execution_count": 16,
   "metadata": {},
   "outputs": [
    {
     "data": {
      "text/plain": [
       "'\\nvalue=[60,100,120]\\nweight=[10,20,30]\\nW=50\\nPossible solutions\\n10+20+30 > 50\\nso we cant use 3 of them\\nso we will use combination\\nas \\n20+10=100+60=160\\n30+10=120+60=180\\n30+20=120+100=220\\n\\nMax is 220 so ans..\\n\\n'"
      ]
     },
     "execution_count": 16,
     "metadata": {},
     "output_type": "execute_result"
    }
   ],
   "source": [
    "'''\n",
    "value=[60,100,120]\n",
    "weight=[10,20,30]\n",
    "W=50\n",
    "Possible solutions\n",
    "10+20+30 > 50\n",
    "so we cant use 3 of them\n",
    "so we will use combination\n",
    "as \n",
    "20+10=100+60=160\n",
    "30+10=120+60=180\n",
    "30+20=120+100=220\n",
    "\n",
    "Max is 220 so ans..\n",
    "\n",
    "'''"
   ]
  },
  {
   "cell_type": "code",
   "execution_count": 1,
   "metadata": {},
   "outputs": [
    {
     "data": {
      "text/plain": [
       "'This can be done using recurrcive solution but we do not as \\nalways items get repeated in left and right tree\\nso to avoid it we are using dynamic solution'"
      ]
     },
     "execution_count": 1,
     "metadata": {},
     "output_type": "execute_result"
    }
   ],
   "source": [
    "'''This can be done using recurrcive solution but we do not as \n",
    "always items get repeated in left and right tree\n",
    "so to avoid it we are using dynamic solution'''"
   ]
  },
  {
   "cell_type": "code",
   "execution_count": 8,
   "metadata": {},
   "outputs": [
    {
     "name": "stdout",
     "output_type": "stream",
     "text": [
      "60 100 120\n",
      "10 20 30\n",
      "50\n",
      "[[0, 0, 0, 0, 0, 0, 0, 0, 0, 0, 0, 0, 0, 0, 0, 0, 0, 0, 0, 0, 0, 0, 0, 0, 0, 0, 0, 0, 0, 0, 0, 0, 0, 0, 0, 0, 0, 0, 0, 0, 0, 0, 0, 0, 0, 0, 0, 0, 0, 0, 0], [0, 0, 0, 0, 0, 0, 0, 0, 0, 0, 60, 60, 60, 60, 60, 60, 60, 60, 60, 60, 60, 60, 60, 60, 60, 60, 60, 60, 60, 60, 60, 60, 60, 60, 60, 60, 60, 60, 60, 60, 60, 60, 60, 60, 60, 60, 60, 60, 60, 60, 60], [0, 0, 0, 0, 0, 0, 0, 0, 0, 0, 60, 60, 60, 60, 60, 60, 60, 60, 60, 60, 100, 100, 100, 100, 100, 100, 100, 100, 100, 100, 160, 160, 160, 160, 160, 160, 160, 160, 160, 160, 160, 160, 160, 160, 160, 160, 160, 160, 160, 160, 160], [0, 0, 0, 0, 0, 0, 0, 0, 0, 0, 60, 60, 60, 60, 60, 60, 60, 60, 60, 60, 100, 100, 100, 100, 100, 100, 100, 100, 100, 100, 160, 160, 160, 160, 160, 160, 160, 160, 160, 160, 180, 180, 180, 180, 180, 180, 180, 180, 180, 180, 220]]\n"
     ]
    }
   ],
   "source": [
    "val=list(map(int,input().split()))\n",
    "wt=list(map(int,input().split()))\n",
    "W=int(input())\n",
    "n=len(wt)\n",
    "K=[[None]*(W+1) for i in range(n+1)]\n",
    "\n",
    "for i in range(n+1):\n",
    "    for j in range(W+1):\n",
    "        if(i==0 or j==0):\n",
    "            K[i][j]=0\n",
    "        elif(wt[i-1]<=j):\n",
    "            K[i][j]=max(val[i-1]+K[i-1][j-wt[i-1]],K[i-1][j])\n",
    "        else:\n",
    "            K[i][j]=K[i-1][j]\n",
    "\n",
    "        \n",
    "print(K)"
   ]
  },
  {
   "cell_type": "code",
   "execution_count": 7,
   "metadata": {},
   "outputs": [
    {
     "name": "stdout",
     "output_type": "stream",
     "text": [
      "[[0, 0, 0, 0, 0, 0, 0, 0, 0, 0, 0, 0, 0, 0, 0, 0, 0, 0, 0, 0, 0, 0, 0, 0, 0, 0, 0, 0, 0, 0, 0, 0, 0, 0, 0, 0, 0, 0, 0, 0, 0, 0, 0, 0, 0, 0, 0, 0, 0, 0, 0], [0, 60, 60, 60, 60, 60, 60, 60, 60, 60, 60, 60, 60, 60, 60, 60, 60, 60, 60, 60, 60, 60, 60, 60, 60, 60, 60, 60, 60, 60, 60, 60, 60, 60, 60, 60, 60, 60, 60, 60, 60, 60, 60, 60, 60, 60, 60, 60, 60, 60, 60], [0, 160, 160, 160, 160, 160, 160, 160, 160, 160, 160, 160, 160, 160, 160, 160, 160, 160, 160, 160, 160, 160, 160, 160, 160, 160, 160, 160, 160, 160, 160, 160, 160, 160, 160, 160, 160, 160, 160, 160, 160, 160, 160, 160, 160, 160, 160, 160, 160, 160, 160], [0, 280, 280, 280, 280, 280, 280, 280, 280, 280, 280, 280, 280, 280, 280, 280, 280, 280, 280, 280, 280, 280, 280, 280, 280, 280, 280, 280, 280, 280, 280, 280, 280, 280, 280, 280, 280, 280, 280, 280, 280, 280, 280, 280, 280, 280, 280, 280, 280, 280, 280]]\n"
     ]
    }
   ],
   "source": [
    "print(K)"
   ]
  },
  {
   "cell_type": "code",
   "execution_count": null,
   "metadata": {},
   "outputs": [],
   "source": []
  },
  {
   "cell_type": "code",
   "execution_count": null,
   "metadata": {},
   "outputs": [],
   "source": []
  },
  {
   "cell_type": "code",
   "execution_count": 3,
   "metadata": {},
   "outputs": [
    {
     "name": "stdout",
     "output_type": "stream",
     "text": [
      "3 SE\n"
     ]
    }
   ],
   "source": [
    "\n",
    "try:\n",
    "    li=[[None for i in range(50)]for j in range(50)]\n",
    "    while(True):\n",
    "        path=list(map(str,input().split()))\n",
    "        if(path[0]=='x'):\n",
    "            li[row][col]='x'\n",
    "            break\n",
    "            \n",
    "        step=int(path[0])\n",
    "        di=path[1]\n",
    "        \n",
    "        if(di=='E'):\n",
    "            for i in range(current+1,current+1+step):\n",
    "                li[row][i]='-'\n",
    "            current=i\n",
    "        if(di=='W'):\n",
    "            for i in range(current,current-step,-1):\n",
    "                li[row][i]='-'\n",
    "            current=i\n",
    "        if(di=='S'):\n",
    "            for i in range(current+1,current+1+step):\n",
    "                li[i][col]='|'\n",
    "            current=i\n",
    "        if(di=='N'):\n",
    "            for i in range(current-1,current-1-step,-1):\n",
    "                li[i][col]='|'\n",
    "            current=i\n",
    "        if(di=='NW'):\n",
    "            for i in range(current+1,current+1+step):\n",
    "                li[row-i][col-i]=\"'\\'\"\n",
    "            current=i\n",
    "    \n",
    "        if(di=='SW'):\n",
    "            for i in range(current+1,current+1+step):\n",
    "                li[row+i][col-i]=\"/\"\n",
    "            current=i\n",
    "        if(di=='NE'):\n",
    "            for i in range(current+1,current+1+step):\n",
    "                li[row-i][col+i]='/'\n",
    "            current=i\n",
    "        if(di=='SE'):\n",
    "            for i in range(current+1,current+1+step):\n",
    "                li[row+i][col-i]=\"'\\'\"\n",
    "            current=i\n",
    "        \n",
    "    for i in range(50):\n",
    "        for j in range(50):\n",
    "            print(li[i][j],end='')\n",
    "        print()\n",
    "except:\n",
    "    pass"
   ]
  },
  {
   "cell_type": "code",
   "execution_count": null,
   "metadata": {},
   "outputs": [],
   "source": []
  },
  {
   "cell_type": "code",
   "execution_count": null,
   "metadata": {},
   "outputs": [],
   "source": []
  }
 ],
 "metadata": {
  "kernelspec": {
   "display_name": "Python 3",
   "language": "python",
   "name": "python3"
  },
  "language_info": {
   "codemirror_mode": {
    "name": "ipython",
    "version": 3
   },
   "file_extension": ".py",
   "mimetype": "text/x-python",
   "name": "python",
   "nbconvert_exporter": "python",
   "pygments_lexer": "ipython3",
   "version": "3.6.9"
  }
 },
 "nbformat": 4,
 "nbformat_minor": 2
}

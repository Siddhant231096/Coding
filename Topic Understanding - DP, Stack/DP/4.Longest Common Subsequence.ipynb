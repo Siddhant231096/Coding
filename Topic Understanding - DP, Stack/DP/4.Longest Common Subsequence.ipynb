{
 "cells": [
  {
   "cell_type": "markdown",
   "metadata": {},
   "source": [
    "# 1. LCS - https://www.geeksforgeeks.org/longest-common-subsequence-dp-4/"
   ]
  },
  {
   "cell_type": "code",
   "execution_count": 5,
   "metadata": {},
   "outputs": [
    {
     "name": "stdout",
     "output_type": "stream",
     "text": [
      "AEDFHR\n",
      "ABCDGH\n",
      "3\n"
     ]
    }
   ],
   "source": [
    "x=input()\n",
    "y=input()\n",
    "n=len(x)\n",
    "m=len(y)\n",
    "t=[[None for i in range(m+1)]for j in range(n+1)]\n",
    "for i in range(n+1):\n",
    "    for j in range(m+1):\n",
    "        if(i==0 or j==0):\n",
    "            t[i][j]=0\n",
    "for i in range(1,n+1):\n",
    "    for j in range(1,m+1):\n",
    "        if(x[i-1]==y[j-1]):\n",
    "            t[i][j]=1+t[i-1][j-1]\n",
    "        else:\n",
    "            t[i][j]=max(t[i][j-1],t[i-1][j])\n",
    "print(t[n][m])"
   ]
  },
  {
   "cell_type": "markdown",
   "metadata": {},
   "source": [
    "# 2. Longest Common Substring -- https://www.geeksforgeeks.org/longest-common-substring-dp-29/"
   ]
  },
  {
   "cell_type": "markdown",
   "metadata": {},
   "source": [
    "### same as above problem but here only change is we have to calculate maximum out of every continuous substring"
   ]
  },
  {
   "cell_type": "code",
   "execution_count": 7,
   "metadata": {},
   "outputs": [
    {
     "name": "stdout",
     "output_type": "stream",
     "text": [
      "GeeksforGeeks\n",
      "GeeksQuiz\n",
      "5\n"
     ]
    }
   ],
   "source": [
    "x=input()\n",
    "y=input()\n",
    "n=len(x)\n",
    "m=len(y)\n",
    "t=[[None for i in range(m+1)]for j in range(n+1)]\n",
    "for i in range(n+1):\n",
    "    for j in range(m+1):\n",
    "        if(i==0 or j==0):\n",
    "            t[i][j]=0\n",
    "count=0\n",
    "for i in range(1,n+1):\n",
    "    for j in range(1,m+1):\n",
    "        if(x[i-1]==y[j-1]):\n",
    "            t[i][j]=1+t[i-1][j-1]\n",
    "            count=max(count,t[i][j])\n",
    "        else:\n",
    "            t[i][j]=0\n",
    "print(count)"
   ]
  },
  {
   "cell_type": "markdown",
   "metadata": {},
   "source": [
    "# 3. Print LCS String - https://www.geeksforgeeks.org/printing-longest-common-subsequence/"
   ]
  },
  {
   "cell_type": "code",
   "execution_count": 2,
   "metadata": {},
   "outputs": [
    {
     "name": "stdout",
     "output_type": "stream",
     "text": [
      "AEDFHR\n",
      "ABCDGH\n",
      "3\n",
      "ADH\n"
     ]
    }
   ],
   "source": [
    "x=input()\n",
    "y=input()\n",
    "n=len(x)\n",
    "m=len(y)\n",
    "t=[[None for i in range(m+1)]for j in range(n+1)]\n",
    "for i in range(n+1):\n",
    "    for j in range(m+1):\n",
    "        if(i==0 or j==0):\n",
    "            t[i][j]=0\n",
    "for i in range(1,n+1):\n",
    "    for j in range(1,m+1):\n",
    "        if(x[i-1]==y[j-1]):\n",
    "            t[i][j]=1+t[i-1][j-1]\n",
    "        else:\n",
    "            t[i][j]=max(t[i][j-1],t[i-1][j])\n",
    "print(t[n][m])\n",
    "i=n\n",
    "j=m\n",
    "s=''\n",
    "while(i>0 and j>0):\n",
    "    if(x[i-1] == y[j-1]):\n",
    "        s=s+x[i-1]\n",
    "        i=i-1\n",
    "        j=j-1\n",
    "    else:\n",
    "        if(t[i-1][j]>t[i][j-1]):\n",
    "            i=i-1\n",
    "        else:\n",
    "            j=j-1\n",
    "print(s[::-1])"
   ]
  },
  {
   "cell_type": "markdown",
   "metadata": {},
   "source": [
    "# 4.Shortest Common Supersequence -- https://www.geeksforgeeks.org/shortest-common-supersequence/"
   ]
  },
  {
   "cell_type": "markdown",
   "metadata": {},
   "source": [
    "### we have to find the shortest length of the of the supersquence -- explanation in copy -- so we will find length of LCS and subtract it from total length of both the string"
   ]
  },
  {
   "cell_type": "code",
   "execution_count": 5,
   "metadata": {},
   "outputs": [
    {
     "name": "stdout",
     "output_type": "stream",
     "text": [
      "aggtab\n",
      "gxtxayb\n",
      "9\n"
     ]
    }
   ],
   "source": [
    "x=input()\n",
    "y=input()\n",
    "n=len(x)\n",
    "m=len(y)\n",
    "t=[[None for i in range(m+1)]for j in range(n+1)]\n",
    "for i in range(n+1):\n",
    "    for j in range(m+1):\n",
    "        if(i==0 or j==0):\n",
    "            t[i][j]=0\n",
    "for i in range(1,n+1):\n",
    "    for j in range(1,m+1):\n",
    "        if(x[i-1]==y[j-1]):\n",
    "            t[i][j]=1+t[i-1][j-1]\n",
    "        else:\n",
    "            t[i][j]=max(t[i][j-1],t[i-1][j])\n",
    "length_LCS=t[n][m]\n",
    "print(len(x)+len(y)-length_LCS)"
   ]
  },
  {
   "cell_type": "markdown",
   "metadata": {},
   "source": [
    "# 5. Minimum number of deletion and insertion took place to make string a --> to --> string b -- https://www.geeksforgeeks.org/minimum-number-deletions-insertions-transform-one-string-another/ "
   ]
  },
  {
   "cell_type": "markdown",
   "metadata": {},
   "source": [
    "### for detail regariding this refer notes\n"
   ]
  },
  {
   "cell_type": "code",
   "execution_count": 11,
   "metadata": {},
   "outputs": [
    {
     "name": "stdout",
     "output_type": "stream",
     "text": [
      "heap\n",
      "pea\n",
      "Deletion -  2\n",
      "Insertion -  1\n",
      "to make -  heap  into  pea\n"
     ]
    }
   ],
   "source": [
    "x=input()\n",
    "y=input()\n",
    "n=len(x)\n",
    "m=len(y)\n",
    "t=[[None for i in range(m+1)]for j in range(n+1)]\n",
    "for i in range(n+1):\n",
    "    for j in range(m+1):\n",
    "        if(i==0 or j==0):\n",
    "            t[i][j]=0\n",
    "for i in range(1,n+1):\n",
    "    for j in range(1,m+1):\n",
    "        if(x[i-1]==y[j-1]):\n",
    "            t[i][j]=1+t[i-1][j-1]\n",
    "        else:\n",
    "            t[i][j]=max(t[i][j-1],t[i-1][j])\n",
    "length_LCS=t[n][m]\n",
    "print('Deletion - ',(len(x)-length_LCS))\n",
    "print('Insertion - ',(len(y)-length_LCS))\n",
    "print('to make - ',x,' into ',y)"
   ]
  },
  {
   "cell_type": "markdown",
   "metadata": {},
   "source": [
    "# 6.Largest Palindrominc Subsequence -- https://www.geeksforgeeks.org/longest-palindromic-subsequence-dp-12/"
   ]
  },
  {
   "cell_type": "code",
   "execution_count": null,
   "metadata": {},
   "outputs": [],
   "source": [
    "x=input()\n",
    "y=x[::-1]\n",
    "n=len(x)\n",
    "t=[[None for i in range(n+1)]for j in range(n+1)]\n",
    "for i in range(n+1):\n",
    "    for j in range(n+1):\n",
    "        if(i==0 or j==0):\n",
    "            t[i][j]=0\n",
    "for i in range(1,n+1):\n",
    "    for j in range(1,n+1):\n",
    "        if(x[i-1]==y[j-1]):\n",
    "            t[i][j]=1+t[i-1][j-1]\n",
    "        else:\n",
    "            t[i][j]=max(t[i][j-1],t[i-1][j])\n",
    "print(t[n][n])"
   ]
  },
  {
   "cell_type": "markdown",
   "metadata": {},
   "source": [
    "# 7.Minimum number of deletions to make a string palindrome -- https://www.geeksforgeeks.org/minimum-number-deletions-make-string-palindrome/ "
   ]
  },
  {
   "cell_type": "markdown",
   "metadata": {},
   "source": [
    "### same as 6th problem we have to find longest palindromic subsequence and then subtract its length with total length"
   ]
  },
  {
   "cell_type": "code",
   "execution_count": 3,
   "metadata": {},
   "outputs": [
    {
     "name": "stdout",
     "output_type": "stream",
     "text": [
      "geeksforgeeks\n",
      "No. of deletion are -  8\n"
     ]
    }
   ],
   "source": [
    "x=input()\n",
    "y=x[::-1]\n",
    "n=len(x)\n",
    "t=[[None for i in range(n+1)]for j in range(n+1)]\n",
    "for i in range(n+1):\n",
    "    for j in range(n+1):\n",
    "        if(i==0 or j==0):\n",
    "            t[i][j]=0\n",
    "for i in range(1,n+1):\n",
    "    for j in range(1,n+1):\n",
    "        if(x[i-1]==y[j-1]):\n",
    "            t[i][j]=1+t[i-1][j-1]\n",
    "        else:\n",
    "            t[i][j]=max(t[i][j-1],t[i-1][j])\n",
    "print('No. of deletion are - ',len(x)-t[n][n])"
   ]
  },
  {
   "cell_type": "markdown",
   "metadata": {},
   "source": [
    "# 8.Printing Shortest Common Supersequence -- https://www.geeksforgeeks.org/print-shortest-common-supersequence/"
   ]
  },
  {
   "cell_type": "markdown",
   "metadata": {},
   "source": [
    "### To print the 4rd problem"
   ]
  },
  {
   "cell_type": "code",
   "execution_count": 4,
   "metadata": {},
   "outputs": [
    {
     "name": "stdout",
     "output_type": "stream",
     "text": [
      "aggtab\n",
      "gxtxayb\n",
      "LCS length - 4\n",
      "SuperSequence -  aggxtxayb\n"
     ]
    }
   ],
   "source": [
    "x=input()\n",
    "y=input()\n",
    "n=len(x)\n",
    "m=len(y)\n",
    "t=[[None for i in range(m+1)]for j in range(n+1)]\n",
    "for i in range(n+1):\n",
    "    for j in range(m+1):\n",
    "        if(i==0 or j==0):\n",
    "            t[i][j]=0\n",
    "for i in range(1,n+1):\n",
    "    for j in range(1,m+1):\n",
    "        if(x[i-1]==y[j-1]):\n",
    "            t[i][j]=1+t[i-1][j-1]\n",
    "        else:\n",
    "            t[i][j]=max(t[i][j-1],t[i-1][j])\n",
    "print(\"LCS length -\",t[n][m])\n",
    "i=n\n",
    "j=m\n",
    "s=''\n",
    "while(i>0 and j>0):\n",
    "    if(x[i-1] == y[j-1]):\n",
    "        s=s+x[i-1]\n",
    "        i=i-1\n",
    "        j=j-1\n",
    "    else:\n",
    "        if(t[i-1][j]>t[i][j-1]):\n",
    "            s=s+x[i-1]\n",
    "            i=i-1\n",
    "            \n",
    "        else:\n",
    "            s=s+y[j-1]\n",
    "            j=j-1\n",
    "while(i>0):\n",
    "    s=s+x[i-1]\n",
    "    i=i-1\n",
    "while(j>0):\n",
    "    s=s+y[j-1]\n",
    "    j=j-1\n",
    "print(\"SuperSequence - \",s[::-1])"
   ]
  },
  {
   "cell_type": "markdown",
   "metadata": {},
   "source": [
    "# 9.Longest Repeated Subsequence -- https://www.geeksforgeeks.org/longest-repeated-subsequence/"
   ]
  },
  {
   "cell_type": "markdown",
   "metadata": {},
   "source": [
    "### same as print of LCS but have to remeber that not to match when i==j "
   ]
  },
  {
   "cell_type": "code",
   "execution_count": 9,
   "metadata": {},
   "outputs": [
    {
     "name": "stdout",
     "output_type": "stream",
     "text": [
      "aabb\n",
      "2\n",
      "ab\n"
     ]
    }
   ],
   "source": [
    "x=input()\n",
    "y=x\n",
    "n=len(x)\n",
    "m=len(y)\n",
    "t=[[None for i in range(m+1)]for j in range(n+1)]\n",
    "for i in range(n+1):\n",
    "    for j in range(m+1):\n",
    "        if(i==0 or j==0):\n",
    "            t[i][j]=0\n",
    "for i in range(1,n+1):\n",
    "    for j in range(1,m+1):\n",
    "        if(x[i-1]==y[j-1] and i!=j):\n",
    "            t[i][j]=1+t[i-1][j-1]\n",
    "        else:\n",
    "            t[i][j]=max(t[i][j-1],t[i-1][j])\n",
    "print(t[n][m])\n",
    "i=n\n",
    "j=m\n",
    "s=''\n",
    "while(i>0 and j>0):\n",
    "    if(x[i-1] == y[j-1] and i!=j):\n",
    "        s=s+x[i-1]\n",
    "        i=i-1\n",
    "        j=j-1\n",
    "    else:\n",
    "        if(t[i-1][j]>t[i][j-1]):\n",
    "            i=i-1\n",
    "        else:\n",
    "            j=j-1\n",
    "print(s[::-1])"
   ]
  },
  {
   "cell_type": "markdown",
   "metadata": {},
   "source": [
    "## 10 is easy please refer to notes as it is LCS only or we can solve it in smaller way too "
   ]
  },
  {
   "cell_type": "markdown",
   "metadata": {},
   "source": [
    "# 11.Minimum number of insertion to make a string palindrome -- https://www.geeksforgeeks.org/minimum-insertions-to-form-a-palindrome-dp-28/"
   ]
  },
  {
   "cell_type": "markdown",
   "metadata": {},
   "source": [
    "### same as deletion 7 problem  -- for detail refer to notes"
   ]
  },
  {
   "cell_type": "code",
   "execution_count": 10,
   "metadata": {},
   "outputs": [
    {
     "name": "stdout",
     "output_type": "stream",
     "text": [
      "ab\n",
      "No. of insertion are -  1\n"
     ]
    }
   ],
   "source": [
    "x=input()\n",
    "y=x[::-1]\n",
    "n=len(x)\n",
    "t=[[None for i in range(n+1)]for j in range(n+1)]\n",
    "for i in range(n+1):\n",
    "    for j in range(n+1):\n",
    "        if(i==0 or j==0):\n",
    "            t[i][j]=0\n",
    "for i in range(1,n+1):\n",
    "    for j in range(1,n+1):\n",
    "        if(x[i-1]==y[j-1]):\n",
    "            t[i][j]=1+t[i-1][j-1]\n",
    "        else:\n",
    "            t[i][j]=max(t[i][j-1],t[i-1][j])\n",
    "print('No. of insertion are - ',len(x)-t[n][n])"
   ]
  },
  {
   "cell_type": "code",
   "execution_count": null,
   "metadata": {},
   "outputs": [],
   "source": []
  }
 ],
 "metadata": {
  "kernelspec": {
   "display_name": "Python 3",
   "language": "python",
   "name": "python3"
  },
  "language_info": {
   "codemirror_mode": {
    "name": "ipython",
    "version": 3
   },
   "file_extension": ".py",
   "mimetype": "text/x-python",
   "name": "python",
   "nbconvert_exporter": "python",
   "pygments_lexer": "ipython3",
   "version": "3.6.4"
  }
 },
 "nbformat": 4,
 "nbformat_minor": 2
}

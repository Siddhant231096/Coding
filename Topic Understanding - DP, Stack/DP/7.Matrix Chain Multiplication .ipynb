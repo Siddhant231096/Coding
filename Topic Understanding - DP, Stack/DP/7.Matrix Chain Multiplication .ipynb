{
 "cells": [
  {
   "cell_type": "markdown",
   "metadata": {},
   "source": [
    "# 1. Matrix Chain Multiplication - https://www.geeksforgeeks.org/matrix-chain-multiplication-dp-8/"
   ]
  },
  {
   "cell_type": "markdown",
   "metadata": {},
   "source": [
    "### Recursive code"
   ]
  },
  {
   "cell_type": "code",
   "execution_count": 27,
   "metadata": {},
   "outputs": [
    {
     "name": "stdout",
     "output_type": "stream",
     "text": [
      "10 20 30 40 30\n",
      "30000\n"
     ]
    }
   ],
   "source": [
    "import sys\n",
    "#mini=10**8\n",
    "def solve(arr,i,j):\n",
    "    mini = sys.maxsize\n",
    "#     print(mini)\n",
    "    if(i>=j):\n",
    "        return 0\n",
    "    \n",
    "    for k in range(i,j):\n",
    "        tempans=(solve(arr,i,k)\n",
    "        +solve(arr,k+1,j)\n",
    "        +(arr[i-1]*arr[k]*arr[j]))\n",
    "        \n",
    "#         print(tempans)\n",
    "        \n",
    "        if(mini>tempans):\n",
    "            mini=tempans\n",
    "    \n",
    "    return mini\n",
    "\n",
    "arr=list(map(int,input().split()))\n",
    "n=len(arr)\n",
    "print(solve(arr,1,n-1))"
   ]
  },
  {
   "cell_type": "markdown",
   "metadata": {},
   "source": [
    "### Memorization "
   ]
  },
  {
   "cell_type": "code",
   "execution_count": 26,
   "metadata": {},
   "outputs": [
    {
     "name": "stdout",
     "output_type": "stream",
     "text": [
      "10 20 30 40 30\n",
      "30000\n"
     ]
    }
   ],
   "source": [
    "import sys\n",
    "#mini=10**8\n",
    "def solve(arr,i,j):\n",
    "    mini = sys.maxsize\n",
    "    \n",
    "    if(i>=j):\n",
    "        return 0\n",
    "    \n",
    "    if(t[i][j]!=-1):\n",
    "        return t[i][j]\n",
    "    \n",
    "    for k in range(i,j):\n",
    "        tempans=(solve(arr,i,k)\n",
    "        +solve(arr,k+1,j)\n",
    "        +(arr[i-1]*arr[k]*arr[j]))\n",
    "        \n",
    "        if(mini>tempans):\n",
    "            mini=tempans\n",
    "    \n",
    "    t[i][j]=mini\n",
    "    return t[i][j]\n",
    "\n",
    "arr=list(map(int,input().split()))\n",
    "n=len(arr)\n",
    "t=[[-1 for i in range(1001)]for j in range(1001)]\n",
    "print(solve(arr,1,n-1))"
   ]
  },
  {
   "cell_type": "code",
   "execution_count": null,
   "metadata": {},
   "outputs": [],
   "source": []
  },
  {
   "cell_type": "code",
   "execution_count": 34,
   "metadata": {},
   "outputs": [],
   "source": [
    "a='a b  c'\n",
    "b=a.split(' ')"
   ]
  },
  {
   "cell_type": "code",
   "execution_count": 35,
   "metadata": {},
   "outputs": [
    {
     "data": {
      "text/plain": [
       "['a', 'b', '', 'c']"
      ]
     },
     "execution_count": 35,
     "metadata": {},
     "output_type": "execute_result"
    }
   ],
   "source": [
    "b"
   ]
  },
  {
   "cell_type": "code",
   "execution_count": 36,
   "metadata": {},
   "outputs": [],
   "source": [
    "string='hello'\n",
    "for i in range(1,9):\n",
    "    tt=string+str(i)\n",
    "    tt=0"
   ]
  },
  {
   "cell_type": "code",
   "execution_count": null,
   "metadata": {},
   "outputs": [],
   "source": []
  },
  {
   "cell_type": "markdown",
   "metadata": {},
   "source": [
    "# 2. Palindrome Partitioning - https://www.geeksforgeeks.org/palindrome-partitioning-dp-17/"
   ]
  },
  {
   "cell_type": "markdown",
   "metadata": {},
   "source": [
    "### Recursive code"
   ]
  },
  {
   "cell_type": "code",
   "execution_count": 4,
   "metadata": {},
   "outputs": [
    {
     "name": "stdout",
     "output_type": "stream",
     "text": [
      "ababbbabbababa\n",
      "3\n"
     ]
    }
   ],
   "source": [
    "import sys\n",
    "def isPalindrome(s,i,j):\n",
    "    ss=s[i:j+1]\n",
    "    if(ss==ss[::-1]):\n",
    "        return True\n",
    "    else:\n",
    "        return False\n",
    "\n",
    "def solve(s,i,j):\n",
    "    mini = sys.maxsize\n",
    "    if(i>=j):\n",
    "        return 0\n",
    "    if(isPalindrome(s,i,j)):\n",
    "        return 0\n",
    "    for k in range(i,j):\n",
    "        temp=1+solve(s,i,k)+solve(s,k+1,j)\n",
    "        if(temp<mini):\n",
    "            mini=temp\n",
    "    return mini\n",
    "\n",
    "\n",
    "string=input()\n",
    "print(solve(string,0,len(string)-1))"
   ]
  },
  {
   "cell_type": "markdown",
   "metadata": {},
   "source": [
    "### Memorization"
   ]
  },
  {
   "cell_type": "code",
   "execution_count": 5,
   "metadata": {},
   "outputs": [
    {
     "name": "stdout",
     "output_type": "stream",
     "text": [
      "ababbbabbababa\n",
      "3\n"
     ]
    }
   ],
   "source": [
    "import sys\n",
    "def isPalindrome(s,i,j):\n",
    "    ss=s[i:j+1]\n",
    "    if(ss==ss[::-1]):\n",
    "        return True\n",
    "    else:\n",
    "        return False\n",
    "\n",
    "def solve(s,i,j):\n",
    "    mini = sys.maxsize\n",
    "    if(i>=j):\n",
    "        return 0\n",
    "    if(isPalindrome(s,i,j)):\n",
    "        return 0\n",
    "    if(t[i][j]!=-1):\n",
    "        return t[i][j]\n",
    "    \n",
    "    for k in range(i,j):\n",
    "        temp=1+solve(s,i,k)+solve(s,k+1,j)\n",
    "        if(temp<mini):\n",
    "            mini=temp\n",
    "    t[i][j]=mini\n",
    "    return mini\n",
    "\n",
    "\n",
    "string=input()\n",
    "t=[[-1 for i in range(1001)]for j in range(1001)]\n",
    "print(solve(string,0,len(string)-1))"
   ]
  },
  {
   "cell_type": "markdown",
   "metadata": {},
   "source": [
    "### Optimized"
   ]
  },
  {
   "cell_type": "code",
   "execution_count": 6,
   "metadata": {},
   "outputs": [
    {
     "name": "stdout",
     "output_type": "stream",
     "text": [
      "ababbbabbababa\n",
      "3\n"
     ]
    }
   ],
   "source": [
    "import sys\n",
    "def isPalindrome(s,i,j):\n",
    "    ss=s[i:j+1]\n",
    "    if(ss==ss[::-1]):\n",
    "        return True\n",
    "    else:\n",
    "        return False\n",
    "\n",
    "def solve(s,i,j):\n",
    "    mini = sys.maxsize\n",
    "    if(i>=j):\n",
    "        return 0\n",
    "    if(isPalindrome(s,i,j)):\n",
    "        return 0\n",
    "    if(t[i][j]!=-1):\n",
    "        return t[i][j]\n",
    "    \n",
    "    for k in range(i,j):\n",
    "        if(t[i][k]!=-1):\n",
    "            left=t[i][k]\n",
    "        else:\n",
    "            left=solve(s,i,k)\n",
    "            t[i][k]=left\n",
    "            \n",
    "        if(t[k+1][j]!=-1):\n",
    "            right=t[k+1][j]\n",
    "        else:\n",
    "            right=solve(s,k+1,j)\n",
    "            t[k+1][j]=right    \n",
    "        \n",
    "        temp=1+left+right\n",
    "        if(temp<mini):\n",
    "            mini=temp\n",
    "    t[i][j]=mini\n",
    "    return mini\n",
    "\n",
    "\n",
    "string=input()\n",
    "t=[[-1 for i in range(1001)]for j in range(1001)]\n",
    "print(solve(string,0,len(string)-1))"
   ]
  },
  {
   "cell_type": "markdown",
   "metadata": {},
   "source": [
    "# 3.Evalute expresion to True - https://www.geeksforgeeks.org/boolean-parenthesization-problem-dp-37/"
   ]
  },
  {
   "cell_type": "markdown",
   "metadata": {},
   "source": [
    "## Solve it letter "
   ]
  },
  {
   "cell_type": "code",
   "execution_count": null,
   "metadata": {},
   "outputs": [],
   "source": []
  }
 ],
 "metadata": {
  "kernelspec": {
   "display_name": "Python 3",
   "language": "python",
   "name": "python3"
  },
  "language_info": {
   "codemirror_mode": {
    "name": "ipython",
    "version": 3
   },
   "file_extension": ".py",
   "mimetype": "text/x-python",
   "name": "python",
   "nbconvert_exporter": "python",
   "pygments_lexer": "ipython3",
   "version": "3.7.5"
  }
 },
 "nbformat": 4,
 "nbformat_minor": 2
}

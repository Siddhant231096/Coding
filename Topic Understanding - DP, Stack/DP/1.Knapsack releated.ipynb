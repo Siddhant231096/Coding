{
 "cells": [
  {
   "cell_type": "markdown",
   "metadata": {},
   "source": [
    "# 1. Subset Sum - https://www.geeksforgeeks.org/subset-sum-problem-dp-25/"
   ]
  },
  {
   "cell_type": "code",
   "execution_count": 20,
   "metadata": {},
   "outputs": [
    {
     "name": "stdout",
     "output_type": "stream",
     "text": [
      "3 34 4 12 5 2\n",
      "30\n"
     ]
    }
   ],
   "source": [
    "arr=list(map(int,input().split()))\n",
    "n=len(arr)\n",
    "total=int(input())\n",
    "t=[[None for i in range(total+1)]for j in range(n+1)]\n"
   ]
  },
  {
   "cell_type": "code",
   "execution_count": 21,
   "metadata": {},
   "outputs": [],
   "source": [
    "for i in range(n+1):\n",
    "    for j in range(total+1):\n",
    "        if(j==0):\n",
    "            t[i][j]=True\n",
    "        if(i==0):\n",
    "            t[i][j]=False"
   ]
  },
  {
   "cell_type": "code",
   "execution_count": 22,
   "metadata": {},
   "outputs": [],
   "source": [
    "t[0][0]=True"
   ]
  },
  {
   "cell_type": "code",
   "execution_count": 24,
   "metadata": {},
   "outputs": [
    {
     "name": "stdout",
     "output_type": "stream",
     "text": [
      "False\n"
     ]
    }
   ],
   "source": [
    "for i in range(1,n+1):\n",
    "    for j in range(1,total+1):\n",
    "        if(arr[i-1]<=j):\n",
    "            t[i][j]=(t[i-1][j-arr[i-1]] or t[i-1][j])\n",
    "        else:\n",
    "            t[i][j]=t[i-1][j]\n",
    "            \n",
    "print(t[n][total])\n",
    "    "
   ]
  },
  {
   "cell_type": "markdown",
   "metadata": {},
   "source": [
    "# 2.Equal Sum Partition - https://www.geeksforgeeks.org/partition-problem-dp-18/"
   ]
  },
  {
   "cell_type": "code",
   "execution_count": 3,
   "metadata": {},
   "outputs": [
    {
     "name": "stdout",
     "output_type": "stream",
     "text": [
      "1 5 3\n",
      "False\n"
     ]
    }
   ],
   "source": [
    "arr=list(map(int,input().split()))\n",
    "n=len(arr)\n",
    "value=sum(arr)\n",
    "if(value%2==0):\n",
    "    value=value//2\n",
    "    t=[[None for i in range(value+1)]for j in range(n+1)]\n",
    "    for i in range(n+1):\n",
    "        for j in range(value+1):\n",
    "            if(j==0):\n",
    "                t[i][j]=True\n",
    "            if(i==0):\n",
    "                t[i][j]=False\n",
    "    t[0][0]=True\n",
    "    for i in range(1,n+1):\n",
    "        for j in range(1,value+1):\n",
    "            if(arr[i-1]<=j):\n",
    "                t[i][j]=(t[i-1][j-arr[i-1]] or t[i-1][j])\n",
    "            else:\n",
    "                t[i][j]=t[i-1][j]\n",
    "            \n",
    "    print(t[n][v alue])\n",
    "    \n",
    "else:\n",
    "    print(False)"
   ]
  },
  {
   "cell_type": "markdown",
   "metadata": {},
   "source": [
    "# 3.Count of subsets with sum equal to X - https://www.geeksforgeeks.org/count-of-subsets-with-sum-equal-to-x/"
   ]
  },
  {
   "cell_type": "code",
   "execution_count": 5,
   "metadata": {},
   "outputs": [
    {
     "name": "stdout",
     "output_type": "stream",
     "text": [
      "1 2 3 3\n",
      "6\n",
      "3\n"
     ]
    }
   ],
   "source": [
    "arr=list(map(int,input().split()))\n",
    "value=int(input())\n",
    "t=[[None for i in range(value+1)]for j in range(n+1)]\n",
    "for i in range(n+1):\n",
    "    for j in range(value+1):\n",
    "        if(j==0):\n",
    "            t[i][j]=1\n",
    "        if(i==0):\n",
    "            t[i][j]=0\n",
    "t[0][0]=1\n",
    "for i in range(1,n+1):\n",
    "    for j in range(1,value+1):\n",
    "        if(arr[i-1]<=j):\n",
    "            t[i][j]=(t[i-1][j-arr[i-1]] + t[i-1][j])\n",
    "        else:\n",
    "            t[i][j]=t[i-1][j]\n",
    "\n",
    "print(t[n][value])"
   ]
  },
  {
   "cell_type": "markdown",
   "metadata": {},
   "source": [
    "# 4.Partition a set into two subsets such that the difference of subset sums is minimum https://www.geeksforgeeks.org/partition-a-set-into-two-subsets-such-that-the-difference-of-subset-sums-is-minimum/"
   ]
  },
  {
   "cell_type": "markdown",
   "metadata": {},
   "source": [
    "## Same as subset sum but at last we have to check of True from half way\n"
   ]
  },
  {
   "cell_type": "code",
   "execution_count": 5,
   "metadata": {},
   "outputs": [
    {
     "name": "stdout",
     "output_type": "stream",
     "text": [
      "1 2 7\n",
      "Minimum Sum is -  4\n"
     ]
    }
   ],
   "source": [
    "arr=list(map(int,input().split()))\n",
    "n=len(arr)\n",
    "total=sum(arr)\n",
    "t=[[None for i in range(total+1)]for j in range(n+1)]\n",
    "for i in range(n+1):\n",
    "    for j in range(total+1):\n",
    "        if(j==0):\n",
    "            t[i][j]=True\n",
    "        if(i==0):\n",
    "            t[i][j]=False\n",
    "t[0][0]=True\n",
    "for i in range(1,n+1):\n",
    "    for j in range(1,total+1):\n",
    "        if(arr[i-1]<=j):\n",
    "            t[i][j]=(t[i-1][j-arr[i-1]] or t[i-1][j])\n",
    "        else:\n",
    "            t[i][j]=t[i-1][j]\n",
    "            \n",
    "for i in range(total//2,-1,-1):\n",
    "    if(t[n][i]==True):\n",
    "        index=i\n",
    "        break\n",
    "print(\"Minimum Sum is - \",total-2*index)\n"
   ]
  },
  {
   "cell_type": "markdown",
   "metadata": {},
   "source": [
    "# 5.Count the number of subset for given diff"
   ]
  },
  {
   "cell_type": "markdown",
   "metadata": {},
   "source": [
    "## now here sum(s1)=(diff+sum(arr))/2"
   ]
  },
  {
   "cell_type": "code",
   "execution_count": 7,
   "metadata": {},
   "outputs": [
    {
     "name": "stdout",
     "output_type": "stream",
     "text": [
      "1 1 2 3\n",
      "1\n",
      "3\n"
     ]
    }
   ],
   "source": [
    "arr=list(map(int,input().split()))\n",
    "n=len(arr)\n",
    "diff=int(input())\n",
    "value=(diff+sum(arr))//2\n",
    "t=[[None for i in range(value+1)]for j in range(n+1)]\n",
    "for i in range(n+1):\n",
    "    for j in range(value+1):\n",
    "        if(j==0):\n",
    "            t[i][j]=1\n",
    "        if(i==0):\n",
    "            t[i][j]=0\n",
    "t[0][0]=1\n",
    "for i in range(1,n+1):\n",
    "    for j in range(1,value+1):\n",
    "        if(arr[i-1]<=j):\n",
    "            t[i][j]=(t[i-1][j-arr[i-1]] + t[i-1][j])\n",
    "        else:\n",
    "            t[i][j]=t[i-1][j]\n",
    "\n",
    "print(t[n][value])"
   ]
  },
  {
   "cell_type": "markdown",
   "metadata": {},
   "source": [
    "# 6.Target Sum - https://leetcode.com/problems/target-sum/"
   ]
  },
  {
   "cell_type": "markdown",
   "metadata": {},
   "source": [
    "## Same as 5 the problem as + making and different subset and - are making different subset -- so sum = difference"
   ]
  },
  {
   "cell_type": "code",
   "execution_count": 8,
   "metadata": {},
   "outputs": [
    {
     "name": "stdout",
     "output_type": "stream",
     "text": [
      "0 0 0 0 0 0 0 0 1\n",
      "1\n",
      "1\n"
     ]
    }
   ],
   "source": [
    "arr=list(map(int,input().split()))\n",
    "n=len(arr)\n",
    "sum1=int(input())\n",
    "value=(sum1+sum(arr))//2\n",
    "t=[[None for i in range(value+1)]for j in range(n+1)]\n",
    "for i in range(n+1):\n",
    "    for j in range(value+1):\n",
    "        if(j==0):\n",
    "            t[i][j]=1\n",
    "        if(i==0):\n",
    "            t[i][j]=0\n",
    "t[0][0]=1\n",
    "for i in range(1,n+1):\n",
    "    for j in range(1,value+1):\n",
    "        if(arr[i-1]<=j):\n",
    "            t[i][j]=(t[i-1][j-arr[i-1]] + t[i-1][j])\n",
    "        else:\n",
    "            t[i][j]=t[i-1][j]\n",
    "\n",
    "print(t[n][value])"
   ]
  },
  {
   "cell_type": "code",
   "execution_count": null,
   "metadata": {},
   "outputs": [],
   "source": []
  }
 ],
 "metadata": {
  "kernelspec": {
   "display_name": "Python 3",
   "language": "python",
   "name": "python3"
  },
  "language_info": {
   "codemirror_mode": {
    "name": "ipython",
    "version": 3
   },
   "file_extension": ".py",
   "mimetype": "text/x-python",
   "name": "python",
   "nbconvert_exporter": "python",
   "pygments_lexer": "ipython3",
   "version": "3.6.4"
  }
 },
 "nbformat": 4,
 "nbformat_minor": 2
}

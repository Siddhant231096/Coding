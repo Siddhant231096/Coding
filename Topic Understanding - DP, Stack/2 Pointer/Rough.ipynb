{
 "cells": [
  {
   "cell_type": "code",
   "execution_count": 3,
   "metadata": {},
   "outputs": [
    {
     "name": "stdout",
     "output_type": "stream",
     "text": [
      "False\n",
      "True\n"
     ]
    }
   ],
   "source": [
    "name=\"saeed\"\n",
    "\n",
    "\n",
    "typed=\"ssaaedd\"\n",
    "\n",
    "i=0\n",
    "j=0\n",
    "n=len(name)\n",
    "m=len(typed)\n",
    "new=''\n",
    "li=list(typed)\n",
    "li1=list(name)\n",
    "while(i<n and j<m):\n",
    "    if(name[i]==typed[j]):\n",
    "        li[j]=''\n",
    "        li1[i]=''\n",
    "        try:\n",
    "            if(name[i+1]==name[i]):\n",
    "                i+=1\n",
    "                j+=1\n",
    "            else:\n",
    "                j+=1\n",
    "        except:\n",
    "            j+=1\n",
    "\n",
    "    else:\n",
    "        i+=1\n",
    "\n",
    "\n",
    "\n",
    "for i in range(m):\n",
    "    if(li[i]!=''):\n",
    "        print(False)\n",
    "for i in range(n):\n",
    "    if(li1[i]!=''):\n",
    "        print(False)\n",
    "print(True)\n"
   ]
  },
  {
   "cell_type": "code",
   "execution_count": 4,
   "metadata": {},
   "outputs": [],
   "source": [
    "a=[1,2,2,3]\n",
    "a.insert(2,4)"
   ]
  },
  {
   "cell_type": "code",
   "execution_count": 5,
   "metadata": {},
   "outputs": [
    {
     "data": {
      "text/plain": [
       "[1, 2, 4, 2, 3]"
      ]
     },
     "execution_count": 5,
     "metadata": {},
     "output_type": "execute_result"
    }
   ],
   "source": [
    "a"
   ]
  },
  {
   "cell_type": "code",
   "execution_count": 8,
   "metadata": {},
   "outputs": [
    {
     "name": "stdout",
     "output_type": "stream",
     "text": [
      "[1, 2, 2, 3, 5, 6]\n"
     ]
    }
   ],
   "source": [
    "nums1 = [1,2,3,0,0,0]\n",
    "nums1=nums1[:m]\n",
    "m = 3\n",
    "nums2 = [2,5,6]\n",
    "n = 3\n",
    "i=0\n",
    "j=0\n",
    "while(i<m and j<n):\n",
    "    if(nums1[i]>nums2[j]):\n",
    "        nums1.insert(i,nums2[j])\n",
    "        j+=1\n",
    "    elif(nums1[i]<nums2[j]):\n",
    "        i+=1\n",
    "    else:\n",
    "        nums1.insert(i,nums2[j])\n",
    "        i+=1\n",
    "        j+=1\n",
    "        \n",
    "nums1=nums1+nums2[j:]\n",
    "print(nums1)"
   ]
  },
  {
   "cell_type": "code",
   "execution_count": 20,
   "metadata": {},
   "outputs": [
    {
     "name": "stdout",
     "output_type": "stream",
     "text": [
      "False\n",
      "True\n"
     ]
    }
   ],
   "source": [
    "s=\"0P\"\n",
    "n=len(s)\n",
    "i=0\n",
    "j=n-1\n",
    "flag=0\n",
    "while(i<j):\n",
    "    if(s[i].isalpha()):\n",
    "        if(s[j].isalpha()):\n",
    "            if(s[j]==s[i] or s[j]==chr(ord(s[i])+32) or s[j]==chr(ord(s[i])-32)):\n",
    "                #flag=1\n",
    "                i+=1\n",
    "                j-=1\n",
    "            else:\n",
    "                print(False)\n",
    "                break\n",
    "        elif(s[j].isnumeric()):\n",
    "            print(False)\n",
    "            break\n",
    "        else:\n",
    "            j-=1\n",
    "                \n",
    "        \n",
    "    elif(s[i].isnumeric()):\n",
    "        if(s[j].isnumeric()):\n",
    "            if(s[i]==s[j]):\n",
    "                #flag=1\n",
    "                i+=1\n",
    "                j-=1\n",
    "            else:\n",
    "                print(False)\n",
    "                break\n",
    "        elif(s[j].isalpha()):\n",
    "            print(False)\n",
    "            break\n",
    "        else:\n",
    "            j-=1\n",
    "        \n",
    "    else:\n",
    "        i+=1\n",
    "        \n",
    "\n",
    "print(True)\n"
   ]
  },
  {
   "cell_type": "code",
   "execution_count": 16,
   "metadata": {},
   "outputs": [
    {
     "name": "stdout",
     "output_type": "stream",
     "text": [
      "0\n",
      "1\n",
      "2\n",
      "a\n"
     ]
    }
   ],
   "source": [
    "s='012a'\n",
    "for i in s:\n",
    "    if(i.isalnum()):\n",
    "        print(i)"
   ]
  },
  {
   "cell_type": "code",
   "execution_count": 31,
   "metadata": {},
   "outputs": [
    {
     "name": "stdout",
     "output_type": "stream",
     "text": [
      "-1\n"
     ]
    }
   ],
   "source": [
    "haystack = \"mississippi\"\n",
    "\n",
    "\n",
    "\n",
    "needle = \"issipi\"\n",
    "i=0\n",
    "j=0\n",
    "n=len(haystack)\n",
    "m=len(needle)\n",
    "index=-1\n",
    "flag=0\n",
    "while(i<n and j<m):\n",
    "    if(haystack[i] == needle[j]):\n",
    "        if(flag==0):\n",
    "            index=i\n",
    "            flag=1\n",
    "        i+=1\n",
    "        j+=1\n",
    "\n",
    "    else:\n",
    "        if(flag==1):    \n",
    "            flag=0\n",
    "            j=0\n",
    "            i=index+1\n",
    "            index=-1\n",
    "        else:\n",
    "            i+=1\n",
    "\n",
    "if(j>=m):\n",
    "    print(index)\n",
    "else:\n",
    "    print(-1)\n"
   ]
  },
  {
   "cell_type": "code",
   "execution_count": 36,
   "metadata": {},
   "outputs": [
    {
     "name": "stdout",
     "output_type": "stream",
     "text": [
      "[[1, 2], [5, 5], [8, 10], [15, 23], [24, 24], [25, 25]]\n"
     ]
    }
   ],
   "source": [
    "a = [[0,2],[5,10],[13,23],[24,25]]\n",
    "b = [[1,5],[8,12],[15,24],[25,26]]\n",
    "\n",
    "n=len(a)\n",
    "m=len(b)\n",
    "i=0\n",
    "j=0\n",
    "final=[]\n",
    "while(i<n and j<m):\n",
    "    if(a[i][0]<=b[j][0]):\n",
    "        if(b[j][0]<=a[i][1]):\n",
    "            if(b[j][1]>=a[i][1]):\n",
    "                final.append([b[j][0],a[i][1]])\n",
    "                i+=1\n",
    "            else:\n",
    "                final.append([b[j][0],b[j][1]])\n",
    "                j+=1\n",
    "        else:\n",
    "            i+=1\n",
    "    else:\n",
    "        if(a[i][0]>b[j][0]):\n",
    "            if(a[i][0]<=b[j][1]):\n",
    "                if(a[i][1]>=b[j][1]):\n",
    "                    final.append([a[i][0],b[j][1]])\n",
    "                    j+=1\n",
    "                else:\n",
    "                    final.append([a[i][0],a[i][1]])\n",
    "                    i+=1\n",
    "                \n",
    "            else:\n",
    "                j+=1\n",
    "        \n",
    "print(final)\n",
    "            \n",
    "    \n",
    "    \n",
    "    "
   ]
  },
  {
   "cell_type": "code",
   "execution_count": 51,
   "metadata": {},
   "outputs": [],
   "source": [
    "s= \"a\"\n",
    "n=len(s)\n",
    "dict1={}\n",
    "for i in range(n):\n",
    "    if(s[i] in dict1.keys()):\n",
    "        dict1[s[i]]=i+1\n",
    "    else:\n",
    "        dict1[s[i]]=i+1\n",
    "        \n",
    "m=len(dict1)\n",
    "ke=list(dict1.keys())\n",
    "va=list(dict1.values())\n",
    "final=[]\n",
    "for i in range(m):\n",
    "    final.append([va[i],ke[i]])\n",
    "    \n",
    "final.sort()\n",
    "    \n"
   ]
  },
  {
   "cell_type": "code",
   "execution_count": 52,
   "metadata": {},
   "outputs": [
    {
     "data": {
      "text/plain": [
       "[[1, 'a']]"
      ]
     },
     "execution_count": 52,
     "metadata": {},
     "output_type": "execute_result"
    }
   ],
   "source": [
    "final"
   ]
  },
  {
   "cell_type": "code",
   "execution_count": 53,
   "metadata": {},
   "outputs": [
    {
     "name": "stdout",
     "output_type": "stream",
     "text": [
      "[1]\n",
      "[1]\n"
     ]
    }
   ],
   "source": [
    "prev=0\n",
    "res=[]\n",
    "for i in range(m):\n",
    "    value1=set(s[prev:final[i][0]])\n",
    "    value2=set(s[final[i][0]:])\n",
    "    if(len(value1&value2)==0):\n",
    "        res.append(final[i][0])\n",
    "        prev=final[i][0]\n",
    "    \n",
    "print(res)\n",
    "ans=[res[0]]\n",
    "for i in range(1,len(res)):\n",
    "    ans.append(res[i]-res[i-1])\n",
    "    \n",
    "print(ans)"
   ]
  },
  {
   "cell_type": "code",
   "execution_count": 45,
   "metadata": {},
   "outputs": [
    {
     "data": {
      "text/plain": [
       "2"
      ]
     },
     "execution_count": 45,
     "metadata": {},
     "output_type": "execute_result"
    }
   ],
   "source": [
    "a=set([1,2,3])\n",
    "b=set([2,3,4])\n",
    "len(a&b)"
   ]
  },
  {
   "cell_type": "code",
   "execution_count": 61,
   "metadata": {},
   "outputs": [
    {
     "name": "stdout",
     "output_type": "stream",
     "text": [
      "0\n",
      "4\n",
      "0\n",
      "4\n",
      "0\n",
      "4\n",
      "0\n",
      "4\n",
      "1\n",
      "3\n",
      "19\n"
     ]
    }
   ],
   "source": [
    "nums=[2,2,2,1,2,2,1,2,2,2,1]\n",
    "k=2\n",
    "\n",
    "prefix = {0: 1}\n",
    "total = ans = 0\n",
    "for num in nums:\n",
    "    if num % 2 == 1:\n",
    "        total += 1\n",
    "    if total-k in prefix:\n",
    "        print(total-k)\n",
    "        print(prefix[total-k])\n",
    "        ans += prefix[total-k]\n",
    "    prefix[total] = prefix.get(total, 0) + 1\n",
    "print(ans)\n",
    "\n",
    "# for i in range(len(arr)):\n",
    "#     arr[i]=arr[i]%2\n",
    "# print(arr)"
   ]
  },
  {
   "cell_type": "code",
   "execution_count": 62,
   "metadata": {},
   "outputs": [
    {
     "data": {
      "text/plain": [
       "{0: 4, 1: 3, 2: 4, 3: 1}"
      ]
     },
     "execution_count": 62,
     "metadata": {},
     "output_type": "execute_result"
    }
   ],
   "source": [
    "prefix"
   ]
  },
  {
   "cell_type": "code",
   "execution_count": 83,
   "metadata": {},
   "outputs": [
    {
     "name": "stdout",
     "output_type": "stream",
     "text": [
      "1\n"
     ]
    }
   ],
   "source": [
    "arr=[1,2,1]\n",
    "size=len(arr)\n",
    "maxl=[]\n",
    "maxr=[]\n",
    "maxl.append([arr[0],0])\n",
    "maxr=[0]*size\n",
    "maxr[size-1]=[arr[-1],size-1]\n",
    "for i in range(1,size):\n",
    "    if(arr[i]>maxl[i-1][0]):\n",
    "        maxl.append([arr[i],i])\n",
    "    else:\n",
    "        maxl.append(maxl[i-1])\n",
    "for i in range(size-2,-1,-1):\n",
    "    if(arr[i]>maxr[i+1][0]):\n",
    "        maxr[i]=[arr[i],i]\n",
    "    else:\n",
    "        maxr[i]=maxr[i+1]\n",
    "\n",
    "maxi=0    \n",
    "for i in range(size):\n",
    "    value=min(maxl[i][0],maxr[i][0])*(maxr[i][1]-maxl[i][1])\n",
    "    if(value>maxi):\n",
    "        maxi=value\n",
    "print(maxi)"
   ]
  },
  {
   "cell_type": "code",
   "execution_count": 84,
   "metadata": {},
   "outputs": [
    {
     "data": {
      "text/plain": [
       "[[1, 0], [2, 1], [2, 1]]"
      ]
     },
     "execution_count": 84,
     "metadata": {},
     "output_type": "execute_result"
    }
   ],
   "source": [
    "maxl"
   ]
  },
  {
   "cell_type": "code",
   "execution_count": 85,
   "metadata": {},
   "outputs": [
    {
     "data": {
      "text/plain": [
       "[[2, 1], [2, 1], [1, 2]]"
      ]
     },
     "execution_count": 85,
     "metadata": {},
     "output_type": "execute_result"
    }
   ],
   "source": [
    "maxr"
   ]
  },
  {
   "cell_type": "code",
   "execution_count": 88,
   "metadata": {},
   "outputs": [
    {
     "name": "stdout",
     "output_type": "stream",
     "text": [
      "49\n"
     ]
    }
   ],
   "source": [
    "import heapq\n",
    "arr=[1,8,6,2,5,4,8,3,7]\n",
    "n=len(arr)\n",
    "start=0\n",
    "end=n-1\n",
    "maxi=0\n",
    "while(start<end):\n",
    "    base=end-start\n",
    "    ht=min(arr[start],arr[end])\n",
    "    area=base*ht\n",
    "    maxi=max(area,maxi)\n",
    "    if(arr[start]<arr[end]):\n",
    "        start+=1\n",
    "    else:\n",
    "        end-=1\n",
    "        \n",
    "print(maxi)"
   ]
  },
  {
   "cell_type": "code",
   "execution_count": 109,
   "metadata": {},
   "outputs": [],
   "source": [
    "s=\".L.R.\"\n",
    "li=list(s)\n",
    "n=len(s)\n",
    "for i in range(n):\n",
    "    if(i==0):\n",
    "        if(s[i]=='.'):\n",
    "            if(s[i+1]=='L'):\n",
    "                li[i]='L'\n",
    "    elif(i==n-1):\n",
    "        if(s[i]=='.'):\n",
    "            if(s[i-1]=='R'):\n",
    "                li[i]='R'\n",
    "                \n",
    "    \n",
    "    else:\n",
    "        if(s[i]=='.'):\n",
    "            #print(i)\n",
    "            if(s[i-1]=='L'):\n",
    "                #print('L')\n",
    "                if(s[i+1]=='R' or s[i+1]=='.'):\n",
    "                    pass\n",
    "                elif(s[i+1]=='L'):\n",
    "                    li[i]='L'\n",
    "            elif(s[i-1]=='R'):\n",
    "                #print('R')\n",
    "                #print(s)\n",
    "                if(s[i+1]=='R' or s[i+1]=='.'):\n",
    "                    li[i]='R'\n",
    "                    #print(s)\n",
    "                elif(s[i+1]=='L'):\n",
    "                    pass\n",
    "            else:\n",
    "                if(s[i+1]=='L'):\n",
    "                    li[i]='L'\n",
    "\n",
    "new=''                    \n",
    "for i in range(n):\n",
    "    new=new+li[i]"
   ]
  },
  {
   "cell_type": "code",
   "execution_count": 110,
   "metadata": {},
   "outputs": [
    {
     "data": {
      "text/plain": [
       "'LL.RR'"
      ]
     },
     "execution_count": 110,
     "metadata": {},
     "output_type": "execute_result"
    }
   ],
   "source": [
    "new"
   ]
  },
  {
   "cell_type": "code",
   "execution_count": 26,
   "metadata": {},
   "outputs": [
    {
     "name": "stdout",
     "output_type": "stream",
     "text": [
      ".RRRRRR.LLL\n"
     ]
    }
   ],
   "source": [
    "s=\".RRRRR...LL\"\n",
    "i=0\n",
    "li=list(s)\n",
    "count=0\n",
    "n=len(s)\n",
    "j=0\n",
    "if(n<=1):\n",
    "    print(s)\n",
    "while(i<n):\n",
    "    if(i==0):\n",
    "        if(s[i]=='.'):\n",
    "            if(s[i+1]=='L'):\n",
    "                li[i]='L'\n",
    "        i+=1\n",
    "        \n",
    "    elif(s[i]=='.'):\n",
    "        if(s[i-1]=='R'):\n",
    "            #print(i)\n",
    "            j=i\n",
    "            try:\n",
    "                count=0\n",
    "                while(s[j]=='.'):\n",
    "                    count+=1\n",
    "                    j+=1\n",
    "            except:\n",
    "                pass\n",
    "            #print(count)\n",
    "            if(j==n):\n",
    "                for k in range(i,n):\n",
    "                    li[k]='R'\n",
    "                count=0\n",
    "                \n",
    "            elif(s[j]=='L'):\n",
    "                if(count%2==0):\n",
    "                    for k in range(i,i+count//2):\n",
    "                        li[k]='R'\n",
    "                    for k in range(i+count//2,i+count):\n",
    "                        li[k]='L'\n",
    "                    count=0\n",
    "                elif(count%2==1):\n",
    "                    #print(i)\n",
    "                    for k in range(i,i+count//2):\n",
    "                        li[k]='R'\n",
    "                    for k in range(i+count//2 +1,i+count):\n",
    "                        li[k]='L'\n",
    "                    count=0\n",
    "                        \n",
    "            elif(s[j]=='R'):\n",
    "                for k in range(i,i+count):\n",
    "                    li[k]='R'\n",
    "                count=0\n",
    "            i=j\n",
    "        elif(s[i-1]=='L'):\n",
    "            j=i\n",
    "            try:\n",
    "                count=0\n",
    "                while(s[j]=='.'):\n",
    "                    count+=1\n",
    "                    j+=1\n",
    "            except:\n",
    "                pass\n",
    "            \n",
    "            if(j==n):\n",
    "                pass\n",
    "            \n",
    "            elif(s[j]=='L'):\n",
    "                for k in range(i,i+count):\n",
    "                    li[k]='L'\n",
    "                count=0\n",
    "            i=j\n",
    "            \n",
    "        elif(i<n-1):\n",
    "            if(s[i+1]=='L'):\n",
    "                j=i\n",
    "                count=0\n",
    "                while(s[j]=='.'):\n",
    "                    count+=1\n",
    "                    j-=1\n",
    "                for k in range(i,j,-1):\n",
    "                    li[k]='L'\n",
    "            i+=1\n",
    "                \n",
    "        else:\n",
    "            i+=1\n",
    "    else:\n",
    "        i+=1\n",
    "                    \n",
    "new=''\n",
    "for i in range(n):\n",
    "    new+=li[i]\n",
    "print(new)"
   ]
  },
  {
   "cell_type": "code",
   "execution_count": 57,
   "metadata": {},
   "outputs": [
    {
     "name": "stdout",
     "output_type": "stream",
     "text": [
      "[[4, 'ewaf']]\n"
     ]
    }
   ],
   "source": [
    "s = \"aewfafwafjlwajflwajflwafj\"\n",
    "d = [\"apple\",\"ewaf\",\"awefawfwaf\",\"awef\",\"awefe\",\"ewafeffewafewf\"]\n",
    "n=len(s)\n",
    "m=len(d)\n",
    "i=0\n",
    "j=0\n",
    "k=0\n",
    "final=[]\n",
    "while(j<m):\n",
    "    le=len(d[j])\n",
    "    i=0\n",
    "    k=0\n",
    "    while(i<n and k<le):\n",
    "        if(s[i]==d[j][k]):\n",
    "            i+=1\n",
    "            k+=1\n",
    "        else:\n",
    "            i+=1\n",
    "    if(k==le):\n",
    "        final.append([len(d[j]),d[j]])\n",
    "    j+=1\n",
    "print(final)"
   ]
  },
  {
   "cell_type": "code",
   "execution_count": 58,
   "metadata": {},
   "outputs": [],
   "source": [
    "final.sort(reverse=True)"
   ]
  },
  {
   "cell_type": "code",
   "execution_count": 59,
   "metadata": {},
   "outputs": [
    {
     "data": {
      "text/plain": [
       "[[4, 'ewaf']]"
      ]
     },
     "execution_count": 59,
     "metadata": {},
     "output_type": "execute_result"
    }
   ],
   "source": [
    "final"
   ]
  },
  {
   "cell_type": "code",
   "execution_count": 60,
   "metadata": {},
   "outputs": [
    {
     "ename": "IndexError",
     "evalue": "list index out of range",
     "output_type": "error",
     "traceback": [
      "\u001b[1;31m---------------------------------------------------------------------------\u001b[0m",
      "\u001b[1;31mIndexError\u001b[0m                                Traceback (most recent call last)",
      "\u001b[1;32m<ipython-input-60-7aa45bfa35d0>\u001b[0m in \u001b[0;36m<module>\u001b[1;34m()\u001b[0m\n\u001b[1;32m----> 1\u001b[1;33m \u001b[1;32mif\u001b[0m\u001b[1;33m(\u001b[0m\u001b[0mfinal\u001b[0m\u001b[1;33m[\u001b[0m\u001b[1;36m0\u001b[0m\u001b[1;33m]\u001b[0m\u001b[1;33m[\u001b[0m\u001b[1;36m0\u001b[0m\u001b[1;33m]\u001b[0m\u001b[1;33m>\u001b[0m\u001b[0mfinal\u001b[0m\u001b[1;33m[\u001b[0m\u001b[1;36m1\u001b[0m\u001b[1;33m]\u001b[0m\u001b[1;33m[\u001b[0m\u001b[1;36m0\u001b[0m\u001b[1;33m]\u001b[0m\u001b[1;33m)\u001b[0m\u001b[1;33m:\u001b[0m\u001b[1;33m\u001b[0m\u001b[0m\n\u001b[0m\u001b[0;32m      2\u001b[0m     \u001b[0mprint\u001b[0m\u001b[1;33m(\u001b[0m\u001b[0mfinal\u001b[0m\u001b[1;33m[\u001b[0m\u001b[1;36m0\u001b[0m\u001b[1;33m]\u001b[0m\u001b[1;33m[\u001b[0m\u001b[1;36m1\u001b[0m\u001b[1;33m]\u001b[0m\u001b[1;33m)\u001b[0m\u001b[1;33m\u001b[0m\u001b[0m\n\u001b[0;32m      3\u001b[0m \u001b[1;32melse\u001b[0m\u001b[1;33m:\u001b[0m\u001b[1;33m\u001b[0m\u001b[0m\n\u001b[0;32m      4\u001b[0m     \u001b[0mans\u001b[0m\u001b[1;33m=\u001b[0m\u001b[1;33m[\u001b[0m\u001b[1;33m]\u001b[0m\u001b[1;33m\u001b[0m\u001b[0m\n\u001b[0;32m      5\u001b[0m     \u001b[0mprint\u001b[0m\u001b[1;33m(\u001b[0m\u001b[1;34m'----'\u001b[0m\u001b[1;33m)\u001b[0m\u001b[1;33m\u001b[0m\u001b[0m\n",
      "\u001b[1;31mIndexError\u001b[0m: list index out of range"
     ]
    }
   ],
   "source": [
    "if(final[0][0]>final[1][0]):\n",
    "    print(final[0][1])\n",
    "else:\n",
    "    ans=[]\n",
    "    print('----')\n",
    "    for i in range(1,len(final)):\n",
    "        if(final[i-1][0]==final[i][0]):\n",
    "            ans.append(final[i-1][1])\n",
    "            ans.append(final[i][1])\n",
    "        else:\n",
    "            break\n",
    "    print('--- ',ans)\n",
    "    ans.sort()\n",
    "    print(ans[0])"
   ]
  },
  {
   "cell_type": "code",
   "execution_count": 53,
   "metadata": {},
   "outputs": [
    {
     "data": {
      "text/plain": [
       "['ale', 'apple', 'plea']"
      ]
     },
     "execution_count": 53,
     "metadata": {},
     "output_type": "execute_result"
    }
   ],
   "source": [
    "a"
   ]
  },
  {
   "cell_type": "code",
   "execution_count": 71,
   "metadata": {},
   "outputs": [
    {
     "name": "stdout",
     "output_type": "stream",
     "text": [
      "3\n"
     ]
    }
   ],
   "source": [
    "arr=[3,2,2,1]\n",
    "limit=3\n",
    "arr.sort()\n",
    "n=len(arr)\n",
    "i,j=0,n-1\n",
    "count=0\n",
    "while(i<=j): \n",
    "    count+=1\n",
    "    if(arr[i]+arr[j]<=total):\n",
    "        i+=1\n",
    "    j-=1\n",
    "print(count)\n",
    "    "
   ]
  },
  {
   "cell_type": "code",
   "execution_count": null,
   "metadata": {},
   "outputs": [],
   "source": [
    "arr= [-1,2,1,-4]"
   ]
  },
  {
   "cell_type": "code",
   "execution_count": 89,
   "metadata": {},
   "outputs": [
    {
     "name": "stdout",
     "output_type": "stream",
     "text": [
      "2\n"
     ]
    }
   ],
   "source": [
    "arr = [-1,2,1,-4]\n",
    "\n",
    "target=1\n",
    "arr.sort()\n",
    "n=len(arr)\n",
    "j=1\n",
    "k=n-1\n",
    "res={}\n",
    "flag=0\n",
    "for i in range(n):\n",
    "    j=i+1\n",
    "    k=n-1\n",
    "    while(j<k):\n",
    "        s=arr[i]+arr[j]+arr[k]\n",
    "        if(s==target):\n",
    "            print(s)\n",
    "            break\n",
    "        else:\n",
    "            res[s]=abs(target-s)\n",
    "            if(s>target):\n",
    "                k-=1\n",
    "            else:\n",
    "                j+=1\n",
    "                \n",
    "print(min(res,key=res.get))"
   ]
  },
  {
   "cell_type": "code",
   "execution_count": 86,
   "metadata": {},
   "outputs": [
    {
     "data": {
      "text/plain": [
       "0"
      ]
     },
     "execution_count": 86,
     "metadata": {},
     "output_type": "execute_result"
    }
   ],
   "source": [
    "ans"
   ]
  },
  {
   "cell_type": "code",
   "execution_count": 83,
   "metadata": {},
   "outputs": [
    {
     "data": {
      "text/plain": [
       "4"
      ]
     },
     "execution_count": 83,
     "metadata": {},
     "output_type": "execute_result"
    }
   ],
   "source": [
    "a=-3\n",
    "b=1\n",
    "abs(b-a)"
   ]
  },
  {
   "cell_type": "code",
   "execution_count": 171,
   "metadata": {},
   "outputs": [
    {
     "name": "stdout",
     "output_type": "stream",
     "text": [
      "False\n",
      "True\n"
     ]
    }
   ],
   "source": [
    "s1 = \"oooooo\" \n",
    "s2 = \"eidbaooo\"\n",
    "m=len(s2)\n",
    "k=len(s1)\n",
    "dict1={}\n",
    "dict2={}\n",
    "for i in s1:\n",
    "    if(i in dict1.keys()):\n",
    "        dict1[i]+=1\n",
    "    else:\n",
    "        dict2[i]=0\n",
    "        dict1[i]=1\n",
    "\n",
    "s3=list(set(s1))\n",
    "s3.sort()\n",
    "n=len(s3)\n",
    "#print(s3)\n",
    "i=0\n",
    "count=0\n",
    "index=0\n",
    "flag2=0\n",
    "while(i<m):\n",
    "    flag=0\n",
    "    element=s2[i]\n",
    "    #print()\n",
    "    start=0\n",
    "    end=n-1\n",
    "    mid=0\n",
    "    if(flag2==0):\n",
    "        index=i\n",
    "        flag2=1\n",
    "    while(start<=end):\n",
    "        mid=start+(end-start)//2\n",
    "        if(s3[mid]==element):\n",
    "            #print(s3[mid])\n",
    "            dict2[element]+=1\n",
    "            if(dict2[element]>dict1[element]):\n",
    "                flag=0\n",
    "            else:\n",
    "                flag=1\n",
    "                count+=1\n",
    "            #print(dict2)\n",
    "            #print(binary)\n",
    "            break\n",
    "        elif(s3[mid]>element):\n",
    "            end=mid-1\n",
    "        else:\n",
    "            start=mid+1\n",
    "            \n",
    "    if(count==k):\n",
    "        #print(count)\n",
    "        break\n",
    "    if(flag==0):\n",
    "        #print(dict2)\n",
    "        dict2=dict.fromkeys(dict2,0)\n",
    "        flag2=0\n",
    "        count=0\n",
    "        i=index+1\n",
    "    elif(flag==1):\n",
    "        #print('in flag')\n",
    "        i+=1\n",
    "    #print(s3[mid])\n",
    "        \n",
    "\n",
    "for i in range(n):\n",
    "    if(dict1[s3[i]]!=dict2[s3[i]]):\n",
    "        print(False)\n",
    "print(True)\n",
    "    \n",
    "    \n",
    "            \n",
    "    "
   ]
  },
  {
   "cell_type": "code",
   "execution_count": 172,
   "metadata": {},
   "outputs": [
    {
     "data": {
      "text/plain": [
       "['o']"
      ]
     },
     "execution_count": 172,
     "metadata": {},
     "output_type": "execute_result"
    }
   ],
   "source": [
    "s3.sort()\n",
    "s3"
   ]
  },
  {
   "cell_type": "code",
   "execution_count": 173,
   "metadata": {},
   "outputs": [
    {
     "data": {
      "text/plain": [
       "{'o': 6}"
      ]
     },
     "execution_count": 173,
     "metadata": {},
     "output_type": "execute_result"
    }
   ],
   "source": [
    "dict1"
   ]
  },
  {
   "cell_type": "code",
   "execution_count": 174,
   "metadata": {},
   "outputs": [
    {
     "data": {
      "text/plain": [
       "{'o': 3}"
      ]
     },
     "execution_count": 174,
     "metadata": {},
     "output_type": "execute_result"
    }
   ],
   "source": [
    "dict2"
   ]
  },
  {
   "cell_type": "code",
   "execution_count": null,
   "metadata": {},
   "outputs": [],
   "source": []
  },
  {
   "cell_type": "code",
   "execution_count": 208,
   "metadata": {},
   "outputs": [
    {
     "name": "stdout",
     "output_type": "stream",
     "text": [
      "[[-2, 0, 2]]\n"
     ]
    }
   ],
   "source": [
    "arr=[0,-4,-1,-4,-2,-3,2]\n",
    "\n",
    "arr.sort()\n",
    "#print(arr)\n",
    "n=len(arr)\n",
    "target=0\n",
    "i=0\n",
    "j=1\n",
    "k=n-1\n",
    "flag=0\n",
    "final=set()\n",
    "for i in range(n):\n",
    "    #print('----------------------------')\n",
    "    #print(arr[i])\n",
    "    j=i+1\n",
    "    k=n-1\n",
    "    #print(arr[j])\n",
    "    #print(arr[k])\n",
    "    while(j<k):\n",
    "        s=arr[i]+arr[j]+arr[k]\n",
    "        #print('##- ',i,' ',j,' ',k,' ',s)\n",
    "        if(s==target):\n",
    "            #print(s)\n",
    "            a=(arr[i],arr[j],arr[k])\n",
    "            #print(a)\n",
    "            final.add(a)\n",
    "            j+=1            \n",
    "\n",
    "    \n",
    "        if(s>target):\n",
    "            k-=1\n",
    "        else:\n",
    "            j+=1\n",
    "#print(final)\n",
    "final=list(final)\n",
    "for i in range(len(final)):\n",
    "    final[i]=list(final[i])\n",
    "print(final)"
   ]
  },
  {
   "cell_type": "code",
   "execution_count": null,
   "metadata": {},
   "outputs": [],
   "source": []
  },
  {
   "cell_type": "code",
   "execution_count": 2,
   "metadata": {},
   "outputs": [
    {
     "name": "stdout",
     "output_type": "stream",
     "text": [
      "True\n"
     ]
    }
   ],
   "source": [
    "s1 = \"ab\" \n",
    "s2 = \"eidbaooo\"\n",
    "m=len(s2)\n",
    "k=len(s1)\n",
    "dict1={}\n",
    "dict2={}\n",
    "for i in s1:\n",
    "    if(i in dict1.keys()):\n",
    "        dict1[i]+=1\n",
    "    else:\n",
    "        dict2[i]=0\n",
    "        dict1[i]=1\n",
    "\n",
    "s3=list(set(s1))\n",
    "s3.sort()\n",
    "n=len(s3)\n",
    "#print(s3)\n",
    "i=0\n",
    "count=0\n",
    "index=0\n",
    "flag2=0\n",
    "while(i<m):\n",
    "    flag=0\n",
    "    element=s2[i]\n",
    "    #print()\n",
    "    start=0\n",
    "    end=n-1\n",
    "    mid=0\n",
    "    if(flag2==0):\n",
    "        index=i\n",
    "        flag2=1\n",
    "    while(start<=end):\n",
    "        mid=start+(end-start)//2\n",
    "        if(s3[mid]==element):\n",
    "            #print(s3[mid])\n",
    "            dict2[element]+=1\n",
    "            if(dict2[element]>dict1[element]):\n",
    "                flag=0\n",
    "            else:\n",
    "                flag=1\n",
    "                count+=1\n",
    "            #print(dict2)\n",
    "            #print(binary)\n",
    "            break\n",
    "        elif(s3[mid]>element):\n",
    "            end=mid-1\n",
    "        else:\n",
    "            start=mid+1\n",
    "\n",
    "    if(count==k):\n",
    "        #print(count)\n",
    "        break\n",
    "    if(flag==0):\n",
    "        #print(dict2)\n",
    "        dict2=dict.fromkeys(dict2,0)\n",
    "        flag2=0\n",
    "        count=0\n",
    "        i=index+1\n",
    "    elif(flag==1):\n",
    "        #print('in flag')\n",
    "        i+=1\n",
    "    #print(s3[mid])\n",
    "\n",
    "\n",
    "for i in range(n):\n",
    "    if(dict1[s3[i]]!=dict2[s3[i]]):\n",
    "        print(False)\n",
    "print(True)\n"
   ]
  },
  {
   "cell_type": "code",
   "execution_count": 3,
   "metadata": {},
   "outputs": [],
   "source": [
    "s1 = \"ab\" \n",
    "s2 = \"eidbaooo\"\n",
    "n=len(s1)\n",
    "s1=''.join(sorted(s1))\n",
    "for i in range(len(s2)):\n",
    "    if(s2[i] in s1):\n",
    "        temp=''.join(sorted(s2[i:i+n]))\n",
    "        if(temp==s1):\n",
    "            return True\n",
    "return False"
   ]
  },
  {
   "cell_type": "code",
   "execution_count": 4,
   "metadata": {},
   "outputs": [
    {
     "data": {
      "text/plain": [
       "'ab'"
      ]
     },
     "execution_count": 4,
     "metadata": {},
     "output_type": "execute_result"
    }
   ],
   "source": [
    "s1"
   ]
  },
  {
   "cell_type": "code",
   "execution_count": 6,
   "metadata": {},
   "outputs": [],
   "source": [
    "a=[1,2,3]\n",
    "del a[1]"
   ]
  },
  {
   "cell_type": "code",
   "execution_count": 7,
   "metadata": {},
   "outputs": [
    {
     "data": {
      "text/plain": [
       "[1, 3]"
      ]
     },
     "execution_count": 7,
     "metadata": {},
     "output_type": "execute_result"
    }
   ],
   "source": [
    "a"
   ]
  },
  {
   "cell_type": "code",
   "execution_count": 10,
   "metadata": {},
   "outputs": [
    {
     "name": "stdout",
     "output_type": "stream",
     "text": [
      "([0, 0, 1, 1, 1, 1, 2, 3, 3],)\n"
     ]
    }
   ],
   "source": [
    "arr=[0,0,1,1,1,1,2,3,3],\n",
    "n=len(arr)\n",
    "i=0\n",
    "j=0\n",
    "count=0\n",
    "while(i<len(arr)-1):\n",
    "    if(arr[i+1]==arr[i]):\n",
    "        flag=0\n",
    "        j=i\n",
    "        while(j<len(arr)):\n",
    "            if(flag==0):\n",
    "                if(arr[j]==arr[j+1]):\n",
    "                    flag=1\n",
    "                    count+=2\n",
    "                    j+=1\n",
    "            else:\n",
    "                if(arr[j]==arr[j+1]):\n",
    "                    del arr[j]\n",
    "                else:\n",
    "                    break\n",
    "        i=j\n",
    "    else:\n",
    "        count+=1\n",
    "        i+=1\n",
    "\n",
    "print(arr)\n",
    "# if(arr[-1]==arr[-2]):\n",
    "#     print(count)\n",
    "# else:\n",
    "#     print(count+1)"
   ]
  },
  {
   "cell_type": "code",
   "execution_count": 36,
   "metadata": {},
   "outputs": [
    {
     "name": "stdout",
     "output_type": "stream",
     "text": [
      "-------------\n",
      "i  0\n",
      "j  0\n",
      "sum  0\n",
      "j  1\n",
      "sum  1\n",
      "j  2\n",
      "sum  2\n",
      "j  3\n",
      "sum  3\n",
      "sum2 3\n",
      "j  4\n",
      "sum  4\n",
      "-------------\n",
      "i  1\n",
      "j  2\n",
      "sum  2\n",
      "j  3\n",
      "sum  3\n",
      "sum2 3\n",
      "j  4\n",
      "sum  4\n",
      "-------------\n",
      "i  2\n",
      "j  2\n",
      "sum  1\n",
      "j  3\n",
      "sum  2\n",
      "j  4\n",
      "sum  3\n",
      "sum2 3\n",
      "-------------\n",
      "i  3\n",
      "j  3\n",
      "sum  1\n",
      "j  4\n",
      "sum  2\n",
      "-------------\n",
      "i  4\n",
      "j  4\n",
      "sum  1\n",
      "3\n"
     ]
    }
   ],
   "source": [
    "a = [10, 5, 2, 6]\n",
    "\n",
    "s = 100\n",
    "n=len(a)\n",
    "i=0\n",
    "j=0\n",
    "count=0\n",
    "index=j\n",
    "for i in range(n):\n",
    "    print('-------------')\n",
    "    if(index<i):\n",
    "        index=i\n",
    "    value=sum(a[i:index+1])\n",
    "    if(value<=s):\n",
    "        print('i ',i)\n",
    "        j=index\n",
    "        while(j<n and j>=i):\n",
    "            print('j ',j)\n",
    "            value=sum(a[i:j+1])\n",
    "            print('sum ',value)\n",
    "            if(value==s):\n",
    "                count+=1\n",
    "                print('sum2',value)\n",
    "                j+=1\n",
    "            elif(value<s):\n",
    "                index=j\n",
    "                j+=1\n",
    "            else:\n",
    "                break\n",
    "            \n",
    "    elif(value>s):\n",
    "        j=i\n",
    "print(count)"
   ]
  },
  {
   "cell_type": "code",
   "execution_count": 45,
   "metadata": {},
   "outputs": [
    {
     "name": "stdout",
     "output_type": "stream",
     "text": [
      "[0, 1, 1, 2, 2, 3]\n",
      "0\n",
      "0\n",
      "0\n",
      "1\n",
      "1\n",
      "2\n",
      "4\n"
     ]
    }
   ],
   "source": [
    "import collections\n",
    "P = [0]\n",
    "A = [1,0,1,0,1]\n",
    "S=2\n",
    "for x in A: P.append(P[-1] + x)\n",
    "count = collections.Counter()\n",
    "print(P)\n",
    "ans = 0\n",
    "for x in P:\n",
    "    print(count[x])\n",
    "    ans += count[x]\n",
    "    count[x + S] += 1\n",
    "\n",
    "print(ans)\n"
   ]
  },
  {
   "cell_type": "code",
   "execution_count": 44,
   "metadata": {},
   "outputs": [
    {
     "name": "stdout",
     "output_type": "stream",
     "text": [
      "Counter({3: 2, 4: 2, 2: 1, 5: 1})\n"
     ]
    }
   ],
   "source": [
    "print(count)"
   ]
  },
  {
   "cell_type": "code",
   "execution_count": 3,
   "metadata": {
    "scrolled": true
   },
   "outputs": [
    {
     "ename": "ModuleNotFoundError",
     "evalue": "No module named 'defaultdict'",
     "output_type": "error",
     "traceback": [
      "\u001b[1;31m---------------------------------------------------------------------------\u001b[0m",
      "\u001b[1;31mModuleNotFoundError\u001b[0m                       Traceback (most recent call last)",
      "\u001b[1;32m<ipython-input-3-2bc3d8ec038a>\u001b[0m in \u001b[0;36m<module>\u001b[1;34m()\u001b[0m\n\u001b[1;32m----> 1\u001b[1;33m \u001b[1;32mimport\u001b[0m \u001b[0mdefaultdict\u001b[0m\u001b[1;33m\u001b[0m\u001b[0m\n\u001b[0m\u001b[0;32m      2\u001b[0m \u001b[0mA\u001b[0m\u001b[1;33m=\u001b[0m\u001b[1;33m[\u001b[0m\u001b[1;36m1\u001b[0m\u001b[1;33m,\u001b[0m\u001b[1;36m0\u001b[0m\u001b[1;33m,\u001b[0m\u001b[1;36m1\u001b[0m\u001b[1;33m,\u001b[0m\u001b[1;36m0\u001b[0m\u001b[1;33m,\u001b[0m\u001b[1;36m1\u001b[0m\u001b[1;33m]\u001b[0m\u001b[1;33m\u001b[0m\u001b[0m\n\u001b[0;32m      3\u001b[0m \u001b[0mS\u001b[0m\u001b[1;33m=\u001b[0m\u001b[1;36m2\u001b[0m\u001b[1;33m\u001b[0m\u001b[0m\n\u001b[0;32m      4\u001b[0m \u001b[0mp\u001b[0m\u001b[1;33m,\u001b[0m \u001b[0mcnt\u001b[0m\u001b[1;33m,\u001b[0m \u001b[0macc\u001b[0m \u001b[1;33m=\u001b[0m \u001b[0mdefaultdict\u001b[0m\u001b[1;33m(\u001b[0m\u001b[0mint\u001b[0m\u001b[1;33m)\u001b[0m\u001b[1;33m,\u001b[0m \u001b[1;36m0\u001b[0m\u001b[1;33m,\u001b[0m \u001b[1;36m0\u001b[0m\u001b[1;33m\u001b[0m\u001b[0m\n\u001b[0;32m      5\u001b[0m \u001b[0mp\u001b[0m\u001b[1;33m[\u001b[0m\u001b[1;36m0\u001b[0m\u001b[1;33m]\u001b[0m \u001b[1;33m=\u001b[0m \u001b[1;36m1\u001b[0m\u001b[1;33m\u001b[0m\u001b[0m\n",
      "\u001b[1;31mModuleNotFoundError\u001b[0m: No module named 'defaultdict'"
     ]
    }
   ],
   "source": [
    "\n",
    "A=[1,0,1,0,1]\n",
    "S=2\n",
    "p, cnt, acc = defaultdict(int), 0, 0\n",
    "p[0] = 1\n",
    "for x in A:\n",
    "    acc += x\n",
    "    if acc-S in p:\n",
    "        cnt += p[acc-S]\n",
    "    p[acc] += 1\n",
    "print(cnt)"
   ]
  },
  {
   "cell_type": "code",
   "execution_count": 11,
   "metadata": {},
   "outputs": [
    {
     "name": "stdout",
     "output_type": "stream",
     "text": [
      "8\n"
     ]
    }
   ],
   "source": [
    "nums = [10, 5, 2, 6]\n",
    "k = 100\n",
    "if(k<=1):\n",
    "    print(0)\n",
    "prod=1\n",
    "ans=left=0\n",
    "for i in range(len(nums)):\n",
    "    prod*=nums[i]\n",
    "    while(prod>=k):\n",
    "        prod/=nums[left]\n",
    "        left+=1\n",
    "    ans+=i-left+1\n",
    "print(ans)\n",
    "    "
   ]
  },
  {
   "cell_type": "code",
   "execution_count": 24,
   "metadata": {},
   "outputs": [
    {
     "name": "stdout",
     "output_type": "stream",
     "text": [
      "100\n"
     ]
    }
   ],
   "source": [
    "difficulty = [2,4,6,8,10]\n",
    "profit = [10,20,30,40,50]\n",
    "worker = [4,5,6,7]\n",
    "\n",
    "job=zip(difficulty,profit)\n",
    "job=sorted(job)\n",
    "l=len(job)\n",
    "ans=0\n",
    "maxi=0\n",
    "j=0\n",
    "for i in sorted(worker):\n",
    "    while(j<l and i>=job[j][0]):\n",
    "        maxi=max(maxi,job[j][1])\n",
    "        j+=1\n",
    "    ans+=maxi\n",
    "        \n",
    "\n",
    "print(ans)"
   ]
  },
  {
   "cell_type": "code",
   "execution_count": 59,
   "metadata": {},
   "outputs": [
    {
     "name": "stdout",
     "output_type": "stream",
     "text": [
      "11\n"
     ]
    }
   ],
   "source": [
    "arr=[5,6,7,8,6,5,10,9,8,7,6,5,4,3,2,1]\n",
    "j=0\n",
    "i=0\n",
    "n=len(arr)\n",
    "flag=0\n",
    "maxi=0\n",
    "flag2=0\n",
    "while(i<n):\n",
    "    j=i\n",
    "    if(j+1<n and arr[j]<arr[j+1]):\n",
    "        while(j+1<n and arr[j]<arr[j+1]):\n",
    "                j+=1\n",
    "        if(j+1<n and arr[j]>arr[j+1]):\n",
    "            while(j+1<n and arr[j]>arr[j+1]):\n",
    "                j+=1\n",
    "            maxi=max(maxi,(j-i)+1)\n",
    "                \n",
    "    i=max(j,i+1)\n",
    "print(maxi)"
   ]
  },
  {
   "cell_type": "code",
   "execution_count": 77,
   "metadata": {},
   "outputs": [
    {
     "name": "stdout",
     "output_type": "stream",
     "text": [
      "3\n"
     ]
    }
   ],
   "source": [
    "s =\"dvdf\"\n",
    "i=0\n",
    "count=0\n",
    "j=0\n",
    "n=len(s)\n",
    "while(i<n):\n",
    "    j=i\n",
    "    #print('-----')\n",
    "    while(j<n and len(set(s[i:j+1]))==j-i+1):\n",
    "        #print(j)\n",
    "        j+=1\n",
    "    count=max(count,j-i)\n",
    "    #print('--',count)\n",
    "    i+=1\n",
    "print(count)"
   ]
  },
  {
   "cell_type": "code",
   "execution_count": 63,
   "metadata": {},
   "outputs": [
    {
     "data": {
      "text/plain": [
       "2"
      ]
     },
     "execution_count": 63,
     "metadata": {},
     "output_type": "execute_result"
    }
   ],
   "source": [
    "s = \"pwwkew\"\n",
    "len(set(s[0:3]))"
   ]
  },
  {
   "cell_type": "code",
   "execution_count": 65,
   "metadata": {},
   "outputs": [
    {
     "data": {
      "text/plain": [
       "4"
      ]
     },
     "execution_count": 65,
     "metadata": {},
     "output_type": "execute_result"
    }
   ],
   "source": [
    "count"
   ]
  },
  {
   "cell_type": "code",
   "execution_count": null,
   "metadata": {},
   "outputs": [],
   "source": []
  }
 ],
 "metadata": {
  "kernelspec": {
   "display_name": "Python 3",
   "language": "python",
   "name": "python3"
  },
  "language_info": {
   "codemirror_mode": {
    "name": "ipython",
    "version": 3
   },
   "file_extension": ".py",
   "mimetype": "text/x-python",
   "name": "python",
   "nbconvert_exporter": "python",
   "pygments_lexer": "ipython3",
   "version": "3.6.4"
  }
 },
 "nbformat": 4,
 "nbformat_minor": 2
}

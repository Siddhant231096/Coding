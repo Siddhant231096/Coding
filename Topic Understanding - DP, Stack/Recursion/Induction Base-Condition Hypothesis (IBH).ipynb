{
 "cells": [
  {
   "cell_type": "markdown",
   "metadata": {},
   "source": [
    "# 1. Print 1 to n and n to 1"
   ]
  },
  {
   "cell_type": "code",
   "execution_count": 3,
   "metadata": {},
   "outputs": [
    {
     "name": "stdout",
     "output_type": "stream",
     "text": [
      "1\n",
      "2\n",
      "3\n",
      "4\n",
      "5\n",
      "6\n",
      "7\n"
     ]
    }
   ],
   "source": [
    "# print 1 to n\n",
    "def Print(n):\n",
    "    if(n==1):\n",
    "        print(n)\n",
    "        return \n",
    "    Print(n-1)\n",
    "    print(n)\n",
    "    \n",
    "Print(7)"
   ]
  },
  {
   "cell_type": "code",
   "execution_count": 4,
   "metadata": {},
   "outputs": [
    {
     "name": "stdout",
     "output_type": "stream",
     "text": [
      "7\n",
      "6\n",
      "5\n",
      "4\n",
      "3\n",
      "2\n",
      "1\n"
     ]
    }
   ],
   "source": [
    "# print n to 1\n",
    "def Print(n):\n",
    "    if(n==1):\n",
    "        print(n)\n",
    "        return \n",
    "    print(n)\n",
    "    Print(n-1)\n",
    "    \n",
    "    \n",
    "Print(7)"
   ]
  },
  {
   "cell_type": "markdown",
   "metadata": {},
   "source": [
    "# Factorial "
   ]
  },
  {
   "cell_type": "code",
   "execution_count": 16,
   "metadata": {},
   "outputs": [
    {
     "name": "stdout",
     "output_type": "stream",
     "text": [
      "5040\n"
     ]
    }
   ],
   "source": [
    "\n",
    "def Print(n,fact):\n",
    "    if(n==1):\n",
    "        return fact\n",
    "    fact*=n\n",
    "    #print(fact)\n",
    "    return Print(n-1,fact)\n",
    "    \n",
    "fact=1\n",
    "print(Print(7,fact))"
   ]
  },
  {
   "cell_type": "markdown",
   "metadata": {},
   "source": [
    "# 2 Height of Binary Tree"
   ]
  },
  {
   "cell_type": "code",
   "execution_count": 2,
   "metadata": {},
   "outputs": [
    {
     "name": "stdout",
     "output_type": "stream",
     "text": [
      "Height is  4\n"
     ]
    }
   ],
   "source": [
    "class Node:\n",
    "    def __init__(self,data):\n",
    "        self.data=data\n",
    "        self.left=None\n",
    "        self.right=None\n",
    "        \n",
    "def Height(root):\n",
    "    if(root is None):\n",
    "        return 0\n",
    "    \n",
    "    lh=Height(root.left)\n",
    "    rh=Height(root.right)\n",
    "    \n",
    "    return 1+max(lh,rh)\n",
    "\n",
    "root=Node(1)\n",
    "root.left=Node(2)\n",
    "root.right=Node(3)\n",
    "root.left.left=Node(4)\n",
    "root.left.left.left=Node(6)\n",
    "root.right.right=Node(5)\n",
    "\n",
    "print(\"Height is \",Height(root))"
   ]
  },
  {
   "cell_type": "markdown",
   "metadata": {},
   "source": [
    "# 3 Sort an Array "
   ]
  },
  {
   "cell_type": "code",
   "execution_count": null,
   "metadata": {},
   "outputs": [],
   "source": [
    "def sort(array):\n",
    "    "
   ]
  }
 ],
 "metadata": {
  "kernelspec": {
   "display_name": "Python 3",
   "language": "python",
   "name": "python3"
  },
  "language_info": {
   "codemirror_mode": {
    "name": "ipython",
    "version": 3
   },
   "file_extension": ".py",
   "mimetype": "text/x-python",
   "name": "python",
   "nbconvert_exporter": "python",
   "pygments_lexer": "ipython3",
   "version": "3.6.4"
  }
 },
 "nbformat": 4,
 "nbformat_minor": 2
}

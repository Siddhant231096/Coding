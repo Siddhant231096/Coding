{
 "cells": [
  {
   "cell_type": "code",
   "execution_count": 16,
   "metadata": {},
   "outputs": [
    {
     "name": "stdout",
     "output_type": "stream",
     "text": [
      "1\n",
      "pqweranlodsabcd\n",
      "abcd\n",
      "adabcd\n",
      "6\n"
     ]
    }
   ],
   "source": [
    "def lexi(string,arrange_string):\n",
    "    length1=len(string)\n",
    "    length2=len(arrange_string)\n",
    "    index=[]\n",
    "    count=0\n",
    "    for i in range(length1):\n",
    "        for j in range(length2):\n",
    "            if(string[i]==arrange_string[j]):\n",
    "                index.append(i)\n",
    "                count=count+1\n",
    "                \n",
    "                \n",
    "    for i in range(len(index)):\n",
    "        print(string[index[i]],end='')\n",
    "    print()\n",
    "    print(count)\n",
    "if __name__=='__main__':\n",
    "    test=int(input())\n",
    "    for i in range(test):\n",
    "        string=input()\n",
    "        arrange_string=input()\n",
    "        lexi(string,arrange_string)\n",
    "        "
   ]
  },
  {
   "cell_type": "code",
   "execution_count": 3,
   "metadata": {},
   "outputs": [
    {
     "name": "stdout",
     "output_type": "stream",
     "text": [
      "1\n",
      "pbdca\n",
      "abcd\n",
      "pbdc\n"
     ]
    }
   ],
   "source": [
    "1\n",
    "pqweranlodsabcd\n",
    "abcd\n",
    "adabcd\n",
    "6\n",
    "\n",
    "\n",
    "\n",
    "def lexi(string,arrange_string):\n",
    "    length1=len(string)\n",
    "    length2=len(arrange_string)\n",
    "    index=[]\n",
    "    for i in range(length2):\n",
    "        for j in range(length1):\n",
    "            if(arrange_string[i]==string[j]):\n",
    "                index.append(i)\n",
    "                break\n",
    "                \n",
    "    for i in range(len(index)):\n",
    "        print(string[index[i]],end='')\n",
    "    print()\n",
    "if __name__=='__main__':\n",
    "    test=int(input())\n",
    "    for i in range(test):\n",
    "        string=input()\n",
    "        arrange_string=input()\n",
    "        lexi(string,arrange_string)\n",
    "        "
   ]
  },
  {
   "cell_type": "code",
   "execution_count": 8,
   "metadata": {},
   "outputs": [
    {
     "name": "stdout",
     "output_type": "stream",
     "text": [
      "3\n",
      "10203010011012\n",
      "**4050809\n",
      "****607\n"
     ]
    }
   ],
   "source": [
    "n=int(input())\n",
    "f=10\n",
    "s=(n*n+1)*10\n",
    "\n",
    "for i in range(n,0,-1):\n",
    "    for j in range(1,2*n+1):\n",
    "        if(j<=(2*n-2*i)):\n",
    "            print(\"*\",end=\"\")\n",
    "        elif(j>(2*n-i)):\n",
    "            if j==2*n:\n",
    "                print(s//10)\n",
    "            else:\n",
    "                print(s,end=\"\")\n",
    "            s = s + 10\n",
    "        else:\n",
    "            print(f,end=\"\")\n",
    "            f=f+10\n",
    "    s = s - (2 * i-1) * 10;\n",
    "\n"
   ]
  },
  {
   "cell_type": "code",
   "execution_count": null,
   "metadata": {},
   "outputs": [],
   "source": []
  }
 ],
 "metadata": {
  "kernelspec": {
   "display_name": "Python 3",
   "language": "python",
   "name": "python3"
  },
  "language_info": {
   "codemirror_mode": {
    "name": "ipython",
    "version": 3
   },
   "file_extension": ".py",
   "mimetype": "text/x-python",
   "name": "python",
   "nbconvert_exporter": "python",
   "pygments_lexer": "ipython3",
   "version": "3.6.8"
  }
 },
 "nbformat": 4,
 "nbformat_minor": 2
}

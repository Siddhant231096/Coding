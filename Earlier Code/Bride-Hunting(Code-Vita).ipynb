{
 "cells": [
  {
   "cell_type": "code",
   "execution_count": 16,
   "metadata": {},
   "outputs": [
    {
     "name": "stdout",
     "output_type": "stream",
     "text": [
      "6 6\n",
      "1 0 0 0 0 0\n",
      "0 0 0 0 0 0\n",
      "0 0 1 1 1 0\n",
      "0 0 1 1 1 0\n",
      "0 0 1 1 1 0\n",
      "0 0 0 0 0 0\n",
      "counter -  [3, 5, 3, 5, 8, 5, 3, 5, 3]\n"
     ]
    }
   ],
   "source": [
    "def bride(matrix):\n",
    "    counter=0\n",
    "    r=0\n",
    "    c=0\n",
    "    count=[]\n",
    "    point1=0\n",
    "    point2=0\n",
    "    matrix[0][0]=0\n",
    "    \n",
    "    length_row=len(matrix)\n",
    "    length_col=len(matrix[0])\n",
    "    #print('length of col- ',length_col)\n",
    "    for i in range(length_row):\n",
    "        #print('i ',i)\n",
    "        for j in range(length_col):\n",
    "            #print('j ',j)\n",
    "            if(matrix[i][j]==1):\n",
    "                #print('afsdadsf ',matrix[i][j])\n",
    "                #print('i and j ',i,' ',j)\n",
    "                counter=0\n",
    "                r=i\n",
    "                c=j\n",
    "                uplr=upr=uprr=r-1\n",
    "                uplc=slc=lwlc=c-1\n",
    "                lwlr=lwr=lwrr=r+1\n",
    "                uprc=src=lwrc=c+1\n",
    "                slr=srr=r\n",
    "                upc=lwc=c\n",
    "                \n",
    "                if(uplr>=0 and uplc>=0 and uplr<=length_row-1 and uplc<=length_col-1):\n",
    "                    if(matrix[uplr][uplc]==1):\n",
    "                        counter=counter+1\n",
    "                if(upr>=0 and upc>=0 and upr<=length_row-1 and upc<=length_col-1):\n",
    "                    if(matrix[upr][upc]==1):\n",
    "                        counter=counter+1        \n",
    "                if(uprr>=0 and uprc>=0 and uprr<=length_row-1 and uprc<=length_col-1):\n",
    "                    if(matrix[uprr][uprc]==1):\n",
    "                        counter=counter+1                        \n",
    "                if(slr>=0 and slc>=0 and slr<=length_row-1 and slc<=length_col-1):\n",
    "                    if(matrix[slr][slc]==1):\n",
    "                        counter=counter+1       \n",
    "                if(srr>=0 and src>=0 and srr<=length_row-1 and src<=length_col-1):\n",
    "                    if(matrix[srr][src]==1):\n",
    "                        counter=counter+1        \n",
    "                if(lwlr>=0 and lwlc>=0 and lwlr<=length_row-1 and lwlc<=length_col-1):\n",
    "                    if(matrix[lwlr][lwlc]==1):\n",
    "                        counter=counter+1\n",
    "                        \n",
    "                if(lwr>=0 and lwc>=0 and lwr<=length_row-1 and lwc<=length_col-1):\n",
    "                    if(matrix[lwr][lwc]==1):\n",
    "                        counter=counter+1        \n",
    "                       \n",
    "                if(lwrr>=0 and lwrc>=0 and lwrr<=length_row-1 and lwrc<=length_col-1):\n",
    "                    if(matrix[lwrr][lwrc]==1):\n",
    "                        counter=counter+1    \n",
    "                #print('counter is - ',counter)       \n",
    "                count.append(counter)        \n",
    "    #print(matrix)\n",
    "    #print(length_row,length_col)\n",
    "    print('counter - ',count)\n",
    "    \n",
    "if __name__=='__main__':\n",
    "    matrix=[]\n",
    "    list1=list(map(int,input().split()))\n",
    "    for i in range(list1[0]):\n",
    "            matrix.append(list(map(int,input().split())))\n",
    "            \n",
    "    \n",
    "    #print(matrix)\n",
    "    bride(matrix)\n",
    "    "
   ]
  },
  {
   "cell_type": "code",
   "execution_count": null,
   "metadata": {},
   "outputs": [],
   "source": [
    "101101111\n",
    "000101001"
   ]
  },
  {
   "cell_type": "code",
   "execution_count": 2,
   "metadata": {},
   "outputs": [
    {
     "name": "stdout",
     "output_type": "stream",
     "text": [
      "23\n",
      "45\n",
      "56\n",
      "90\n",
      "147\n"
     ]
    }
   ],
   "source": [
    "class node:\n",
    "    def __init__(self,data):\n",
    "        self.left=None\n",
    "        self.right=None\n",
    "        self.data=data\n",
    "        \n",
    "    def insert(self,data):\n",
    "        if self.data:\n",
    "            if data<self.data:\n",
    "                if self.left is None:\n",
    "                    self.left=node(data)\n",
    "                else:\n",
    "                    self.left.insert(data)\n",
    "            elif data>self.data:\n",
    "                if self.right is None:\n",
    "                    self.right=node(data)\n",
    "                else:\n",
    "                    self.right.insert(data)\n",
    "        else:\n",
    "            self.data=data\n",
    "            \n",
    "\n",
    "        \n",
    "        \n",
    "    def printtree(self):\n",
    "        if self.left:\n",
    "            self.left.printtree()\n",
    "        print(self.data)\n",
    "        if self.right:\n",
    "            self.right.printtree()\n",
    "            \n",
    "root=node(56)\n",
    "root.insert(147)\n",
    "root.insert(90)\n",
    "root.insert(45)\n",
    "root.insert(23)\n",
    "\n",
    "root.printtree()"
   ]
  },
  {
   "cell_type": "code",
   "execution_count": null,
   "metadata": {},
   "outputs": [],
   "source": []
  },
  {
   "cell_type": "code",
   "execution_count": null,
   "metadata": {},
   "outputs": [],
   "source": []
  },
  {
   "cell_type": "code",
   "execution_count": null,
   "metadata": {},
   "outputs": [],
   "source": []
  }
 ],
 "metadata": {
  "kernelspec": {
   "display_name": "Python 3",
   "language": "python",
   "name": "python3"
  },
  "language_info": {
   "codemirror_mode": {
    "name": "ipython",
    "version": 3
   },
   "file_extension": ".py",
   "mimetype": "text/x-python",
   "name": "python",
   "nbconvert_exporter": "python",
   "pygments_lexer": "ipython3",
   "version": "3.6.8"
  }
 },
 "nbformat": 4,
 "nbformat_minor": 2
}

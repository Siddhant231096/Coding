{
 "cells": [
  {
   "cell_type": "code",
   "execution_count": 21,
   "metadata": {},
   "outputs": [
    {
     "name": "stdout",
     "output_type": "stream",
     "text": [
      "24\n",
      "82.5\n",
      "15.00\n",
      "15.00\n"
     ]
    }
   ],
   "source": [
    "\n",
    "\n",
    "\n",
    "    "
   ]
  },
  {
   "cell_type": "code",
   "execution_count": 25,
   "metadata": {},
   "outputs": [
    {
     "name": "stdout",
     "output_type": "stream",
     "text": [
      "24\n",
      "82.5\n",
      "15.00\n",
      "15.0\n"
     ]
    }
   ],
   "source": [
    "hour=int(input())\n",
    "degree=float(input())\n",
    "time(hour,degree)   \n",
    "time_min=(hour/360)*degree\n",
    "hou=int(time_min)\n",
    "minu=(time_min-int(time_min))*60\n",
    "d=0\n",
    "if((11/2)*minu > 30*hou):\n",
    "    d=(11/2)*minu-30*hou\n",
    "else:\n",
    "    d=30*hou-11/2*minu\n",
    "print(d%360)"
   ]
  },
  {
   "cell_type": "markdown",
   "metadata": {},
   "source": [
    "#### "
   ]
  }
 ],
 "metadata": {
  "kernelspec": {
   "display_name": "Python 3",
   "language": "python",
   "name": "python3"
  },
  "language_info": {
   "codemirror_mode": {
    "name": "ipython",
    "version": 3
   },
   "file_extension": ".py",
   "mimetype": "text/x-python",
   "name": "python",
   "nbconvert_exporter": "python",
   "pygments_lexer": "ipython3",
   "version": "3.6.8"
  }
 },
 "nbformat": 4,
 "nbformat_minor": 2
}

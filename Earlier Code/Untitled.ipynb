{
 "cells": [
  {
   "cell_type": "code",
   "execution_count": 6,
   "metadata": {},
   "outputs": [],
   "source": [
    "import pandas as pd\n",
    "import matplotlib.pyplot as plt\n",
    "import math\n",
    "\n",
    "\n",
    "data=pd.read_csv('data.csv')\n",
    "is_goal=data['is_goal'].values\n",
    "location_x=data['location_x'].values\n",
    "location_y=data['location_y'].values\n",
    "goal_add=[]\n",
    "dis_shot=[]\n",
    "distance_of_shot=data['distance_of_shot'].values\n",
    "dis_max=max(distance_of_shot)\n",
    "\n",
    "\n",
    "for i in range(len(distance_of_shot)):\n",
    "    dis_shot.append(float('%.2f'%(distance_of_shot[i]/dis_max)))\n",
    "is_goal_1=[]\n",
    "for i in range(len(is_goal)):\n",
    "    if(dis_shot[i]<.50):\n",
    "        is_goal_1.append(1)\n",
    "    else:\n",
    "        is_goal_1.append(0)\n",
    "        \n",
    "        \n",
    "for i in range(len(location_y)):\n",
    "    if(location_y[i]<500):\n",
    "        goal_add.append(1)\n",
    "    else:\n",
    "        goal_add.append(0)\n",
    "        \n",
    "is_goal_demo=[]\n",
    "for i in range(len(data)):\n",
    "    if math.isnan(is_goal[i]):\n",
    "        is_goal_demo.append(0.5)\n",
    "    else:\n",
    "        is_goal_demo.append(is_goal[i])\n",
    "        \n",
    "for i in range(len(is_goal)):\n",
    "    is_goal_demo[i]=('%.2f'%((is_goal_demo[i]+goal_add[i]+is_goal_1[i])/3))\n",
    "    \n",
    "    \n",
    "power_of_shot=data['power_of_shot'].values\n",
    "\n",
    "\n",
    "s_id_no=[]\n",
    "for i in range(len(is_goal)):\n",
    "    s_id_no.append(data.iloc[i][17].astype('str'))\n",
    "\n",
    "\n",
    "for i in range(len(is_goal)):\n",
    "    s_id_no[i]=str(s_id_no[i])\n",
    "    \n",
    "    \n"
   ]
  },
  {
   "cell_type": "code",
   "execution_count": 12,
   "metadata": {},
   "outputs": [
    {
     "data": {
      "text/plain": [
       "29220"
      ]
     },
     "execution_count": 12,
     "metadata": {},
     "output_type": "execute_result"
    }
   ],
   "source": [
    "len(s_id_no)"
   ]
  },
  {
   "cell_type": "code",
   "execution_count": 9,
   "metadata": {},
   "outputs": [
    {
     "ename": "IndexError",
     "evalue": "list index out of range",
     "output_type": "error",
     "traceback": [
      "\u001b[0;31m---------------------------------------------------------------------------\u001b[0m",
      "\u001b[0;31mIndexError\u001b[0m                                Traceback (most recent call last)",
      "\u001b[0;32m<ipython-input-9-171cdc1274af>\u001b[0m in \u001b[0;36m<module>\u001b[0;34m\u001b[0m\n\u001b[1;32m      1\u001b[0m \u001b[0minde\u001b[0m\u001b[0;34m=\u001b[0m\u001b[0;34m[\u001b[0m\u001b[0;34m]\u001b[0m\u001b[0;34m\u001b[0m\u001b[0;34m\u001b[0m\u001b[0m\n\u001b[1;32m      2\u001b[0m \u001b[0;32mfor\u001b[0m \u001b[0mi\u001b[0m \u001b[0;32min\u001b[0m \u001b[0mrange\u001b[0m\u001b[0;34m(\u001b[0m\u001b[0mlen\u001b[0m\u001b[0;34m(\u001b[0m\u001b[0ms_id_no\u001b[0m\u001b[0;34m)\u001b[0m\u001b[0;34m)\u001b[0m\u001b[0;34m:\u001b[0m\u001b[0;34m\u001b[0m\u001b[0;34m\u001b[0m\u001b[0m\n\u001b[0;32m----> 3\u001b[0;31m     \u001b[0;32mif\u001b[0m\u001b[0;34m(\u001b[0m\u001b[0ms_id_no\u001b[0m\u001b[0;34m[\u001b[0m\u001b[0mi\u001b[0m\u001b[0;34m]\u001b[0m\u001b[0;34m==\u001b[0m\u001b[0;34m'nan'\u001b[0m\u001b[0;34m)\u001b[0m\u001b[0;34m:\u001b[0m\u001b[0;34m\u001b[0m\u001b[0;34m\u001b[0m\u001b[0m\n\u001b[0m\u001b[1;32m      4\u001b[0m         \u001b[0ms_id_no\u001b[0m\u001b[0;34m.\u001b[0m\u001b[0mpop\u001b[0m\u001b[0;34m(\u001b[0m\u001b[0mi\u001b[0m\u001b[0;34m)\u001b[0m\u001b[0;34m\u001b[0m\u001b[0;34m\u001b[0m\u001b[0m\n\u001b[1;32m      5\u001b[0m         \u001b[0minde\u001b[0m\u001b[0;34m.\u001b[0m\u001b[0mappend\u001b[0m\u001b[0;34m(\u001b[0m\u001b[0mi\u001b[0m\u001b[0;34m)\u001b[0m\u001b[0;34m\u001b[0m\u001b[0;34m\u001b[0m\u001b[0m\n",
      "\u001b[0;31mIndexError\u001b[0m: list index out of range"
     ]
    }
   ],
   "source": [
    "inde=[]\n",
    "for i in range(len(s_id_no)):\n",
    "    if(s_id_no[i]=='nan'):\n",
    "        s_id_no.pop(i)\n",
    "        inde.append(i)\n",
    "        \n",
    "counter=0\n",
    "for i in range(len(inde)):\n",
    "    is_goal_demo.pop(inde[i]-counter)\n",
    "    counter=counter+1\n",
    "data_tuples = list(zip(s_id_no,is_goal_demo))\n",
    "\n",
    "df1 = pd.DataFrame(data_tuples, columns = ['shot_id_number', 'is_goal'])\n",
    "\n",
    "print(df1)"
   ]
  },
  {
   "cell_type": "code",
   "execution_count": null,
   "metadata": {},
   "outputs": [],
   "source": []
  },
  {
   "cell_type": "code",
   "execution_count": 1,
   "metadata": {},
   "outputs": [],
   "source": [
    "matrix=[[None for i in range(3)]for j in range(3)]"
   ]
  },
  {
   "cell_type": "code",
   "execution_count": 2,
   "metadata": {},
   "outputs": [
    {
     "data": {
      "text/plain": [
       "[[None, None, None], [None, None, None], [None, None, None]]"
      ]
     },
     "execution_count": 2,
     "metadata": {},
     "output_type": "execute_result"
    }
   ],
   "source": [
    "matrix"
   ]
  },
  {
   "cell_type": "code",
   "execution_count": 8,
   "metadata": {},
   "outputs": [],
   "source": [
    "x=[[100,2,3],[100.009,3,3],[100.008,5,6]]"
   ]
  },
  {
   "cell_type": "code",
   "execution_count": 70,
   "metadata": {},
   "outputs": [
    {
     "name": "stdout",
     "output_type": "stream",
     "text": [
      "100\n",
      "100.009\n",
      "100.008\n"
     ]
    }
   ],
   "source": [
    "for i in range(0,3):\n",
    "    print(x[i][0])"
   ]
  },
  {
   "cell_type": "code",
   "execution_count": null,
   "metadata": {},
   "outputs": [],
   "source": []
  },
  {
   "cell_type": "code",
   "execution_count": null,
   "metadata": {},
   "outputs": [],
   "source": []
  },
  {
   "cell_type": "code",
   "execution_count": null,
   "metadata": {},
   "outputs": [],
   "source": []
  }
 ],
 "metadata": {
  "kernelspec": {
   "display_name": "Python 3",
   "language": "python",
   "name": "python3"
  },
  "language_info": {
   "codemirror_mode": {
    "name": "ipython",
    "version": 3
   },
   "file_extension": ".py",
   "mimetype": "text/x-python",
   "name": "python",
   "nbconvert_exporter": "python",
   "pygments_lexer": "ipython3",
   "version": "3.6.9"
  }
 },
 "nbformat": 4,
 "nbformat_minor": 2
}

{
 "cells": [
  {
   "cell_type": "code",
   "execution_count": 8,
   "metadata": {},
   "outputs": [
    {
     "name": "stdout",
     "output_type": "stream",
     "text": [
      "i -  3\n",
      "3\n",
      "3\n",
      "i -  5\n",
      "5\n",
      "i -  7\n",
      "7\n",
      "i -  9\n",
      "i -  11\n",
      "i -  13\n",
      "i -  15\n",
      "i -  17\n"
     ]
    }
   ],
   "source": [
    "import math\n",
    "def primeFactors(n): \n",
    "      \n",
    "    # Print the number of two's that divide n \n",
    "    while n % 2 == 0: \n",
    "    \n",
    "        print(2) \n",
    "        n = n / 2\n",
    "          \n",
    "    # n must be odd at this point \n",
    "    # so a skip of 2 ( i = i + 2) can be used \n",
    "    for i in range(3,int(math.sqrt(n))+1,2): \n",
    "        print('i - ',i)          \n",
    "        # while i divides n , print i ad divide n \n",
    "        while n % i== 0: \n",
    "            print(i) \n",
    "            n = n / i \n",
    "              \n",
    "    # Condition if n is a prime \n",
    "    # number greater than 2 \n",
    "    if n > 2: \n",
    "        print(n) \n",
    "          \n",
    "# Driver Program to test above function \n",
    "  \n",
    "n = 315\n",
    "primeFactors(n) "
   ]
  },
  {
   "cell_type": "code",
   "execution_count": 21,
   "metadata": {},
   "outputs": [
    {
     "data": {
      "text/plain": [
       "324"
      ]
     },
     "execution_count": 21,
     "metadata": {},
     "output_type": "execute_result"
    }
   ],
   "source": [
    "18*18"
   ]
  },
  {
   "cell_type": "code",
   "execution_count": 28,
   "metadata": {},
   "outputs": [
    {
     "name": "stdout",
     "output_type": "stream",
     "text": [
      "\n"
     ]
    }
   ],
   "source": [
    "class A:\n",
    "    def fun(self):\n",
    "        print('A')\n",
    "class B:\n",
    "    def fun(self):\n",
    "        print('B')\n",
    "class C(A,B):\n",
    "    cs=C()\n",
    "    cs.fun()"
   ]
  },
  {
   "cell_type": "code",
   "execution_count": 40,
   "metadata": {},
   "outputs": [
    {
     "name": "stdout",
     "output_type": "stream",
     "text": [
      "a\n",
      "yes\n"
     ]
    },
    {
     "data": {
      "text/plain": [
       "'anvndhf'"
      ]
     },
     "execution_count": 40,
     "metadata": {},
     "output_type": "execute_result"
    }
   ],
   "source": [
    "s='anvndhf'\n",
    "if('a' in s):\n",
    "    \n",
    "    ind=s.index('a')\n",
    "    print('yes')\n",
    "else:\n",
    "    print('no')\n",
    "s"
   ]
  },
  {
   "cell_type": "code",
   "execution_count": null,
   "metadata": {},
   "outputs": [],
   "source": []
  }
 ],
 "metadata": {
  "kernelspec": {
   "display_name": "Python 3",
   "language": "python",
   "name": "python3"
  },
  "language_info": {
   "codemirror_mode": {
    "name": "ipython",
    "version": 3
   },
   "file_extension": ".py",
   "mimetype": "text/x-python",
   "name": "python",
   "nbconvert_exporter": "python",
   "pygments_lexer": "ipython3",
   "version": "3.6.8"
  }
 },
 "nbformat": 4,
 "nbformat_minor": 2
}

{
 "cells": [
  {
   "cell_type": "code",
   "execution_count": 7,
   "metadata": {},
   "outputs": [
    {
     "name": "stdout",
     "output_type": "stream",
     "text": [
      "3\n",
      "10 20 30 80 90 100 \n",
      "\n",
      "\n"
     ]
    }
   ],
   "source": [
    "def pattern(inp):\n",
    "        var=10\n",
    "        i=0\n",
    "        j=0\n",
    "        counter=0\n",
    "        store=0\n",
    "        inner=inp\n",
    "        while(j<inp):\n",
    "            while(i<inner):\n",
    "                print(var,end=' ')\n",
    "                var=var+10\n",
    "                i=i+1\n",
    "                store=var\n",
    "                counter =counter+1\n",
    "                if counter==inp:\n",
    "                    var = var + (inp-1)*20\n",
    "                    inner=inner+inp\n",
    "            \n",
    "            \n",
    "            print()\n",
    "            i=i+1\n",
    "            j=j+1\n",
    "            #while()\n",
    "            #j=j+1\n",
    "    \n",
    "    \n",
    "if __name__=='__main__':\n",
    "    inp=int(input())\n",
    "    pattern(inp)"
   ]
  },
  {
   "cell_type": "markdown",
   "metadata": {},
   "source": [
    "### "
   ]
  }
 ],
 "metadata": {
  "kernelspec": {
   "display_name": "Python 3",
   "language": "python",
   "name": "python3"
  },
  "language_info": {
   "codemirror_mode": {
    "name": "ipython",
    "version": 3
   },
   "file_extension": ".py",
   "mimetype": "text/x-python",
   "name": "python",
   "nbconvert_exporter": "python",
   "pygments_lexer": "ipython3",
   "version": "3.6.8"
  }
 },
 "nbformat": 4,
 "nbformat_minor": 2
}

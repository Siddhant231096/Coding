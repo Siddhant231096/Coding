{
 "cells": [
  {
   "cell_type": "markdown",
   "metadata": {},
   "source": [
    "# DP - 3"
   ]
  },
  {
   "cell_type": "code",
   "execution_count": 7,
   "metadata": {},
   "outputs": [
    {
     "name": "stdout",
     "output_type": "stream",
     "text": [
      "[10, 22, 9, 33, 21, 50, 41, 60]\n",
      "[1, 2, 1, 3, 2, 4, 4, 5]\n",
      "5\n"
     ]
    }
   ],
   "source": [
    "def lens(arr):\n",
    "    n=len(arr)\n",
    "    li=[1]*n\n",
    "    for i in range(1,n):\n",
    "        for j in range(0,i):\n",
    "            if(arr[i]>arr[j] and li[i]<li[j]+1):\n",
    "                li[i]=li[j]+1\n",
    "                \n",
    "    maxim=0\n",
    "    print(arr)\n",
    "    print(li)\n",
    "    \n",
    "    return max(li)\n",
    "    \n",
    "    \n",
    "\n",
    "\n",
    "\n",
    "if __name__=='__main__':\n",
    "    arr = [10, 22, 9, 33, 21, 50, 41, 60] \n",
    "    print(lens(arr))"
   ]
  },
  {
   "cell_type": "markdown",
   "metadata": {},
   "source": [
    "# DP-6 -- Minimum cost Path"
   ]
  },
  {
   "cell_type": "code",
   "execution_count": 11,
   "metadata": {},
   "outputs": [
    {
     "name": "stdout",
     "output_type": "stream",
     "text": [
      "1 2 3\n",
      "4 8 2\n",
      "1 5 3\n",
      "2\n",
      "2\n",
      "w --  1\n",
      "w --  3\n",
      "w --  1\n",
      "q --  1\n",
      "e --  1\n",
      "w --  1\n",
      "e --  3\n",
      "w --  1\n",
      "q --  1\n",
      "e --  1\n",
      "q --  1\n",
      "q --  5\n",
      "q --  1\n",
      "e --  5\n",
      "w --  1\n",
      "q --  1\n",
      "e --  1\n",
      "q --  5\n",
      "8\n"
     ]
    }
   ],
   "source": [
    "import sys\n",
    "\n",
    "def min_cost(li,x,y):\n",
    "    if x<0 or y<0:\n",
    "        return sys.maxsize\n",
    "    elif x==0 and y==0:\n",
    "        return li[x][y]\n",
    "    else:\n",
    "        \n",
    "        return li[x][y]+minx(min_cost(li,x-1,y),min_cost(li,x,y-1),min_cost(li,x-1,y-1))\n",
    "        \n",
    "def minx(q,w,e):\n",
    "    if q<w and q<e:\n",
    "        print('q -- ',q)\n",
    "        return q\n",
    "    elif w<q and w<e:\n",
    "        print('w -- ',w)\n",
    "        return w\n",
    "    else:\n",
    "        print('e -- ',e)\n",
    "        return e\n",
    "\n",
    "if __name__=='__main__':\n",
    "    li=[]\n",
    "    cost=0\n",
    "    for i in range(3):\n",
    "        li.append(list(map(int,input().split())))\n",
    "    x=int(input())\n",
    "    y=int(input())\n",
    "    \n",
    "    print(min_cost(li,x,y))"
   ]
  },
  {
   "cell_type": "code",
   "execution_count": 14,
   "metadata": {},
   "outputs": [
    {
     "name": "stdout",
     "output_type": "stream",
     "text": [
      "1 2 3\n",
      "4 8 2\n",
      "1 5 3\n",
      "2\n",
      "2\n",
      "q --  1\n",
      "q --  3\n",
      "q --  5\n",
      "w --  5\n",
      "8\n"
     ]
    }
   ],
   "source": [
    "def min_cost(li,x,y):\n",
    "    tli=[[0 for i in range(3)] for j in range(3)]\n",
    "    tli[0][0]=li[0][0]\n",
    "    for i in range(1,x+1):\n",
    "        tli[i][0]=tli[i-1][0]+li[i][0]\n",
    "    for j in range(1,y+1):\n",
    "        tli[0][j]=tli[0][j-1]+li[0][j]\n",
    "        \n",
    "    for i in range(1,x+1):\n",
    "        for j in range(1,y+1):\n",
    "            tli[i][j]=min(tli[i-1][j-1],tli[i-1][j],tli[i][j-1]) + li[i][j]\n",
    "\n",
    "    return tli[x][y]\n",
    "\n",
    "\n",
    "\n",
    "if __name__=='__main__':\n",
    "    li=[]\n",
    "    cost=0\n",
    "    for i in range(3):\n",
    "        li.append(list(map(int,input().split())))\n",
    "    x=int(input())\n",
    "    y=int(input())\n",
    "    \n",
    "    print(min_cost(li,x,y))"
   ]
  },
  {
   "cell_type": "markdown",
   "metadata": {},
   "source": [
    "# DP-7 -- Coin Change"
   ]
  },
  {
   "cell_type": "code",
   "execution_count": 9,
   "metadata": {},
   "outputs": [
    {
     "name": "stdout",
     "output_type": "stream",
     "text": [
      "1 1 1 \n",
      "0 0 0 \n",
      "1 2 2 \n",
      "0 0 1 \n",
      "1 3 3 \n",
      "3\n"
     ]
    }
   ],
   "source": [
    "def count(S,m,n):\n",
    "    table=[[0 for i in range(m)] for j in range(n+1)]\n",
    "    for i in range(m):\n",
    "        table[0][i]=1\n",
    "        print(table[0][i],end=' ')\n",
    "    print()\n",
    "    for i in range(1, n+1): \n",
    "        for j in range(m): \n",
    "  \n",
    "            # Count of solutions including S[j] \n",
    "            x = table[i - S[j]][j] if i-S[j] >= 0 else 0\n",
    "  \n",
    "            # Count of solutions excluding S[j] \n",
    "            y = table[i][j-1] if j >= 1 else 0\n",
    "  \n",
    "            # total count \n",
    "            table[i][j] = x + y \n",
    "            print(table[i][j],end=' ')\n",
    "        print()\n",
    "    return table[n][m-1] \n",
    "\n",
    "\n",
    "arr=[2,2,3]\n",
    "print(count(arr,len(arr),4))"
   ]
  },
  {
   "cell_type": "code",
   "execution_count": 13,
   "metadata": {},
   "outputs": [
    {
     "name": "stdout",
     "output_type": "stream",
     "text": [
      "[0, 0, 0, 0, 0]\n",
      "\n",
      "1 1 1 1 \n",
      "2 2 3 \n",
      "3 4 \n",
      "4\n"
     ]
    }
   ],
   "source": [
    "def count(S,m,n):\n",
    "    table = [0 for k in range(n+1)] \n",
    "    print(table)\n",
    "    print()\n",
    "    # Base case (If given value is 0) \n",
    "    table[0] = 1\n",
    "    \n",
    "    # Pick all coins one by one and update the table[] values \n",
    "    # after the index greater than or equal to the value of the \n",
    "    # picked coin \n",
    "    for i in range(0,m): \n",
    "        for j in range(S[i],n+1): \n",
    "            table[j] += table[j-S[i]]\n",
    "            print(table[j],end=' ')\n",
    "        print()\n",
    "    return table[n] \n",
    "    \n",
    "arr=[1,2,3]\n",
    "print(count(arr,len(arr),4))"
   ]
  },
  {
   "cell_type": "code",
   "execution_count": null,
   "metadata": {},
   "outputs": [],
   "source": []
  }
 ],
 "metadata": {
  "kernelspec": {
   "display_name": "Python 3",
   "language": "python",
   "name": "python3"
  },
  "language_info": {
   "codemirror_mode": {
    "name": "ipython",
    "version": 3
   },
   "file_extension": ".py",
   "mimetype": "text/x-python",
   "name": "python",
   "nbconvert_exporter": "python",
   "pygments_lexer": "ipython3",
   "version": "3.6.8"
  }
 },
 "nbformat": 4,
 "nbformat_minor": 2
}

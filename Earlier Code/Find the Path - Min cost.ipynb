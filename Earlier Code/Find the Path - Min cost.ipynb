{
 "cells": [
  {
   "cell_type": "code",
   "execution_count": 1,
   "metadata": {},
   "outputs": [
    {
     "ename": "KeyError",
     "evalue": "'OUTPUT_PATH'",
     "output_type": "error",
     "traceback": [
      "\u001b[0;31m---------------------------------------------------------------------------\u001b[0m",
      "\u001b[0;31mKeyError\u001b[0m                                  Traceback (most recent call last)",
      "\u001b[0;32m<ipython-input-1-06db82ca0789>\u001b[0m in \u001b[0;36m<module>\u001b[0;34m()\u001b[0m\n\u001b[1;32m     18\u001b[0m \u001b[0;34m\u001b[0m\u001b[0m\n\u001b[1;32m     19\u001b[0m \u001b[0;32mif\u001b[0m \u001b[0m__name__\u001b[0m \u001b[0;34m==\u001b[0m \u001b[0;34m'__main__'\u001b[0m\u001b[0;34m:\u001b[0m\u001b[0;34m\u001b[0m\u001b[0;34m\u001b[0m\u001b[0m\n\u001b[0;32m---> 20\u001b[0;31m     \u001b[0mfptr\u001b[0m \u001b[0;34m=\u001b[0m \u001b[0mopen\u001b[0m\u001b[0;34m(\u001b[0m\u001b[0mos\u001b[0m\u001b[0;34m.\u001b[0m\u001b[0menviron\u001b[0m\u001b[0;34m[\u001b[0m\u001b[0;34m'OUTPUT_PATH'\u001b[0m\u001b[0;34m]\u001b[0m\u001b[0;34m,\u001b[0m \u001b[0;34m'w'\u001b[0m\u001b[0;34m)\u001b[0m\u001b[0;34m\u001b[0m\u001b[0;34m\u001b[0m\u001b[0m\n\u001b[0m\u001b[1;32m     21\u001b[0m \u001b[0;34m\u001b[0m\u001b[0m\n\u001b[1;32m     22\u001b[0m     \u001b[0mnm\u001b[0m \u001b[0;34m=\u001b[0m \u001b[0minput\u001b[0m\u001b[0;34m(\u001b[0m\u001b[0;34m)\u001b[0m\u001b[0;34m.\u001b[0m\u001b[0msplit\u001b[0m\u001b[0;34m(\u001b[0m\u001b[0;34m)\u001b[0m\u001b[0;34m\u001b[0m\u001b[0;34m\u001b[0m\u001b[0m\n",
      "\u001b[0;32m/usr/lib/python3.6/os.py\u001b[0m in \u001b[0;36m__getitem__\u001b[0;34m(self, key)\u001b[0m\n\u001b[1;32m    667\u001b[0m         \u001b[0;32mexcept\u001b[0m \u001b[0mKeyError\u001b[0m\u001b[0;34m:\u001b[0m\u001b[0;34m\u001b[0m\u001b[0;34m\u001b[0m\u001b[0m\n\u001b[1;32m    668\u001b[0m             \u001b[0;31m# raise KeyError with the original key value\u001b[0m\u001b[0;34m\u001b[0m\u001b[0;34m\u001b[0m\u001b[0;34m\u001b[0m\u001b[0m\n\u001b[0;32m--> 669\u001b[0;31m             \u001b[0;32mraise\u001b[0m \u001b[0mKeyError\u001b[0m\u001b[0;34m(\u001b[0m\u001b[0mkey\u001b[0m\u001b[0;34m)\u001b[0m \u001b[0;32mfrom\u001b[0m \u001b[0;32mNone\u001b[0m\u001b[0;34m\u001b[0m\u001b[0;34m\u001b[0m\u001b[0m\n\u001b[0m\u001b[1;32m    670\u001b[0m         \u001b[0;32mreturn\u001b[0m \u001b[0mself\u001b[0m\u001b[0;34m.\u001b[0m\u001b[0mdecodevalue\u001b[0m\u001b[0;34m(\u001b[0m\u001b[0mvalue\u001b[0m\u001b[0;34m)\u001b[0m\u001b[0;34m\u001b[0m\u001b[0;34m\u001b[0m\u001b[0m\n\u001b[1;32m    671\u001b[0m \u001b[0;34m\u001b[0m\u001b[0m\n",
      "\u001b[0;31mKeyError\u001b[0m: 'OUTPUT_PATH'"
     ]
    }
   ],
   "source": [
    "#!/bin/python3\n",
    "\n",
    "import os\n",
    "import sys\n",
    "\n",
    "#\n",
    "# Complete the shortestPath function below.\n",
    "#\n",
    "def shortestPath(a, queries):\n",
    "    print(a)\n",
    "    print(b)\n",
    "\n",
    "\n",
    "    \n",
    "    #\n",
    "    # Write your code here.\n",
    "    #\n",
    "\n",
    "if __name__ == '__main__':\n",
    "    fptr = open(os.environ['OUTPUT_PATH'], 'w')\n",
    "\n",
    "    nm = input().split()\n",
    "\n",
    "    n = int(nm[0])\n",
    "\n",
    "    m = int(nm[1])\n",
    "\n",
    "    a = []\n",
    "\n",
    "    for _ in range(n):\n",
    "        a.append(list(map(int, input().rstrip().split())))\n",
    "\n",
    "    q = int(input())\n",
    "\n",
    "    queries = []\n",
    "\n",
    "    for _ in range(q):\n",
    "        queries.append(list(map(int, input().rstrip().split())))\n",
    "\n",
    "    result = shortestPath(a, queries)\n",
    "\n",
    "    fptr.write('\\n'.join(map(str, result)))\n",
    "    fptr.write('\\n')\n",
    "\n",
    "    fptr.close()\n"
   ]
  },
  {
   "cell_type": "code",
   "execution_count": 3,
   "metadata": {},
   "outputs": [],
   "source": [
    "matrix=[[None for i in range(4)]for j in range(3)]"
   ]
  },
  {
   "cell_type": "code",
   "execution_count": 4,
   "metadata": {},
   "outputs": [
    {
     "data": {
      "text/plain": [
       "[[None, None, None, None], [None, None, None, None], [None, None, None, None]]"
      ]
     },
     "execution_count": 4,
     "metadata": {},
     "output_type": "execute_result"
    }
   ],
   "source": [
    "matrix"
   ]
  },
  {
   "cell_type": "code",
   "execution_count": null,
   "metadata": {},
   "outputs": [],
   "source": [
    "#!/bin/python3\n",
    "\n",
    "import os\n",
    "import sys\n",
    "\n",
    "#\n",
    "# Complete the shortestPath function below.\n",
    "#\n",
    "def shortestPath(a, queries):\n",
    "    ra=ca=rq=cq=sc=sr=er=ec=0\n",
    "    cost=[]\n",
    "    print(a)\n",
    "    print(queries)\n",
    "    ra=len(a)\n",
    "    ca=len(a[0])\n",
    "    rq=len(queries)\n",
    "    for i in range(rq):\n",
    "        sr=queries[i][0]\n",
    "        sc=queries[i][1]\n",
    "        er=queries[i][2]\n",
    "        ec=queries[i][3]\n",
    "        print('------------------------------------------------')\n",
    "        print(er)\n",
    "        print(ec)\n",
    "        cost.append(mincost(a,sr,sc,er,ec))\n",
    "        print(\"List - > \",cost)\n",
    "    return cost\n",
    "\n",
    "def mincost(cost1,sr,sc,er,ec):\n",
    "    print(\"er -- > \",er)\n",
    "    print(\"ec -- > \",ec)\n",
    "    if(er<0 and ec<0):\n",
    "        return 0\n",
    "    elif(er==sr and ec==sc):\n",
    "        return cost1[er][ec]\n",
    "    else:\n",
    "        return cost1[er][ec]+minv(mincost(cost1,sr,sc,er-1,ec-1),mincost(cost1,sr,sc,er-1,ec),mincost(cost1,sr,sc,er,ec-1))\n",
    "\n",
    "def minv(x,y,z):\n",
    "    if(x<y and x<z):\n",
    "        return x\n",
    "    elif(y<x and y<z):\n",
    "        return y\n",
    "    else:\n",
    "        return z\n",
    "\n",
    "\n",
    "\n",
    "    '''costf=0\n",
    "    costf=cost1[er][ec]\n",
    "    print(\"costf -> \",costf)\n",
    "    while(er>=sr and ec>=sc):\n",
    "        print(er)\n",
    "        print(ec)\n",
    "        print(cost1[er-1][ec-1])\n",
    "        #costf=costf+min(cost1[er-1,ec-1],cost1[er-1,ec],cost1[er,ec-1])\n",
    "        if(cost1[er-1][ec-1]<cost1[er-1][ec] and cost1[er-1][ec-1]<cost1[er][ec-1]):\n",
    "            print(cost1[er-1][ec-1])\n",
    "            costf=costf+cost1[er-1][ec-1]\n",
    "            er=er-1\n",
    "            ec=ec-1\n",
    "            print(er)\n",
    "            print(ec)\n",
    "\n",
    "        elif(cost1[er-1][ec]<cost1[er-1][ec-1] and cost1[er-1][ec]<cost1[er][ec-1]):\n",
    "            print(cost1[er-1][ec])\n",
    "            costf=costf+cost1[er-1][ec]\n",
    "            er=er-1\n",
    "            print(er)\n",
    "            print(ec)\n",
    "        elif(cost1[er][ec-1]<cost1[er-1][ec-1] and cost1[er][ec-1]<cost1[er-1][ec]):\n",
    "            print(cost1[er][ec-1])\n",
    "            costf=costf+cost1[er][ec-1]\n",
    "            ec=ec-1\n",
    "            print(er)\n",
    "            print(ec)\n",
    "    print(\"final cost - > \",costf)\n",
    "    return costf\n",
    "'''\n",
    "\n",
    "\n",
    "\n",
    "\n",
    "\n",
    "\n",
    "if __name__ == '__main__':\n",
    "    fptr = open(os.environ['OUTPUT_PATH'], 'w')\n",
    "\n",
    "    nm = input().split()\n",
    "\n",
    "    n = int(nm[0])\n",
    "\n",
    "    m = int(nm[1])\n",
    "\n",
    "    a = []\n",
    "\n",
    "    for _ in range(n):\n",
    "        a.append(list(map(int, input().rstrip().split())))\n",
    "\n",
    "    q = int(input())\n",
    "\n",
    "    queries = []\n",
    "\n",
    "    for _ in range(q):\n",
    "        queries.append(list(map(int, input().rstrip().split())))\n",
    "\n",
    "    result = shortestPath(a, queries)\n",
    "\n",
    "    fptr.write('\\n'.join(map(str, result)))\n",
    "    fptr.write('\\n')\n",
    "\n",
    "    fptr.close()\n"
   ]
  },
  {
   "cell_type": "code",
   "execution_count": 4,
   "metadata": {},
   "outputs": [
    {
     "data": {
      "text/plain": [
       "[4, 1, 6]"
      ]
     },
     "execution_count": 4,
     "metadata": {},
     "output_type": "execute_result"
    }
   ],
   "source": [
    "a=[[3,2,3],[4,1,6]]\n",
    "max(a)"
   ]
  },
  {
   "cell_type": "code",
   "execution_count": 6,
   "metadata": {},
   "outputs": [
    {
     "name": "stdout",
     "output_type": "stream",
     "text": [
      "4\n"
     ]
    }
   ],
   "source": [
    "def ff(a,b,c):\n",
    "    list1=[a,b,c]\n",
    "    return max(list1)\n",
    "    \n",
    "f=ff(1,4,3)\n",
    "print(f)"
   ]
  },
  {
   "cell_type": "code",
   "execution_count": null,
   "metadata": {},
   "outputs": [],
   "source": []
  },
  {
   "cell_type": "code",
   "execution_count": null,
   "metadata": {},
   "outputs": [],
   "source": [
    "#!/bin/python3\n",
    "\n",
    "import os\n",
    "import sys\n",
    "\n",
    "#\n",
    "# Complete the shortestPath function below.\n",
    "#\n",
    "def shortestPath(a, queries):\n",
    "    ra=ca=rq=cq=sc=sr=er=ec=0\n",
    "    cost=[]\n",
    "    print(a)\n",
    "    print(queries)\n",
    "    ra=len(a)\n",
    "\n",
    "    ca=len(a[0])\n",
    "    rq=len(queries)\n",
    "    for i in range(rq):\n",
    "        sr=queries[i][0]\n",
    "        sc=queries[i][1]\n",
    "        er=queries[i][2]\n",
    "        ec=queries[i][3]\n",
    "        print('------------------------------------------------')\n",
    "        print(er)\n",
    "        print(ec)\n",
    "        cost.append(mincost(a,sr,sc,er,ec))\n",
    "        print(\"List - > \",cost)\n",
    "    return cost\n",
    "\n",
    "def mincost(cost1,sr,sc,er,ec):\n",
    "    print(\"er,ec \",er,\" \",ec)\n",
    "    if(er<0 or ec<0):\n",
    "        #value=max(cost1[er])\n",
    "        pass\n",
    "        return 10000;\n",
    "    elif(er>len(cost1) or ec>len(cost1[0])):\n",
    "        return 10000;\n",
    "    elif(er==sr and ec==sc):\n",
    "        return cost1[er][ec]\n",
    "    else:\n",
    "        return cost1[er][ec]+minv(mincost(cost1,sr,sc,er-1,ec-1),mincost(cost1,sr,sc,er-1,ec),mincost(cost1,sr,sc,er,ec-1),mincost(cost1,sr,sc,er,ec+1),mincost(cost1,sr,sc,er-1,ec+1))\n",
    "\n",
    "def minv(a,b,c,d,e):\n",
    "    list1=[a,b,c,d,e]\n",
    "    return min(list1)\n",
    "\n",
    "\n",
    "if __name__ == '__main__':\n",
    "    fptr = open(os.environ['OUTPUT_PATH'], 'w')\n",
    "\n",
    "    nm = input().split()\n",
    "\n",
    "    n = int(nm[0])\n",
    "\n",
    "    m = int(nm[1])\n",
    "\n",
    "    a = []\n",
    "\n",
    "    for _ in range(n):\n",
    "        a.append(list(map(int, input().rstrip().split())))\n",
    "\n",
    "    q = int(input())\n",
    "\n",
    "    queries = []\n",
    "\n",
    "    for _ in range(q):\n",
    "        queries.append(list(map(int, input().rstrip().split())))\n",
    "\n",
    "    result = shortestPath(a, queries)\n",
    "\n",
    "    fptr.write('\\n'.join(map(str, result)))\n",
    "    fptr.write('\\n')\n",
    "\n",
    "    fptr.close()\n"
   ]
  },
  {
   "cell_type": "code",
   "execution_count": 12,
   "metadata": {},
   "outputs": [],
   "source": [
    "a='caaab'\n",
    "b='aavb'"
   ]
  },
  {
   "cell_type": "code",
   "execution_count": 15,
   "metadata": {},
   "outputs": [
    {
     "name": "stdout",
     "output_type": "stream",
     "text": [
      "1\n"
     ]
    }
   ],
   "source": [
    "if('aa' in a):\n",
    "    print(1)\n",
    "else:\n",
    "    print(0)"
   ]
  },
  {
   "cell_type": "code",
   "execution_count": 14,
   "metadata": {},
   "outputs": [
    {
     "name": "stdout",
     "output_type": "stream",
     "text": [
      "a\n",
      "a\n",
      "a\n",
      "a\n",
      "a\n",
      "a\n",
      "b\n"
     ]
    }
   ],
   "source": [
    "for i in b:\n",
    "    for j in a:\n",
    "        if(j==i):\n",
    "            print(i)"
   ]
  },
  {
   "cell_type": "code",
   "execution_count": 18,
   "metadata": {},
   "outputs": [
    {
     "name": "stdout",
     "output_type": "stream",
     "text": [
      "a\n",
      "b\n",
      "c\n",
      "c\n"
     ]
    }
   ],
   "source": [
    "a=['a','b','c','c']\n",
    "for i in a:\n",
    "    print(i)"
   ]
  },
  {
   "cell_type": "code",
   "execution_count": 19,
   "metadata": {},
   "outputs": [
    {
     "data": {
      "text/plain": [
       "['b', 'a', 'c']"
      ]
     },
     "execution_count": 19,
     "metadata": {},
     "output_type": "execute_result"
    }
   ],
   "source": [
    "list(set(a))"
   ]
  },
  {
   "cell_type": "code",
   "execution_count": 21,
   "metadata": {},
   "outputs": [],
   "source": [
    "a.sort()"
   ]
  },
  {
   "cell_type": "code",
   "execution_count": 22,
   "metadata": {},
   "outputs": [
    {
     "data": {
      "text/plain": [
       "['a', 'b', 'c', 'c']"
      ]
     },
     "execution_count": 22,
     "metadata": {},
     "output_type": "execute_result"
    }
   ],
   "source": [
    "a"
   ]
  },
  {
   "cell_type": "code",
   "execution_count": 26,
   "metadata": {},
   "outputs": [
    {
     "name": "stdout",
     "output_type": "stream",
     "text": [
      "['c', 'a', 'a', 'a', 'b', 'ca', 'aa', 'aa', 'ab']\n"
     ]
    }
   ],
   "source": [
    "a=['b','c','aa','d','b']\n",
    "leng=[]\n",
    "b='caaab'\n",
    "for i in range(len(a)):\n",
    "    leng.append(len(a[i]))\n",
    "leng=list(set(leng))\n",
    "leng.sort()\n",
    "lisp=[]\n",
    "for i in leng:\n",
    "    for j in range(len(b)-i+1):\n",
    "        lisp.append(b[j:j+i])\n",
    "        \n",
    "print(lisp)"
   ]
  },
  {
   "cell_type": "code",
   "execution_count": 28,
   "metadata": {},
   "outputs": [
    {
     "data": {
      "text/plain": [
       "['c', 'a', 'b', 'ca', 'aa', 'aa', 'ab']"
      ]
     },
     "execution_count": 28,
     "metadata": {},
     "output_type": "execute_result"
    }
   ],
   "source": [
    "lisp.remove(lisp[1])\n",
    "lisp"
   ]
  },
  {
   "cell_type": "code",
   "execution_count": null,
   "metadata": {},
   "outputs": [],
   "source": [
    "for i in range(len(a)):\n",
    "        for j in range(len(lisp)):\n",
    "            print(lisp[i])\n",
    "            if(a[i]==lisp[i]):\n",
    "                print(genes[i],\" -- \",lisp[i])\n",
    "                summ=summ+health[i]"
   ]
  },
  {
   "cell_type": "code",
   "execution_count": 2,
   "metadata": {},
   "outputs": [],
   "source": [
    "x=[2,3,1,5,4]\n",
    "x.sort()"
   ]
  },
  {
   "cell_type": "code",
   "execution_count": 3,
   "metadata": {},
   "outputs": [
    {
     "data": {
      "text/plain": [
       "[1, 2, 3, 4, 5]"
      ]
     },
     "execution_count": 3,
     "metadata": {},
     "output_type": "execute_result"
    }
   ],
   "source": [
    "x"
   ]
  },
  {
   "cell_type": "code",
   "execution_count": null,
   "metadata": {},
   "outputs": [],
   "source": [
    "    4 4 2\n",
    "\n",
    "    145 862\n",
    "\n",
    "    533 105\n",
    "\n",
    "    34 192\n",
    "\n",
    "    897 656\n",
    "\n",
    "    902 518\n",
    "\n",
    "    78 108\n",
    "\n",
    "    658 369\n",
    "\n",
    "    127 364\n",
    "\n",
    "\n",
    "    \n",
    "    19069"
   ]
  },
  {
   "cell_type": "code",
   "execution_count": null,
   "metadata": {},
   "outputs": [],
   "source": [
    "10 10 2\n",
    "411 353\n",
    "162 727\n",
    "6 293\n",
    "370 16\n",
    "334 610\n",
    "201 999\n",
    "354 272\n",
    "475 73\n",
    "474 356\n",
    "651 607\n",
    "213 835\n",
    "871 716\n",
    "161 707\n",
    "348 439\n",
    "163 847\n",
    "200 67\n",
    "146 926\n",
    "571 714\n",
    "82 152\n",
    "115 293\n",
    "\n",
    "\n",
    "\n",
    "\n",
    "\n",
    "8354"
   ]
  }
 ],
 "metadata": {
  "kernelspec": {
   "display_name": "Python 3",
   "language": "python",
   "name": "python3"
  },
  "language_info": {
   "codemirror_mode": {
    "name": "ipython",
    "version": 3
   },
   "file_extension": ".py",
   "mimetype": "text/x-python",
   "name": "python",
   "nbconvert_exporter": "python",
   "pygments_lexer": "ipython3",
   "version": "3.6.9"
  }
 },
 "nbformat": 4,
 "nbformat_minor": 2
}

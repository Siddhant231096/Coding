{
 "cells": [
  {
   "cell_type": "code",
   "execution_count": 50,
   "metadata": {},
   "outputs": [
    {
     "name": "stdout",
     "output_type": "stream",
     "text": [
      "abbc\n",
      "['b', 'a', 'c']\n"
     ]
    }
   ],
   "source": [
    "inp=input()\n",
    "li=list(set(inp))\n",
    "print(a)"
   ]
  },
  {
   "cell_type": "code",
   "execution_count": 51,
   "metadata": {},
   "outputs": [],
   "source": [
    "from itertools import combinations\n",
    "new_li=[]"
   ]
  },
  {
   "cell_type": "code",
   "execution_count": 52,
   "metadata": {},
   "outputs": [],
   "source": [
    "for i in range(3,len(inp)+1):\n",
    "    new_li.append(list(combinations(inp,i)))"
   ]
  },
  {
   "cell_type": "code",
   "execution_count": 54,
   "metadata": {},
   "outputs": [],
   "source": [
    "final_li=[]\n",
    "for k in range(len(new_li)):\n",
    "    for i in new_li[k]:\n",
    "        counter_a=0\n",
    "        counter_b=0\n",
    "        counter_c=0\n",
    "        for j in i:\n",
    "            if(j=='a'):\n",
    "                counter_a=counter_a+1\n",
    "            if(j=='b'):\n",
    "                counter_b=counter_b+1   \n",
    "            if(j=='c'):\n",
    "                counter_c=counter_c+1\n",
    "        if(counter_a >0 and counter_b>0 and counter_c>0):\n",
    "               final_li.append(i)\n",
    "print(len(final_li))"
   ]
  },
  {
   "cell_type": "code",
   "execution_count": 59,
   "metadata": {},
   "outputs": [
    {
     "data": {
      "text/plain": [
       "[('a', 'b', 'c'), ('a', 'b', 'c'), ('a', 'b', 'b', 'c')]"
      ]
     },
     "execution_count": 59,
     "metadata": {},
     "output_type": "execute_result"
    }
   ],
   "source": [
    "final_li"
   ]
  },
  {
   "cell_type": "code",
   "execution_count": 62,
   "metadata": {},
   "outputs": [
    {
     "data": {
      "text/plain": [
       "('a', 'b', 'b', 'c')"
      ]
     },
     "execution_count": 62,
     "metadata": {},
     "output_type": "execute_result"
    }
   ],
   "source": [
    "final_li[2]"
   ]
  },
  {
   "cell_type": "code",
   "execution_count": null,
   "metadata": {},
   "outputs": [],
   "source": []
  },
  {
   "cell_type": "code",
   "execution_count": null,
   "metadata": {},
   "outputs": [],
   "source": [
    "for i in range(len(final_li)):\n",
    "    for j in i:\n",
    "        print()"
   ]
  },
  {
   "cell_type": "code",
   "execution_count": 42,
   "metadata": {},
   "outputs": [
    {
     "name": "stdout",
     "output_type": "stream",
     "text": [
      "a\n",
      "b\n",
      "b\n",
      "a\n",
      "b\n",
      "c\n",
      "a\n",
      "b\n",
      "c\n",
      "b\n",
      "b\n",
      "c\n",
      "[('a', 'b', 'b'), ('a', 'b', 'c'), ('a', 'b', 'c'), ('b', 'b', 'c')]\n"
     ]
    }
   ],
   "source": [
    "for i in new_li[0]:\n",
    "    for j in i:\n",
    "        print(j)\n",
    "        \n",
    "print(new_li[0])"
   ]
  },
  {
   "cell_type": "code",
   "execution_count": 43,
   "metadata": {},
   "outputs": [
    {
     "data": {
      "text/plain": [
       "[('a', 'b', 'b', 'c')]"
      ]
     },
     "execution_count": 43,
     "metadata": {},
     "output_type": "execute_result"
    }
   ],
   "source": [
    "list(combinations(inp,4))"
   ]
  },
  {
   "cell_type": "code",
   "execution_count": 47,
   "metadata": {},
   "outputs": [
    {
     "data": {
      "text/plain": [
       "[[('a', 'b', 'b'), ('a', 'b', 'c'), ('a', 'b', 'c'), ('b', 'b', 'c')],\n",
       " [('a', 'b', 'b', 'c')]]"
      ]
     },
     "execution_count": 47,
     "metadata": {},
     "output_type": "execute_result"
    }
   ],
   "source": [
    "new_li"
   ]
  },
  {
   "cell_type": "code",
   "execution_count": 48,
   "metadata": {},
   "outputs": [
    {
     "data": {
      "text/plain": [
       "[('a', 'b', 'b', 'c')]"
      ]
     },
     "execution_count": 48,
     "metadata": {},
     "output_type": "execute_result"
    }
   ],
   "source": [
    "new_li[1]"
   ]
  },
  {
   "cell_type": "code",
   "execution_count": 12,
   "metadata": {},
   "outputs": [
    {
     "name": "stdout",
     "output_type": "stream",
     "text": [
      "1\n",
      "abbc\n",
      "3\n"
     ]
    }
   ],
   "source": [
    "from itertools import combinations\n",
    "tc=int(input())\n",
    "for q in range(tc):\n",
    "    inp=input()\n",
    "    li=list(set(inp))\n",
    "    new_li=[]\n",
    "    for i in range(3,len(inp)+1):\n",
    "        #print('in combin')\n",
    "        new_li.append(list(combinations(inp,i)))\n",
    "    final_li=[]\n",
    "    for k in range(len(new_li)):\n",
    "        for i in new_li[k]:\n",
    "            #print('in i ',i)\n",
    "            counter_a=0\n",
    "            counter_b=0\n",
    "            counter_c=0\n",
    "            for j in i:\n",
    "                if(j=='a'):\n",
    "                    counter_a=counter_a+1\n",
    "                if(j=='b'):\n",
    "                    counter_b=counter_b+1   \n",
    "                if(j=='c'):\n",
    "                    counter_c=counter_c+1\n",
    "            if(counter_a >0 and counter_b>0 and counter_c>0):\n",
    "                #print(counter_a,counter_b,counter_c)\n",
    "                final_li.append(i)\n",
    "    print(len(final_li))"
   ]
  },
  {
   "cell_type": "code",
   "execution_count": 9,
   "metadata": {},
   "outputs": [
    {
     "name": "stdout",
     "output_type": "stream",
     "text": [
      "('a', 'b', 'b')\n",
      "a\n",
      "b\n",
      "b\n",
      "('a', 'b', 'a')\n",
      "a\n",
      "b\n",
      "a\n",
      "('a', 'b', 'a')\n",
      "a\n",
      "b\n",
      "a\n",
      "('b', 'b', 'a')\n",
      "b\n",
      "b\n",
      "a\n"
     ]
    },
    {
     "data": {
      "text/plain": [
       "2"
      ]
     },
     "execution_count": 9,
     "metadata": {},
     "output_type": "execute_result"
    }
   ],
   "source": [
    "for i in new_li[0]:\n",
    "    print(i)\n",
    "    for j in i:\n",
    "        print(j)\n",
    "        \n",
    "counter_a"
   ]
  },
  {
   "cell_type": "code",
   "execution_count": 16,
   "metadata": {},
   "outputs": [
    {
     "name": "stdout",
     "output_type": "stream",
     "text": [
      "[(0, 0, 0, 0, 0), (0, 0, 0, 0, 0), (0, 0, 0, 0, 0), (0, 0, 0, 0, 0), (0, 0, 0, 0, 0), (0, 0, 0, 0, 0), (0, 0, 0, 0, 0), (0, 0, 0, 0, 0), (0, 0, 0, 0, 0), (0, 0, 0, 0, 0), (0, 0, 0, 0, 0), (0, 0, 0, 0, 0), (0, 0, 0, 0, 0), (0, 0, 0, 0, 0), (0, 0, 0, 0, 0), (0, 0, 0, 0, 0), (0, 0, 0, 0, 0), (0, 0, 0, 0, 0), (0, 0, 0, 0, 0), (0, 0, 0, 0, 0), (0, 0, 0, 0, 0)]\n"
     ]
    }
   ],
   "source": [
    "from itertools import combinations\n",
    "print(list(combinations([0,0,0,0,0,0,0])))"
   ]
  },
  {
   "cell_type": "code",
   "execution_count": null,
   "metadata": {},
   "outputs": [],
   "source": []
  }
 ],
 "metadata": {
  "kernelspec": {
   "display_name": "Python 3",
   "language": "python",
   "name": "python3"
  },
  "language_info": {
   "codemirror_mode": {
    "name": "ipython",
    "version": 3
   },
   "file_extension": ".py",
   "mimetype": "text/x-python",
   "name": "python",
   "nbconvert_exporter": "python",
   "pygments_lexer": "ipython3",
   "version": "3.6.8"
  }
 },
 "nbformat": 4,
 "nbformat_minor": 2
}

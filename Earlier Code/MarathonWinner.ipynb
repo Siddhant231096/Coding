{
 "cells": [
  {
   "cell_type": "code",
   "execution_count": 52,
   "metadata": {},
   "outputs": [
    {
     "name": "stdout",
     "output_type": "stream",
     "text": [
      "3\n",
      "1\n",
      "1 1 1\n",
      "1 1 1\n",
      "2 2 2\n",
      "3\n"
     ]
    }
   ],
   "source": [
    "def marathon(marathon_list): \n",
    "    try:\n",
    "        length_lap=len(marathon_list[0])\n",
    "        length_total=len(marathon_list)\n",
    "        loop=2\n",
    "        j=0\n",
    "        i=0\n",
    "        dis_time=0\n",
    "        counter=0\n",
    "        maximum=[]\n",
    "        greatest=0\n",
    "        index=0\n",
    "        pre_j=0\n",
    "        maximum_value=[]\n",
    "        for w in range(length_total+1):\n",
    "            maximum_value.append(0)\n",
    "            maximum.append(0)\n",
    "        if ((length_lap-1)%2==1):\n",
    "            length_lap=length_lap-2\n",
    "        else:\n",
    "            length_lap=length_lap-1\n",
    "        while(i<length_total):\n",
    "            j=pre_j\n",
    "            greatest=0\n",
    "            while(j<loop and j<length_lap):\n",
    "                dis_time=dis_time+marathon_list[i][j]*marathon_list[i][length_lap]\n",
    "                j=j+1\n",
    "            maximum[i]=maximum[i]+dis_time\n",
    "            dis_time=0\n",
    "            j=pre_j\n",
    "            counter=counter+1\n",
    "            i=i+1\n",
    "            if(counter == length_total and loop<=length_lap):\n",
    "                i=0\n",
    "                pre_j=pre_j+2\n",
    "                loop=loop+2\n",
    "                counter=0\n",
    "                for m in range(len(maximum)):\n",
    "                    if(greatest<maximum[m]):\n",
    "                        greatest=maximum[m]\n",
    "                        index=m\n",
    "                maximum_value[index]=maximum_value[index]+1  \n",
    "        print(maximum_value.index(max(maximum_value))+1)\n",
    "    except:\n",
    "        pass\n",
    "if __name__=='__main__':\n",
    "    marathon_list=[]\n",
    "    total_input=int(input())\n",
    "    total_time=int(input())\n",
    "    for i in range(total_input):\n",
    "        marathon_list.append(list(map(int,input().split())))  \n",
    "    marathon(marathon_list)"
   ]
  },
  {
   "cell_type": "code",
   "execution_count": 48,
   "metadata": {},
   "outputs": [
    {
     "ename": "ValueError",
     "evalue": "invalid literal for int() with base 10: ''",
     "output_type": "error",
     "traceback": [
      "\u001b[0;31m---------------------------------------------------------------------------\u001b[0m",
      "\u001b[0;31mValueError\u001b[0m                                Traceback (most recent call last)",
      "\u001b[0;32m<ipython-input-48-646b0e3e0771>\u001b[0m in \u001b[0;36m<module>\u001b[0;34m\u001b[0m\n\u001b[1;32m      1\u001b[0m \u001b[0;32mimport\u001b[0m \u001b[0msys\u001b[0m\u001b[0;34m\u001b[0m\u001b[0;34m\u001b[0m\u001b[0m\n\u001b[0;32m----> 2\u001b[0;31m \u001b[0mint\u001b[0m\u001b[0;34m(\u001b[0m\u001b[0msys\u001b[0m\u001b[0;34m.\u001b[0m\u001b[0mstdin\u001b[0m\u001b[0;34m.\u001b[0m\u001b[0mreadline\u001b[0m\u001b[0;34m(\u001b[0m\u001b[0;34m)\u001b[0m\u001b[0;34m)\u001b[0m\u001b[0;34m\u001b[0m\u001b[0;34m\u001b[0m\u001b[0m\n\u001b[0m",
      "\u001b[0;31mValueError\u001b[0m: invalid literal for int() with base 10: ''"
     ]
    }
   ],
   "source": [
    "import sys\n",
    "int(sys.stdin.readline())"
   ]
  },
  {
   "cell_type": "code",
   "execution_count": 43,
   "metadata": {},
   "outputs": [
    {
     "name": "stdout",
     "output_type": "stream",
     "text": [
      "sdfNone\n"
     ]
    }
   ],
   "source": [
    "print(sys.stdout.write('sdf'))"
   ]
  },
  {
   "cell_type": "code",
   "execution_count": 7,
   "metadata": {},
   "outputs": [],
   "source": [
    "import pprint\n",
    "dict={'node':1,'left':{'left':2,'right':3}}\n"
   ]
  },
  {
   "cell_type": "code",
   "execution_count": 11,
   "metadata": {},
   "outputs": [
    {
     "data": {
      "text/plain": [
       "3"
      ]
     },
     "execution_count": 11,
     "metadata": {},
     "output_type": "execute_result"
    }
   ],
   "source": [
    "dict['left']['right']"
   ]
  },
  {
   "cell_type": "code",
   "execution_count": null,
   "metadata": {},
   "outputs": [],
   "source": []
  }
 ],
 "metadata": {
  "kernelspec": {
   "display_name": "Python 3",
   "language": "python",
   "name": "python3"
  },
  "language_info": {
   "codemirror_mode": {
    "name": "ipython",
    "version": 3
   },
   "file_extension": ".py",
   "mimetype": "text/x-python",
   "name": "python",
   "nbconvert_exporter": "python",
   "pygments_lexer": "ipython3",
   "version": "3.6.8"
  }
 },
 "nbformat": 4,
 "nbformat_minor": 2
}

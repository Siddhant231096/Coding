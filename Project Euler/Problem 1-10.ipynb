{
 "cells": [
  {
   "cell_type": "markdown",
   "metadata": {},
   "source": [
    "# Problem 1 -Multiple of 3 and 5"
   ]
  },
  {
   "cell_type": "code",
   "execution_count": 10,
   "metadata": {},
   "outputs": [
    {
     "name": "stdout",
     "output_type": "stream",
     "text": [
      "233168.0\n"
     ]
    }
   ],
   "source": [
    "n=999\n",
    "a=3\n",
    "b=5\n",
    "c=a*b\n",
    "n1=int(n/a)\n",
    "n2=int(n/b)\n",
    "n3=int(n/c)\n",
    "sum1=a*(n1*(n1+1))/2\n",
    "sum2=b*(n2*(n2+1))/2\n",
    "sum3=c*(n3*(n3+1))/2\n",
    "print(sum1+sum2-sum3)"
   ]
  },
  {
   "cell_type": "code",
   "execution_count": 5,
   "metadata": {},
   "outputs": [
    {
     "name": "stdout",
     "output_type": "stream",
     "text": [
      "18.0\n"
     ]
    }
   ],
   "source": [
    "print(sum1)"
   ]
  },
  {
   "cell_type": "code",
   "execution_count": 8,
   "metadata": {},
   "outputs": [
    {
     "name": "stdout",
     "output_type": "stream",
     "text": [
      "15.0\n",
      "3 2 0\n"
     ]
    }
   ],
   "source": [
    "print(sum2)\n",
    "print(n1,n2,n3)"
   ]
  },
  {
   "cell_type": "markdown",
   "metadata": {},
   "source": [
    "# Problem 2 -Even Fibonacci number"
   ]
  },
  {
   "cell_type": "code",
   "execution_count": 19,
   "metadata": {},
   "outputs": [
    {
     "name": "stdout",
     "output_type": "stream",
     "text": [
      "4613732\n"
     ]
    }
   ],
   "source": [
    "li=[2,8]\n",
    "n=1\n",
    "while(li[n]<4000000):\n",
    "    li.append(li[n]*4+li[n-1])\n",
    "    n=n+1\n",
    "sum1=0\n",
    "for i in range(0,len(li)-1):\n",
    "    sum1=sum1+li[i]\n",
    "print(sum1)"
   ]
  },
  {
   "cell_type": "code",
   "execution_count": 17,
   "metadata": {},
   "outputs": [
    {
     "name": "stdout",
     "output_type": "stream",
     "text": [
      "[2, 8, 34, 144, 610, 2584, 10946, 46368, 196418, 832040, 3524578, 14930352]\n"
     ]
    }
   ],
   "source": [
    "print(li)"
   ]
  },
  {
   "cell_type": "code",
   "execution_count": null,
   "metadata": {},
   "outputs": [],
   "source": []
  },
  {
   "cell_type": "markdown",
   "metadata": {},
   "source": [
    "# Problem 3 - Largest prime factor"
   ]
  },
  {
   "cell_type": "code",
   "execution_count": 73,
   "metadata": {},
   "outputs": [],
   "source": [
    "n=600851475143"
   ]
  },
  {
   "cell_type": "code",
   "execution_count": 74,
   "metadata": {},
   "outputs": [
    {
     "name": "stdout",
     "output_type": "stream",
     "text": [
      "6857.0\n"
     ]
    }
   ],
   "source": [
    "import math\n",
    "if n%2==0:\n",
    "    lstfactor=2\n",
    "    n=n/2\n",
    "    while(n%2==0):\n",
    "        n=n/2\n",
    "else:\n",
    "    lstfactor=1\n",
    "factor=3\n",
    "while (n>1 and factor<=int(math.sqrt(n))):\n",
    "    if n%factor==0:\n",
    "        n=n/factor\n",
    "        lstfactor=factor\n",
    "        while(n%factor==0):\n",
    "            n=n/factor\n",
    "        maxfactor=int(math.sqrt(n))\n",
    "    factor=factor+2\n",
    "if n==1:\n",
    "    print(lstfactor)\n",
    "else:\n",
    "    print(n)"
   ]
  },
  {
   "cell_type": "markdown",
   "metadata": {},
   "source": [
    "# Problem 4 - Largest palindrome product"
   ]
  },
  {
   "cell_type": "code",
   "execution_count": 99,
   "metadata": {},
   "outputs": [
    {
     "name": "stdout",
     "output_type": "stream",
     "text": [
      "906609\n"
     ]
    },
    {
     "data": {
      "text/plain": [
       "'993 7'"
      ]
     },
     "execution_count": 99,
     "metadata": {},
     "output_type": "execute_result"
    }
   ],
   "source": [
    "ele=[]\n",
    "for i in range(90,10,-1):\n",
    "    ele.append(11*i)\n",
    "\n",
    "li=[]\n",
    "index1=[]\n",
    "for j in range(len(ele)):\n",
    "    for i in range(999,100,-1):\n",
    "        value=ele[j]*i\n",
    "        str_value=str(value)\n",
    "        #print(str_value)\n",
    "        if(str_value[::-1]==str_value):\n",
    "            li.append(value)\n",
    "            string=str(i)+' '+str(j)\n",
    "            index1.append(string)\n",
    "            x=1\n",
    "            #print(value)\n",
    "print(max(li))\n",
    "ind=max(li)\n",
    "ind1=li.index(ind)\n",
    "index1[ind1]\n"
   ]
  },
  {
   "cell_type": "markdown",
   "metadata": {},
   "source": [
    "# Problem 5 - Smallest multiple"
   ]
  },
  {
   "cell_type": "markdown",
   "metadata": {},
   "source": [
    "we calculated prime factors and made a list if number of time it occuring is there then ok else we will add in \n",
    "\n",
    "2=2\n",
    "\n",
    "3=2x3\n",
    "\n",
    "4=2X2 here but in list one 2 is already there so we add only 2x2x3 in list upto 4\n",
    "\n",
    "5=1x5--->> 2x2x3x5\n",
    "\n",
    "6=2*3\n",
    "\n",
    "7=1*7--->>2*2*3*5*7\n",
    "\n",
    ".\n",
    ".\n",
    ".\n",
    "."
   ]
  },
  {
   "cell_type": "code",
   "execution_count": 4,
   "metadata": {},
   "outputs": [
    {
     "data": {
      "text/plain": [
       "232792560"
      ]
     },
     "execution_count": 4,
     "metadata": {},
     "output_type": "execute_result"
    }
   ],
   "source": [
    "2*2*2*3*3*5*7*11*13*2*17*19"
   ]
  },
  {
   "cell_type": "markdown",
   "metadata": {},
   "source": [
    "# Problem 6 - Sum square difference"
   ]
  },
  {
   "cell_type": "code",
   "execution_count": 104,
   "metadata": {},
   "outputs": [
    {
     "name": "stdout",
     "output_type": "stream",
     "text": [
      "25164150.0\n"
     ]
    }
   ],
   "source": [
    "sosq=(100*(101)*(201))/6\n",
    "sqos=((100*(101))/2)**2\n",
    "print(sqos-sosq)"
   ]
  },
  {
   "cell_type": "markdown",
   "metadata": {},
   "source": [
    "# Problem 7 -10001st prime"
   ]
  },
  {
   "cell_type": "code",
   "execution_count": 5,
   "metadata": {},
   "outputs": [],
   "source": [
    "prime=[2,3,5,7]\n",
    "n=2\n",
    "while(True):\n",
    "    if(len(prime)==10001):\n",
    "        break\n",
    "    val1=6*n-1\n",
    "    val2=6*n+1\n",
    "    for i in prime:\n",
    "        if(i>val1/2):\n",
    "            break\n",
    "        x=0\n",
    "        if(val1%i==0):\n",
    "            x=1\n",
    "            break\n",
    "    if(x==0):\n",
    "        prime.append(val1)\n",
    "        \n",
    "    for i in prime:\n",
    "        y=0\n",
    "        if(i>val2/2):\n",
    "            break\n",
    "        if(val2%i==0):\n",
    "            y=1\n",
    "            break\n",
    "    if(y==0):\n",
    "        prime.append(val2)\n",
    "        \n",
    "    n=n+1\n",
    "        \n",
    "        \n",
    "        \n",
    "        "
   ]
  },
  {
   "cell_type": "code",
   "execution_count": 8,
   "metadata": {},
   "outputs": [
    {
     "data": {
      "text/plain": [
       "104743"
      ]
     },
     "execution_count": 8,
     "metadata": {},
     "output_type": "execute_result"
    }
   ],
   "source": [
    "prime[10000]"
   ]
  },
  {
   "cell_type": "markdown",
   "metadata": {},
   "source": [
    "# Problem 8 - Largest product in a series"
   ]
  },
  {
   "cell_type": "code",
   "execution_count": null,
   "metadata": {},
   "outputs": [],
   "source": []
  },
  {
   "cell_type": "code",
   "execution_count": null,
   "metadata": {},
   "outputs": [],
   "source": []
  },
  {
   "cell_type": "code",
   "execution_count": 3,
   "metadata": {},
   "outputs": [],
   "source": [
    "b=123.0\n"
   ]
  },
  {
   "cell_type": "code",
   "execution_count": 4,
   "metadata": {},
   "outputs": [
    {
     "data": {
      "text/plain": [
       "True"
      ]
     },
     "execution_count": 4,
     "metadata": {},
     "output_type": "execute_result"
    }
   ],
   "source": [
    "b.is_integer()"
   ]
  },
  {
   "cell_type": "markdown",
   "metadata": {},
   "source": [
    "# Problem 9 - Special Pythagorean triplet"
   ]
  },
  {
   "cell_type": "markdown",
   "metadata": {},
   "source": [
    "equation form is \n",
    "\n",
    "b=(a-500)/(a/1000-1)\n",
    "\n"
   ]
  },
  {
   "cell_type": "code",
   "execution_count": 12,
   "metadata": {},
   "outputs": [
    {
     "name": "stdout",
     "output_type": "stream",
     "text": [
      "a -  200\n",
      "b -  375.0\n",
      "c -  425.0\n"
     ]
    }
   ],
   "source": [
    "for a in range(1,1000):\n",
    "    b=(a-500)/((a/1000)-1)\n",
    "    if(b<0):\n",
    "        pass\n",
    "    if(b.is_integer()):\n",
    "        print('a - ',a)\n",
    "        print('b - ',b)\n",
    "        break\n",
    "\n",
    "print('c - ',1000-a-b) "
   ]
  },
  {
   "cell_type": "code",
   "execution_count": 13,
   "metadata": {},
   "outputs": [
    {
     "data": {
      "text/plain": [
       "31875000.0"
      ]
     },
     "execution_count": 13,
     "metadata": {},
     "output_type": "execute_result"
    }
   ],
   "source": [
    "a*b*c"
   ]
  },
  {
   "cell_type": "markdown",
   "metadata": {},
   "source": [
    "# Problem 10 - Summation of primes"
   ]
  },
  {
   "cell_type": "code",
   "execution_count": 1,
   "metadata": {},
   "outputs": [],
   "source": [
    "import math"
   ]
  },
  {
   "cell_type": "code",
   "execution_count": 2,
   "metadata": {},
   "outputs": [
    {
     "data": {
      "text/plain": [
       "1414.213562373095"
      ]
     },
     "execution_count": 2,
     "metadata": {},
     "output_type": "execute_result"
    }
   ],
   "source": [
    "math.sqrt(2000000)"
   ]
  },
  {
   "cell_type": "code",
   "execution_count": 5,
   "metadata": {},
   "outputs": [
    {
     "ename": "KeyboardInterrupt",
     "evalue": "",
     "output_type": "error",
     "traceback": [
      "\u001b[0;31m---------------------------------------------------------------------------\u001b[0m",
      "\u001b[0;31mKeyboardInterrupt\u001b[0m                         Traceback (most recent call last)",
      "\u001b[0;32m<ipython-input-5-491f3ed39b9b>\u001b[0m in \u001b[0;36m<module>\u001b[0;34m()\u001b[0m\n\u001b[1;32m     18\u001b[0m     \u001b[0;32mfor\u001b[0m \u001b[0mi\u001b[0m \u001b[0;32min\u001b[0m \u001b[0mprime\u001b[0m\u001b[0;34m:\u001b[0m\u001b[0;34m\u001b[0m\u001b[0;34m\u001b[0m\u001b[0m\n\u001b[1;32m     19\u001b[0m         \u001b[0my\u001b[0m\u001b[0;34m=\u001b[0m\u001b[0;36m0\u001b[0m\u001b[0;34m\u001b[0m\u001b[0;34m\u001b[0m\u001b[0m\n\u001b[0;32m---> 20\u001b[0;31m         \u001b[0;32mif\u001b[0m\u001b[0;34m(\u001b[0m\u001b[0mi\u001b[0m\u001b[0;34m>\u001b[0m\u001b[0mval2\u001b[0m\u001b[0;34m/\u001b[0m\u001b[0;36m2\u001b[0m\u001b[0;34m)\u001b[0m\u001b[0;34m:\u001b[0m\u001b[0;34m\u001b[0m\u001b[0;34m\u001b[0m\u001b[0m\n\u001b[0m\u001b[1;32m     21\u001b[0m             \u001b[0;32mbreak\u001b[0m\u001b[0;34m\u001b[0m\u001b[0;34m\u001b[0m\u001b[0m\n\u001b[1;32m     22\u001b[0m         \u001b[0;32mif\u001b[0m\u001b[0;34m(\u001b[0m\u001b[0mval2\u001b[0m\u001b[0;34m%\u001b[0m\u001b[0mi\u001b[0m\u001b[0;34m==\u001b[0m\u001b[0;36m0\u001b[0m\u001b[0;34m)\u001b[0m\u001b[0;34m:\u001b[0m\u001b[0;34m\u001b[0m\u001b[0;34m\u001b[0m\u001b[0m\n",
      "\u001b[0;31mKeyboardInterrupt\u001b[0m: "
     ]
    }
   ],
   "source": [
    "prime=[2,3,5,7]\n",
    "n=2\n",
    "while(n<333334):\n",
    "    if(len(prime)==2000000):\n",
    "        break\n",
    "    val1=6*n-1\n",
    "    val2=6*n+1\n",
    "    for i in prime:\n",
    "        if(i>val1/2):\n",
    "            break\n",
    "        x=0\n",
    "        if(val1%i==0):\n",
    "            x=1\n",
    "            break\n",
    "    if(x==0):\n",
    "        prime.append(val1)\n",
    "        \n",
    "    for i in prime:\n",
    "        y=0\n",
    "        if(i>val2/2):\n",
    "            break\n",
    "        if(val2%i==0):\n",
    "            y=1\n",
    "            break\n",
    "    if(y==0):\n",
    "        prime.append(val2)\n",
    "        \n",
    "    n=n+1\n",
    "        "
   ]
  },
  {
   "cell_type": "code",
   "execution_count": 6,
   "metadata": {},
   "outputs": [
    {
     "data": {
      "text/plain": [
       "26314"
      ]
     },
     "execution_count": 6,
     "metadata": {},
     "output_type": "execute_result"
    }
   ],
   "source": []
  },
  {
   "cell_type": "code",
   "execution_count": null,
   "metadata": {},
   "outputs": [],
   "source": []
  }
 ],
 "metadata": {
  "kernelspec": {
   "display_name": "Python 3",
   "language": "python",
   "name": "python3"
  },
  "language_info": {
   "codemirror_mode": {
    "name": "ipython",
    "version": 3
   },
   "file_extension": ".py",
   "mimetype": "text/x-python",
   "name": "python",
   "nbconvert_exporter": "python",
   "pygments_lexer": "ipython3",
   "version": "3.6.9"
  }
 },
 "nbformat": 4,
 "nbformat_minor": 2
}

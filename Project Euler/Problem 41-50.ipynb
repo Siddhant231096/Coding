{
 "cells": [
  {
   "cell_type": "markdown",
   "metadata": {},
   "source": [
    "# 48 - Self Power"
   ]
  },
  {
   "cell_type": "code",
   "execution_count": 7,
   "metadata": {},
   "outputs": [
    {
     "name": "stdout",
     "output_type": "stream",
     "text": [
      "4629110846700\n"
     ]
    }
   ],
   "source": [
    "value=0\n",
    "total=405071317\n",
    "for i in range(11,1000):\n",
    "    value=i**i\n",
    "    length=len(str(value))\n",
    "    if(length>10):\n",
    "        total+=int(str(value)[length-10:])\n",
    "print(total)"
   ]
  },
  {
   "cell_type": "code",
   "execution_count": null,
   "metadata": {},
   "outputs": [],
   "source": [
    "1=1\n",
    "10=1\n",
    "100=5\n",
    "1000=426\n",
    "\n"
   ]
  },
  {
   "cell_type": "code",
   "execution_count": 5,
   "metadata": {},
   "outputs": [
    {
     "name": "stdout",
     "output_type": "stream",
     "text": [
      "[211, 223, 227, 229, 233, 239, 241, 251, 257, 263, 269, 271, 277, 281, 283, 293, 307, 311, 313, 317, 331, 337, 347, 349, 353, 359, 367, 373, 379, 383, 389, 397, 503, 509, 521, 523, 541, 547, 557, 563, 569, 571, 577, 587, 593, 599, 701, 709, 719, 727, 733, 739, 743, 751, 757, 761, 769, 773, 787, 797]\n"
     ]
    }
   ],
   "source": [
    "prime=[2,3,5,7]\n",
    "li=[]\n",
    "for j in prime:\n",
    "    for i in range(j*100+1,(j+1)*100):\n",
    "        flag=0\n",
    "        for k in range(2,int(i**.5) +1):\n",
    "            if(i%k==0):\n",
    "                flag=1\n",
    "                break\n",
    "        if(flag==0):\n",
    "            li.append(i)\n",
    "print(li)\n",
    "    "
   ]
  },
  {
   "cell_type": "code",
   "execution_count": 6,
   "metadata": {},
   "outputs": [
    {
     "name": "stdout",
     "output_type": "stream",
     "text": [
      "[23, 29, 31, 37, 53, 59, 71, 73, 79]\n"
     ]
    }
   ],
   "source": [
    "prime=[2,3,5,7]\n",
    "li=[]\n",
    "for j in prime:\n",
    "    for i in range(j*10+1,(j+1)*10):\n",
    "        flag=0\n",
    "        for k in range(2,int(i**.5) +1):\n",
    "            if(i%k==0):\n",
    "                flag=1\n",
    "                break\n",
    "        if(flag==0):\n",
    "            li.append(i)\n",
    "print(li)"
   ]
  },
  {
   "cell_type": "code",
   "execution_count": 7,
   "metadata": {},
   "outputs": [
    {
     "name": "stdout",
     "output_type": "stream",
     "text": [
      "[2, 3, 5, 7, 11, 13, 17, 19, 23, 29, 31, 37, 41, 43, 47, 53, 59, 61, 67, 71, 73, 79, 83, 89, 97]\n"
     ]
    }
   ],
   "source": [
    "li=[2,3,5,7,11,13,17,19]\n",
    "for i in range(21,100):\n",
    "    flag=0\n",
    "    for k in range(2,int(i**.5) +1):\n",
    "        if(i%k==0):\n",
    "            flag=1\n",
    "            break\n",
    "    if(flag==0):\n",
    "        li.append(i)\n",
    "print(li)"
   ]
  },
  {
   "cell_type": "code",
   "execution_count": null,
   "metadata": {},
   "outputs": [],
   "source": []
  }
 ],
 "metadata": {
  "kernelspec": {
   "display_name": "Python 3",
   "language": "python",
   "name": "python3"
  },
  "language_info": {
   "codemirror_mode": {
    "name": "ipython",
    "version": 3
   },
   "file_extension": ".py",
   "mimetype": "text/x-python",
   "name": "python",
   "nbconvert_exporter": "python",
   "pygments_lexer": "ipython3",
   "version": "3.6.4"
  }
 },
 "nbformat": 4,
 "nbformat_minor": 2
}

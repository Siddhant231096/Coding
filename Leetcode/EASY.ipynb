{
 "cells": [
  {
   "cell_type": "code",
   "execution_count": 3,
   "metadata": {},
   "outputs": [
    {
     "name": "stdout",
     "output_type": "stream",
     "text": [
      "['0:start:0', '1:start:2', '1:end:5', '0:end:6']\n"
     ]
    }
   ],
   "source": [
    "logs = [\"0:start:0\",\"1:start:2\",\"1:end:5\",\"0:end:6\"]\n",
    "\n",
    "print(list(logs))"
   ]
  },
  {
   "cell_type": "code",
   "execution_count": 18,
   "metadata": {},
   "outputs": [
    {
     "name": "stdout",
     "output_type": "stream",
     "text": [
      "0\n",
      "start\n",
      "0\n",
      "1\n",
      "start\n",
      "2\n",
      "1\n",
      "end\n",
      "5\n",
      "0\n",
      "end\n",
      "6\n"
     ]
    }
   ],
   "source": [
    "for i in logs:\n",
    "    s,var,e=i.split(':')\n",
    "    print(s)\n",
    "    print(var)\n",
    "    print(e)"
   ]
  },
  {
   "cell_type": "code",
   "execution_count": 17,
   "metadata": {},
   "outputs": [
    {
     "name": "stdout",
     "output_type": "stream",
     "text": [
      "[]\n",
      "[3, 4]\n"
     ]
    }
   ],
   "source": [
    "stack=[]\n",
    "prevend=0\n",
    "prevstart=0\n",
    "arr=[]\n",
    "for i in range(len(logs)):\n",
    "    count=0\n",
    "    #print(i)\n",
    "    for j in range(len(logs[i])):\n",
    "        if(logs[i][j]==':'):\n",
    "            count+=1\n",
    "            \n",
    "            if(count==1):\n",
    "                index1=j+1\n",
    "            if(count==2):\n",
    "                index2=j\n",
    "                #print('-- ',logs[i][index1:index2])\n",
    "                if(logs[i][index1:index2]=='start'):\n",
    "                    stack.append(int(logs[i][index2+1:]))\n",
    "\n",
    "                elif(logs[i][index1:index2]=='end'):\n",
    "                    if(prevend==0 and prevstart==0):\n",
    "                        value1=int(logs[i][index2+1:])+1\n",
    "                        value2=stack.pop()\n",
    "                        prevstart=value2\n",
    "                        prevend=value1-1\n",
    "                        arr.append(value1-value2)\n",
    "                    else:\n",
    "                        value1=int(logs[i][index2+1:])-prevend\n",
    "                        value2=stack.pop()\n",
    "                        \n",
    "                        add=prevstart-value2\n",
    "                        prevstart=value2\n",
    "                        prevend=int(logs[i][index2+1:])\n",
    "                        arr.append(value1+add)\n",
    "                #print('## ',logs[i][index1:index2])\n",
    "\n",
    "            \n",
    "print(stack)\n",
    "print(arr[::-1])\n",
    "\n",
    "    \n",
    "            "
   ]
  },
  {
   "cell_type": "code",
   "execution_count": 20,
   "metadata": {},
   "outputs": [
    {
     "name": "stdout",
     "output_type": "stream",
     "text": [
      "3\n",
      "4\n",
      "4\n"
     ]
    }
   ],
   "source": [
    "a='34string4'\n",
    "for i in a:\n",
    "    try:\n",
    "        if(int(i)):\n",
    "            print(i)\n",
    "    except:\n",
    "        pass"
   ]
  },
  {
   "cell_type": "code",
   "execution_count": 21,
   "metadata": {},
   "outputs": [
    {
     "name": "stdout",
     "output_type": "stream",
     "text": [
      "['a', 'b', 'c', '3', '[', 'c', 'd', ']', 'x', 'y', 'z']\n"
     ]
    }
   ],
   "source": [
    "string=\"abc3[cd]xyz\"\n",
    "li=list(string)\n",
    "print(li)"
   ]
  },
  {
   "cell_type": "code",
   "execution_count": 22,
   "metadata": {},
   "outputs": [],
   "source": [
    "li[3:8]='cdcdcd'"
   ]
  },
  {
   "cell_type": "code",
   "execution_count": 24,
   "metadata": {},
   "outputs": [
    {
     "data": {
      "text/plain": [
       "'abccdcdcdxyz'"
      ]
     },
     "execution_count": 24,
     "metadata": {},
     "output_type": "execute_result"
    }
   ],
   "source": [
    "\"\".join(li)"
   ]
  },
  {
   "cell_type": "code",
   "execution_count": 72,
   "metadata": {},
   "outputs": [
    {
     "name": "stdout",
     "output_type": "stream",
     "text": [
      "aaabcbc\n"
     ]
    }
   ],
   "source": [
    "s=\"3[a]2[bc]\"\n",
    "s=list(s)\n",
    "\n",
    "string=''\n",
    "i=0\n",
    "count=0\n",
    "digit=''\n",
    "\n",
    "while(i<len(s)):\n",
    "    \n",
    "    if(s[i].isdigit()):\n",
    "        digit=digit+s[i]\n",
    "        count+=1\n",
    "        if(count==1):\n",
    "            index=i\n",
    "        i=i+1\n",
    "    elif(s[i]=='['):\n",
    "        if(digit.isdigit()):\n",
    "            digit=int(digit)\n",
    "            #print(digit)\n",
    "            stack.append([digit,index])\n",
    "        i=i+1\n",
    "        count=0\n",
    "        digit=''\n",
    "    elif(s[i]==']'):\n",
    "        value=stack.pop()\n",
    "        #print(s[value[1]+len(str(value[0])):i])\n",
    "        string=\"\".join(s[value[1]+len(str(value[0]))+1:i])\n",
    "        \n",
    "        new=''\n",
    "        for j in range(value[0]):\n",
    "            new=new+string\n",
    "        s[value[1]:i+1]=new\n",
    "        i=0\n",
    "        \n",
    "    else:\n",
    "        digit=''\n",
    "        i=i+1\n",
    "        \n",
    "print(\"\".join(s))"
   ]
  },
  {
   "cell_type": "code",
   "execution_count": 5,
   "metadata": {},
   "outputs": [
    {
     "data": {
      "text/plain": [
       "0"
      ]
     },
     "execution_count": 5,
     "metadata": {},
     "output_type": "execute_result"
    }
   ],
   "source": [
    "6//132"
   ]
  },
  {
   "cell_type": "code",
   "execution_count": 7,
   "metadata": {},
   "outputs": [
    {
     "name": "stdout",
     "output_type": "stream",
     "text": [
      "+\n",
      "[-78, 163]\n",
      "-\n",
      "[-78, 182]\n",
      "+\n",
      "[-78, 297]\n",
      "-\n",
      "[-375]\n",
      "/\n",
      "[3]\n",
      "*\n",
      "[3, -144]\n",
      "-\n",
      "[3, -58]\n",
      "-\n",
      "[61]\n",
      "/\n",
      "[3]\n",
      "-\n",
      "[3, 40]\n",
      "-\n",
      "[-37]\n",
      "-\n",
      "[-84]\n",
      "-\n",
      "[-185]\n",
      "*\n",
      "[-30155]\n",
      "-\n",
      "[-30298]\n",
      "-\n",
      "[-30298]\n",
      "+\n",
      "[-30127]\n",
      "*\n",
      "[-3615240]\n",
      "+\n",
      "[-3615300]\n",
      "/\n",
      "[-23175]\n",
      "/\n",
      "[-134]\n",
      "+\n",
      "[-134, -13]\n",
      "/\n",
      "[-134, 0]\n",
      "*\n",
      "[0]\n",
      "*\n",
      "[0]\n",
      "-\n",
      "[0, 180, 110]\n",
      "*\n",
      "[0, 19800]\n",
      "+\n",
      "[0, 19800, 86, 48]\n",
      "*\n",
      "[0, 19800, 4128]\n",
      "-\n",
      "[0, 15672]\n",
      "/\n",
      "[0, 412]\n",
      "/\n",
      "[0]\n",
      "/\n",
      "[0, 0]\n",
      "+\n",
      "[0]\n",
      "/\n",
      "[0]\n",
      "-\n",
      "[0, -187]\n",
      "+\n",
      "[-187]\n",
      "/\n",
      "[-7]\n",
      "-\n",
      "[-102]\n",
      "+\n",
      "[18]\n",
      "*\n",
      "[144]\n",
      "-\n",
      "[54]\n",
      "*\n",
      "[-5076]\n",
      "/\n",
      "[69]\n",
      "/\n",
      "[-2]\n",
      "*\n",
      "[-186]\n",
      "-\n",
      "[-382]\n",
      "+\n",
      "[-441]\n",
      "-\n",
      "[-628]\n",
      "/\n",
      "[-5]\n",
      "+\n",
      "[-5, -168]\n",
      "-\n",
      "[163]\n",
      "163\n"
     ]
    }
   ],
   "source": [
    "tokens=[\"-78\",\"-33\",\"196\",\"+\",\"-19\",\"-\",\"115\",\"+\",\"-\",\"-99\",\"/\",\"-18\",\"8\",\"*\",\"-86\",\"-\",\"-\",\"16\",\"/\",\"26\",\"-14\",\"-\",\"-\",\"47\",\"-\",\"101\",\"-\",\"163\",\"*\",\"143\",\"-\",\"0\",\"-\",\"171\",\"+\",\"120\",\"*\",\"-60\",\"+\",\"156\",\"/\",\"173\",\"/\",\"-24\",\"11\",\"+\",\"21\",\"/\",\"*\",\"44\",\"*\",\"180\",\"70\",\"-40\",\"-\",\"*\",\"86\",\"132\",\"-84\",\"+\",\"*\",\"-\",\"38\",\"/\",\"/\",\"21\",\"28\",\"/\",\"+\",\"83\",\"/\",\"-31\",\"156\",\"-\",\"+\",\"28\",\"/\",\"95\",\"-\",\"120\",\"+\",\"8\",\"*\",\"90\",\"-\",\"-94\",\"*\",\"-73\",\"/\",\"-62\",\"/\",\"93\",\"*\",\"196\",\"-\",\"-59\",\"+\",\"187\",\"-\",\"143\",\"/\",\"-79\",\"-89\",\"+\",\"-\"]\n",
    "stack=[]\n",
    "for i in tokens:\n",
    "    if(i == '/'):\n",
    "        b=stack[-1]\n",
    "        a=stack[-2]\n",
    "        stack.pop()\n",
    "        if(abs(a)<abs(b)):\n",
    "            value=0\n",
    "        else:\n",
    "            value=a//b\n",
    "        stack[-1]=value\n",
    "        print(i)\n",
    "        print(stack)\n",
    "    elif(i == '+'):\n",
    "        b=stack[-1]\n",
    "        a=stack[-2]\n",
    "        stack.pop()\n",
    "        value=a+b\n",
    "        stack[-1]=value\n",
    "        print(i)\n",
    "        print(stack)\n",
    "    elif(i == '*'):\n",
    "        b=stack[-1]\n",
    "        a=stack[-2]\n",
    "        stack.pop()\n",
    "        value=a*b\n",
    "        stack[-1]=value\n",
    "        print(i)\n",
    "        print(stack)\n",
    "    elif(i == '-'):\n",
    "        b=stack[-1]\n",
    "        a=stack[-2]\n",
    "        stack.pop()\n",
    "        value=a-b\n",
    "        stack[-1]=value\n",
    "        print(i)\n",
    "        print(stack)\n",
    "    else:\n",
    "        stack.append(int(i))\n",
    "\n",
    "print(stack[-1])\n"
   ]
  },
  {
   "cell_type": "code",
   "execution_count": 4,
   "metadata": {},
   "outputs": [
    {
     "name": "stdout",
     "output_type": "stream",
     "text": [
      "3\n"
     ]
    }
   ],
   "source": [
    "hours=[9,9,6,0,6,6,9]\n",
    "res = score = 0\n",
    "seen = {}\n",
    "for i, h in enumerate(hours):\n",
    "    score = score + 1 if h > 8 else score - 1\n",
    "    if score > 0:\n",
    "        res = i + 1\n",
    "    seen.setdefault(score, i)\n",
    "    if score - 1 in seen:\n",
    "        res = max(res, i - seen[score - 1])\n",
    "print(res)"
   ]
  },
  {
   "cell_type": "code",
   "execution_count": 5,
   "metadata": {},
   "outputs": [
    {
     "data": {
      "text/plain": [
       "{1: 0, 2: 1, 0: 3, -1: 4, -2: 5}"
      ]
     },
     "execution_count": 5,
     "metadata": {},
     "output_type": "execute_result"
    }
   ],
   "source": [
    "seen"
   ]
  },
  {
   "cell_type": "code",
   "execution_count": 34,
   "metadata": {},
   "outputs": [
    {
     "name": "stdout",
     "output_type": "stream",
     "text": [
      "/home/foo"
     ]
    }
   ],
   "source": [
    "a=\"/home//foo/\"\n",
    "i=0\n",
    "stack=[]\n",
    "new=''\n",
    "size=len(a)\n",
    "while(i<size):\n",
    "    try:\n",
    "        if(a[i]=='/' and a[i+1].isalpha()):\n",
    "            index=i+1\n",
    "            #print(index)\n",
    "            i=i+1\n",
    "        elif(a[i].isalpha() and i==size-1):\n",
    "            new='/'+a[index:i+1]\n",
    "            stack.append(new)\n",
    "            i=i+1\n",
    "        elif(a[i].isalpha() and ((ord(a[i+1])<97 and ord(a[i+1])>90) or (ord(a[i+1])>122 or ord(a[i+1])<65))):\n",
    "            #print('-- ',i)\n",
    "            new='/'+a[index:i+1]\n",
    "            stack.append(new)\n",
    "            i=i+1\n",
    "        elif(a[i]=='.' and a[i+1]=='.'):\n",
    "            i=i+2\n",
    "            stack.pop()\n",
    "        else:\n",
    "            i=i+1\n",
    "    except:\n",
    "        i=i+1\n",
    "        pass\n",
    "for i in stack:\n",
    "    print(i,end='')"
   ]
  },
  {
   "cell_type": "code",
   "execution_count": 26,
   "metadata": {},
   "outputs": [
    {
     "data": {
      "text/plain": [
       "[]"
      ]
     },
     "execution_count": 26,
     "metadata": {},
     "output_type": "execute_result"
    }
   ],
   "source": [
    "stack"
   ]
  },
  {
   "cell_type": "code",
   "execution_count": 27,
   "metadata": {},
   "outputs": [
    {
     "data": {
      "text/plain": [
       "7"
      ]
     },
     "execution_count": 27,
     "metadata": {},
     "output_type": "execute_result"
    }
   ],
   "source": [
    "index"
   ]
  },
  {
   "cell_type": "code",
   "execution_count": 12,
   "metadata": {},
   "outputs": [
    {
     "name": "stdout",
     "output_type": "stream",
     "text": [
      "17\n"
     ]
    }
   ],
   "source": [
    "A=[3,1,2,4]\n",
    "stack=[]\n",
    "sum1=0\n",
    "size=len(A)\n",
    "for i in range(size):\n",
    "    stack=[]\n",
    "    for j in range(i,size):\n",
    "        try:\n",
    "            if(len(stack)==0):\n",
    "                sum1+=A[j]\n",
    "                stack.append(A[j])\n",
    "            else:\n",
    "                #print('-- ',stack)\n",
    "                while(stack[-1]>A[j]):\n",
    "                    stack.pop()\n",
    "                if(len(stack)==0):\n",
    "                    sum1+=A[j]\n",
    "                    stack.append(A[j])\n",
    "                else:\n",
    "                    sum1+=stack[-1]\n",
    "            #print(stack)\n",
    "            #print('## ',A[j],' ## ',sum1)\n",
    "        except:\n",
    "            \n",
    "            stack.append(A[j])\n",
    "            sum1+=A[j]\n",
    "            #print('## ',A[j],' ## ',sum1)\n",
    "            pass\n",
    "#print(stack)\n",
    "print(sum1)"
   ]
  },
  {
   "cell_type": "code",
   "execution_count": 3,
   "metadata": {},
   "outputs": [
    {
     "name": "stdout",
     "output_type": "stream",
     "text": [
      "0\n"
     ]
    }
   ],
   "source": [
    "a='.'\n",
    "if(a.isalpha()):\n",
    "    print(1)\n",
    "else:\n",
    "    print(0)"
   ]
  },
  {
   "cell_type": "code",
   "execution_count": 9,
   "metadata": {},
   "outputs": [
    {
     "name": "stdout",
     "output_type": "stream",
     "text": [
      "6\n"
     ]
    }
   ],
   "source": [
    "nums= [2,3,5,-5,-1]\n",
    "mini=min(nums)\n",
    "if(mini>0):\n",
    "    print(mini)\n",
    "else:\n",
    "    x=-1\n",
    "    while(True):\n",
    "        x=x+1\n",
    "        flag=0\n",
    "        total=x\n",
    "        for i in nums:\n",
    "            total+=i\n",
    "            if(total<1):\n",
    "                flag=1\n",
    "                break\n",
    "        if(flag==0):\n",
    "            print(x)\n",
    "            break\n",
    "            "
   ]
  },
  {
   "cell_type": "code",
   "execution_count": null,
   "metadata": {},
   "outputs": [],
   "source": []
  }
 ],
 "metadata": {
  "kernelspec": {
   "display_name": "Python 3",
   "language": "python",
   "name": "python3"
  },
  "language_info": {
   "codemirror_mode": {
    "name": "ipython",
    "version": 3
   },
   "file_extension": ".py",
   "mimetype": "text/x-python",
   "name": "python",
   "nbconvert_exporter": "python",
   "pygments_lexer": "ipython3",
   "version": "3.6.4"
  }
 },
 "nbformat": 4,
 "nbformat_minor": 2
}

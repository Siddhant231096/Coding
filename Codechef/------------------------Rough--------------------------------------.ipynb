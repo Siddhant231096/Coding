{
 "cells": [
  {
   "cell_type": "code",
   "execution_count": 3,
   "metadata": {},
   "outputs": [
    {
     "name": "stdout",
     "output_type": "stream",
     "text": [
      "3\n",
      "120 140\n",
      "20  840\n",
      "10213 312\n",
      "1  1593228\n"
     ]
    },
    {
     "ename": "KeyboardInterrupt",
     "evalue": "",
     "output_type": "error",
     "traceback": [
      "\u001b[0;31m---------------------------------------------------------------------------\u001b[0m",
      "\u001b[0;31mKeyboardInterrupt\u001b[0m                         Traceback (most recent call last)",
      "\u001b[0;32m/usr/lib/python3/dist-packages/ipykernel/kernelbase.py\u001b[0m in \u001b[0;36m_input_request\u001b[0;34m(self, prompt, ident, parent, password)\u001b[0m\n\u001b[1;32m    728\u001b[0m             \u001b[0;32mtry\u001b[0m\u001b[0;34m:\u001b[0m\u001b[0;34m\u001b[0m\u001b[0;34m\u001b[0m\u001b[0m\n\u001b[0;32m--> 729\u001b[0;31m                 \u001b[0mident\u001b[0m\u001b[0;34m,\u001b[0m \u001b[0mreply\u001b[0m \u001b[0;34m=\u001b[0m \u001b[0mself\u001b[0m\u001b[0;34m.\u001b[0m\u001b[0msession\u001b[0m\u001b[0;34m.\u001b[0m\u001b[0mrecv\u001b[0m\u001b[0;34m(\u001b[0m\u001b[0mself\u001b[0m\u001b[0;34m.\u001b[0m\u001b[0mstdin_socket\u001b[0m\u001b[0;34m,\u001b[0m \u001b[0;36m0\u001b[0m\u001b[0;34m)\u001b[0m\u001b[0;34m\u001b[0m\u001b[0;34m\u001b[0m\u001b[0m\n\u001b[0m\u001b[1;32m    730\u001b[0m             \u001b[0;32mexcept\u001b[0m \u001b[0mException\u001b[0m\u001b[0;34m:\u001b[0m\u001b[0;34m\u001b[0m\u001b[0;34m\u001b[0m\u001b[0m\n",
      "\u001b[0;32m/usr/lib/python3/dist-packages/jupyter_client/session.py\u001b[0m in \u001b[0;36mrecv\u001b[0;34m(self, socket, mode, content, copy)\u001b[0m\n\u001b[1;32m    802\u001b[0m         \u001b[0;32mtry\u001b[0m\u001b[0;34m:\u001b[0m\u001b[0;34m\u001b[0m\u001b[0;34m\u001b[0m\u001b[0m\n\u001b[0;32m--> 803\u001b[0;31m             \u001b[0mmsg_list\u001b[0m \u001b[0;34m=\u001b[0m \u001b[0msocket\u001b[0m\u001b[0;34m.\u001b[0m\u001b[0mrecv_multipart\u001b[0m\u001b[0;34m(\u001b[0m\u001b[0mmode\u001b[0m\u001b[0;34m,\u001b[0m \u001b[0mcopy\u001b[0m\u001b[0;34m=\u001b[0m\u001b[0mcopy\u001b[0m\u001b[0;34m)\u001b[0m\u001b[0;34m\u001b[0m\u001b[0;34m\u001b[0m\u001b[0m\n\u001b[0m\u001b[1;32m    804\u001b[0m         \u001b[0;32mexcept\u001b[0m \u001b[0mzmq\u001b[0m\u001b[0;34m.\u001b[0m\u001b[0mZMQError\u001b[0m \u001b[0;32mas\u001b[0m \u001b[0me\u001b[0m\u001b[0;34m:\u001b[0m\u001b[0;34m\u001b[0m\u001b[0;34m\u001b[0m\u001b[0m\n",
      "\u001b[0;32m/usr/lib/python3/dist-packages/zmq/sugar/socket.py\u001b[0m in \u001b[0;36mrecv_multipart\u001b[0;34m(self, flags, copy, track)\u001b[0m\n\u001b[1;32m    394\u001b[0m         \"\"\"\n\u001b[0;32m--> 395\u001b[0;31m         \u001b[0mparts\u001b[0m \u001b[0;34m=\u001b[0m \u001b[0;34m[\u001b[0m\u001b[0mself\u001b[0m\u001b[0;34m.\u001b[0m\u001b[0mrecv\u001b[0m\u001b[0;34m(\u001b[0m\u001b[0mflags\u001b[0m\u001b[0;34m,\u001b[0m \u001b[0mcopy\u001b[0m\u001b[0;34m=\u001b[0m\u001b[0mcopy\u001b[0m\u001b[0;34m,\u001b[0m \u001b[0mtrack\u001b[0m\u001b[0;34m=\u001b[0m\u001b[0mtrack\u001b[0m\u001b[0;34m)\u001b[0m\u001b[0;34m]\u001b[0m\u001b[0;34m\u001b[0m\u001b[0;34m\u001b[0m\u001b[0m\n\u001b[0m\u001b[1;32m    396\u001b[0m         \u001b[0;31m# have first part already, only loop while more to receive\u001b[0m\u001b[0;34m\u001b[0m\u001b[0;34m\u001b[0m\u001b[0;34m\u001b[0m\u001b[0m\n",
      "\u001b[0;32mzmq/backend/cython/socket.pyx\u001b[0m in \u001b[0;36mzmq.backend.cython.socket.Socket.recv (zmq/backend/cython/socket.c:7692)\u001b[0;34m()\u001b[0m\n",
      "\u001b[0;32mzmq/backend/cython/socket.pyx\u001b[0m in \u001b[0;36mzmq.backend.cython.socket.Socket.recv (zmq/backend/cython/socket.c:7469)\u001b[0;34m()\u001b[0m\n",
      "\u001b[0;32mzmq/backend/cython/socket.pyx\u001b[0m in \u001b[0;36mzmq.backend.cython.socket._recv_copy (zmq/backend/cython/socket.c:2353)\u001b[0;34m()\u001b[0m\n",
      "\u001b[0;32m/usr/lib/python3/dist-packages/zmq/backend/cython/checkrc.pxd\u001b[0m in \u001b[0;36mzmq.backend.cython.checkrc._check_rc (zmq/backend/cython/socket.c:8007)\u001b[0;34m()\u001b[0m\n",
      "\u001b[0;31mKeyboardInterrupt\u001b[0m: ",
      "\nDuring handling of the above exception, another exception occurred:\n",
      "\u001b[0;31mKeyboardInterrupt\u001b[0m                         Traceback (most recent call last)",
      "\u001b[0;32m<ipython-input-3-1645db9435c6>\u001b[0m in \u001b[0;36m<module>\u001b[0;34m()\u001b[0m\n\u001b[1;32m      1\u001b[0m \u001b[0;32mimport\u001b[0m \u001b[0mmath\u001b[0m\u001b[0;34m\u001b[0m\u001b[0;34m\u001b[0m\u001b[0m\n\u001b[1;32m      2\u001b[0m \u001b[0;32mfor\u001b[0m \u001b[0m_\u001b[0m \u001b[0;32min\u001b[0m \u001b[0mrange\u001b[0m\u001b[0;34m(\u001b[0m\u001b[0mint\u001b[0m\u001b[0;34m(\u001b[0m\u001b[0minput\u001b[0m\u001b[0;34m(\u001b[0m\u001b[0;34m)\u001b[0m\u001b[0;34m)\u001b[0m\u001b[0;34m)\u001b[0m\u001b[0;34m:\u001b[0m\u001b[0;34m\u001b[0m\u001b[0;34m\u001b[0m\u001b[0m\n\u001b[0;32m----> 3\u001b[0;31m     \u001b[0ma\u001b[0m\u001b[0;34m,\u001b[0m\u001b[0mb\u001b[0m\u001b[0;34m=\u001b[0m\u001b[0mlist\u001b[0m\u001b[0;34m(\u001b[0m\u001b[0mmap\u001b[0m\u001b[0;34m(\u001b[0m\u001b[0mint\u001b[0m\u001b[0;34m,\u001b[0m\u001b[0minput\u001b[0m\u001b[0;34m(\u001b[0m\u001b[0;34m)\u001b[0m\u001b[0;34m.\u001b[0m\u001b[0msplit\u001b[0m\u001b[0;34m(\u001b[0m\u001b[0;34m)\u001b[0m\u001b[0;34m)\u001b[0m\u001b[0;34m)\u001b[0m\u001b[0;34m\u001b[0m\u001b[0;34m\u001b[0m\u001b[0m\n\u001b[0m\u001b[1;32m      4\u001b[0m     \u001b[0;32mif\u001b[0m\u001b[0;34m(\u001b[0m\u001b[0ma\u001b[0m\u001b[0;34m%\u001b[0m\u001b[0;36m2\u001b[0m\u001b[0;34m==\u001b[0m\u001b[0;36m0\u001b[0m\u001b[0;34m)\u001b[0m\u001b[0;34m:\u001b[0m\u001b[0;34m\u001b[0m\u001b[0;34m\u001b[0m\u001b[0m\n\u001b[1;32m      5\u001b[0m         \u001b[0;32mif\u001b[0m\u001b[0;34m(\u001b[0m\u001b[0mb\u001b[0m\u001b[0;34m%\u001b[0m\u001b[0;36m2\u001b[0m\u001b[0;34m==\u001b[0m\u001b[0;36m0\u001b[0m\u001b[0;34m)\u001b[0m\u001b[0;34m:\u001b[0m\u001b[0;34m\u001b[0m\u001b[0;34m\u001b[0m\u001b[0m\n",
      "\u001b[0;32m/usr/lib/python3/dist-packages/ipykernel/kernelbase.py\u001b[0m in \u001b[0;36mraw_input\u001b[0;34m(self, prompt)\u001b[0m\n\u001b[1;32m    702\u001b[0m             \u001b[0mself\u001b[0m\u001b[0;34m.\u001b[0m\u001b[0m_parent_ident\u001b[0m\u001b[0;34m,\u001b[0m\u001b[0;34m\u001b[0m\u001b[0;34m\u001b[0m\u001b[0m\n\u001b[1;32m    703\u001b[0m             \u001b[0mself\u001b[0m\u001b[0;34m.\u001b[0m\u001b[0m_parent_header\u001b[0m\u001b[0;34m,\u001b[0m\u001b[0;34m\u001b[0m\u001b[0;34m\u001b[0m\u001b[0m\n\u001b[0;32m--> 704\u001b[0;31m             \u001b[0mpassword\u001b[0m\u001b[0;34m=\u001b[0m\u001b[0;32mFalse\u001b[0m\u001b[0;34m,\u001b[0m\u001b[0;34m\u001b[0m\u001b[0;34m\u001b[0m\u001b[0m\n\u001b[0m\u001b[1;32m    705\u001b[0m         )\n\u001b[1;32m    706\u001b[0m \u001b[0;34m\u001b[0m\u001b[0m\n",
      "\u001b[0;32m/usr/lib/python3/dist-packages/ipykernel/kernelbase.py\u001b[0m in \u001b[0;36m_input_request\u001b[0;34m(self, prompt, ident, parent, password)\u001b[0m\n\u001b[1;32m    732\u001b[0m             \u001b[0;32mexcept\u001b[0m \u001b[0mKeyboardInterrupt\u001b[0m\u001b[0;34m:\u001b[0m\u001b[0;34m\u001b[0m\u001b[0;34m\u001b[0m\u001b[0m\n\u001b[1;32m    733\u001b[0m                 \u001b[0;31m# re-raise KeyboardInterrupt, to truncate traceback\u001b[0m\u001b[0;34m\u001b[0m\u001b[0;34m\u001b[0m\u001b[0;34m\u001b[0m\u001b[0m\n\u001b[0;32m--> 734\u001b[0;31m                 \u001b[0;32mraise\u001b[0m \u001b[0mKeyboardInterrupt\u001b[0m\u001b[0;34m\u001b[0m\u001b[0;34m\u001b[0m\u001b[0m\n\u001b[0m\u001b[1;32m    735\u001b[0m             \u001b[0;32melse\u001b[0m\u001b[0;34m:\u001b[0m\u001b[0;34m\u001b[0m\u001b[0;34m\u001b[0m\u001b[0m\n\u001b[1;32m    736\u001b[0m                 \u001b[0;32mbreak\u001b[0m\u001b[0;34m\u001b[0m\u001b[0;34m\u001b[0m\u001b[0m\n",
      "\u001b[0;31mKeyboardInterrupt\u001b[0m: "
     ]
    }
   ],
   "source": [
    "import math\n",
    "for _ in range(int(input())):\n",
    "    a,b=list(map(int,input().split()))\n",
    "    if(a%2==0):\n",
    "        if(b%2==0):\n",
    "            a=a//2\n",
    "            b=b//2\n",
    "            gc=2*math.gcd(a,b)\n",
    "            lc=4*(a*b)//gc\n",
    "            \n",
    "        else:\n",
    "            a=a//2\n",
    "            gc=math.gcd(a,b)\n",
    "            lc=(2*a*b)//gc\n",
    "    else:\n",
    "        if(b%2==0):\n",
    "            b=b//2\n",
    "        else:\n",
    "            temp=b\n",
    "            b=a-b\n",
    "            a=temp\n",
    "        gc=math.gcd(a,b)\n",
    "        lc=(a*b)//gc\n",
    "    print(gc,'',lc)\n",
    "        "
   ]
  },
  {
   "cell_type": "code",
   "execution_count": 4,
   "metadata": {},
   "outputs": [
    {
     "name": "stdout",
     "output_type": "stream",
     "text": [
      "3\n",
      "120 140\n",
      "20  840\n",
      "10213 312\n",
      "1  3186456\n",
      "10 30\n",
      "10  30\n"
     ]
    }
   ],
   "source": [
    "import math\n",
    "for _ in range(int(input())):\n",
    "    a,b=list(map(int,input().split()))\n",
    "    gc=math.gcd(a,b)\n",
    "    lc=(a*b)//gc\n",
    "    print(gc,'',lc)"
   ]
  },
  {
   "cell_type": "code",
   "execution_count": 2,
   "metadata": {},
   "outputs": [
    {
     "name": "stdout",
     "output_type": "stream",
     "text": [
      "tan<may\n",
      "['m', 'a', 'y', 't', 'a', 'n']\n"
     ]
    }
   ],
   "source": [
    "s=input()\n",
    "n=len(s)\n",
    "a=[]\n",
    "\n",
    "f=0\n",
    "for i in range(len(s)):\n",
    "    if(s[i]=='<'):\n",
    "        f=0\n",
    "        continue\n",
    "    a.insert(f, s[i])\n",
    "    f=f+1\n",
    "print(a)"
   ]
  },
  {
   "cell_type": "code",
   "execution_count": 6,
   "metadata": {},
   "outputs": [
    {
     "name": "stdout",
     "output_type": "stream",
     "text": [
      "*<>#234siddhant\n",
      "siddhant\n"
     ]
    }
   ],
   "source": [
    "s=input()   \n",
    "n=len(s)\n",
    "a=[]\n",
    "count=0\n",
    "f=0\n",
    "length=0\n",
    "for i in range(len(s)):\n",
    "    if(s[i]=='<'):\n",
    "        f=0\n",
    "        continue\n",
    "    elif(s[i]=='*' and i!=0 and f!=0):\n",
    "        a.remove(s[i-1])\n",
    "        length=length-1\n",
    "        f=f-1\n",
    "        continue\n",
    "    elif(s[i]=='*' and (i==0 or f==0)):\n",
    "        continue\n",
    "    elif(s[i]=='>'):\n",
    "        f=length\n",
    "        #f=len(a)\n",
    "        continue\n",
    "    elif(s[i]=='#'):\n",
    "        count+=1\n",
    "        continue\n",
    "    if(count%2!=0 and s[i].isdigit()):\n",
    "        continue\n",
    "    elif(count%2==0 and s[i].isdigit()):\n",
    "        a.insert(f, s[i])\n",
    "        length+=1\n",
    "        f=f+1\n",
    "        continue\n",
    "    a.insert(f, s[i])\n",
    "    length+=1\n",
    "    f=f+1\n",
    "print(\"\".join(a))"
   ]
  },
  {
   "cell_type": "code",
   "execution_count": 8,
   "metadata": {},
   "outputs": [
    {
     "name": "stdout",
     "output_type": "stream",
     "text": [
      "*<>#234siddhant\n",
      "<>#\n"
     ]
    }
   ],
   "source": [
    "string=input()\n",
    "n=len(string)\n",
    "a=[]\n",
    "count=0\n",
    "for i in range(n):\n",
    "    if(s[i]=='<'):\n",
    "        f=0\n",
    "        a.insert(f,s[i])\n",
    "        length+=1\n",
    "    elif(s[i]=='>'):\n",
    "        f=length\n",
    "        a.insert(f,s[i])\n",
    "    elif(s[i]=='#'):\n",
    "        count+=1\n",
    "        if(count%2!=0):\n",
    "            if(s[i].isdigit()):\n",
    "                pass\n",
    "            else:\n",
    "                a.insert(f,s[i])\n",
    "                length+=1\n",
    "                f=f+1\n",
    "        else:\n",
    "            a.insert(f, s[i])\n",
    "            length+=1\n",
    "            f=f+1\n",
    "    elif(s[i]=='*'):\n",
    "        if(i!=0 and f!=0):\n",
    "            a.remove(s[i-1])\n",
    "            length=length-1\n",
    "            f=f-1\n",
    "\n",
    "print(\"\".join(a))      \n",
    "        "
   ]
  },
  {
   "cell_type": "code",
   "execution_count": 7,
   "metadata": {},
   "outputs": [
    {
     "data": {
      "text/plain": [
       "['s', 'i', 'd', 'd', 'h', 'a', 'n', 't']"
      ]
     },
     "execution_count": 7,
     "metadata": {},
     "output_type": "execute_result"
    }
   ],
   "source": [
    "a"
   ]
  },
  {
   "cell_type": "code",
   "execution_count": 34,
   "metadata": {
    "scrolled": true
   },
   "outputs": [
    {
     "name": "stdout",
     "output_type": "stream",
     "text": [
      "sharma567#*567siddhant***value<<>>something<somt>\n",
      "somtsharma56siddhvaluesomething\n"
     ]
    }
   ],
   "source": [
    "s=input()\n",
    "n=len(s)\n",
    "pointer=0\n",
    "value=[]\n",
    "count=0\n",
    "length=0\n",
    "for i in range(n):\n",
    "    if(s[i]=='<'):\n",
    "        pointer=0 \n",
    "        \n",
    "    elif(s[i]=='*'):\n",
    "        if(pointer!=0):\n",
    "            pointer=pointer-1\n",
    "            length-=1\n",
    "            del value[pointer]\n",
    "            \n",
    "        else:\n",
    "            pass\n",
    "        #print('2 ',value)\n",
    "        \n",
    "    elif(s[i]=='>'):\n",
    "        pointer=length\n",
    "        \n",
    "    elif(s[i]=='#'):\n",
    "        count+=1\n",
    "        \n",
    "    elif(count%2==0):\n",
    "        value.insert(pointer, s[i])\n",
    "        pointer=pointer+1\n",
    "        length+=1\n",
    "        #print('33',value)\n",
    "    elif(count%2!=0):\n",
    "        if(s[i].isdigit()):\n",
    "            pass\n",
    "        else:\n",
    "            value.insert(pointer,s[i])\n",
    "            pointer+=1\n",
    "            length+=1\n",
    "            #print('44',value)\n",
    "            \n",
    "print(\"\".join(value))"
   ]
  },
  {
   "cell_type": "code",
   "execution_count": null,
   "metadata": {},
   "outputs": [],
   "source": [
    "s=input()\n",
    "n=len(s)\n",
    "pointer=0\n",
    "#value=[]\n",
    "count=0\n",
    "length=0\n",
    "string=''\n",
    "for i in range(n):\n",
    "    if(s[i]=='<'):\n",
    "        pointer=n-(i+1)\n",
    "        string=s[i+1:]+string[:]\n",
    "        length=length+pointer\n",
    "        i=0\n",
    "        \n",
    "    elif(s[i]=='*'):\n",
    "        if(length!=0):\n",
    "            length-=1\n",
    "            string=string[:length]\n",
    "            \n",
    "        \n",
    "#         if(pointer!=0):\n",
    "#             pointer=pointer-1\n",
    "#             length-=1\n",
    "            #del value[pointer]\n",
    "            \n",
    "        else:\n",
    "            pass\n",
    "        #print('2 ',value)\n",
    "        \n",
    "    elif(s[i]=='>'):\n",
    "        x=string[i+1:pointer]\n",
    "        string=string[pointer:]+x\n",
    "        pointer=length\n",
    "        \n",
    "        \n",
    "    elif(s[i]=='#'):\n",
    "        count+=1\n",
    "        \n",
    "    elif(count%2==0):\n",
    "        #value.insert(pointer, s[i])\n",
    "        pointer=pointer+1\n",
    "        length+=1\n",
    "        #print('33',value)\n",
    "    elif(count%2!=0):\n",
    "        if(s[i].isdigit()):\n",
    "            pass\n",
    "        else:\n",
    "            #value.insert(pointer,s[i])\n",
    "            pointer+=1\n",
    "            length+=1\n",
    "            #print('44',value)\n",
    "            \n",
    "print(\"\".join(value))"
   ]
  },
  {
   "cell_type": "code",
   "execution_count": 43,
   "metadata": {},
   "outputs": [
    {
     "name": "stdout",
     "output_type": "stream",
     "text": [
      "2\n",
      "10010\n",
      "5\n",
      "01101\n",
      "01010\n",
      "1\n",
      "10000\n"
     ]
    }
   ],
   "source": [
    "for _ in range(int(input())):\n",
    "    x=input()\n",
    "    n=len(x)\n",
    "    k=int(input())\n",
    "    i=j=0\n",
    "    s=''\n",
    "    while(i<n and j<k):\n",
    "        if(x[i]=='0'):\n",
    "            s=s+'1'\n",
    "            j=j+1\n",
    "            i=i+1\n",
    "        else:\n",
    "            s=s+'0'\n",
    "            i=i+1\n",
    "    s=s+'0'*(n-i)\n",
    "    print(s)\n",
    "            "
   ]
  },
  {
   "cell_type": "code",
   "execution_count": 46,
   "metadata": {},
   "outputs": [
    {
     "name": "stdout",
     "output_type": "stream",
     "text": [
      "abcd\n",
      "0\n"
     ]
    }
   ],
   "source": [
    "string=input()\n",
    "n=len(string)\n",
    "i=1\n",
    "count=0\n",
    "while(i<len(string) and i>0):\n",
    "    if(string[i-1]==string[i]):\n",
    "        if(i-1==0):\n",
    "            string=string[i+1:]\n",
    "            i=1\n",
    "        else:\n",
    "            string=string[:i-1]+string[i+1:]\n",
    "            i=i-1\n",
    "        count+=1\n",
    "    else:\n",
    "        i=i+1\n",
    "    \n",
    "print(count)        "
   ]
  },
  {
   "cell_type": "code",
   "execution_count": null,
   "metadata": {},
   "outputs": [],
   "source": []
  }
 ],
 "metadata": {
  "kernelspec": {
   "display_name": "Python 3",
   "language": "python",
   "name": "python3"
  },
  "language_info": {
   "codemirror_mode": {
    "name": "ipython",
    "version": 3
   },
   "file_extension": ".py",
   "mimetype": "text/x-python",
   "name": "python",
   "nbconvert_exporter": "python",
   "pygments_lexer": "ipython3",
   "version": "3.8.2"
  }
 },
 "nbformat": 4,
 "nbformat_minor": 2
}

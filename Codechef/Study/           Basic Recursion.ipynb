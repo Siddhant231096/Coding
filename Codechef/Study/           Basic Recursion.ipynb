{
 "cells": [
  {
   "cell_type": "markdown",
   "metadata": {},
   "source": [
    "# Connecting Soldiers \n",
    "# Problem Code: NOKIA"
   ]
  },
  {
   "cell_type": "code",
   "execution_count": 12,
   "metadata": {},
   "outputs": [
    {
     "name": "stdout",
     "output_type": "stream",
     "text": [
      "4\n",
      "3 8\n",
      "0\n",
      "3 9\n",
      "0\n",
      "2 4\n",
      "-1\n",
      "5 25\n",
      "5\n"
     ]
    }
   ],
   "source": [
    "from itertools import permutations\n",
    "t=int(input())\n",
    "for i in range(t):\n",
    "    n,m=list(map(int,input().split()))\n",
    "    li=[]\n",
    "    residue=[]\n",
    "    for i in range(1,n+1):\n",
    "        li.append(i)\n",
    "    perm=permutations(li)\n",
    "    for j in list(perm):\n",
    "        count=[0]*(n+2)\n",
    "        sum1=0\n",
    "        for k in j:\n",
    "            count[k]=1\n",
    "            if(1 in count[1:k]):\n",
    "                for w in range(k-1,0,-1):\n",
    "                    if(count[w]==1):\n",
    "                        sum1=sum1+(k-w)\n",
    "                        break\n",
    "            else:\n",
    "                sum1=sum1+(k)\n",
    "            if(1 in count[k+1:n+1]):\n",
    "                for w in range(k+1,n+1):\n",
    "                    if(count[w]==1):\n",
    "                        sum1=sum1+(w-k)\n",
    "                        break\n",
    "            else:\n",
    "                sum1=sum1+(n+1-k)\n",
    "            \n",
    "        if(sum1<=m):\n",
    "            #print(m-sum1)\n",
    "            #print(j)\n",
    "            residue.append(m-sum1)\n",
    "            \n",
    "    if(len(residue)==0):\n",
    "        print(-1)\n",
    "    else:\n",
    "        print(min(residue))\n",
    "                        "
   ]
  },
  {
   "cell_type": "markdown",
   "metadata": {},
   "source": [
    "### optimized"
   ]
  },
  {
   "cell_type": "code",
   "execution_count": null,
   "metadata": {},
   "outputs": [],
   "source": [
    "def min_len(n):\n",
    "    if n==0:\n",
    "        return 0\n",
    "    elif n==1:\n",
    "        return 2\n",
    "    elif n%2==0:\n",
    "        return (n+1)+min_len(n/2-1)+min_len(n/2)\n",
    "    else:\n",
    "        return (n+1)+2*min_len(n//2)\n",
    "\n",
    "tc=int(input())\n",
    "for _ in range(tc):\n",
    "    n,m=map(int,input().split())\n",
    "    min_l=min_len(n)\n",
    "    max_l=(n*n+3*n)//2\n",
    "    if m<min_l:\n",
    "        print(-1)\n",
    "    elif m>max_l:\n",
    "        print(m-max_l)\n",
    "    else:\n",
    "        print(0)"
   ]
  },
  {
   "cell_type": "code",
   "execution_count": 14,
   "metadata": {},
   "outputs": [
    {
     "data": {
      "text/plain": [
       "1.7320508075688772"
      ]
     },
     "execution_count": 14,
     "metadata": {},
     "output_type": "execute_result"
    }
   ],
   "source": [
    "import math\n",
    "math.sqrt(3)"
   ]
  },
  {
   "cell_type": "code",
   "execution_count": 15,
   "metadata": {},
   "outputs": [
    {
     "data": {
      "text/plain": [
       "7.785"
      ]
     },
     "execution_count": 15,
     "metadata": {},
     "output_type": "execute_result"
    }
   ],
   "source": [
    "1.73*4.5"
   ]
  },
  {
   "cell_type": "code",
   "execution_count": 17,
   "metadata": {},
   "outputs": [
    {
     "data": {
      "text/plain": [
       "3.46"
      ]
     },
     "execution_count": 17,
     "metadata": {},
     "output_type": "execute_result"
    }
   ],
   "source": [
    "8*1.73/4"
   ]
  },
  {
   "cell_type": "markdown",
   "metadata": {},
   "source": [
    "# The Gray-Similar Code "
   ]
  },
  {
   "cell_type": "code",
   "execution_count": 12,
   "metadata": {},
   "outputs": [
    {
     "name": "stdout",
     "output_type": "stream",
     "text": [
      "5\n",
      "1 0 2 3 5\n",
      "YES\n"
     ]
    }
   ],
   "source": [
    "def gray(arr):\n",
    "    if(n<4):\n",
    "        return False\n",
    "    elif(n>130):\n",
    "        return True\n",
    "    else:\n",
    "        for i in range(0,n):\n",
    "            for j in range(i+1,n):\n",
    "                for k in range(j+1,n):\n",
    "                    for w in range(k+1,n):\n",
    "                        if(arr[i]^arr[j]^arr[k]^arr[w]==0):\n",
    "                            return True\n",
    "        return False\n",
    "\n",
    "\n",
    "\n",
    "n=int(input())\n",
    "arr=list(map(int,input().split()))\n",
    "if(gray(arr)):\n",
    "    print('YES')\n",
    "else:\n",
    "    print('NO')"
   ]
  },
  {
   "cell_type": "code",
   "execution_count": 11,
   "metadata": {},
   "outputs": [],
   "source": [
    "arr=[2,4,6,6]\n",
    "value=(arr[i]^arr[i+1]^arr[i+2]^arr[i+3])\n",
    "if(value==0):\n",
    "    flag=1\n",
    "    print('YES')"
   ]
  },
  {
   "cell_type": "code",
   "execution_count": null,
   "metadata": {},
   "outputs": [],
   "source": [
    "try:\n",
    "    def gray(n,arr):\n",
    "        if(n<4):\n",
    "            return False\n",
    "        elif(n>130):\n",
    "            return True\n",
    "        else:\n",
    "            for i in range(0,n):\n",
    "                for j in range(i+1,n):\n",
    "                    for k in range(j+1,n):\n",
    "                        for w in range(k+1,n):\n",
    "                            if(arr[i]^arr[j]^arr[k]^arr[w]==0):\n",
    "                                return True\n",
    "            return False\n",
    "\n",
    "\n",
    "\n",
    "    n=int(input())\n",
    "    arr=list(map(int,input().split()))\n",
    "    if(gray(n,arr)):\n",
    "        print('YES')\n",
    "    else:\n",
    "        print('NO')\n",
    "except:\n",
    "    pass"
   ]
  },
  {
   "cell_type": "code",
   "execution_count": 28,
   "metadata": {},
   "outputs": [
    {
     "name": "stdout",
     "output_type": "stream",
     "text": [
      "11\n"
     ]
    }
   ],
   "source": [
    "a=[1,'11']\n",
    "for i in a:\n",
    "    if(type(i)==str):\n",
    "        print(i)"
   ]
  },
  {
   "cell_type": "code",
   "execution_count": 29,
   "metadata": {},
   "outputs": [
    {
     "data": {
      "text/plain": [
       "25200"
      ]
     },
     "execution_count": 29,
     "metadata": {},
     "output_type": "execute_result"
    }
   ],
   "source": [
    "5*7*8*9*10"
   ]
  },
  {
   "cell_type": "code",
   "execution_count": 30,
   "metadata": {},
   "outputs": [
    {
     "data": {
      "text/plain": [
       "12600.0"
      ]
     },
     "execution_count": 30,
     "metadata": {},
     "output_type": "execute_result"
    }
   ],
   "source": [
    "25200/2"
   ]
  },
  {
   "cell_type": "code",
   "execution_count": null,
   "metadata": {},
   "outputs": [],
   "source": []
  }
 ],
 "metadata": {
  "kernelspec": {
   "display_name": "Python 3",
   "language": "python",
   "name": "python3"
  },
  "language_info": {
   "codemirror_mode": {
    "name": "ipython",
    "version": 3
   },
   "file_extension": ".py",
   "mimetype": "text/x-python",
   "name": "python",
   "nbconvert_exporter": "python",
   "pygments_lexer": "ipython3",
   "version": "3.6.9"
  }
 },
 "nbformat": 4,
 "nbformat_minor": 2
}

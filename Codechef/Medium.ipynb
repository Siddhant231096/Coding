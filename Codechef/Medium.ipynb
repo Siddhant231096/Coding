{
 "cells": [
  {
   "cell_type": "markdown",
   "metadata": {},
   "source": [
    "# Root of the Problem"
   ]
  },
  {
   "cell_type": "code",
   "execution_count": null,
   "metadata": {},
   "outputs": [],
   "source": [
    "try:\n",
    "    t=int(input())\n",
    "    for i in range(t):\n",
    "        n=int(input())\n",
    "        sumnode=0\n",
    "        sumid=0\n",
    "        for j in range(n):\n",
    "            node,id=list(map(int,input().split()))\n",
    "            sumid+=id\n",
    "            sumnode+=node\n",
    "        print(sumnode-sumid)\n",
    "except:\n",
    "    pass"
   ]
  },
  {
   "cell_type": "code",
   "execution_count": 24,
   "metadata": {},
   "outputs": [
    {
     "name": "stdout",
     "output_type": "stream",
     "text": [
      "1.0\n",
      "1.44\n",
      "1.63\n",
      "1.7\n",
      "1.73\n",
      "1.74\n",
      "1.75\n",
      "1.75\n"
     ]
    }
   ],
   "source": [
    "num=3\n",
    "deno=3\n",
    "sum1=0\n",
    "power=1\n",
    "sum12=0\n",
    "li=[0]\n",
    "i=0\n",
    "while(True):\n",
    "    \n",
    "    sum1+=num/(deno**power)\n",
    "    sum12=round(sum1,2)\n",
    "    li.append(sum12)\n",
    "    i=i+1\n",
    "    if(li[i]==li[i-1]):\n",
    "        print(sum12)\n",
    "        break\n",
    "    num=num+1\n",
    "    power=power+1\n",
    "    print(sum12)\n"
   ]
  },
  {
   "cell_type": "code",
   "execution_count": 5,
   "metadata": {},
   "outputs": [
    {
     "data": {
      "text/plain": [
       "3"
      ]
     },
     "execution_count": 5,
     "metadata": {},
     "output_type": "execute_result"
    }
   ],
   "source": [
    "1|2"
   ]
  },
  {
   "cell_type": "code",
   "execution_count": null,
   "metadata": {},
   "outputs": [],
   "source": [
    "a=3\n",
    "while(num!=0):\n",
    "    "
   ]
  }
 ],
 "metadata": {
  "kernelspec": {
   "display_name": "Python 3",
   "language": "python",
   "name": "python3"
  },
  "language_info": {
   "codemirror_mode": {
    "name": "ipython",
    "version": 3
   },
   "file_extension": ".py",
   "mimetype": "text/x-python",
   "name": "python",
   "nbconvert_exporter": "python",
   "pygments_lexer": "ipython3",
   "version": "3.6.9"
  }
 },
 "nbformat": 4,
 "nbformat_minor": 2
}

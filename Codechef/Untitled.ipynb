{
 "cells": [
  {
   "cell_type": "code",
   "execution_count": 10,
   "metadata": {},
   "outputs": [
    {
     "name": "stdout",
     "output_type": "stream",
     "text": [
      "1\n",
      "2 3\n",
      "1 2\n",
      "0 1\n",
      "1 0\n",
      "6\n"
     ]
    }
   ],
   "source": [
    "t=int(input())\n",
    "for j in range(t):\n",
    "    n,q=list(map(int,input().split()))\n",
    "    li1=[]\n",
    "    for i in range(q):\n",
    "        li=[]\n",
    "        li=list(map(int,input().split()))\n",
    "        li1.append(li)\n",
    "    step=0\n",
    "    count=0\n",
    "    for i in range(q):\n",
    "        count=count+abs(step-li1[i][0])\n",
    "        step=li1[i][0]\n",
    "        count=count+abs(step-li1[i][1])\n",
    "        step=li1[i][1]\n",
    "    print(count)\n"
   ]
  },
  {
   "cell_type": "code",
   "execution_count": 7,
   "metadata": {},
   "outputs": [
    {
     "name": "stdout",
     "output_type": "stream",
     "text": [
      "2 3 4\n",
      "[[2, 3, 4]]\n"
     ]
    }
   ],
   "source": [
    "li=[]\n",
    "li1=[]\n",
    "li=list(map(int,input().split()))\n",
    "li1.append(li)\n",
    "print(li1)"
   ]
  },
  {
   "cell_type": "code",
   "execution_count": 18,
   "metadata": {},
   "outputs": [
    {
     "name": "stdout",
     "output_type": "stream",
     "text": [
      "1\n",
      "4 2\n",
      "[2, 4, 4, 4, 4, 4, 4, 4, 4, 4, 4, 4, 4, 4, 4, 4]\n",
      "[2, 4, 4, 4, 256, 256, 256, 256, 256, 256, 256, 256, 256, 256, 256, 256]\n",
      "[2, 4, 4, 4, 256, 256, 256, 256, 256, 281474976710656, 281474976710656, 281474976710656, 281474976710656, 281474976710656, 281474976710656, 281474976710656]\n",
      "[2, 4, 4, 4, 256, 256, 256, 256, 256, 281474976710656, 281474976710656, 281474976710656, 281474976710656, 281474976710656, 281474976710656, 139984046386112763159840142535527767382602843577165595931249318810236991948760059086304843329475444736]\n",
      "993526229\n"
     ]
    }
   ],
   "source": [
    "t=int(input())\n",
    "for i in range(t):\n",
    "    n,a=list(map(int,input().split()))\n",
    "    total=1\n",
    "    value=1\n",
    "    li=[]\n",
    "    li=[a]*(n*n)\n",
    "    end=1\n",
    "    start=0\n",
    "    x=1\n",
    "    while(end<=n*n):\n",
    "        value=1\n",
    "        for i in range(start,end):\n",
    "            value=value*li[i]\n",
    "        for i in range(end,n*n):\n",
    "            li[i]=li[i]*value\n",
    "        print(li)\n",
    "        x=x+2\n",
    "        \n",
    "        start=end\n",
    "        end=(end)+x\n",
    "        if(end==n*n):\n",
    "            end=n*n-1\n",
    "    print(li[n*n-1]%(1000000000+7))"
   ]
  },
  {
   "cell_type": "code",
   "execution_count": 19,
   "metadata": {},
   "outputs": [
    {
     "data": {
      "text/plain": [
       "1099511627776"
      ]
     },
     "execution_count": 19,
     "metadata": {},
     "output_type": "execute_result"
    }
   ],
   "source": [
    "256*256*256*256*256\n"
   ]
  },
  {
   "cell_type": "code",
   "execution_count": 21,
   "metadata": {},
   "outputs": [
    {
     "name": "stdout",
     "output_type": "stream",
     "text": [
      "993526229\n"
     ]
    }
   ],
   "source": [
    "a=1099511627776*256\n",
    "sum1=1\n",
    "for i in range(7):\n",
    "    sum1=sum1*a\n",
    "print(sum1%(1000000000+7))"
   ]
  },
  {
   "cell_type": "code",
   "execution_count": null,
   "metadata": {},
   "outputs": [],
   "source": []
  }
 ],
 "metadata": {
  "kernelspec": {
   "display_name": "Python 3",
   "language": "python",
   "name": "python3"
  },
  "language_info": {
   "codemirror_mode": {
    "name": "ipython",
    "version": 3
   },
   "file_extension": ".py",
   "mimetype": "text/x-python",
   "name": "python",
   "nbconvert_exporter": "python",
   "pygments_lexer": "ipython3",
   "version": "3.6.9"
  }
 },
 "nbformat": 4,
 "nbformat_minor": 2
}

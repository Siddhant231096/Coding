{
 "cells": [
  {
   "cell_type": "markdown",
   "metadata": {},
   "source": [
    "# All odd Array    - WA\n"
   ]
  },
  {
   "cell_type": "code",
   "execution_count": 5,
   "metadata": {},
   "outputs": [
    {
     "data": {
      "text/plain": [
       "[3, 2, 1]"
      ]
     },
     "execution_count": 5,
     "metadata": {},
     "output_type": "execute_result"
    }
   ],
   "source": [
    "li=[1,2,3,1,2]\n",
    "li.sort(reverse=True)\n",
    "li=list(set(li))\n",
    "li[::-1]"
   ]
  },
  {
   "cell_type": "code",
   "execution_count": 23,
   "metadata": {},
   "outputs": [
    {
     "name": "stdout",
     "output_type": "stream",
     "text": [
      "1\n",
      "10\n",
      "1 1 1 2 3 4 5 6 7 8\n",
      "4\n"
     ]
    }
   ],
   "source": [
    "for i in range(int(input())):\n",
    "    n=int(input())\n",
    "    li=list(map(int,input().split()))\n",
    "    set1=list(set(li))\n",
    "    set1.sort(reverse=True)\n",
    "    i=0\n",
    "    move=0\n",
    "    while(i<len(set1)):\n",
    "        if(set1[i]%2==0):\n",
    "            set1[i]=set1[i]/2\n",
    "            set1=list(set(set1))\n",
    "            set1=set1[::-1]\n",
    "            move=move+1\n",
    "        else:\n",
    "            i=i+1\n",
    "            \n",
    "    print(move)\n",
    "    \n",
    "            \n",
    "    \n",
    "    "
   ]
  },
  {
   "cell_type": "code",
   "execution_count": 13,
   "metadata": {},
   "outputs": [
    {
     "name": "stdout",
     "output_type": "stream",
     "text": [
      "[9, 5, 3.0, 1.0]\n"
     ]
    }
   ],
   "source": [
    "print(set1)"
   ]
  },
  {
   "cell_type": "code",
   "execution_count": 22,
   "metadata": {},
   "outputs": [
    {
     "name": "stdout",
     "output_type": "stream",
     "text": [
      "1 \n",
      "10\n",
      "1 1 1 2 3 4 5 6 7 8 \n",
      "4\n"
     ]
    }
   ],
   "source": [
    "n=int(input())\n",
    "for i in range(n):\n",
    "    s=int(input())\n",
    "    d=list(map(int,input().split()))\n",
    "    r=set()\n",
    "    su=0\n",
    "    for j in range(s):\n",
    "        while(d[j]%2==0):\n",
    "            if d[j] in r:\n",
    "                break\n",
    "            r.add(d[j])\n",
    "            d[j]/=2\n",
    "            su+=1\n",
    "    print(su)\n"
   ]
  },
  {
   "cell_type": "markdown",
   "metadata": {},
   "source": [
    "# Garden Watering -- AC"
   ]
  },
  {
   "cell_type": "code",
   "execution_count": 26,
   "metadata": {},
   "outputs": [
    {
     "name": "stdout",
     "output_type": "stream",
     "text": [
      "10\n",
      "10 2 4 6 6 6 2 2 4 6\n",
      "7\n"
     ]
    }
   ],
   "source": [
    "n=int(input())\n",
    "li=list(map(int,input().split()))\n",
    "count=0\n",
    "cli=[]\n",
    "for i in range(n-1):\n",
    "    count=0\n",
    "    #right\n",
    "    for j in range(i+1,n):\n",
    "        if(li[j-1]>=li[j]):\n",
    "            count=count+1\n",
    "        else:\n",
    "            break\n",
    "    #left\n",
    "    for j in range(i,0,-1):\n",
    "        if(li[j]>=li[j-1]):\n",
    "            count=count+1\n",
    "        else:\n",
    "            break\n",
    "    cli.append(count)\n",
    "print(max(cli)+1)"
   ]
  },
  {
   "cell_type": "markdown",
   "metadata": {},
   "source": [
    "# Data Structures exam -- AC"
   ]
  },
  {
   "cell_type": "code",
   "execution_count": 8,
   "metadata": {},
   "outputs": [
    {
     "name": "stdout",
     "output_type": "stream",
     "text": [
      "1\n",
      "9\n",
      "56 42 94 25 74 99 27 52 83\n",
      "2  55.56\n",
      "5\n",
      "43\n",
      "57\n",
      "5\n",
      "74\n",
      "25\n",
      "0\n",
      "72\n",
      "47\n",
      "16\n"
     ]
    }
   ],
   "source": [
    "t=int(input())\n",
    "for i in range(t):\n",
    "    n=int(input())\n",
    "    arr=list(map(int,input().split()))\n",
    "    sortedarr=[]\n",
    "    for i in arr:\n",
    "        sortedarr.append(i)\n",
    "    sortedarr.sort(reverse=True)\n",
    "    totalsum=sum(arr)\n",
    "    topper=sortedarr[0]\n",
    "    index_topper=[]\n",
    "    backlog=0\n",
    "    diff=[]\n",
    "    for i in range(n):\n",
    "        diff.append(topper-arr[i])\n",
    "        if(topper==arr[i]):\n",
    "            index_topper.append(i)\n",
    "        if(arr[i]<31):\n",
    "            backlog=backlog+1\n",
    "            totalsum=totalsum-arr[i]\n",
    "    avg=totalsum/n\n",
    "    print(backlog,'',\"{:.2f}\".format(avg))\n",
    "    for i in range(len(index_topper)-1,-1,-1):\n",
    "        print(index_topper[i],end=' ')\n",
    "    print()\n",
    "    for i in diff:\n",
    "        print(i)"
   ]
  },
  {
   "cell_type": "markdown",
   "metadata": {},
   "source": [
    "# Seating arrangement"
   ]
  },
  {
   "cell_type": "code",
   "execution_count": null,
   "metadata": {},
   "outputs": [],
   "source": [
    "n,a,b=list(map(int,input().split()))\n",
    "seating=input()\n",
    "mini=min(a,b)\n",
    "maxi=max(a,b)\n",
    "for i in range(1,len(seating)):\n",
    "    if(seating[i]=='.' and seating[i-1]=='.'):\n",
    "        string=string+'XI'\n",
    "        mini=mini-1\n",
    "        maxi=maxi-1\n",
    "    if(seating[i]=='.'):\n",
    "        \n",
    "        \n",
    "        \n"
   ]
  },
  {
   "cell_type": "code",
   "execution_count": 20,
   "metadata": {},
   "outputs": [
    {
     "name": "stdout",
     "output_type": "stream",
     "text": [
      "11 3 10\n",
      ".x....xx.x.\n",
      "10 3\n",
      "7\n"
     ]
    }
   ],
   "source": [
    "_,n,m = map(int,input().split())\n",
    "# print(input())\n",
    "ans=0\n",
    "for x in input().split('x'):\n",
    "    x=len(x)\n",
    "    if(n<m):\n",
    "        n,m=m,n\n",
    "        print(n,m)\n",
    "    # print(x,x//2,(x+1)//2)\n",
    "    y=(x+1)//2\n",
    "    ans+=min(y,n)\n",
    "    n-=min(y,n)\n",
    "\n",
    "    y=x//2\n",
    "    ans+=min(y,m)\n",
    "    m-=min(y,m)\n",
    "\n",
    "# print(n,m)  \n",
    "print(ans)"
   ]
  },
  {
   "cell_type": "code",
   "execution_count": 13,
   "metadata": {},
   "outputs": [
    {
     "name": "stdout",
     "output_type": "stream",
     "text": [
      ".X....XX.X.\n"
     ]
    }
   ],
   "source": [
    "for x in input().split('x'):\n",
    "    x=len(x)"
   ]
  },
  {
   "cell_type": "code",
   "execution_count": 17,
   "metadata": {},
   "outputs": [
    {
     "data": {
      "text/plain": [
       "['.', '...', '', '.', '.']"
      ]
     },
     "execution_count": 17,
     "metadata": {},
     "output_type": "execute_result"
    }
   ],
   "source": [
    "s='.x...xx.x.'\n",
    "s.split('x')\n",
    "\n"
   ]
  },
  {
   "cell_type": "code",
   "execution_count": null,
   "metadata": {},
   "outputs": [],
   "source": []
  }
 ],
 "metadata": {
  "kernelspec": {
   "display_name": "Python 3",
   "language": "python",
   "name": "python3"
  },
  "language_info": {
   "codemirror_mode": {
    "name": "ipython",
    "version": 3
   },
   "file_extension": ".py",
   "mimetype": "text/x-python",
   "name": "python",
   "nbconvert_exporter": "python",
   "pygments_lexer": "ipython3",
   "version": "3.6.4"
  }
 },
 "nbformat": 4,
 "nbformat_minor": 2
}

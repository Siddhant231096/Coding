{
 "cells": [
  {
   "cell_type": "markdown",
   "metadata": {},
   "source": [
    "# Hospital Beds"
   ]
  },
  {
   "cell_type": "code",
   "execution_count": 7,
   "metadata": {},
   "outputs": [
    {
     "name": "stdout",
     "output_type": "stream",
     "text": [
      "1\n",
      "4\n",
      "1 0 1 0\n",
      "0 0 0 0\n",
      "1 0 1 1\n",
      "0 1 0 0\n",
      "2   2   1\n",
      "UNSAFE\n"
     ]
    }
   ],
   "source": [
    "for i in range(int(input())):\n",
    "    n=int(input())\n",
    "    li=[]\n",
    "    for j in range(n):\n",
    "        li.append(list(map(int,input().split())))\n",
    "    x=0\n",
    "    for k in range(n):\n",
    "        for j in range(n):\n",
    "            if(k!=n-1 and j!=n-1):\n",
    "                if(li[k][j]==1):\n",
    "                    if(li[k][j+1]==1 or li[k+1][j]==1):\n",
    "                        #print(k,' ',j,' ','1')\n",
    "                        x=1\n",
    "                        break\n",
    "                        \n",
    "            elif(j==n-1 and k!=n-1):\n",
    "                if(li[k][j]==1):\n",
    "                    if(li[k+1][j]==1):\n",
    "                        x=1\n",
    "                        #print(k,' ',j,' ','2')\n",
    "                        break\n",
    "            elif(k==n-1 and j!=n-1):\n",
    "                if(li[k][j]==1):\n",
    "                    if(li[k][j+1]==1):\n",
    "                        x=1\n",
    "                        #print(k,' ',j,' ','3')\n",
    "                        break\n",
    "        if(x==1):\n",
    "            print('UNSAFE')\n",
    "            break\n",
    "    if(x==0):\n",
    "        print('SAFE')\n",
    "        "
   ]
  },
  {
   "cell_type": "code",
   "execution_count": 2,
   "metadata": {},
   "outputs": [
    {
     "data": {
      "text/plain": [
       "1"
      ]
     },
     "execution_count": 2,
     "metadata": {},
     "output_type": "execute_result"
    }
   ],
   "source": [
    "li=[[1,2,3],[1,2,3]]\n"
   ]
  },
  {
   "cell_type": "markdown",
   "metadata": {},
   "source": [
    "# Sum up the count"
   ]
  },
  {
   "cell_type": "code",
   "execution_count": 27,
   "metadata": {},
   "outputs": [
    {
     "name": "stdout",
     "output_type": "stream",
     "text": [
      "10\n",
      "0 3 3 1655555 5656565 89 56 89 52 0\n",
      "2 5 1655556 5656566 91 57 53 "
     ]
    }
   ],
   "source": [
    "n=int(input())\n",
    "number=list(map(int,input().split()))\n",
    "dict1={}\n",
    "setli=list(set(number))\n",
    "dict2={}\n",
    "for i in range(n):\n",
    "    if(number[i] in dict1):\n",
    "        dict1[number[i]]=dict1[number[i]]+1\n",
    "    else:\n",
    "        dict1[number[i]]=1\n",
    "for i in dict1.keys():\n",
    "    print(dict1[i]+i,end=' ')"
   ]
  },
  {
   "cell_type": "code",
   "execution_count": 26,
   "metadata": {},
   "outputs": [
    {
     "name": "stdout",
     "output_type": "stream",
     "text": [
      "0\n",
      "3\n",
      "1655555\n",
      "5656565\n",
      "89\n",
      "56\n",
      "52\n"
     ]
    }
   ],
   "source": [
    "for i in dict1.keys():\n",
    "    print(i)"
   ]
  },
  {
   "cell_type": "code",
   "execution_count": 24,
   "metadata": {},
   "outputs": [
    {
     "data": {
      "text/plain": [
       "[0, 1655555, 3, 52, 5656565, 56, 89]"
      ]
     },
     "execution_count": 24,
     "metadata": {},
     "output_type": "execute_result"
    }
   ],
   "source": [
    "setli"
   ]
  },
  {
   "cell_type": "code",
   "execution_count": null,
   "metadata": {},
   "outputs": [],
   "source": []
  }
 ],
 "metadata": {
  "kernelspec": {
   "display_name": "Python 3",
   "language": "python",
   "name": "python3"
  },
  "language_info": {
   "codemirror_mode": {
    "name": "ipython",
    "version": 3
   },
   "file_extension": ".py",
   "mimetype": "text/x-python",
   "name": "python",
   "nbconvert_exporter": "python",
   "pygments_lexer": "ipython3",
   "version": "3.6.4"
  }
 },
 "nbformat": 4,
 "nbformat_minor": 2
}

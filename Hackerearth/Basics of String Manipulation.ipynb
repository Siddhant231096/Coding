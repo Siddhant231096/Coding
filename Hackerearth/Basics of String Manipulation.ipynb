{
 "cells": [
  {
   "cell_type": "code",
   "execution_count": null,
   "metadata": {},
   "outputs": [],
   "source": []
  },
  {
   "cell_type": "code",
   "execution_count": 27,
   "metadata": {},
   "outputs": [
    {
     "name": "stdout",
     "output_type": "stream",
     "text": [
      "1\n",
      "hlleo 1 3\n",
      "hlleo\n"
     ]
    }
   ],
   "source": [
    "t=int(input())\n",
    "for i in range(t):\n",
    "    li1=list(map(str,input().split()))\n",
    "    string=li1[0]\n",
    "    n=int(li1[1])\n",
    "    m=int(li1[2])\n",
    "    newstring=string[n:m+1]\n",
    "    lis=[]\n",
    "    for i in newstring:\n",
    "        lis.append(ord(i))\n",
    "    lis.sort()\n",
    "    sorted_str1=''\n",
    "    sorted_str=''\n",
    "    for i in lis:\n",
    "        sorted_str1+=chr(i)\n",
    "    sorted_str=sorted_str1[::-1]\n",
    "    #print(sorted_str)\n",
    "    new_string=''\n",
    "    i=0\n",
    "    while(i<len(string)):\n",
    "        if(i==n):\n",
    "            new_string+=sorted_str\n",
    "            #print(new_string)\n",
    "            i=i+(m-n)+1\n",
    "        else:\n",
    "            new_string+=string[i]\n",
    "            #print(new_string)\n",
    "            i=i+1\n",
    "    \n",
    "    print(new_string)"
   ]
  },
  {
   "cell_type": "code",
   "execution_count": 25,
   "metadata": {},
   "outputs": [
    {
     "name": "stdout",
     "output_type": "stream",
     "text": [
      "fcba\n"
     ]
    }
   ],
   "source": [
    "a='bfca'\n",
    "lis=[]\n",
    "for i in a:\n",
    "    lis.append(ord(i))\n",
    "lis.sort()\n",
    "sorted_str=''\n",
    "for i in lis:\n",
    "    sorted_str+=chr(i)\n",
    "print(sorted_str[::-1])"
   ]
  },
  {
   "cell_type": "code",
   "execution_count": 33,
   "metadata": {},
   "outputs": [
    {
     "data": {
      "text/plain": [
       "int"
      ]
     },
     "execution_count": 33,
     "metadata": {},
     "output_type": "execute_result"
    }
   ],
   "source": [
    "type(ord('Z'))"
   ]
  },
  {
   "cell_type": "code",
   "execution_count": 30,
   "metadata": {},
   "outputs": [
    {
     "data": {
      "text/plain": [
       "32"
      ]
     },
     "execution_count": 30,
     "metadata": {},
     "output_type": "execute_result"
    }
   ],
   "source": [
    "97-65"
   ]
  },
  {
   "cell_type": "code",
   "execution_count": 31,
   "metadata": {},
   "outputs": [
    {
     "data": {
      "text/plain": [
       "97"
      ]
     },
     "execution_count": 31,
     "metadata": {},
     "output_type": "execute_result"
    }
   ],
   "source": [
    "65+32"
   ]
  },
  {
   "cell_type": "code",
   "execution_count": 36,
   "metadata": {},
   "outputs": [
    {
     "name": "stdout",
     "output_type": "stream",
     "text": [
      "1\n",
      "odh\n",
      ".d.h\n"
     ]
    }
   ],
   "source": [
    "t=int(input())\n",
    "for i in range(t):\n",
    "    string=input()\n",
    "    vowel=[\"A\", \"O\", \"Y\", \"E\", \"U\", \"I\",'a','o','y','e','u','i']\n",
    "    new_string=''\n",
    "    s=''\n",
    "    for i in range(len(string)):\n",
    "        if(string[i] in vowel):\n",
    "            pass\n",
    "        else:\n",
    "            new_string+='.'\n",
    "            if(int(ord(string[i]))>=65 and int(ord(string[i]))<=90):\n",
    "                s=chr(int(ord(string[i]))+32)\n",
    "                new_string+=s\n",
    "            else:\n",
    "                new_string+=string[i]\n",
    "\n",
    "    print(new_string)\n"
   ]
  },
  {
   "cell_type": "code",
   "execution_count": 37,
   "metadata": {},
   "outputs": [
    {
     "name": "stdout",
     "output_type": "stream",
     "text": [
      "4\n",
      "3\n",
      "2\n"
     ]
    }
   ],
   "source": [
    "for i in range(4,1,-1):\n",
    "    print(i)"
   ]
  },
  {
   "cell_type": "markdown",
   "metadata": {},
   "source": [
    "#  Don't Jump "
   ]
  },
  {
   "cell_type": "code",
   "execution_count": 6,
   "metadata": {},
   "outputs": [
    {
     "name": "stdout",
     "output_type": "stream",
     "text": [
      "13\n",
      "2 3 1\n",
      "[2, 3, 1]\n",
      "[]\n",
      "CCKCKK\n"
     ]
    }
   ],
   "source": [
    "import sys\n",
    "while True:\n",
    "        line = raw_input()\n",
    "n=int(input())\n",
    "q=list(map(int,input().split()))\n",
    "string=''\n",
    "last=0\n",
    "li=[]\n",
    "li_deleted=[]\n",
    "x=0\n",
    "for i in range(len(q)):\n",
    "    if(q[i]>last):\n",
    "        for j in range(last+1,q[i]+1):\n",
    "            string+='C'\n",
    "            li.append(j)\n",
    "        string+='K'\n",
    "        li_deleted.append(q[i])\n",
    "        last=q[i]\n",
    "        li.remove(q[i])\n",
    "    elif(q[i]<last):\n",
    "        if(q[i] in li_deleted):\n",
    "            x=1\n",
    "            print('-1')\n",
    "            break\n",
    "        else:\n",
    "            for j in range(last,q[i]-1,-1):\n",
    "                if(j not in li_deleted):\n",
    "                    li_deleted.append(j)\n",
    "                    li.remove(j)\n",
    "                    string+='K'\n",
    "                else:\n",
    "                    pass\n",
    "\n",
    "\n",
    "\n",
    "print(li_deleted)\n",
    "print(li)\n",
    "if(x==1):\n",
    "    pass\n",
    "else:\n",
    "    print(string)"
   ]
  },
  {
   "cell_type": "code",
   "execution_count": 7,
   "metadata": {},
   "outputs": [
    {
     "name": "stdout",
     "output_type": "stream",
     "text": [
      "-1\n"
     ]
    }
   ],
   "source": [
    "print(-1)"
   ]
  },
  {
   "cell_type": "code",
   "execution_count": 12,
   "metadata": {},
   "outputs": [
    {
     "name": "stdout",
     "output_type": "stream",
     "text": [
      "3\n",
      "synapse\n",
      "['sy', 'syn', 'syna', 'synap', 'synaps', 'synapse']\n",
      "7\n",
      "a\n",
      "-1\n",
      "daiict\n",
      "['da', 'dai', 'daii', 'daiic']\n",
      "5\n"
     ]
    }
   ],
   "source": [
    "def function(s):\n",
    "    for i in range(len(s)):\n",
    "        li=[]\n",
    "        for j in range(i+1,len(s)):\n",
    "                sub=s[i:j+1] \n",
    "                flag=True;\n",
    "                for k in range(int(len(sub)/2)):\n",
    "                    if(sub[k]!=sub[len(sub)-k-1]):\n",
    "                        flag=False\n",
    "                    else:\n",
    "                        flag=True\n",
    "                \n",
    "                if(flag):\n",
    "                    pass\n",
    "                else:\n",
    "                    li.append(sub)\n",
    "       \n",
    "        return li;\n",
    "\n",
    "\n",
    "if __name__==\"__main__\":\n",
    "    t=int(input())\n",
    "    for i in range(t):\n",
    "        s=input()\n",
    "        if(len(s)>1):\n",
    "            index=[]\n",
    "            li1=function(s)\n",
    "            print(li1)\n",
    "            for i in range(len(li1)):\n",
    "                index.append(len(li1[i]))\n",
    "            if(max(index)>1):\n",
    "                print(max(index))\n",
    "            else:\n",
    "                print(-1)\n",
    "        else:\n",
    "            print(-1)"
   ]
  },
  {
   "cell_type": "code",
   "execution_count": 19,
   "metadata": {},
   "outputs": [
    {
     "name": "stdout",
     "output_type": "stream",
     "text": [
      "abc\n"
     ]
    },
    {
     "ename": "AttributeError",
     "evalue": "'set' object has no attribute 'sort'",
     "output_type": "error",
     "traceback": [
      "\u001b[0;31m---------------------------------------------------------------------------\u001b[0m",
      "\u001b[0;31mAttributeError\u001b[0m                            Traceback (most recent call last)",
      "\u001b[0;32m<ipython-input-19-b6dd8e41cbcc>\u001b[0m in \u001b[0;36m<module>\u001b[0;34m()\u001b[0m\n\u001b[1;32m      4\u001b[0m \u001b[0;32mfor\u001b[0m \u001b[0mp\u001b[0m \u001b[0;32min\u001b[0m \u001b[0mpermutations\u001b[0m\u001b[0;34m(\u001b[0m\u001b[0ms\u001b[0m\u001b[0;34m)\u001b[0m\u001b[0;34m:\u001b[0m\u001b[0;34m\u001b[0m\u001b[0;34m\u001b[0m\u001b[0m\n\u001b[1;32m      5\u001b[0m     \u001b[0mset1\u001b[0m\u001b[0;34m.\u001b[0m\u001b[0madd\u001b[0m\u001b[0;34m(\u001b[0m\u001b[0;34m''\u001b[0m\u001b[0;34m.\u001b[0m\u001b[0mjoin\u001b[0m\u001b[0;34m(\u001b[0m\u001b[0mp\u001b[0m\u001b[0;34m)\u001b[0m\u001b[0;34m)\u001b[0m\u001b[0;34m\u001b[0m\u001b[0;34m\u001b[0m\u001b[0m\n\u001b[0;32m----> 6\u001b[0;31m \u001b[0mset1\u001b[0m\u001b[0;34m.\u001b[0m\u001b[0msort\u001b[0m\u001b[0;34m(\u001b[0m\u001b[0;34m)\u001b[0m\u001b[0;34m\u001b[0m\u001b[0;34m\u001b[0m\u001b[0m\n\u001b[0m\u001b[1;32m      7\u001b[0m \u001b[0;32mfor\u001b[0m \u001b[0mi\u001b[0m \u001b[0;32min\u001b[0m \u001b[0mrange\u001b[0m\u001b[0;34m(\u001b[0m\u001b[0;36m1\u001b[0m\u001b[0;34m,\u001b[0m\u001b[0mlen\u001b[0m\u001b[0;34m(\u001b[0m\u001b[0mset1\u001b[0m\u001b[0;34m)\u001b[0m\u001b[0;34m)\u001b[0m\u001b[0;34m:\u001b[0m\u001b[0;34m\u001b[0m\u001b[0;34m\u001b[0m\u001b[0m\n\u001b[1;32m      8\u001b[0m     \u001b[0mprint\u001b[0m\u001b[0;34m(\u001b[0m\u001b[0mset1\u001b[0m\u001b[0;34m.\u001b[0m\u001b[0mpop\u001b[0m\u001b[0;34m(\u001b[0m\u001b[0;34m)\u001b[0m\u001b[0;34m,\u001b[0m\u001b[0mend\u001b[0m\u001b[0;34m=\u001b[0m\u001b[0;34m' '\u001b[0m\u001b[0;34m)\u001b[0m\u001b[0;34m\u001b[0m\u001b[0;34m\u001b[0m\u001b[0m\n",
      "\u001b[0;31mAttributeError\u001b[0m: 'set' object has no attribute 'sort'"
     ]
    }
   ],
   "source": [
    "from itertools import permutations\n",
    "s=input()\n",
    "li=[]\n",
    "for p in permutations(s):\n",
    "    li.append(''.join(p))\n",
    "li.sort()\n",
    "for i in range(1,len(set1)):\n",
    "    print(set1.pop(),end=' ')"
   ]
  },
  {
   "cell_type": "code",
   "execution_count": 20,
   "metadata": {},
   "outputs": [],
   "source": [
    "a=[2,3,1,3]\n",
    "a.sort()"
   ]
  },
  {
   "cell_type": "code",
   "execution_count": 21,
   "metadata": {},
   "outputs": [
    {
     "data": {
      "text/plain": [
       "[1, 2, 3, 3]"
      ]
     },
     "execution_count": 21,
     "metadata": {},
     "output_type": "execute_result"
    }
   ],
   "source": [
    "a\n"
   ]
  },
  {
   "cell_type": "code",
   "execution_count": 22,
   "metadata": {},
   "outputs": [
    {
     "ename": "SyntaxError",
     "evalue": "invalid syntax (<ipython-input-22-348523f9604e>, line 1)",
     "output_type": "error",
     "traceback": [
      "\u001b[0;36m  File \u001b[0;32m\"<ipython-input-22-348523f9604e>\"\u001b[0;36m, line \u001b[0;32m1\u001b[0m\n\u001b[0;31m    qwer qwre qewr qerw qrew qrwe wqer wqre weqr werq wreq wrqe ewqr ewrq eqwr eqrw erqw erwq rweq rwqe rewq reqw rqew rqwe\u001b[0m\n\u001b[0m            ^\u001b[0m\n\u001b[0;31mSyntaxError\u001b[0m\u001b[0;31m:\u001b[0m invalid syntax\n"
     ]
    }
   ],
   "source": [
    "qwer qwre qewr qerw qrew qrwe wqer wqre weqr werq wreq wrqe ewqr ewrq eqwr eqrw erqw erwq rweq rwqe rewq reqw rqew rqwe"
   ]
  },
  {
   "cell_type": "code",
   "execution_count": null,
   "metadata": {},
   "outputs": [],
   "source": [
    "qwer qwre qewr qerw qrwe qrew wqer wqre weqr werq wrqe wreq eqwr eqrw ewqr ewrq erqw erwq rqwe rqew rwqe rweq reqw rewq "
   ]
  }
 ],
 "metadata": {
  "kernelspec": {
   "display_name": "Python 3",
   "language": "python",
   "name": "python3"
  },
  "language_info": {
   "codemirror_mode": {
    "name": "ipython",
    "version": 3
   },
   "file_extension": ".py",
   "mimetype": "text/x-python",
   "name": "python",
   "nbconvert_exporter": "python",
   "pygments_lexer": "ipython3",
   "version": "3.6.9"
  }
 },
 "nbformat": 4,
 "nbformat_minor": 2
}

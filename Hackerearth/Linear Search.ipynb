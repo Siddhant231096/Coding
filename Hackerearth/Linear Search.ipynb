{
 "cells": [
  {
   "cell_type": "markdown",
   "metadata": {},
   "source": [
    "# Special Shop "
   ]
  },
  {
   "cell_type": "markdown",
   "metadata": {},
   "source": [
    "we have equation as\n",
    "value=a*((x)**2)+b*((n-x)**2)\n",
    "\n",
    "now from diffrentiation we get \n",
    "0=2ax-2b(n-x)\n",
    "\n",
    "which in result give \n",
    "x=(bn)/(a+b)\n",
    "\n",
    "\n",
    "so round off this will give solution of the problem"
   ]
  },
  {
   "cell_type": "code",
   "execution_count": 5,
   "metadata": {},
   "outputs": [
    {
     "name": "stdout",
     "output_type": "stream",
     "text": [
      "2\n",
      "5 1 2\n",
      "17\n",
      "10 2 4\n",
      "134\n"
     ]
    }
   ],
   "source": [
    "t=int(input())\n",
    "for i in range(t):\n",
    "    li=list(map(int,input().split()))\n",
    "    n=li[0]\n",
    "    a=li[1]\n",
    "    b=li[2]\n",
    "    value=0\n",
    "    x=round((b*n)/(a+b))\n",
    "    #print(x)\n",
    "    print(a*(x**2)+b*((n-x)**2))\n",
    "    "
   ]
  },
  {
   "cell_type": "markdown",
   "metadata": {},
   "source": [
    "# Repeated K Times "
   ]
  },
  {
   "cell_type": "code",
   "execution_count": 8,
   "metadata": {},
   "outputs": [
    {
     "name": "stdout",
     "output_type": "stream",
     "text": [
      "5\n",
      "2 2 1 3 1\n",
      "2\n",
      "1\n"
     ]
    }
   ],
   "source": [
    "n=int(input())\n",
    "li=list(map(int,input().split()))\n",
    "k=int(input())\n",
    "value=max(li)\n",
    "result=[0]*(value+1)\n",
    "for i in range(len(li)):\n",
    "    result[li[i]]=result[li[i]]+1\n",
    "for i in range(len(result)):\n",
    "    if(result[i]==k):\n",
    "        print(i)\n",
    "        break\n",
    "    "
   ]
  },
  {
   "cell_type": "markdown",
   "metadata": {},
   "source": [
    "#  Policemen and thieves "
   ]
  },
  {
   "cell_type": "code",
   "execution_count": 25,
   "metadata": {},
   "outputs": [
    {
     "name": "stdout",
     "output_type": "stream",
     "text": [
      "1\n",
      "4 2\n",
      "T T T P\n",
      "T T T P\n",
      "P P P T\n",
      "T P T P\n",
      "REVERSE2  0 - 3 -\n",
      "1\n",
      "REVERSE2  1 - 3 -\n",
      "2\n",
      "STRIGHT2  2 - 0 -\n",
      "REVERSE1  2 - 1 -\n",
      "STRIGHT1  2 - 1 -\n",
      "3\n",
      "REVERSE1  2 - 2 -\n",
      "STRIGHT1  2 - 2 -\n",
      "REVERSE2  2 - 3 -\n",
      "REVERSE1  3 - 1 -\n",
      "4\n",
      "REVERSE2  3 - 3 -\n",
      "5\n",
      "5\n"
     ]
    }
   ],
   "source": [
    "def calculate(matrix,w):\n",
    "    count=0\n",
    "    lower=0\n",
    "    \n",
    "    n=len(matrix)\n",
    "    higher=n\n",
    "    for i in range(len(matrix)):\n",
    "        for j in range(len(matrix)):\n",
    "            if(matrix[i][j]=='P'):\n",
    "                if(j!=0 and j!=n-1):\n",
    "                    x=0\n",
    "                    #print('REVERSE1 ',i,\"-\",j,\"-\")\n",
    "                    if((j-w)<0):\n",
    "                        lower=0\n",
    "                    else:\n",
    "                        lower=j-w\n",
    "                    for k in range(lower,j):\n",
    "                        if(matrix[i][k]=='T'):\n",
    "                            matrix[i][k]='G'\n",
    "                            count=count+1\n",
    "                            x=1\n",
    "                            #print(count)\n",
    "                            break\n",
    "                    if(x==0):\n",
    "                        #print('STRIGHT1 ',i,\"-\",j,\"-\")\n",
    "                        if(j+w+1>n):\n",
    "                            higher=n\n",
    "                        else:\n",
    "                            higher=j+w+1\n",
    "                        for k in range(j,higher):\n",
    "                            if(matrix[i][k]=='T'):\n",
    "                                matrix[i][k]='G'\n",
    "                                count=count+1\n",
    "                                #print(count)\n",
    "                                break\n",
    "                    \n",
    "                elif(j==0):\n",
    "                    #print('STRIGHT2 ',i,\"-\",j,\"-\")\n",
    "                    if(j+w+1>n):\n",
    "                        higher=n\n",
    "                    else:\n",
    "                        higher=j+w+1\n",
    "                    for k in range(j,higher):\n",
    "                        if(matrix[i][k]=='T'):\n",
    "                            matrix[i][k]='G'\n",
    "                            count=count+1\n",
    "                            #print(count)\n",
    "                            break\n",
    "                            \n",
    "                elif(j==n-1):\n",
    "                    #print('REVERSE2 ',i,\"-\",j,\"-\")\n",
    "                    if((j-w)<0):\n",
    "                        lower=0\n",
    "                    else:\n",
    "                        lower=j-w\n",
    "                    for k in range(lower,j):\n",
    "                        if(matrix[i][k]=='T'):\n",
    "                            matrix[i][k]='G'\n",
    "                            count=count+1\n",
    "                            #print(count)\n",
    "                            break\n",
    "\n",
    "                    \n",
    "    print(count)\n",
    "    #print(matrix)\n",
    "\n",
    "\n",
    "if __name__=='__main__':    \n",
    "    t=int(input())\n",
    "    for i in range(t):\n",
    "        n,k=list(map(int,input().split()))\n",
    "        matrix=[]\n",
    "        for i in range(n):\n",
    "            matrix.append(list(map(str,input().split())))\n",
    "        calculate(matrix,k)\n",
    "        \n",
    "        \n",
    "        "
   ]
  },
  {
   "cell_type": "markdown",
   "metadata": {},
   "source": [
    "# Holiday Season "
   ]
  },
  {
   "cell_type": "code",
   "execution_count": null,
   "metadata": {},
   "outputs": [],
   "source": [
    "n=int(input())\n",
    "s=input()\n",
    "for i in range(0,n):\n",
    "    a=s[i]\n",
    "    \n",
    "    for j in range(i+2,n):\n",
    "        if(s[j]==a):\n",
    "            "
   ]
  },
  {
   "cell_type": "markdown",
   "metadata": {},
   "source": [
    "# The Normal Type "
   ]
  },
  {
   "cell_type": "code",
   "execution_count": 30,
   "metadata": {},
   "outputs": [
    {
     "name": "stdout",
     "output_type": "stream",
     "text": [
      "5\n",
      "1 2 2 1 1\n",
      "[1, 2]\n",
      "[1, 2, 2]\n",
      "[1, 2, 2, 1]\n",
      "[1, 2, 2, 1, 1]\n",
      "[2, 2, 1]\n",
      "[2, 2, 1, 1]\n",
      "[2, 1]\n",
      "[2, 1, 1]\n",
      "8\n"
     ]
    }
   ],
   "source": [
    "n=int(input())\n",
    "arr=list(map(int,input().split()))\n",
    "distinct_element=len(set(arr))\n",
    "count=0\n",
    "for i in range(0,n-2):\n",
    "    for j in range(i+2,n+1):\n",
    "        if(len(set(arr[i:j]))==distinct_element):\n",
    "            #print(arr[i:j])\n",
    "            count=count+1\n",
    "print(count)"
   ]
  },
  {
   "cell_type": "code",
   "execution_count": 26,
   "metadata": {},
   "outputs": [
    {
     "data": {
      "text/plain": [
       "3"
      ]
     },
     "execution_count": 26,
     "metadata": {},
     "output_type": "execute_result"
    }
   ],
   "source": [
    "li=[1,2,3,1,2]\n",
    "len(set(li))"
   ]
  },
  {
   "cell_type": "code",
   "execution_count": 31,
   "metadata": {},
   "outputs": [
    {
     "name": "stdout",
     "output_type": "stream",
     "text": [
      "d\n"
     ]
    }
   ],
   "source": [
    "dict1={1:2,4:5}\n",
    "print(dict)\n",
    "if(dict1[1]==2):\n",
    "    print('d')"
   ]
  },
  {
   "cell_type": "code",
   "execution_count": null,
   "metadata": {},
   "outputs": [],
   "source": []
  }
 ],
 "metadata": {
  "kernelspec": {
   "display_name": "Python 3",
   "language": "python",
   "name": "python3"
  },
  "language_info": {
   "codemirror_mode": {
    "name": "ipython",
    "version": 3
   },
   "file_extension": ".py",
   "mimetype": "text/x-python",
   "name": "python",
   "nbconvert_exporter": "python",
   "pygments_lexer": "ipython3",
   "version": "3.6.9"
  }
 },
 "nbformat": 4,
 "nbformat_minor": 2
}

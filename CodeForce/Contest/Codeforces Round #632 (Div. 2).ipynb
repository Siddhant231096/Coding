{
 "cells": [
  {
   "cell_type": "markdown",
   "metadata": {},
   "source": [
    "# A. Little Artem"
   ]
  },
  {
   "cell_type": "code",
   "execution_count": null,
   "metadata": {},
   "outputs": [],
   "source": [
    "for _ in range(int(input())):\n",
    "    a,b=list(map(int,input().split()))\n",
    "    for i in range(a):\n",
    "        if(i==0):\n",
    "            print('B'*(b))\n",
    "        else:\n",
    "            print('W'+'B'*(b-1))\n"
   ]
  },
  {
   "cell_type": "markdown",
   "metadata": {},
   "source": [
    "# B. Kind Anton"
   ]
  },
  {
   "cell_type": "code",
   "execution_count": 3,
   "metadata": {},
   "outputs": [
    {
     "name": "stdout",
     "output_type": "stream",
     "text": [
      "1\n",
      "3\n",
      "1 -1 0\n",
      "1 1 -2\n",
      "YES\n"
     ]
    }
   ],
   "source": [
    "for _ in range(int(input())):\n",
    "    n=int(input())\n",
    "    a=list(map(int,input().split()))\n",
    "    b=list(map(int,input().split()))\n",
    "    ans='YES'\n",
    "    set1=set()\n",
    "    for i in range(n):\n",
    "        if(a[i]!=b[i]):\n",
    "            diff=b[i]-a[i]\n",
    "            if(diff>0):\n",
    "                if(1 not in set1):\n",
    "                    ans='NO'\n",
    "                    break\n",
    "            else:\n",
    "                if(-1 not in set1):\n",
    "                    ans='NO'\n",
    "                    break\n",
    "            set1.add(a[i])\n",
    "        else:\n",
    "            set1.add(a[i])\n",
    "    print(ans)\n",
    "                "
   ]
  },
  {
   "cell_type": "markdown",
   "metadata": {},
   "source": [
    "# C. Eugene and an array"
   ]
  },
  {
   "cell_type": "code",
   "execution_count": 4,
   "metadata": {},
   "outputs": [
    {
     "name": "stdout",
     "output_type": "stream",
     "text": [
      "3\n",
      "41 -41 41\n",
      "4\n"
     ]
    }
   ],
   "source": [
    "n=int(input())\n",
    "arr=list(map(int,input().split()))\n",
    "count=0\n",
    "value=0\n",
    "for i in range(n+1):\n",
    "    for j in range(i+1,n+1):\n",
    "        var =arr[i:j]\n",
    "        for k in range(len(var)\n",
    "        if(value!=0):\n",
    "            count=count+1\n",
    "print(count)\n"
   ]
  },
  {
   "cell_type": "code",
   "execution_count": 5,
   "metadata": {},
   "outputs": [
    {
     "data": {
      "text/plain": [
       "{0: -1}"
      ]
     },
     "execution_count": 5,
     "metadata": {},
     "output_type": "execute_result"
    }
   ],
   "source": [
    "d={0:-1}\n",
    "d"
   ]
  },
  {
   "cell_type": "code",
   "execution_count": null,
   "metadata": {},
   "outputs": [],
   "source": []
  }
 ],
 "metadata": {
  "kernelspec": {
   "display_name": "Python 3",
   "language": "python",
   "name": "python3"
  },
  "language_info": {
   "codemirror_mode": {
    "name": "ipython",
    "version": 3
   },
   "file_extension": ".py",
   "mimetype": "text/x-python",
   "name": "python",
   "nbconvert_exporter": "python",
   "pygments_lexer": "ipython3",
   "version": "3.6.9"
  }
 },
 "nbformat": 4,
 "nbformat_minor": 2
}

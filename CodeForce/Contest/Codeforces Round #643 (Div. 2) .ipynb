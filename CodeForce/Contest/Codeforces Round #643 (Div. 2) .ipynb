{
 "cells": [
  {
   "cell_type": "markdown",
   "metadata": {},
   "source": [
    "# A - Sequence with Digits "
   ]
  },
  {
   "cell_type": "code",
   "execution_count": 34,
   "metadata": {},
   "outputs": [
    {
     "name": "stdout",
     "output_type": "stream",
     "text": [
      "1\n",
      "487 6\n",
      "588\n"
     ]
    }
   ],
   "source": [
    "for _ in range(int(input())):\n",
    "    n,k=list(map(int,input().split()))\n",
    "    if(k==1):\n",
    "        print(n)\n",
    "    else:\n",
    "        for i in range(2,k+1):\n",
    "            m=str(n)\n",
    "            if(min(m)=='0'):\n",
    "                break\n",
    "            else:\n",
    "                n=n+int(max(m))*int(min(m))  \n",
    "        print(n)\n",
    "            "
   ]
  },
  {
   "cell_type": "markdown",
   "metadata": {},
   "source": [
    "# B. Young Explorers "
   ]
  },
  {
   "cell_type": "code",
   "execution_count": 35,
   "metadata": {},
   "outputs": [
    {
     "name": "stdout",
     "output_type": "stream",
     "text": [
      "1\n",
      "4\n",
      "1 2 3 4\n",
      "1\n"
     ]
    }
   ],
   "source": [
    "for _ in range(int(input())):\n",
    "    n=int(input())\n",
    "    arr=list(map(int,input().split()))\n",
    "    arr.sort()\n",
    "    grp=0\n",
    "    count=0\n",
    "    for i in arr:\n",
    "        count=count+1\n",
    "        if(count>=i):\n",
    "            grp=grp+1\n",
    "            count=0\n",
    "    print(grp)\n"
   ]
  },
  {
   "cell_type": "markdown",
   "metadata": {},
   "source": [
    "# D. Game With Array"
   ]
  },
  {
   "cell_type": "code",
   "execution_count": 39,
   "metadata": {},
   "outputs": [
    {
     "name": "stdout",
     "output_type": "stream",
     "text": [
      "1 4\n",
      "YES\n",
      "4\n",
      "2\n"
     ]
    }
   ],
   "source": [
    "n,s=list(map(int,input().split()))\n",
    "ans='NO'\n",
    "if(n==1):\n",
    "    if(s>1):\n",
    "        ans='YES'\n",
    "        arr=[s]\n",
    "        k=s//2\n",
    "else:\n",
    "    if(s>=2*n):\n",
    "        ans='YES'\n",
    "        arr=[1]*(n-1)+[s-n+1]\n",
    "        k=n\n",
    "        \n",
    "if(ans==\"YES\"):\n",
    "    print(ans)\n",
    "    print(*arr)\n",
    "    print(k)\n",
    "else:\n",
    "    print(ans)\n",
    "        \n",
    "    "
   ]
  },
  {
   "cell_type": "code",
   "execution_count": null,
   "metadata": {},
   "outputs": [],
   "source": []
  }
 ],
 "metadata": {
  "kernelspec": {
   "display_name": "Python 3",
   "language": "python",
   "name": "python3"
  },
  "language_info": {
   "codemirror_mode": {
    "name": "ipython",
    "version": 3
   },
   "file_extension": ".py",
   "mimetype": "text/x-python",
   "name": "python",
   "nbconvert_exporter": "python",
   "pygments_lexer": "ipython3",
   "version": "3.6.9"
  }
 },
 "nbformat": 4,
 "nbformat_minor": 2
}

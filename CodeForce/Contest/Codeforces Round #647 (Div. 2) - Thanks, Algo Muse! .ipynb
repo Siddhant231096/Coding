{
 "cells": [
  {
   "cell_type": "code",
   "execution_count": 50,
   "metadata": {},
   "outputs": [
    {
     "name": "stdout",
     "output_type": "stream",
     "text": [
      "1\n",
      "10 5\n",
      "1\n"
     ]
    }
   ],
   "source": [
    "from math import log \n",
    "for _ in range(int(input())):\n",
    "    a,b=list(map(int,input().split()))\n",
    "    count=0\n",
    "    \n",
    "    if(a!=b and (a%2==0 or b%2==0)):\n",
    "        if(b>a):\n",
    "            value=(log(b)-log(a))//log(2)\n",
    "            if(((2**value)*a)==b):\n",
    "                if(value>=3):\n",
    "                    count+=value//3\n",
    "                    value=value-count*3\n",
    "                if(value>=2):\n",
    "                    count+=value//2\n",
    "                    value=value-count*2\n",
    "                else:\n",
    "                    count+=value\n",
    "        elif(b<a):\n",
    "            value=(log(a)-log(b))//log(2)\n",
    "            if(((2**value)*b)==a):\n",
    "                #print(1)\n",
    "                if(value>=3):\n",
    "                    count+=value//3\n",
    "                    value=value-count*3\n",
    "                if(value>=2):\n",
    "                    count+=value//2\n",
    "                    value=value-count*2\n",
    "                else:\n",
    "                    count+=value\n",
    "        if(count==0):\n",
    "            print(-1)\n",
    "        else:\n",
    "            print(int(count))\n",
    "    elif(a==b):\n",
    "        print(0)\n",
    "    else:\n",
    "        print(-1)\n"
   ]
  },
  {
   "cell_type": "code",
   "execution_count": 49,
   "metadata": {},
   "outputs": [
    {
     "data": {
      "text/plain": [
       "1.0"
      ]
     },
     "execution_count": 49,
     "metadata": {},
     "output_type": "execute_result"
    }
   ],
   "source": [
    "value"
   ]
  },
  {
   "cell_type": "code",
   "execution_count": 7,
   "metadata": {},
   "outputs": [
    {
     "ename": "SyntaxError",
     "evalue": "can't use starred expression here (<ipython-input-7-22f64e010f05>, line 2)",
     "output_type": "error",
     "traceback": [
      "\u001b[0;36m  File \u001b[0;32m\"<ipython-input-7-22f64e010f05>\"\u001b[0;36m, line \u001b[0;32m2\u001b[0m\n\u001b[0;31m    *a^2\u001b[0m\n\u001b[0m        ^\u001b[0m\n\u001b[0;31mSyntaxError\u001b[0m\u001b[0;31m:\u001b[0m can't use starred expression here\n"
     ]
    }
   ],
   "source": [
    "a=[1,2,3]\n",
    "*a^2"
   ]
  },
  {
   "cell_type": "code",
   "execution_count": 29,
   "metadata": {},
   "outputs": [
    {
     "data": {
      "text/plain": [
       "1100611139403776"
      ]
     },
     "execution_count": 29,
     "metadata": {},
     "output_type": "execute_result"
    }
   ],
   "source": [
    "(2**40)*1001"
   ]
  },
  {
   "cell_type": "code",
   "execution_count": null,
   "metadata": {},
   "outputs": [],
   "source": [
    "for _ in range(int(input())):\n",
    "    n=int(input())\n",
    "    arr=list(map(int,input().split()))\n",
    "    x=1\n",
    "    while(True):\n",
    "        count=0\n",
    "        for i in arr:\n",
    "            if(i^x in arr):\n",
    "                li.append(i^x)\n",
    "                count+=1\n",
    "                pass\n",
    "            else:\n",
    "                x=x+1\n",
    "                break\n",
    "            if(count==n):\n",
    "                break\n",
    "        li.sort()\n",
    "        if()\n",
    "        "
   ]
  },
  {
   "cell_type": "code",
   "execution_count": 10,
   "metadata": {},
   "outputs": [],
   "source": [
    "a=[2,1]\n",
    "b=[1,2]\n",
    "if(a==b):\n",
    "    print(1)"
   ]
  },
  {
   "cell_type": "code",
   "execution_count": 30,
   "metadata": {},
   "outputs": [
    {
     "data": {
      "text/plain": [
       "40.0"
      ]
     },
     "execution_count": 30,
     "metadata": {},
     "output_type": "execute_result"
    }
   ],
   "source": [
    "import math \n",
    "(math.log(1100611139403776)-math.log(1001))/math.log(2)"
   ]
  },
  {
   "cell_type": "code",
   "execution_count": 26,
   "metadata": {},
   "outputs": [
    {
     "data": {
      "text/plain": [
       "563512903374733312"
      ]
     },
     "execution_count": 26,
     "metadata": {},
     "output_type": "execute_result"
    }
   ],
   "source": [
    "(2**49)*1001"
   ]
  },
  {
   "cell_type": "code",
   "execution_count": 70,
   "metadata": {},
   "outputs": [
    {
     "name": "stdout",
     "output_type": "stream",
     "text": [
      "1\n",
      "16\n",
      "31\n",
      "0\n",
      "31\n"
     ]
    }
   ],
   "source": [
    "for _ in range(int(input())):\n",
    "    n=int(input())\n",
    "    arr=[1,2,1,3,1,2,1]\n",
    "    value=len(bin(n).replace(\"0b\",\"\"))\n",
    "    sum1=0\n",
    "    sum2=0\n",
    "    leng=0\n",
    "    if(value==3):\n",
    "        for i in range(n):\n",
    "            sum1=sum1+arr[i]\n",
    "        print(sum1)\n",
    "    else:\n",
    "        sum2=11*(value-3-1)+(value*(value+1)//2)-(6)+11\n",
    "        print(sum2)\n",
    "        leng=n-2**(value-1)\n",
    "        print(leng)\n",
    "        sum2=sum2+sum(arr[:leng])\n",
    "        print(sum2)\n",
    "            \n",
    "        "
   ]
  },
  {
   "cell_type": "code",
   "execution_count": 66,
   "metadata": {},
   "outputs": [
    {
     "data": {
      "text/plain": [
       "41"
      ]
     },
     "execution_count": 66,
     "metadata": {},
     "output_type": "execute_result"
    }
   ],
   "source": [
    "value"
   ]
  },
  {
   "cell_type": "code",
   "execution_count": 69,
   "metadata": {},
   "outputs": [
    {
     "data": {
      "text/plain": [
       "1273"
      ]
     },
     "execution_count": 69,
     "metadata": {},
     "output_type": "execute_result"
    }
   ],
   "source": [
    "11*37+41*21+5"
   ]
  },
  {
   "cell_type": "code",
   "execution_count": 71,
   "metadata": {},
   "outputs": [
    {
     "data": {
      "text/plain": [
       "'10000'"
      ]
     },
     "execution_count": 71,
     "metadata": {},
     "output_type": "execute_result"
    }
   ],
   "source": [
    "bin(16).replace(\"0b\",\"\")"
   ]
  },
  {
   "cell_type": "code",
   "execution_count": null,
   "metadata": {},
   "outputs": [],
   "source": [
    "for _ in range(int(input())):\n",
    "    n = int(input())\n",
    "    n *= 2\n",
    "    cnt = (bin(n)[2:]).count('1')\n",
    "    ans = n - cnt\n",
    "    print(ans)"
   ]
  },
  {
   "cell_type": "code",
   "execution_count": 76,
   "metadata": {},
   "outputs": [
    {
     "data": {
      "text/plain": [
       "13"
      ]
     },
     "execution_count": 76,
     "metadata": {},
     "output_type": "execute_result"
    }
   ],
   "source": [
    "bin(2000000000000)[2:].count('1')"
   ]
  },
  {
   "cell_type": "code",
   "execution_count": null,
   "metadata": {},
   "outputs": [],
   "source": []
  }
 ],
 "metadata": {
  "kernelspec": {
   "display_name": "Python 3",
   "language": "python",
   "name": "python3"
  },
  "language_info": {
   "codemirror_mode": {
    "name": "ipython",
    "version": 3
   },
   "file_extension": ".py",
   "mimetype": "text/x-python",
   "name": "python",
   "nbconvert_exporter": "python",
   "pygments_lexer": "ipython3",
   "version": "3.6.9"
  }
 },
 "nbformat": 4,
 "nbformat_minor": 2
}

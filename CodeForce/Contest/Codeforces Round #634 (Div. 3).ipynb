{
 "cells": [
  {
   "cell_type": "markdown",
   "metadata": {},
   "source": [
    "# A. Candies and Two Sisters"
   ]
  },
  {
   "cell_type": "code",
   "execution_count": 1,
   "metadata": {},
   "outputs": [
    {
     "name": "stdout",
     "output_type": "stream",
     "text": [
      "6\n",
      "7\n",
      "3\n",
      "1\n",
      "0\n",
      "2\n",
      "0\n",
      "3\n",
      "1\n",
      "2000000000\n",
      "999999999\n",
      "763243547\n",
      "381621773\n"
     ]
    }
   ],
   "source": [
    "for _ in range(int(input())):\n",
    "    n=int(input())\n",
    "    if(n%2==0):\n",
    "        print(n//2-1)\n",
    "    else:\n",
    "        print(n//2)\n",
    "        "
   ]
  },
  {
   "cell_type": "markdown",
   "metadata": {},
   "source": [
    "# B. Construct the String"
   ]
  },
  {
   "cell_type": "code",
   "execution_count": null,
   "metadata": {},
   "outputs": [],
   "source": [
    "for _ in range(int(input())):\n",
    "    n,a,b=list(map(int,input().split()))\n",
    "    string=''\n",
    "    x=97\n",
    "    if(a==1 and b==1):\n",
    "        for i in range(n):\n",
    "            string=string+chr(x)\n",
    "            x=x+1\n",
    "            \n",
    "    if(n==a):\n",
    "        for i in range(b):\n",
    "            string=string+chr(x)\n",
    "            x=x+1\n",
    "        \n",
    "    else:\n",
    "        "
   ]
  },
  {
   "cell_type": "code",
   "execution_count": 2,
   "metadata": {},
   "outputs": [
    {
     "data": {
      "text/plain": [
       "'ab'"
      ]
     },
     "execution_count": 2,
     "metadata": {},
     "output_type": "execute_result"
    }
   ],
   "source": [
    "a='abcd'\n",
    "a[:2]"
   ]
  },
  {
   "cell_type": "code",
   "execution_count": 4,
   "metadata": {},
   "outputs": [
    {
     "data": {
      "text/plain": [
       "97"
      ]
     },
     "execution_count": 4,
     "metadata": {},
     "output_type": "execute_result"
    }
   ],
   "source": [
    "ord('a')"
   ]
  },
  {
   "cell_type": "markdown",
   "metadata": {},
   "source": [
    "# C. Two Teams Composing"
   ]
  },
  {
   "cell_type": "code",
   "execution_count": 6,
   "metadata": {},
   "outputs": [
    {
     "name": "stdout",
     "output_type": "stream",
     "text": [
      "1\n",
      "4\n",
      "1 1 1 3\n",
      "2\n"
     ]
    }
   ],
   "source": [
    "for _ in range(int(input())):\n",
    "    n=int(input())\n",
    "    arr=list(map(int,input().split()))\n",
    "    d={}\n",
    "    maxi=0\n",
    "    value=0\n",
    "    unique=[]\n",
    "    li=list(set(arr))\n",
    "    if(n==1):\n",
    "        print(0)\n",
    "    elif(len(li)==n):\n",
    "        print(1)\n",
    "        \n",
    "    else:\n",
    "        for i in range(n):\n",
    "            if(arr[i] in d.keys()):\n",
    "                d[arr[i]]=d[arr[i]]+1\n",
    "            else:\n",
    "                d[arr[i]]=1\n",
    "        for i in d.keys():\n",
    "            unique.append(i)\n",
    "            d[i]=d[i]-1\n",
    "        for i in d.keys():\n",
    "            if(maxi<d[i]):\n",
    "                maxi=d[i]\n",
    "                value=i\n",
    "        if(maxi>=len(unique)):\n",
    "            print(len(unique))\n",
    "        elif(len(unique)-maxi>1):\n",
    "            print(maxi+1)\n",
    "        elif(len(unique)-maxi==1):\n",
    "            print(maxi)\n",
    "\n",
    " "
   ]
  },
  {
   "cell_type": "markdown",
   "metadata": {},
   "source": [
    "# "
   ]
  }
 ],
 "metadata": {
  "kernelspec": {
   "display_name": "Python 3",
   "language": "python",
   "name": "python3"
  },
  "language_info": {
   "codemirror_mode": {
    "name": "ipython",
    "version": 3
   },
   "file_extension": ".py",
   "mimetype": "text/x-python",
   "name": "python",
   "nbconvert_exporter": "python",
   "pygments_lexer": "ipython3",
   "version": "3.6.9"
  }
 },
 "nbformat": 4,
 "nbformat_minor": 2
}

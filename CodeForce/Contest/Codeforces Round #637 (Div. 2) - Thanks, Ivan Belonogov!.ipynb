{
 "cells": [
  {
   "cell_type": "code",
   "execution_count": 13,
   "metadata": {},
   "outputs": [
    {
     "name": "stdout",
     "output_type": "stream",
     "text": [
      "1\n",
      "7 5\n",
      "1 2 3 4 5 6 1\n",
      "2 3\n"
     ]
    }
   ],
   "source": [
    "t=int(input())\n",
    "for i in range(t):\n",
    "    n,k=list(map(int,input().split()))\n",
    "    arr=list(map(int,input().split()))\n",
    "    l=1\n",
    "    p=0\n",
    "    peaks=[]\n",
    "    index=[]\n",
    "    i=0\n",
    "    while(l<=n-k+1):\n",
    "        maxl=l+k-1\n",
    "        p=0\n",
    "        arrl=arr[l-1:maxl]\n",
    "        #print(arrl)\n",
    "        i=1\n",
    "        while(i<len(arrl)-1):\n",
    "            if(arrl[i]>arrl[i-1] and arrl[i]>arrl[i+1]):\n",
    "                #print(l,arrl[i])\n",
    "                p=p+1\n",
    "                i=i+2\n",
    "            else:\n",
    "                i=i+1\n",
    "        peaks.append(p)\n",
    "        index.append(l)\n",
    "        l=l+1\n",
    "    \n",
    "    print((max(peaks)+1),end=' ')\n",
    "    print(index[peaks.index(max(peaks))])\n",
    "    "
   ]
  },
  {
   "cell_type": "code",
   "execution_count": 1,
   "metadata": {},
   "outputs": [
    {
     "name": "stdout",
     "output_type": "stream",
     "text": [
      "1\n",
      "15 7\n",
      "3 7 4 8 2 3 4 5 21 2 3 4 2 1 3\n"
     ]
    },
    {
     "ename": "NameError",
     "evalue": "name 'ind' is not defined",
     "output_type": "error",
     "traceback": [
      "\u001b[0;31m---------------------------------------------------------------------------\u001b[0m",
      "\u001b[0;31mNameError\u001b[0m                                 Traceback (most recent call last)",
      "\u001b[0;32m<ipython-input-1-abeb113306d1>\u001b[0m in \u001b[0;36m<module>\u001b[0;34m()\u001b[0m\n\u001b[1;32m     15\u001b[0m             \u001b[0mt\u001b[0m\u001b[0;34m=\u001b[0m\u001b[0ms\u001b[0m\u001b[0;34m\u001b[0m\u001b[0;34m\u001b[0m\u001b[0m\n\u001b[1;32m     16\u001b[0m             \u001b[0mind\u001b[0m\u001b[0;34m=\u001b[0m\u001b[0mi\u001b[0m\u001b[0;34m\u001b[0m\u001b[0;34m\u001b[0m\u001b[0m\n\u001b[0;32m---> 17\u001b[0;31m     \u001b[0mprint\u001b[0m\u001b[0;34m(\u001b[0m\u001b[0mt\u001b[0m\u001b[0;34m+\u001b[0m\u001b[0;36m1\u001b[0m\u001b[0;34m,\u001b[0m\u001b[0mind\u001b[0m\u001b[0;34m+\u001b[0m\u001b[0;36m1\u001b[0m\u001b[0;34m)\u001b[0m\u001b[0;34m\u001b[0m\u001b[0;34m\u001b[0m\u001b[0m\n\u001b[0m",
      "\u001b[0;31mNameError\u001b[0m: name 'ind' is not defined"
     ]
    }
   ],
   "source": [
    "t=int(input())\n",
    "for i in range(t):\n",
    "    n,k=list(map(int,input().split()))\n",
    "    arr=list(map(int,input().split()))\n",
    "    index=[0]*(n)\n",
    "    i=0\n",
    "    for i in range(1,len(arr)-1):\n",
    "        if(arr[i]>arr[i-1] and arr[i]>arr[i+1]):\n",
    "            index[i]=1\n",
    "    t=sum(index[1:k-1])\n",
    "    s=t\n",
    "    ind=0\n",
    "    for i in range(1,n-k+1):\n",
    "        s-=index[i]-index[k-2+i]\n",
    "        if s>t:\n",
    "            t=s\n",
    "            ind=i\n",
    "    print(t+1,ind+1)\n"
   ]
  },
  {
   "cell_type": "code",
   "execution_count": 26,
   "metadata": {},
   "outputs": [
    {
     "name": "stdout",
     "output_type": "stream",
     "text": [
      "[0, 0, 1, 0, 0, 1, 0, 0, 0, 0]\n"
     ]
    }
   ],
   "source": [
    "print(index)"
   ]
  },
  {
   "cell_type": "code",
   "execution_count": 17,
   "metadata": {},
   "outputs": [
    {
     "name": "stdout",
     "output_type": "stream",
     "text": [
      "[2, 2, 2]\n"
     ]
    }
   ],
   "source": [
    "print(per)"
   ]
  },
  {
   "cell_type": "code",
   "execution_count": 34,
   "metadata": {},
   "outputs": [
    {
     "name": "stdout",
     "output_type": "stream",
     "text": [
      "[0, 0, 0, 0, 0, 0, 0, 0, 0, 0, 0]\n"
     ]
    }
   ],
   "source": [
    "print(ind)"
   ]
  },
  {
   "cell_type": "code",
   "execution_count": null,
   "metadata": {},
   "outputs": [],
   "source": []
  },
  {
   "cell_type": "code",
   "execution_count": null,
   "metadata": {},
   "outputs": [],
   "source": []
  },
  {
   "cell_type": "code",
   "execution_count": 3,
   "metadata": {},
   "outputs": [
    {
     "name": "stdout",
     "output_type": "stream",
     "text": [
      "1\n",
      "1 2 1 4 3\n",
      "Yes\n"
     ]
    }
   ],
   "source": [
    "t=int(input())\n",
    "for i in range(t):\n",
    "    n,a,b,c,d=list(map(int,input().split()))\n",
    "    gran_lower=a-b\n",
    "    gran_high=a+b\n",
    "    total_lower=c-d\n",
    "    total_higher=c+d\n",
    "    if(n*gran_lower>total_higher or n*gran_high<total_lower):\n",
    "        print('No')\n",
    "    else:\n",
    "        print('Yes')\n",
    "            "
   ]
  },
  {
   "cell_type": "code",
   "execution_count": null,
   "metadata": {},
   "outputs": [],
   "source": []
  }
 ],
 "metadata": {
  "kernelspec": {
   "display_name": "Python 3",
   "language": "python",
   "name": "python3"
  },
  "language_info": {
   "codemirror_mode": {
    "name": "ipython",
    "version": 3
   },
   "file_extension": ".py",
   "mimetype": "text/x-python",
   "name": "python",
   "nbconvert_exporter": "python",
   "pygments_lexer": "ipython3",
   "version": "3.6.9"
  }
 },
 "nbformat": 4,
 "nbformat_minor": 2
}

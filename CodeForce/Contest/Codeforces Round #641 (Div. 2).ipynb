{
 "cells": [
  {
   "cell_type": "markdown",
   "metadata": {},
   "source": [
    "# A. Orac and Factors"
   ]
  },
  {
   "cell_type": "code",
   "execution_count": 26,
   "metadata": {},
   "outputs": [
    {
     "name": "stdout",
     "output_type": "stream",
     "text": [
      "3\n",
      "5 1\n",
      "10\n",
      "8 2\n",
      "12\n",
      "3 4\n",
      "12\n"
     ]
    }
   ],
   "source": [
    "import math\n",
    "for _ in range(int(input())):\n",
    "    n,k=list(map(int,input().split()))\n",
    "    prev=n\n",
    "    if(n%2==0):\n",
    "        prev=n\n",
    "        n=n+2*k\n",
    "        k=0\n",
    "    else:\n",
    "         while(k!=0):\n",
    "            x=0\n",
    "            for i in range(2,int(math.sqrt(n))+1):\n",
    "                if(n%2==0):\n",
    "                    n=n+2*k\n",
    "                    k=0\n",
    "                    x=1\n",
    "                    break\n",
    "                elif(n%i==0):\n",
    "                    prev=n\n",
    "                    n=n+i\n",
    "                    k=k-1\n",
    "            if(x==1):\n",
    "                break\n",
    "            if(n==prev):\n",
    "                prev=n\n",
    "                n=2*n\n",
    "                k=k-1\n",
    "                \n",
    "            \n",
    "    print(n)\n"
   ]
  },
  {
   "cell_type": "markdown",
   "metadata": {},
   "source": [
    "# C. Orac and LCM "
   ]
  },
  {
   "cell_type": "code",
   "execution_count": 36,
   "metadata": {},
   "outputs": [
    {
     "name": "stdout",
     "output_type": "stream",
     "text": [
      "4\n",
      "10 24 40 80\n",
      "40\n"
     ]
    }
   ],
   "source": [
    "import math\n",
    "n=int(input())\n",
    "arr=list(map(int,input().split()))\n",
    "arr=list(set(arr))\n",
    "n=len(arr)\n",
    "if(n==1):\n",
    "    print(arr[0])\n",
    "else:\n",
    "    li=set()\n",
    "    for i in range(n-1):\n",
    "        for j in range(i+1,n):\n",
    "            value=(arr[i]*arr[j])//math.gcd(arr[i],arr[j])\n",
    "            li.add(value)\n",
    "    li=list(li)\n",
    "    if(len(li)==1):\n",
    "        print(li[0])\n",
    "    else:\n",
    "        x=li[0]\n",
    "        for i in range(1,len(li)):\n",
    "            x=math.gcd(x,li[i])        \n",
    "        print(x)        "
   ]
  },
  {
   "cell_type": "code",
   "execution_count": null,
   "metadata": {},
   "outputs": [],
   "source": []
  }
 ],
 "metadata": {
  "kernelspec": {
   "display_name": "Python 3",
   "language": "python",
   "name": "python3"
  },
  "language_info": {
   "codemirror_mode": {
    "name": "ipython",
    "version": 3
   },
   "file_extension": ".py",
   "mimetype": "text/x-python",
   "name": "python",
   "nbconvert_exporter": "python",
   "pygments_lexer": "ipython3",
   "version": "3.6.9"
  }
 },
 "nbformat": 4,
 "nbformat_minor": 2
}

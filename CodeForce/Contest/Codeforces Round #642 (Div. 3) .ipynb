{
 "cells": [
  {
   "cell_type": "markdown",
   "metadata": {},
   "source": [
    "# A. Most Unstable Array"
   ]
  },
  {
   "cell_type": "code",
   "execution_count": 3,
   "metadata": {},
   "outputs": [
    {
     "name": "stdout",
     "output_type": "stream",
     "text": [
      "5\n",
      "1 100\n",
      "0\n",
      "2 2\n",
      "2\n",
      "5 5\n",
      "10\n",
      "2 100000\n",
      "100000\n",
      "10000 10000\n",
      "20000\n"
     ]
    }
   ],
   "source": [
    "for _ in range(int(input())):\n",
    "    n,m=list(map(int,input().split()))\n",
    "    if(n==1):\n",
    "        print(0)\n",
    "    elif(n==2):\n",
    "        print(m)\n",
    "    else:\n",
    "        print(m*2)\n",
    "    "
   ]
  },
  {
   "cell_type": "code",
   "execution_count": 2,
   "metadata": {},
   "outputs": [
    {
     "data": {
      "text/plain": [
       "3.3333333333333335"
      ]
     },
     "execution_count": 2,
     "metadata": {},
     "output_type": "execute_result"
    }
   ],
   "source": [
    "10/3"
   ]
  },
  {
   "cell_type": "markdown",
   "metadata": {},
   "source": [
    "# B. Two Arrays And Swaps  "
   ]
  },
  {
   "cell_type": "code",
   "execution_count": 8,
   "metadata": {},
   "outputs": [
    {
     "name": "stdout",
     "output_type": "stream",
     "text": [
      "5\n",
      "2 1\n",
      "1 2\n",
      "3 4\n",
      "6\n",
      "5 5\n",
      "5 5 6 6 5\n",
      "1 2 5 4 3\n",
      "27\n",
      "5 3\n",
      "1 2 3 4 5\n",
      "10 9 10 10 9\n",
      "39\n",
      "4 0\n",
      "2 2 4 3\n",
      "2 4 2 3\n",
      "11\n",
      "4 4\n",
      "1 2 2 1\n",
      "4 4 5 4\n",
      "17\n"
     ]
    }
   ],
   "source": [
    "for _ in range(int(input())):\n",
    "    n,k=list(map(int,input().split()))\n",
    "    a=list(map(int,input().split()))\n",
    "    b=list(map(int,input().split()))\n",
    "    a.sort()\n",
    "    b.sort()\n",
    "    for i in range(k):\n",
    "        valuea=min(a)\n",
    "        inda=a.index(valuea)\n",
    "        valueb=max(b)\n",
    "        indb=b.index(valueb)\n",
    "        if(valuea<=valueb):\n",
    "            a[inda]=valueb\n",
    "            b[indb]=valuea\n",
    "    print(sum(a))\n",
    "    \n",
    "    \n",
    "        "
   ]
  },
  {
   "cell_type": "markdown",
   "metadata": {},
   "source": [
    "# C.Board Moves "
   ]
  },
  {
   "cell_type": "code",
   "execution_count": 12,
   "metadata": {},
   "outputs": [
    {
     "name": "stdout",
     "output_type": "stream",
     "text": [
      "3\n",
      "1\n",
      "0\n",
      "5\n",
      "40\n",
      "499993\n",
      "41664916690999888\n"
     ]
    }
   ],
   "source": [
    "for _ in range(int(input())):\n",
    "    n=int(input())\n",
    "    if(n==1):\n",
    "        print(0)\n",
    "    else:\n",
    "        middle=(n+1)//2\n",
    "        x=n-middle\n",
    "        sum1=0\n",
    "\n",
    "        while(x>=1):\n",
    "            sum1=sum1+x*(4*n-4)\n",
    "            x=x-1\n",
    "            n=n-2\n",
    "        print(sum1)\n",
    "    "
   ]
  },
  {
   "cell_type": "code",
   "execution_count": 13,
   "metadata": {},
   "outputs": [],
   "source": [
    "# D"
   ]
  },
  {
   "cell_type": "code",
   "execution_count": 33,
   "metadata": {},
   "outputs": [
    {
     "name": "stdout",
     "output_type": "stream",
     "text": [
      "1\n",
      "9\n",
      "2 4 6 8 1 3 5 7 9\n"
     ]
    }
   ],
   "source": [
    "for _ in range(int(input())):\n",
    "    n=int(input())\n",
    "    arr=[0]*(n)\n",
    "    even=0\n",
    "    odd=0\n",
    "    if(n==1):\n",
    "        arr[0]=1\n",
    "    elif(n==2):\n",
    "        arr[0]=1\n",
    "        arr[1]=2\n",
    "    \n",
    "    elif(n%2==0):\n",
    "        middle=n//2\n",
    "        \n",
    "    \n",
    "    else:\n",
    "        \n",
    "    print(*(arr))          \n",
    "            "
   ]
  },
  {
   "cell_type": "code",
   "execution_count": 19,
   "metadata": {},
   "outputs": [
    {
     "data": {
      "text/plain": [
       "1"
      ]
     },
     "execution_count": 19,
     "metadata": {},
     "output_type": "execute_result"
    }
   ],
   "source": [
    "middle"
   ]
  },
  {
   "cell_type": "code",
   "execution_count": 27,
   "metadata": {},
   "outputs": [
    {
     "data": {
      "text/plain": [
       "6"
      ]
     },
     "execution_count": 27,
     "metadata": {},
     "output_type": "execute_result"
    }
   ],
   "source": [
    "arr=[1,2,3,3,4,3,2,1,0]\n",
    "arr[2:9].index(0)"
   ]
  },
  {
   "cell_type": "code",
   "execution_count": 34,
   "metadata": {},
   "outputs": [],
   "source": [
    "# E"
   ]
  },
  {
   "cell_type": "code",
   "execution_count": null,
   "metadata": {},
   "outputs": [],
   "source": [
    "for _ in range(int(input())):\n",
    "    n,k=list(map(int,input().split()))\n",
    "    string=input()\n",
    "    \n",
    "\n",
    "    "
   ]
  },
  {
   "cell_type": "code",
   "execution_count": 41,
   "metadata": {},
   "outputs": [
    {
     "ename": "ValueError",
     "evalue": "empty separator",
     "output_type": "error",
     "traceback": [
      "\u001b[0;31m---------------------------------------------------------------------------\u001b[0m",
      "\u001b[0;31mValueError\u001b[0m                                Traceback (most recent call last)",
      "\u001b[0;32m<ipython-input-41-9e257df34ff5>\u001b[0m in \u001b[0;36m<module>\u001b[0;34m()\u001b[0m\n\u001b[1;32m      1\u001b[0m \u001b[0mstring\u001b[0m\u001b[0;34m=\u001b[0m\u001b[0;34m'010001010'\u001b[0m\u001b[0;34m\u001b[0m\u001b[0;34m\u001b[0m\u001b[0m\n\u001b[0;32m----> 2\u001b[0;31m \u001b[0ms\u001b[0m\u001b[0;34m=\u001b[0m\u001b[0mstring\u001b[0m\u001b[0;34m.\u001b[0m\u001b[0msplit\u001b[0m\u001b[0;34m(\u001b[0m\u001b[0;34m''\u001b[0m\u001b[0;34m)\u001b[0m\u001b[0;34m\u001b[0m\u001b[0;34m\u001b[0m\u001b[0m\n\u001b[0m\u001b[1;32m      3\u001b[0m \u001b[0ms\u001b[0m\u001b[0;34m\u001b[0m\u001b[0;34m\u001b[0m\u001b[0m\n",
      "\u001b[0;31mValueError\u001b[0m: empty separator"
     ]
    }
   ],
   "source": [
    "string='010001010'\n"
   ]
  },
  {
   "cell_type": "code",
   "execution_count": null,
   "metadata": {},
   "outputs": [],
   "source": []
  }
 ],
 "metadata": {
  "kernelspec": {
   "display_name": "Python 3",
   "language": "python",
   "name": "python3"
  },
  "language_info": {
   "codemirror_mode": {
    "name": "ipython",
    "version": 3
   },
   "file_extension": ".py",
   "mimetype": "text/x-python",
   "name": "python",
   "nbconvert_exporter": "python",
   "pygments_lexer": "ipython3",
   "version": "3.6.9"
  }
 },
 "nbformat": 4,
 "nbformat_minor": 2
}

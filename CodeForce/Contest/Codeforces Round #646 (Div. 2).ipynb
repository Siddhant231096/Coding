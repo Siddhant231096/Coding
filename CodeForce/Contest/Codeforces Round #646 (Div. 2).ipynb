{
 "cells": [
  {
   "cell_type": "markdown",
   "metadata": {},
   "source": [
    "# A. Odd Selection"
   ]
  },
  {
   "cell_type": "code",
   "execution_count": 14,
   "metadata": {},
   "outputs": [
    {
     "name": "stdout",
     "output_type": "stream",
     "text": [
      "1\n",
      "4 2\n",
      "11 19 15 13\n",
      "NO\n"
     ]
    }
   ],
   "source": [
    "for _ in range(int(input())):\n",
    "    n,x=list(map(int,input().split()))\n",
    "    arr=list(map(int,input().split()))\n",
    "    odd=0\n",
    "    even=0\n",
    "    for i in range(n):\n",
    "        if(arr[i]%2==0):\n",
    "            even+=1\n",
    "        else:\n",
    "            odd+=1\n",
    "    if(odd==0):\n",
    "        print('NO')\n",
    "    elif(x%2!=0):\n",
    "        if(x==n):\n",
    "            if(odd%2==0):\n",
    "                print('NO')\n",
    "            else:\n",
    "                print('YES')\n",
    "        else:\n",
    "            print('YES')\n",
    "    elif(x%2==0):\n",
    "        if(even==0):\n",
    "            print('NO')\n",
    "        else:\n",
    "            if(x==n):\n",
    "                if(even%2==0):\n",
    "                    print('NO')\n",
    "                else:\n",
    "                    print('YES')\n",
    "            else:\n",
    "                print('YES')\n",
    "    \n",
    "                "
   ]
  },
  {
   "cell_type": "markdown",
   "metadata": {},
   "source": [
    "# B. Subsequence Hate"
   ]
  },
  {
   "cell_type": "code",
   "execution_count": 4,
   "metadata": {},
   "outputs": [
    {
     "name": "stdout",
     "output_type": "stream",
     "text": [
      "1\n",
      "101\n",
      "1\n"
     ]
    }
   ],
   "source": [
    "for _ in range(int(input())):\n",
    "    string=input()\n",
    "    ma=10**18\n",
    "    for i in range(len(string)):\n",
    "        a=string[:i].count('0')\n",
    "        b=string[i:].count('1')\n",
    "        c=string[:i].count('1')\n",
    "        d=string[i:].count('0')\n",
    "        ma=min(ma,a+b,c+d)\n",
    "    print(ma)"
   ]
  },
  {
   "cell_type": "code",
   "execution_count": null,
   "metadata": {},
   "outputs": [],
   "source": []
  }
 ],
 "metadata": {
  "kernelspec": {
   "display_name": "Python 3",
   "language": "python",
   "name": "python3"
  },
  "language_info": {
   "codemirror_mode": {
    "name": "ipython",
    "version": 3
   },
   "file_extension": ".py",
   "mimetype": "text/x-python",
   "name": "python",
   "nbconvert_exporter": "python",
   "pygments_lexer": "ipython3",
   "version": "3.6.9"
  }
 },
 "nbformat": 4,
 "nbformat_minor": 2
}

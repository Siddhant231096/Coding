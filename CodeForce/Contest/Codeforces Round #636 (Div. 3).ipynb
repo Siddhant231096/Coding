{
 "cells": [
  {
   "cell_type": "markdown",
   "metadata": {},
   "source": [
    "# A. Candies"
   ]
  },
  {
   "cell_type": "code",
   "execution_count": 2,
   "metadata": {},
   "outputs": [
    {
     "name": "stdout",
     "output_type": "stream",
     "text": [
      "7\n",
      "3\n",
      "1\n",
      "6\n",
      "2\n",
      "7\n",
      "1\n",
      "21\n",
      "7\n",
      "28\n",
      "4\n",
      "999999999\n",
      "333333333\n",
      "999999984\n",
      "333333328\n"
     ]
    }
   ],
   "source": [
    "t=int(input())\n",
    "for _ in range(t):\n",
    "    n=int(input())\n",
    "    i=2\n",
    "    while(True):\n",
    "        if(n%(2**i-1)==0):\n",
    "            print(int(n/(2**i-1)))\n",
    "            break\n",
    "        i=i+1\n",
    "            \n",
    "        "
   ]
  },
  {
   "cell_type": "markdown",
   "metadata": {},
   "source": [
    "# B. Balanced Array"
   ]
  },
  {
   "cell_type": "code",
   "execution_count": 3,
   "metadata": {},
   "outputs": [
    {
     "name": "stdout",
     "output_type": "stream",
     "text": [
      "5\n",
      "2\n",
      "4\n",
      "2 4 1 5\n",
      "6\n",
      "8\n",
      "2 4 6 8 1 3 5 11\n",
      "10\n"
     ]
    }
   ],
   "source": [
    "for _ in range(int(input())):\n",
    "    n=int(input())\n",
    "    x=1\n",
    "    sum=0\n",
    "    if((n/2)%2==0):\n",
    "        print('YES')\n",
    "        for i in range(1,n//2+1):\n",
    "            print(2*i,end=' ')\n",
    "        for i in range(1,n//2):\n",
    "            print(x,end=' ')\n",
    "            x=x+2\n",
    "        y=n//2\n",
    "        print(y*(2+(y-1))- (y-1)*(1+(y-2)))\n",
    "    else:\n",
    "        print('NO')"
   ]
  },
  {
   "cell_type": "markdown",
   "metadata": {},
   "source": [
    "# C. Alternating Subsequence"
   ]
  },
  {
   "cell_type": "code",
   "execution_count": 17,
   "metadata": {},
   "outputs": [
    {
     "name": "stdout",
     "output_type": "stream",
     "text": [
      "1\n",
      "5\n",
      "1 2 3 -1 -2\n",
      "2\n"
     ]
    }
   ],
   "source": [
    "t=int(input())\n",
    "for _ in range(t):\n",
    "    n=int(input())\n",
    "    arr=list(map(int,input().split()))\n",
    "    count=0\n",
    "            \n",
    "    prev=arr[0]\n",
    "    maxpo=arr[0]\n",
    "    maxne=min(arr)\n",
    "    sum1=0\n",
    "    x=0\n",
    "    y=0\n",
    "    for i in range(1,n):\n",
    "        if(arr[i]>0):\n",
    "            if(prev>0):\n",
    "                if(y==0):\n",
    "                    maxpo=prev\n",
    "                if(maxpo<arr[i]):\n",
    "                    maxpo=arr[i]\n",
    "                    prev=arr[i]\n",
    "                    y=1\n",
    "            else:\n",
    "                sum1=sum1+prev\n",
    "                maxpo=arr[i]\n",
    "                prev=arr[i]\n",
    "                y=0\n",
    "                \n",
    "        elif(arr[i]<0):\n",
    "            if(prev<0):\n",
    "                if(x==0):\n",
    "                    maxne=prev\n",
    "                if(maxne<arr[i]):\n",
    "                    maxne=arr[i]\n",
    "                    prev=arr[i]\n",
    "                    x=1\n",
    "            else:\n",
    "                sum1=sum1+prev\n",
    "                maxne=arr[i]\n",
    "                prev=arr[i]\n",
    "                x=0\n",
    "    sum1=sum1+prev\n",
    "    print(sum1)"
   ]
  },
  {
   "cell_type": "code",
   "execution_count": 4,
   "metadata": {},
   "outputs": [],
   "source": [
    "a=[-1,2,3]\n",
    "b=[0]*3\n",
    "if(-1<-2):\n",
    "    print(True)\n"
   ]
  },
  {
   "cell_type": "markdown",
   "metadata": {},
   "source": [
    "# D. Constant Palindrome Sum "
   ]
  },
  {
   "cell_type": "code",
   "execution_count": 21,
   "metadata": {},
   "outputs": [
    {
     "name": "stdout",
     "output_type": "stream",
     "text": [
      "1\n",
      "4 2\n",
      "1 2 2 1\n",
      "1\n"
     ]
    }
   ],
   "source": [
    "t=int(input())\n",
    "for _ in range(t):\n",
    "    n,k=list(map(int,input().split()))\n",
    "    arr=list(map(int,input().split()))\n",
    "    lisum=[]\n",
    "    for i in range(0,n//2):\n",
    "        lisum.append(arr[i]+arr[n-i-1])\n",
    "    value=list(set(lisum))\n",
    "    if(len(value)==1):\n",
    "        print(0)\n",
    "    else:\n",
    "        mini=min(value)\n",
    "        maxi=max(value)\n",
    "        if(len(value)==n//2):\n",
    "            if((maxi-mini)>k):\n",
    "                diff=maxi-mini\n",
    "                diff1=diff-k\n",
    "                ind=value.index(maxi)\n",
    "                value[ind]=value[ind]-diff1\n",
    "                final=list(set(value))\n",
    "                print(len(final))\n",
    "            else:\n",
    "                print(len(value)-1)\n"
   ]
  },
  {
   "cell_type": "code",
   "execution_count": null,
   "metadata": {},
   "outputs": [],
   "source": []
  }
 ],
 "metadata": {
  "kernelspec": {
   "display_name": "Python 3",
   "language": "python",
   "name": "python3"
  },
  "language_info": {
   "codemirror_mode": {
    "name": "ipython",
    "version": 3
   },
   "file_extension": ".py",
   "mimetype": "text/x-python",
   "name": "python",
   "nbconvert_exporter": "python",
   "pygments_lexer": "ipython3",
   "version": "3.6.9"
  }
 },
 "nbformat": 4,
 "nbformat_minor": 2
}

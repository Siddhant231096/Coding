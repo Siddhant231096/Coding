{
 "cells": [
  {
   "cell_type": "markdown",
   "metadata": {},
   "source": [
    "# A. Divisibility Problem"
   ]
  },
  {
   "cell_type": "code",
   "execution_count": 1,
   "metadata": {},
   "outputs": [
    {
     "name": "stdout",
     "output_type": "stream",
     "text": [
      "5\n",
      "10 4\n",
      "2\n",
      "13 9\n",
      "5\n",
      "100 13\n",
      "4\n",
      "123 456\n",
      "333\n",
      "92 46\n",
      "0\n"
     ]
    }
   ],
   "source": [
    "for _ in range(int(input())):\n",
    "    a,b=list(map(int,input().split()))\n",
    "    if(a%b==0):\n",
    "        print(0)\n",
    "    else:\n",
    "        value=(a//b)+1\n",
    "        print(b*value-a)"
   ]
  },
  {
   "cell_type": "markdown",
   "metadata": {},
   "source": [
    "# B. K-th Beautiful String"
   ]
  },
  {
   "cell_type": "code",
   "execution_count": 26,
   "metadata": {},
   "outputs": [
    {
     "name": "stdout",
     "output_type": "stream",
     "text": [
      "1\n",
      "20 100\n",
      "aaaaabaaaaabaaaaaaaa\n"
     ]
    }
   ],
   "source": [
    "for _ in range(int(input())):\n",
    "    n,k=list(map(int,input().split()))\n",
    "    \n",
    "    string=['a']*(n)\n",
    "    final=''\n",
    "    \n",
    "    if(k<((n-1)*(n-2))//2):\n",
    "        for i in range(1,n):\n",
    "            value=i*(i-1)//2\n",
    "            if(value>k):\n",
    "                maxi=i\n",
    "                mini=i-1\n",
    "                count=mini*(mini-1)//2\n",
    "                far=k-count\n",
    "                string[n-maxi]='b'\n",
    "                string[n-far]='b'\n",
    "                break\n",
    "            elif(value==k):\n",
    "                string[n-i]='b'\n",
    "                string[n-i+1]='b'\n",
    "                break\n",
    "    \n",
    "    elif(k>((n-1)*(n-2))//2):\n",
    "        value=((n-1)*(n-2))//2\n",
    "        far=k-value\n",
    "        string[0]='b'\n",
    "        string[n-far]='b'\n",
    "    \n",
    "    elif(k==((n-1)*(n-2))//2):\n",
    "        string[1]='b'\n",
    "        string[2]='b'\n",
    "    \n",
    "    for i in range(n):\n",
    "        final=final+string[i]\n",
    "        \n",
    "    print(final)\n",
    "            \n",
    "            "
   ]
  },
  {
   "cell_type": "code",
   "execution_count": 29,
   "metadata": {},
   "outputs": [
    {
     "data": {
      "text/plain": [
       "394"
      ]
     },
     "execution_count": 29,
     "metadata": {},
     "output_type": "execute_result"
    }
   ],
   "source": [
    "11000-10606"
   ]
  },
  {
   "cell_type": "code",
   "execution_count": 30,
   "metadata": {},
   "outputs": [
    {
     "data": {
      "text/plain": [
       "10605"
      ]
     },
     "execution_count": 30,
     "metadata": {},
     "output_type": "execute_result"
    }
   ],
   "source": [
    "10211+394"
   ]
  },
  {
   "cell_type": "markdown",
   "metadata": {},
   "source": [
    "# C. Ternary XOR"
   ]
  },
  {
   "cell_type": "code",
   "execution_count": 44,
   "metadata": {},
   "outputs": [
    {
     "name": "stdout",
     "output_type": "stream",
     "text": [
      "1\n",
      "9\n",
      "220222021\n",
      "110111011\n",
      "110111010\n"
     ]
    }
   ],
   "source": [
    "for _ in range(int(input())):\n",
    "    n=int(input())\n",
    "    number=int(input())\n",
    "    a=''\n",
    "    b=''\n",
    "    string=str(number)\n",
    "    for i in range(n):\n",
    "        if(string[i]=='1'):\n",
    "            b=b+string[i]\n",
    "            a=a+'0'\n",
    "            break\n",
    "        elif(string[i]=='2'):\n",
    "            b=b+'1'\n",
    "            a=a+'1'\n",
    "        else:\n",
    "            b=b+'0'\n",
    "            a=a+'0'\n",
    "    if(i!=n-1):\n",
    "        b=b+'0'*(n-1-i)\n",
    "        a=a+string[i+1:]\n",
    "    print(int(b))\n",
    "    print(int(a))"
   ]
  },
  {
   "cell_type": "code",
   "execution_count": 33,
   "metadata": {},
   "outputs": [],
   "source": [
    "a='123'\n",
    "a[1]\n",
    "a=a+'0'*3"
   ]
  },
  {
   "cell_type": "code",
   "execution_count": 40,
   "metadata": {},
   "outputs": [
    {
     "data": {
      "text/plain": [
       "'1011'"
      ]
     },
     "execution_count": 40,
     "metadata": {},
     "output_type": "execute_result"
    }
   ],
   "source": [
    "a"
   ]
  },
  {
   "cell_type": "code",
   "execution_count": 41,
   "metadata": {},
   "outputs": [
    {
     "data": {
      "text/plain": [
       "'011'"
      ]
     },
     "execution_count": 41,
     "metadata": {},
     "output_type": "execute_result"
    }
   ],
   "source": [
    "a[1:]"
   ]
  },
  {
   "cell_type": "code",
   "execution_count": null,
   "metadata": {},
   "outputs": [],
   "source": []
  }
 ],
 "metadata": {
  "kernelspec": {
   "display_name": "Python 3",
   "language": "python",
   "name": "python3"
  },
  "language_info": {
   "codemirror_mode": {
    "name": "ipython",
    "version": 3
   },
   "file_extension": ".py",
   "mimetype": "text/x-python",
   "name": "python",
   "nbconvert_exporter": "python",
   "pygments_lexer": "ipython3",
   "version": "3.6.9"
  }
 },
 "nbformat": 4,
 "nbformat_minor": 2
}

{
 "cells": [
  {
   "cell_type": "markdown",
   "metadata": {},
   "source": [
    "# A. Minimal Square"
   ]
  },
  {
   "cell_type": "code",
   "execution_count": 6,
   "metadata": {
    "scrolled": true
   },
   "outputs": [
    {
     "name": "stdout",
     "output_type": "stream",
     "text": [
      "8\n",
      "3 2\n",
      "16\n",
      "4 2\n",
      "16\n",
      "1 1\n",
      "4\n",
      "3 1\n",
      "9\n",
      "4 7\n",
      "64\n",
      "1 3\n",
      "9\n",
      "7 4\n",
      "64\n",
      "100 100\n",
      "40000\n"
     ]
    }
   ],
   "source": [
    "t=int(input())\n",
    "for i in range(t):\n",
    "    a,b=list(map(int,input().split()))\n",
    "    c=max(a,b)\n",
    "    d=min(a,b)\n",
    "    square =0\n",
    "    if(c!=d):\n",
    "        if(c>(2*d)):\n",
    "            square=c*c\n",
    "        elif(c<(2*d)):\n",
    "            e=2*d\n",
    "            square=e*e\n",
    "        else:\n",
    "            square=c*c\n",
    "    elif(c==d):\n",
    "        f=c+d\n",
    "        square=f*f\n",
    "    print(square)"
   ]
  },
  {
   "cell_type": "markdown",
   "metadata": {},
   "source": [
    "# B. Honest Coach"
   ]
  },
  {
   "cell_type": "code",
   "execution_count": 11,
   "metadata": {
    "scrolled": true
   },
   "outputs": [
    {
     "name": "stdout",
     "output_type": "stream",
     "text": [
      "5\n",
      "5\n",
      "3 1 2 6 4\n",
      "1\n",
      "6\n",
      "2 1 3 2 4 3\n",
      "0\n",
      "4 \n",
      "7 9 3 1\n",
      "2\n",
      "2\n",
      "1 1000\n",
      "999\n",
      "3\n",
      "100 150 200\n",
      "50\n"
     ]
    }
   ],
   "source": [
    "for _ in range(int(input())):\n",
    "    n=int(input())\n",
    "    arr=list(map(int,input().split()))\n",
    "    ss=len(set(arr))\n",
    "    li=[]\n",
    "    if(ss<n):\n",
    "        print(0)\n",
    "    else:\n",
    "        arr.sort()\n",
    "        for i in range(1,n):\n",
    "            li.append(abs(arr[i-1]-arr[i]))\n",
    "        \n",
    "        print(min(li))\n",
    "            "
   ]
  },
  {
   "cell_type": "markdown",
   "metadata": {},
   "source": [
    "# C. Similar Pairs"
   ]
  },
  {
   "cell_type": "code",
   "execution_count": 14,
   "metadata": {},
   "outputs": [
    {
     "name": "stdout",
     "output_type": "stream",
     "text": [
      "7\n",
      "4\n",
      "11 14 16 12\n",
      "YES\n",
      "2\n",
      "1 8\n",
      "NO\n",
      "4\n",
      "1 1 1 1\n",
      "YES\n",
      "4\n",
      "1 2 5 6\n",
      "YES\n",
      "2\n",
      "12 13\n",
      "YES\n",
      "6\n",
      "1 6 3 10 5 8\n",
      "YES\n",
      "6\n",
      "1 12 3 10 5 8\n",
      "NO\n"
     ]
    }
   ],
   "source": [
    "for _ in range(int(input())):\n",
    "    n=int(input())\n",
    "    arr=list(map(int,input().split()))\n",
    "    even=0\n",
    "    odd=0\n",
    "    x=0\n",
    "    for i in arr:\n",
    "        if(i%2==0):\n",
    "            even+=1\n",
    "        elif(i%2!=0):\n",
    "            odd+=1\n",
    "    if(even%2==0 and odd%2==0):\n",
    "        print('YES')\n",
    "    else:\n",
    "        arr.sort()\n",
    "        for i in range(1,n):\n",
    "            if((arr[i-1]%2==0 and arr[i]%2!=0)or(arr[i-1]%2!=0 and arr[i]%2==0)):\n",
    "                if(abs(arr[i-1]-arr[i])==1):\n",
    "                    x=1\n",
    "                    break\n",
    "        if(x==1):\n",
    "            print('YES')\n",
    "        else:\n",
    "            print('NO')\n",
    "      "
   ]
  },
  {
   "cell_type": "markdown",
   "metadata": {},
   "source": [
    "# D. Buying Shovels"
   ]
  },
  {
   "cell_type": "code",
   "execution_count": 46,
   "metadata": {},
   "outputs": [
    {
     "name": "stdout",
     "output_type": "stream",
     "text": [
      "1\n",
      "20 4\n",
      "20\n"
     ]
    }
   ],
   "source": [
    "import math\n",
    "\n",
    "for _ in range(int(input())):\n",
    "    a,b=list(map(int,input().split()))\n",
    "    ans=1\n",
    "    for i in range(1,int(math.sqrt(a))+1):\n",
    "        if(a%i==0 and i<=b):\n",
    "            ans=max(ans,i)\n",
    "            div=a//i\n",
    "            if(a//i<=b):\n",
    "                ans=max(ans,div)\n",
    "    print(a//ans)\n",
    "        \n"
   ]
  },
  {
   "cell_type": "markdown",
   "metadata": {},
   "source": [
    "# E. Polygon"
   ]
  },
  {
   "cell_type": "code",
   "execution_count": 45,
   "metadata": {},
   "outputs": [
    {
     "name": "stdout",
     "output_type": "stream",
     "text": [
      "1\n",
      "2\n",
      "10\n",
      "01\n",
      "0\n",
      "0\n",
      "NO\n"
     ]
    }
   ],
   "source": [
    "for _ in range(int(input())):\n",
    "    n=int(input())\n",
    "    x=0\n",
    "    matrix=[]\n",
    "    for i in range(n):\n",
    "        string=input()\n",
    "        matrix.append(string)\n",
    "    for i in range(n):\n",
    "        for j in range(n):\n",
    "            if(matrix[i][j]=='1' and j!=n-1 and i!=n-1):\n",
    "                if(matrix[i+1][j]=='0' and matrix[i][j+1]=='0'):\n",
    "                    \n",
    "                    x=1\n",
    "                    break\n",
    "        if(x==1):\n",
    "            break\n",
    "    if(x==0):\n",
    "        print('YES')\n",
    "    else:\n",
    "        print('NO')"
   ]
  },
  {
   "cell_type": "code",
   "execution_count": null,
   "metadata": {},
   "outputs": [],
   "source": []
  },
  {
   "cell_type": "code",
   "execution_count": null,
   "metadata": {},
   "outputs": [],
   "source": []
  },
  {
   "cell_type": "code",
   "execution_count": null,
   "metadata": {},
   "outputs": [],
   "source": []
  },
  {
   "cell_type": "code",
   "execution_count": null,
   "metadata": {},
   "outputs": [],
   "source": []
  }
 ],
 "metadata": {
  "kernelspec": {
   "display_name": "Python 3",
   "language": "python",
   "name": "python3"
  },
  "language_info": {
   "codemirror_mode": {
    "name": "ipython",
    "version": 3
   },
   "file_extension": ".py",
   "mimetype": "text/x-python",
   "name": "python",
   "nbconvert_exporter": "python",
   "pygments_lexer": "ipython3",
   "version": "3.6.9"
  }
 },
 "nbformat": 4,
 "nbformat_minor": 2
}

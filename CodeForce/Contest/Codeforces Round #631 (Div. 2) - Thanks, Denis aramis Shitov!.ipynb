{
 "cells": [
  {
   "cell_type": "markdown",
   "metadata": {},
   "source": [
    "# A. Dreamoon and Ranking Collection"
   ]
  },
  {
   "cell_type": "code",
   "execution_count": 13,
   "metadata": {},
   "outputs": [
    {
     "name": "stdout",
     "output_type": "stream",
     "text": [
      "1\n",
      "6 2\n",
      "3 1 1 5 7 10\n",
      "5\n"
     ]
    }
   ],
   "source": [
    "total=set(range(1,210))\n",
    "for _ in range(int(input())):\n",
    "    n,k=list(map(int,input().split()))\n",
    "    arr=set(map(int,input().split()))\n",
    "    diff=sorted(list(total.difference(arr)))\n",
    "    print(diff[k]-1)"
   ]
  },
  {
   "cell_type": "code",
   "execution_count": 11,
   "metadata": {},
   "outputs": [
    {
     "data": {
      "text/plain": [
       "{2, 4, 6, 8, 9, 11, 12, 13, 14, 15, 16}"
      ]
     },
     "execution_count": 11,
     "metadata": {},
     "output_type": "execute_result"
    }
   ],
   "source": [
    "a=set([1,2,3,4,5,6,7,8,9,10,11,12,13,14,15,16])\n",
    "b=set([1,3,5,7,10])\n",
    "a.difference(b)\n"
   ]
  },
  {
   "cell_type": "markdown",
   "metadata": {},
   "source": [
    "# B. Dreamoon Likes Permutations"
   ]
  },
  {
   "cell_type": "code",
   "execution_count": 47,
   "metadata": {},
   "outputs": [
    {
     "name": "stdout",
     "output_type": "stream",
     "text": [
      "1\n",
      "5\n",
      "1 4 3 2 1\n",
      "2\n",
      "1 4\n",
      "4 1\n"
     ]
    }
   ],
   "source": [
    "for _ in range(int(input())):\n",
    "    n=int(input())\n",
    "    arr=list(map(int,input().split()))\n",
    "    maxi=max(arr)\n",
    "    #l1=n-maxi\n",
    "    li=[]\n",
    "    for k in range(2):\n",
    "        if(set(arr[:maxi])==set(range(1,maxi+1)) and set(arr[maxi:])==set(range(1,n-maxi+1))):\n",
    "            li.append(maxi)\n",
    "        maxi=n-maxi\n",
    "    li=set(li)\n",
    "    print(len(li))\n",
    "    for i in li:\n",
    "        print(i,n-i)\n"
   ]
  },
  {
   "cell_type": "code",
   "execution_count": 45,
   "metadata": {},
   "outputs": [
    {
     "name": "stdout",
     "output_type": "stream",
     "text": [
      "1\n",
      "5\n",
      "1 4 3 2 1\n",
      "2\n",
      "1 4\n",
      "4 1\n"
     ]
    }
   ],
   "source": [
    "for _ in range(int(input())):\n",
    "\t\n",
    "    n = int(input());ar = list(map(int,input().split()));\n",
    "    i = max(ar);\n",
    "    d=[]\n",
    "\t\n",
    "    for c in range(2):\n",
    "\t\t\n",
    "        if set(ar[:i])==set(range(1,i+1)) and set(ar[i:])==set(range(1,n-i+1)):\n",
    "            d.append(i);\n",
    "\t\t\n",
    "        i = n-i\n",
    "\t\n",
    "    d=set(d)\n",
    "\t\n",
    "    print(len(d))\n",
    "\t\n",
    "    for x in d:\n",
    "        print(x,n-x)"
   ]
  },
  {
   "cell_type": "code",
   "execution_count": null,
   "metadata": {},
   "outputs": [],
   "source": []
  }
 ],
 "metadata": {
  "kernelspec": {
   "display_name": "Python 3",
   "language": "python",
   "name": "python3"
  },
  "language_info": {
   "codemirror_mode": {
    "name": "ipython",
    "version": 3
   },
   "file_extension": ".py",
   "mimetype": "text/x-python",
   "name": "python",
   "nbconvert_exporter": "python",
   "pygments_lexer": "ipython3",
   "version": "3.6.9"
  }
 },
 "nbformat": 4,
 "nbformat_minor": 2
}

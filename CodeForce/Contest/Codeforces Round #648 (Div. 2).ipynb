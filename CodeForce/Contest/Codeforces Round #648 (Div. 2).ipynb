{
 "cells": [
  {
   "cell_type": "markdown",
   "metadata": {},
   "source": [
    "# A. Matrix Game"
   ]
  },
  {
   "cell_type": "code",
   "execution_count": 14,
   "metadata": {},
   "outputs": [
    {
     "name": "stdout",
     "output_type": "stream",
     "text": [
      "1\n",
      "2 2\n",
      "0 0\n",
      "0 1\n",
      "Ashish\n"
     ]
    }
   ],
   "source": [
    "for _ in range(int(input())):\n",
    "    r,c=list(map(int,input().split()))\n",
    "    matrix=[]\n",
    "    x=0\n",
    "    for i in range(r):\n",
    "        matrix.append(list(map(int,input().split())))\n",
    "    flag=0    \n",
    "    for i in range(r):\n",
    "        for j in range(c):\n",
    "            if(matrix[i][j]==1):\n",
    "                break\n",
    "            if(matrix[i][j]==0):\n",
    "                if(1 not in matrix[i][:]):\n",
    "                    x=0\n",
    "                    for k in range(r):\n",
    "                        if(matrix[k][j]==1):\n",
    "                            x=1\n",
    "                            break\n",
    "                    if(flag==0 and x==0):\n",
    "                        matrix[i][j]=1\n",
    "                        flag=1\n",
    "                    elif(flag==1 and x==0):\n",
    "                        matrix[i][j]=1\n",
    "                        flag=0\n",
    "    if(flag==0):\n",
    "        print('Vivek')\n",
    "    elif(flag==1):\n",
    "        print('Ashish')"
   ]
  },
  {
   "cell_type": "markdown",
   "metadata": {},
   "source": [
    "# B. Trouble Sort"
   ]
  },
  {
   "cell_type": "code",
   "execution_count": 57,
   "metadata": {},
   "outputs": [
    {
     "name": "stdout",
     "output_type": "stream",
     "text": [
      "1\n",
      "3\n",
      "5 15 4\n",
      "0 0 0\n",
      "NO\n"
     ]
    }
   ],
   "source": [
    "for _ in range(int(input())):\n",
    "    n=int(input())  \n",
    "    a=list(map(int,input().split()))\n",
    "    b=list(map(int,input().split()))\n",
    "    flag=0\n",
    "    if(0 in b and 1 in b):\n",
    "        flag=1\n",
    "    else:\n",
    "        flag=1\n",
    "        for i in range(1,n):\n",
    "            if(a[i]<a[i-1]):\n",
    "                flag=0\n",
    "                break\n",
    "    if(flag==1):\n",
    "        print('YES')\n",
    "    else:\n",
    "        print('NO')"
   ]
  },
  {
   "cell_type": "markdown",
   "metadata": {},
   "source": [
    "# C. Rotation Matching"
   ]
  },
  {
   "cell_type": "code",
   "execution_count": 55,
   "metadata": {},
   "outputs": [
    {
     "name": "stdout",
     "output_type": "stream",
     "text": [
      "4\n",
      "1 3 2 4\n",
      "4 2 3 1\n",
      "2\n"
     ]
    }
   ],
   "source": [
    "n=int(input())\n",
    "a=list(map(int,input().split()))\n",
    "b=list(map(int,input().split()))\n",
    "li=[]\n",
    "d={}\n",
    "di={}\n",
    "maxi=0\n",
    "k=0\n",
    "for i in range(n):\n",
    "    if(a[i] in di.keys()):\n",
    "        di[a[i]][0]=i\n",
    "    else:\n",
    "        di[a[i]]=[0,0]\n",
    "        di[a[i]][0]=i\n",
    "        \n",
    "    if(b[i] in di.keys()):\n",
    "        di[b[i]][1]=i\n",
    "    else:\n",
    "        di[b[i]]=[0,0]\n",
    "        di[b[i]][1]=i\n",
    "        \n",
    "for i in di.keys():\n",
    "    if((di[i][0]-di[i][1])<0):\n",
    "        value=n-(di[i][1]-di[i][0])\n",
    "    else:\n",
    "        value=di[i][0]-di[i][1]\n",
    "    if(value in d.keys()):\n",
    "        d[value]=d[value]+1\n",
    "        if(maxi<d[value]):\n",
    "            maxi=d[value]\n",
    "    else:\n",
    "        d[value]=1\n",
    "        if(maxi<d[value]):\n",
    "            maxi=d[value]\n",
    "print(maxi)\n",
    "#print(d[max(d,key=d.get)])"
   ]
  },
  {
   "cell_type": "code",
   "execution_count": 53,
   "metadata": {},
   "outputs": [
    {
     "data": {
      "text/plain": [
       "{1: [0, 4], 2: [1, 0], 3: [2, 1], 4: [3, 2], 5: [4, 3]}"
      ]
     },
     "execution_count": 53,
     "metadata": {},
     "output_type": "execute_result"
    }
   ],
   "source": [
    "di"
   ]
  },
  {
   "cell_type": "code",
   "execution_count": 37,
   "metadata": {},
   "outputs": [
    {
     "name": "stdout",
     "output_type": "stream",
     "text": [
      "1\n"
     ]
    }
   ],
   "source": [
    "print(d[max(d,key=d.get)])"
   ]
  },
  {
   "cell_type": "code",
   "execution_count": null,
   "metadata": {},
   "outputs": [],
   "source": [
    "for _ in range(int(input())):\n",
    "    matrix=[]\n",
    "    r,c=list(map(int,input().split()))\n",
    "    for i in range(r):\n",
    "        string=input()\n",
    "        matrix.append(string)\n",
    "    for i in range(r):\n",
    "        for j in range(c):\n",
    "            if()\n",
    "    \n"
   ]
  }
 ],
 "metadata": {
  "kernelspec": {
   "display_name": "Python 3",
   "language": "python",
   "name": "python3"
  },
  "language_info": {
   "codemirror_mode": {
    "name": "ipython",
    "version": 3
   },
   "file_extension": ".py",
   "mimetype": "text/x-python",
   "name": "python",
   "nbconvert_exporter": "python",
   "pygments_lexer": "ipython3",
   "version": "3.6.9"
  }
 },
 "nbformat": 4,
 "nbformat_minor": 2
}

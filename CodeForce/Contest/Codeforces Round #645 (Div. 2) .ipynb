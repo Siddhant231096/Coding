{
 "cells": [
  {
   "cell_type": "markdown",
   "metadata": {},
   "source": [
    "# A. Park Lighting "
   ]
  },
  {
   "cell_type": "code",
   "execution_count": 1,
   "metadata": {
    "scrolled": true
   },
   "outputs": [
    {
     "name": "stdout",
     "output_type": "stream",
     "text": [
      "5\n",
      "1 1\n",
      "1\n",
      "1 3\n",
      "2\n",
      "2 2\n",
      "2\n",
      "3 3\n",
      "5\n",
      "5 3\n",
      "8\n"
     ]
    }
   ],
   "source": [
    "for _ in range(int(input())):\n",
    "    r,c=list(map(int,input().split()))\n",
    "    if(c%2==0):\n",
    "        light=c//2\n",
    "        print(light*(r))\n",
    "    else:\n",
    "        light=(c//2)+1\n",
    "        value=r//2\n",
    "        if(r%2==0):\n",
    "            print(value*(light)+(light-1)*value)\n",
    "        else:\n",
    "            print((value+1)*light+(value)*(light-1))"
   ]
  },
  {
   "cell_type": "markdown",
   "metadata": {},
   "source": [
    "# B.Maria Breaks the Self-isolation "
   ]
  },
  {
   "cell_type": "code",
   "execution_count": 6,
   "metadata": {},
   "outputs": [
    {
     "name": "stdout",
     "output_type": "stream",
     "text": [
      "4\n",
      "5\n",
      "1 1 2 2 1\n",
      "6\n",
      "6\n",
      "2 3 4 5 6 7\n",
      "1\n",
      "6\n",
      "1 5 4 5 1 9\n",
      "6\n",
      "5\n",
      "1 2 3 5 6\n",
      "4\n"
     ]
    }
   ],
   "source": [
    "for _ in range(int(input())):\n",
    "    n=int(input())\n",
    "    count=0\n",
    "    arr=list(map(int,input().split()))\n",
    "    arr.sort()\n",
    "    for i in range(n-1,-1,-1):\n",
    "        if(arr[i]>i+1):\n",
    "            count=count+1\n",
    "        else:\n",
    "            break\n",
    "    print(n-count+1)\n",
    "            "
   ]
  },
  {
   "cell_type": "markdown",
   "metadata": {},
   "source": [
    "# D.The Best Vacation "
   ]
  },
  {
   "cell_type": "code",
   "execution_count": 40,
   "metadata": {},
   "outputs": [
    {
     "name": "stdout",
     "output_type": "stream",
     "text": [
      "5 6\n",
      "4 2 3 1 3\n",
      "15\n"
     ]
    }
   ],
   "source": [
    "n,x=list(map(int,input().split()))\n",
    "arr=list(map(int,input().split()))\n",
    "li=[]\n",
    "maxi=0\n",
    "m=sum(arr)\n",
    "for i in arr:\n",
    "    li=li+list(set(range(1,i+1)))\n",
    "    \n",
    "for i in range(m):\n",
    "    if(i+x>m):\n",
    "        inde=(i+x)-m\n",
    "        value=sum(li[0:inde])+sum(li[i:])\n",
    "    else:\n",
    "        value=sum(li[i:i+x])\n",
    "    if(value>maxi):\n",
    "        maxi=value\n",
    "print(maxi)\n",
    "        "
   ]
  },
  {
   "cell_type": "markdown",
   "metadata": {},
   "source": [
    "# E.Are You Fired? "
   ]
  },
  {
   "cell_type": "code",
   "execution_count": 30,
   "metadata": {},
   "outputs": [
    {
     "name": "stdout",
     "output_type": "stream",
     "text": [
      "6\n",
      "-2 -2 6\n",
      "-1\n",
      "4\n"
     ]
    }
   ],
   "source": [
    "n=int(input())\n",
    "arr=list(map(int,input().split()))\n",
    "x=int(input())\n",
    "m=len(arr)\n",
    "sum1=sum(arr)+(n-m)*x\n",
    "if(n%2==0):\n",
    "    k=(n+1)//2 + 1\n",
    "    total=sum(arr[0:k])+x\n",
    "    \n",
    "else:\n",
    "    k=(n+1)//2\n",
    "    total=sum(arr[0:k])\n",
    "if(total>0):\n",
    "    print(k)\n",
    "else:\n",
    "    if(sum1>0):\n",
    "        print(1)\n",
    "    else:\n",
    "        print(-1)"
   ]
  },
  {
   "cell_type": "code",
   "execution_count": null,
   "metadata": {},
   "outputs": [],
   "source": []
  }
 ],
 "metadata": {
  "kernelspec": {
   "display_name": "Python 3",
   "language": "python",
   "name": "python3"
  },
  "language_info": {
   "codemirror_mode": {
    "name": "ipython",
    "version": 3
   },
   "file_extension": ".py",
   "mimetype": "text/x-python",
   "name": "python",
   "nbconvert_exporter": "python",
   "pygments_lexer": "ipython3",
   "version": "3.6.9"
  }
 },
 "nbformat": 4,
 "nbformat_minor": 2
}

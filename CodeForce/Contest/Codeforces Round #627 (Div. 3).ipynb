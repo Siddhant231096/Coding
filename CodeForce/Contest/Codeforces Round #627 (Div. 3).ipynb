{
 "cells": [
  {
   "cell_type": "markdown",
   "metadata": {},
   "source": [
    "# A. Yet Another Tetris Problem"
   ]
  },
  {
   "cell_type": "code",
   "execution_count": 2,
   "metadata": {},
   "outputs": [
    {
     "name": "stdout",
     "output_type": "stream",
     "text": [
      "4\n",
      "3\n",
      "1 1 3\n",
      "YES\n",
      "4\n",
      "1 1 2 1\n",
      "NO\n",
      "2\n",
      "11 11\n",
      "YES\n",
      "1\n",
      "100\n",
      "YES\n"
     ]
    }
   ],
   "source": [
    "for _ in range(int(input())):\n",
    "    n=int(input())\n",
    "    arr=list(map(int,input().split()))\n",
    "    li=list(set(arr))\n",
    "    li.sort()\n",
    "    flag=0\n",
    "    if(len(li)==1):\n",
    "        print('YES')\n",
    "    else:\n",
    "        for i in range(1,len(li)):\n",
    "            if((li[i]-li[i-1])%2==0):\n",
    "                pass\n",
    "            else:\n",
    "                flag=1\n",
    "                break\n",
    "        if(flag==1):\n",
    "            print('NO')\n",
    "        else:\n",
    "            print('YES')"
   ]
  },
  {
   "cell_type": "markdown",
   "metadata": {},
   "source": [
    "# B. Yet Another Palindrome Problem"
   ]
  },
  {
   "cell_type": "code",
   "execution_count": 15,
   "metadata": {},
   "outputs": [
    {
     "name": "stdout",
     "output_type": "stream",
     "text": [
      "5\n",
      "3\n",
      "1 2 1\n",
      "YES\n",
      "5\n",
      "1 2 2 3 2\n",
      "YES\n",
      "3\n",
      "1 1 2\n",
      "NO\n",
      "4\n",
      "1 2 2 1\n",
      "YES\n",
      "10\n",
      "1 1 2 2 3 3 4 4 5 5\n",
      "NO\n"
     ]
    }
   ],
   "source": [
    "for _ in range(int(input())):\n",
    "    n=int(input())\n",
    "    arr=list(map(int,input().split()))\n",
    "    flag=0\n",
    "    for i in range(n):\n",
    "        for j in range(i+2,n):\n",
    "            if(arr[i]==arr[j]):\n",
    "                flag=1\n",
    "                break\n",
    "        if(flag==1):\n",
    "            break\n",
    "    if(flag==1):\n",
    "        print('YES')\n",
    "    else:\n",
    "        print('NO')\n",
    "    "
   ]
  },
  {
   "cell_type": "code",
   "execution_count": null,
   "metadata": {},
   "outputs": [],
   "source": []
  }
 ],
 "metadata": {
  "kernelspec": {
   "display_name": "Python 3",
   "language": "python",
   "name": "python3"
  },
  "language_info": {
   "codemirror_mode": {
    "name": "ipython",
    "version": 3
   },
   "file_extension": ".py",
   "mimetype": "text/x-python",
   "name": "python",
   "nbconvert_exporter": "python",
   "pygments_lexer": "ipython3",
   "version": "3.6.9"
  }
 },
 "nbformat": 4,
 "nbformat_minor": 2
}

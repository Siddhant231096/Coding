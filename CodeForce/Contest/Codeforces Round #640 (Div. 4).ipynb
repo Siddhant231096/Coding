{
 "cells": [
  {
   "cell_type": "markdown",
   "metadata": {},
   "source": [
    "# A"
   ]
  },
  {
   "cell_type": "code",
   "execution_count": 22,
   "metadata": {},
   "outputs": [
    {
     "name": "stdout",
     "output_type": "stream",
     "text": [
      "5\n",
      "5009\n",
      "2\n",
      "5000 9 7\n",
      "1\n",
      "7\n",
      "9876\n",
      "4\n",
      "9000 800 70 6 800524\n",
      "4\n",
      "800000 500 20 4 689\n",
      "3\n",
      "600 80 9 "
     ]
    }
   ],
   "source": [
    "t=int(input())\n",
    "for i in range(t):\n",
    "    a=int(input())\n",
    "    b=str(a)\n",
    "    if(len(b)==1):\n",
    "        print(1)\n",
    "        print(a)\n",
    "    elif(list(set(b[1:len(b)]))[0]=='0' and len(set(b[1:len(b)]))==1):\n",
    "        print(1)\n",
    "        print(a)\n",
    "        \n",
    "    else:\n",
    "        li=[]\n",
    "        for i in range(len(b)):\n",
    "            if(b[i]!='0'):\n",
    "                mul=10**(len(b)-i-1)\n",
    "                li.append(int(b[i])*mul)\n",
    "        print(len(li))\n",
    "        for i in li:\n",
    "            print(i,end=' ')\n",
    "\n",
    "                \n",
    "                "
   ]
  },
  {
   "cell_type": "markdown",
   "metadata": {},
   "source": [
    "# B"
   ]
  },
  {
   "cell_type": "code",
   "execution_count": 31,
   "metadata": {},
   "outputs": [
    {
     "name": "stdout",
     "output_type": "stream",
     "text": [
      "1\n",
      "2 1\n",
      "NO\n"
     ]
    }
   ],
   "source": [
    "t=int(input())\n",
    "for i in range(t):\n",
    "    n,k=list(map(int,input().split()))\n",
    "    ans=[]\n",
    "    if(n==k):\n",
    "        print('YES')\n",
    "        for j in range(k):\n",
    "            print(1,end=' ')\n",
    "    elif(k==1):\n",
    "        print('YES')\n",
    "        print(n)\n",
    "    elif(k>n):\n",
    "        print('NO')\n",
    "    elif((n%2!=0 and k%2==0)or(n%2==0 and k==n-1)):\n",
    "        print('NO')\n",
    "    else:\n",
    "        if(n%2!=0 and k%2!=0):\n",
    "            print('YES')\n",
    "            for j in range(k-1):\n",
    "                print(1,end=' ')\n",
    "            print(n-(k-1))\n",
    "        elif(n%2==0):\n",
    "            print('YES')\n",
    "            for j in range(k-1):\n",
    "                print(2,end=' ')\n",
    "            print(n-(k-1)*2)\n",
    "                   \n",
    "    "
   ]
  },
  {
   "cell_type": "code",
   "execution_count": 10,
   "metadata": {},
   "outputs": [
    {
     "data": {
      "text/plain": [
       "125000000.0"
      ]
     },
     "execution_count": 10,
     "metadata": {},
     "output_type": "execute_result"
    }
   ],
   "source": [
    "1000000000/8"
   ]
  },
  {
   "cell_type": "markdown",
   "metadata": {},
   "source": [
    "# C"
   ]
  },
  {
   "cell_type": "code",
   "execution_count": 30,
   "metadata": {
    "scrolled": true
   },
   "outputs": [
    {
     "name": "stdout",
     "output_type": "stream",
     "text": [
      "6\n",
      "3 7\n",
      "10\n",
      "4 12\n",
      "15.0\n",
      "2 1000000000\n",
      "1999999999.0\n",
      "7 97\n",
      "113\n",
      "1000000000 1000000000\n",
      "1000000001\n",
      "2 1\n",
      "1\n"
     ]
    }
   ],
   "source": [
    "t=int(input())\n",
    "for i in range(t):\n",
    "    n,k=list(map(int,input().split()))\n",
    "    if(n>k):\n",
    "        print(int(k))\n",
    "    elif(k%(n-1)==0):\n",
    "        a=k/(n-1)\n",
    "        print(int(n*a-1))\n",
    "    else:\n",
    "        a=k//(n-1)\n",
    "        value=(n-1)*a\n",
    "        diff=k-value\n",
    "        print(int(a*n+diff))\n",
    "   "
   ]
  },
  {
   "cell_type": "markdown",
   "metadata": {},
   "source": [
    "# D"
   ]
  },
  {
   "cell_type": "code",
   "execution_count": 67,
   "metadata": {},
   "outputs": [
    {
     "name": "stdout",
     "output_type": "stream",
     "text": [
      "1\n",
      "6\n",
      "1 1 1 1 1 1\n",
      "4   4   2\n"
     ]
    }
   ],
   "source": [
    "t=int(input())\n",
    "for i in range(t):\n",
    "    n=int(input())\n",
    "    arr=list(map(int,input().split()))\n",
    "    if(n==1):\n",
    "        print(n,' ',arr[0],' ',0)\n",
    "    else:\n",
    "        alice=0\n",
    "        bob=0\n",
    "        sumbob=0\n",
    "        sumalice=0\n",
    "        moves=0\n",
    "        j=0\n",
    "        k=n-1\n",
    "        while(j<=k):\n",
    "            alice=0\n",
    "            x=0\n",
    "            \n",
    "            while(j<n and j<=k):\n",
    "                if(alice<=bob):\n",
    "                    alice=alice+arr[j]\n",
    "                    #del arr[j]\n",
    "                    j=j+1\n",
    "                else:\n",
    "                    x=1\n",
    "                    sumalice=sumalice+alice\n",
    "                    moves=moves+1    \n",
    "                    break\n",
    "            if(x==0):\n",
    "                sumalice=sumalice+alice\n",
    "                moves=moves+1\n",
    "            bob=0\n",
    "            x=0\n",
    "            while(k>0 and j<=k):\n",
    "                if(bob<=alice):\n",
    "                    bob=bob+arr[k]\n",
    "                    #del arr[k]\n",
    "                    k=k-1\n",
    "                else:\n",
    "                    x=1\n",
    "                    sumbob=sumbob+bob\n",
    "                    moves=moves+1\n",
    "                    #print('--',bob)\n",
    "                    break\n",
    "            if(x==0):\n",
    "                sumbob=sumbob+bob\n",
    "                moves=moves+1\n",
    "\n",
    "\n",
    "        print(moves,' ',sumalice,' ',sumbob)"
   ]
  },
  {
   "cell_type": "code",
   "execution_count": 39,
   "metadata": {},
   "outputs": [
    {
     "data": {
      "text/plain": [
       "6"
      ]
     },
     "execution_count": 39,
     "metadata": {},
     "output_type": "execute_result"
    }
   ],
   "source": [
    "moves"
   ]
  },
  {
   "cell_type": "code",
   "execution_count": 34,
   "metadata": {},
   "outputs": [
    {
     "data": {
      "text/plain": [
       "[12, 4]"
      ]
     },
     "execution_count": 34,
     "metadata": {},
     "output_type": "execute_result"
    }
   ],
   "source": [
    "aa"
   ]
  },
  {
   "cell_type": "code",
   "execution_count": null,
   "metadata": {},
   "outputs": [],
   "source": []
  }
 ],
 "metadata": {
  "kernelspec": {
   "display_name": "Python 3",
   "language": "python",
   "name": "python3"
  },
  "language_info": {
   "codemirror_mode": {
    "name": "ipython",
    "version": 3
   },
   "file_extension": ".py",
   "mimetype": "text/x-python",
   "name": "python",
   "nbconvert_exporter": "python",
   "pygments_lexer": "ipython3",
   "version": "3.6.9"
  }
 },
 "nbformat": 4,
 "nbformat_minor": 2
}

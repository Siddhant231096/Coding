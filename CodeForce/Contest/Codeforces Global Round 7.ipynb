{
 "cells": [
  {
   "cell_type": "markdown",
   "metadata": {},
   "source": [
    "# A. Bad Ugly Numbers"
   ]
  },
  {
   "cell_type": "code",
   "execution_count": 6,
   "metadata": {},
   "outputs": [
    {
     "name": "stdout",
     "output_type": "stream",
     "text": [
      "1\n",
      "3\n",
      "223\n"
     ]
    }
   ],
   "source": [
    "for _ in range(int(input())):\n",
    "    n=int(input())\n",
    "    count=0\n",
    "    y=0\n",
    "    arr=[]\n",
    "    if(n==1):\n",
    "        print(-1)\n",
    "    else:\n",
    "        for i in range(200,300):\n",
    "            if('1' in str(i) or '0' in str(i)):\n",
    "                continue\n",
    "            \n",
    "            elif(i not in arr):\n",
    "                number=str(i)\n",
    "                x=0\n",
    "                for j in number:\n",
    "                    if(i%int(j)==0):\n",
    "                        arr.append(i)\n",
    "                        arr.append(i*2)\n",
    "                        x=1\n",
    "                        break\n",
    "                    \n",
    "                        \n",
    "                if(x==0):\n",
    "                    print(i)\n",
    "                    y=1\n",
    "                    break\n",
    "                \n",
    "                    \n",
    "        if(y==0):\n",
    "            print(-1)\n",
    "                    "
   ]
  },
  {
   "cell_type": "code",
   "execution_count": null,
   "metadata": {},
   "outputs": [],
   "source": []
  }
 ],
 "metadata": {
  "kernelspec": {
   "display_name": "Python 3",
   "language": "python",
   "name": "python3"
  },
  "language_info": {
   "codemirror_mode": {
    "name": "ipython",
    "version": 3
   },
   "file_extension": ".py",
   "mimetype": "text/x-python",
   "name": "python",
   "nbconvert_exporter": "python",
   "pygments_lexer": "ipython3",
   "version": "3.6.9"
  }
 },
 "nbformat": 4,
 "nbformat_minor": 2
}

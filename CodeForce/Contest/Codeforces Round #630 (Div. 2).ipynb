{
 "cells": [
  {
   "cell_type": "markdown",
   "metadata": {},
   "source": [
    "# A. Exercising Walk"
   ]
  },
  {
   "cell_type": "code",
   "execution_count": 2,
   "metadata": {},
   "outputs": [
    {
     "name": "stdout",
     "output_type": "stream",
     "text": [
      "6\n",
      "3 2 2 2\n",
      "0 0 -2 -2 2 2\n",
      "YES\n",
      "3 1 4 1\n",
      "0 0 -1 -1 1 1\n",
      "NO\n",
      "1 1 1 1\n",
      "1 1 1 1 1 1\n",
      "NO\n",
      "0 0 0 1\n",
      "0 0 0 0 0 1\n",
      "YES\n",
      "5 1 1 1\n",
      "0 0 -100 -100 0 100\n",
      "YES\n",
      "1 1 5 1\n",
      "0 0 -100 -100 100 0\n",
      "YES\n"
     ]
    }
   ],
   "source": [
    "for _ in range(int(input())):\n",
    "    a,b,c,d=list(map(int,input().split()))\n",
    "    x,y,x1,y1,x2,y2=list(map(int,input().split()))\n",
    "    if((x==x1 and x==x2) and (a!=0 or b!=0)):\n",
    "        print('NO')\n",
    "        \n",
    "    elif((y==y1 and y==y2) and (c!=0 or d!=0)):\n",
    "        print('NO')\n",
    "    else:\n",
    "        xcount=a-b\n",
    "        ycount=c-d\n",
    "        count=0\n",
    "        if(xcount>0):\n",
    "            if(x-xcount<x1):\n",
    "                count=count-1\n",
    "            else:\n",
    "                count=count+1\n",
    "        elif(xcount<0):\n",
    "            if(x-xcount>x2):\n",
    "                count=count-1\n",
    "            else:\n",
    "                count=count+1\n",
    "        elif(xcount==0):\n",
    "            count=count+1\n",
    "\n",
    "        if(ycount>0):\n",
    "            if(y-ycount<y1):\n",
    "                count=count-1\n",
    "            else:\n",
    "                count=count+1\n",
    "        elif(ycount<0):\n",
    "            if(y-ycount>y2):\n",
    "                count=count-1\n",
    "            else:\n",
    "                count=count+1\n",
    "        elif(ycount==0):\n",
    "            count=count+1\n",
    "\n",
    "        if(count==2):\n",
    "            print('YES')\n",
    "        else:\n",
    "            print('NO')\n",
    "\n",
    "    "
   ]
  },
  {
   "cell_type": "markdown",
   "metadata": {},
   "source": [
    "# B. Composite Coloring"
   ]
  },
  {
   "cell_type": "code",
   "execution_count": 6,
   "metadata": {},
   "outputs": [
    {
     "data": {
      "text/plain": [
       "1"
      ]
     },
     "execution_count": 6,
     "metadata": {},
     "output_type": "execute_result"
    }
   ],
   "source": [
    "import math\n",
    "math.gcd(437,519)"
   ]
  },
  {
   "cell_type": "code",
   "execution_count": 8,
   "metadata": {},
   "outputs": [
    {
     "name": "stdout",
     "output_type": "stream",
     "text": [
      "1\n",
      "23\n",
      "437 519 865 808 909 391 194 291 237 395 323 365 511 497 781 737 871 559 731 697 779 841 961\n",
      "10\n",
      "1 2 3 4 2 5 4 2 2 3 5 3 6 6 7 7 8 8 5 5 1 9 10\n"
     ]
    }
   ],
   "source": [
    "for _ in range(int(input())):\n",
    "    n=int(input())\n",
    "    arr=list(map(int,input().split()))\n",
    "    if(n<=11):\n",
    "        color=list(set(range(1,n+1)))\n",
    "        print(n)\n",
    "        print(*(color))\n",
    "    else:\n",
    "        d={}\n",
    "        output=[]\n",
    "        prime=[2,3,5,7,11,13,17,19,23,29,31]\n",
    "        for i in arr:\n",
    "            for j in prime:\n",
    "                if(i%j==0):\n",
    "                    if j not in d:\n",
    "                        d[j]=len(d)+1\n",
    "                    output.append(d[j])\n",
    "                    break\n",
    "        print(len(d))\n",
    "        print(*output)\n"
   ]
  },
  {
   "cell_type": "code",
   "execution_count": 10,
   "metadata": {},
   "outputs": [
    {
     "data": {
      "text/plain": [
       "1369"
      ]
     },
     "execution_count": 10,
     "metadata": {},
     "output_type": "execute_result"
    }
   ],
   "source": [
    "37*37"
   ]
  },
  {
   "cell_type": "code",
   "execution_count": null,
   "metadata": {},
   "outputs": [],
   "source": []
  }
 ],
 "metadata": {
  "kernelspec": {
   "display_name": "Python 3",
   "language": "python",
   "name": "python3"
  },
  "language_info": {
   "codemirror_mode": {
    "name": "ipython",
    "version": 3
   },
   "file_extension": ".py",
   "mimetype": "text/x-python",
   "name": "python",
   "nbconvert_exporter": "python",
   "pygments_lexer": "ipython3",
   "version": "3.6.4"
  }
 },
 "nbformat": 4,
 "nbformat_minor": 2
}

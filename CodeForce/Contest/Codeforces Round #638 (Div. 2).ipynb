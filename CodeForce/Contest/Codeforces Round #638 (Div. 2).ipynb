{
 "cells": [
  {
   "cell_type": "markdown",
   "metadata": {},
   "source": [
    "# A. Phoenix and Balance"
   ]
  },
  {
   "cell_type": "code",
   "execution_count": 5,
   "metadata": {},
   "outputs": [
    {
     "name": "stdout",
     "output_type": "stream",
     "text": [
      "3\n",
      "2\n",
      "2\n",
      "4\n",
      "6\n",
      "6\n",
      "14\n"
     ]
    }
   ],
   "source": [
    "t=int(input())\n",
    "for i in range(t):\n",
    "    n=int(input())\n",
    "    number=[]\n",
    "    for j in range(1,n+1):\n",
    "        number.append(2**j)\n",
    "    divide=n//2\n",
    "    if(divide==1):\n",
    "        a=number[1]\n",
    "        b=number[0]\n",
    "    else:\n",
    "        a=sum(number[0:divide-1])+number[n-1]\n",
    "        b=sum(number[divide-1:n-1])\n",
    "    print(abs(a-b))"
   ]
  },
  {
   "cell_type": "markdown",
   "metadata": {},
   "source": [
    "# B. Phoenix and Beauty"
   ]
  },
  {
   "cell_type": "code",
   "execution_count": 1,
   "metadata": {},
   "outputs": [
    {
     "name": "stdout",
     "output_type": "stream",
     "text": [
      "1\n",
      "4 4\n",
      "4 3 4 2\n",
      "16\n",
      "[2, 3, 4, 1]\n",
      "2 3 4 1 2 3 4 1 2 3 4 1 2 3 4 1\n"
     ]
    }
   ],
   "source": [
    "for _ in \" \"*int(input()):\n",
    "    a,b=map(int,input().split());c=list(set(map(int,input().split())))\n",
    "    if len(c)>b:print(-1)\n",
    "    else:print(a*b);print((c+[1]*(b-len(c))));print(*(c+[1]*(b-len(c)))*a)"
   ]
  },
  {
   "cell_type": "code",
   "execution_count": 13,
   "metadata": {},
   "outputs": [
    {
     "name": "stdout",
     "output_type": "stream",
     "text": [
      "1\n",
      "4 4\n",
      "4 3 4 2\n",
      "16\n",
      "2 3 4 1 2 3 4 1 2 3 4 1 2 3 4 1\n"
     ]
    }
   ],
   "source": [
    "for _ in range(int(input())):\n",
    "    n,k=list(map(int,input().split()))\n",
    "    arr=list(set(map(int,input().split())))\n",
    "    if(len(arr)>k):\n",
    "        print(-1)\n",
    "    else:\n",
    "        print(n*k)\n",
    "        print(*(arr+[1]*(k-len(arr)))*n)    "
   ]
  },
  {
   "cell_type": "code",
   "execution_count": 10,
   "metadata": {},
   "outputs": [
    {
     "name": "stdout",
     "output_type": "stream",
     "text": [
      "1 2 3 1 1 1 1 1 1 2 3 1 1 1 1 1 1 2 3 1 1 1 1 1 1 2 3 1 1 1 1 1 1 2 3 1 1 1 1 1\n"
     ]
    }
   ],
   "source": [
    "a=[1,2,3]\n",
    "print((*(a+[1]*5)*5))"
   ]
  },
  {
   "cell_type": "code",
   "execution_count": null,
   "metadata": {},
   "outputs": [],
   "source": []
  }
 ],
 "metadata": {
  "kernelspec": {
   "display_name": "Python 3",
   "language": "python",
   "name": "python3"
  },
  "language_info": {
   "codemirror_mode": {
    "name": "ipython",
    "version": 3
   },
   "file_extension": ".py",
   "mimetype": "text/x-python",
   "name": "python",
   "nbconvert_exporter": "python",
   "pygments_lexer": "ipython3",
   "version": "3.6.9"
  }
 },
 "nbformat": 4,
 "nbformat_minor": 2
}

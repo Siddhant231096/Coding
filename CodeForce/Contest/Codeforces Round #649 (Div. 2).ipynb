{
 "cells": [
  {
   "cell_type": "markdown",
   "metadata": {},
   "source": [
    "# A. XXXXX"
   ]
  },
  {
   "cell_type": "code",
   "execution_count": 14,
   "metadata": {},
   "outputs": [
    {
     "name": "stdout",
     "output_type": "stream",
     "text": [
      "1\n",
      "5 10000\n",
      "10000 5000 5000 10000 0\n",
      "3\n"
     ]
    }
   ],
   "source": [
    "for _ in range(int(input())):\n",
    "    n,x=list(map(int,input().split()))\n",
    "    arr=list(map(int,input().split()))\n",
    "    rem=[]\n",
    "    for i in arr:\n",
    "        rem.append(i%x)\n",
    "    if(sum(rem)%x!=0):\n",
    "        print(n)\n",
    "    elif(set(rem)=={0}):\n",
    "        print(-1)\n",
    "    else:\n",
    "        for i in range(n):\n",
    "            if(rem[i] or rem[-1-i]):\n",
    "                print(n-i-1)\n",
    "                break\n",
    "        "
   ]
  },
  {
   "cell_type": "code",
   "execution_count": 15,
   "metadata": {},
   "outputs": [
    {
     "data": {
      "text/plain": [
       "[0, 5000, 5000, 0, 0]"
      ]
     },
     "execution_count": 15,
     "metadata": {},
     "output_type": "execute_result"
    }
   ],
   "source": [
    "rem"
   ]
  },
  {
   "cell_type": "code",
   "execution_count": null,
   "metadata": {},
   "outputs": [],
   "source": []
  }
 ],
 "metadata": {
  "kernelspec": {
   "display_name": "Python 3",
   "language": "python",
   "name": "python3"
  },
  "language_info": {
   "codemirror_mode": {
    "name": "ipython",
    "version": 3
   },
   "file_extension": ".py",
   "mimetype": "text/x-python",
   "name": "python",
   "nbconvert_exporter": "python",
   "pygments_lexer": "ipython3",
   "version": "3.6.9"
  }
 },
 "nbformat": 4,
 "nbformat_minor": 2
}
